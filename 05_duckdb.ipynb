{
 "cells": [
  {
   "cell_type": "markdown",
   "metadata": {},
   "source": [
    "# Citibike Project - Using DuckDB to analyze spatial relationships of the dataset"
   ]
  },
  {
   "cell_type": "code",
   "execution_count": 9,
   "metadata": {},
   "outputs": [],
   "source": [
    "import duckdb\n",
    "import leafmap\n",
    "import polars as pl\n",
    "import leafmap"
   ]
  },
  {
   "cell_type": "markdown",
   "metadata": {},
   "source": [
    "## Import data"
   ]
  },
  {
   "cell_type": "code",
   "execution_count": 6,
   "metadata": {},
   "outputs": [
    {
     "name": "stdout",
     "output_type": "stream",
     "text": [
      "original shape:  (55800085, 7)\n"
     ]
    },
    {
     "data": {
      "text/html": [
       "<div><style>\n",
       ".dataframe > thead > tr,\n",
       ".dataframe > tbody > tr {\n",
       "  text-align: right;\n",
       "  white-space: pre-wrap;\n",
       "}\n",
       "</style>\n",
       "<small>shape: (5, 7)</small><table border=\"1\" class=\"dataframe\"><thead><tr><th>ride_id</th><th>started_at</th><th>ended_at</th><th>start_station_id</th><th>end_station_id</th><th>ridertype</th><th>biketype</th></tr><tr><td>str</td><td>datetime[μs]</td><td>datetime[μs]</td><td>f64</td><td>f64</td><td>i32</td><td>i32</td></tr></thead><tbody><tr><td>&quot;26A3DC47FE0EA3A3&quot;</td><td>2021-05-13 12:48:08</td><td>2021-05-13 13:07:37</td><td>6173.08</td><td>5515.02</td><td>0</td><td>2</td></tr><tr><td>&quot;A99F2E1D627B088F&quot;</td><td>2021-05-16 08:30:13</td><td>2021-05-16 08:45:47</td><td>6286.02</td><td>6873.01</td><td>0</td><td>2</td></tr><tr><td>&quot;43E79A45997B7390&quot;</td><td>2021-05-01 08:38:14</td><td>2021-05-01 08:54:27</td><td>6286.02</td><td>6873.01</td><td>0</td><td>2</td></tr><tr><td>&quot;8B3CC649F4F58816&quot;</td><td>2021-05-09 08:12:31</td><td>2021-05-09 08:27:05</td><td>6286.02</td><td>6873.01</td><td>0</td><td>2</td></tr><tr><td>&quot;7101C98F057486F4&quot;</td><td>2021-05-27 07:52:27</td><td>2021-05-27 08:09:01</td><td>7636.05</td><td>7020.09</td><td>0</td><td>2</td></tr></tbody></table></div>"
      ],
      "text/plain": [
       "shape: (5, 7)\n",
       "┌───────────────┬──────────────┬──────────────┬──────────────┬──────────────┬───────────┬──────────┐\n",
       "│ ride_id       ┆ started_at   ┆ ended_at     ┆ start_statio ┆ end_station_ ┆ ridertype ┆ biketype │\n",
       "│ ---           ┆ ---          ┆ ---          ┆ n_id         ┆ id           ┆ ---       ┆ ---      │\n",
       "│ str           ┆ datetime[μs] ┆ datetime[μs] ┆ ---          ┆ ---          ┆ i32       ┆ i32      │\n",
       "│               ┆              ┆              ┆ f64          ┆ f64          ┆           ┆          │\n",
       "╞═══════════════╪══════════════╪══════════════╪══════════════╪══════════════╪═══════════╪══════════╡\n",
       "│ 26A3DC47FE0EA ┆ 2021-05-13   ┆ 2021-05-13   ┆ 6173.08      ┆ 5515.02      ┆ 0         ┆ 2        │\n",
       "│ 3A3           ┆ 12:48:08     ┆ 13:07:37     ┆              ┆              ┆           ┆          │\n",
       "│ A99F2E1D627B0 ┆ 2021-05-16   ┆ 2021-05-16   ┆ 6286.02      ┆ 6873.01      ┆ 0         ┆ 2        │\n",
       "│ 88F           ┆ 08:30:13     ┆ 08:45:47     ┆              ┆              ┆           ┆          │\n",
       "│ 43E79A45997B7 ┆ 2021-05-01   ┆ 2021-05-01   ┆ 6286.02      ┆ 6873.01      ┆ 0         ┆ 2        │\n",
       "│ 390           ┆ 08:38:14     ┆ 08:54:27     ┆              ┆              ┆           ┆          │\n",
       "│ 8B3CC649F4F58 ┆ 2021-05-09   ┆ 2021-05-09   ┆ 6286.02      ┆ 6873.01      ┆ 0         ┆ 2        │\n",
       "│ 816           ┆ 08:12:31     ┆ 08:27:05     ┆              ┆              ┆           ┆          │\n",
       "│ 7101C98F05748 ┆ 2021-05-27   ┆ 2021-05-27   ┆ 7636.05      ┆ 7020.09      ┆ 0         ┆ 2        │\n",
       "│ 6F4           ┆ 07:52:27     ┆ 08:09:01     ┆              ┆              ┆           ┆          │\n",
       "└───────────────┴──────────────┴──────────────┴──────────────┴──────────────┴───────────┴──────────┘"
      ]
     },
     "execution_count": 6,
     "metadata": {},
     "output_type": "execute_result"
    }
   ],
   "source": [
    "ride = pl.read_parquet('/Users/sra/files/projects/citibike_project/combined/group1_combined/group1_pl_ridenorm.parquet')\n",
    "print('original shape: ', ride.shape)\n",
    "ride.head()"
   ]
  },
  {
   "cell_type": "code",
   "execution_count": 7,
   "metadata": {},
   "outputs": [
    {
     "name": "stdout",
     "output_type": "stream",
     "text": [
      "original shape:  (55800085, 4)\n"
     ]
    },
    {
     "data": {
      "text/html": [
       "<div><style>\n",
       ".dataframe > thead > tr,\n",
       ".dataframe > tbody > tr {\n",
       "  text-align: right;\n",
       "  white-space: pre-wrap;\n",
       "}\n",
       "</style>\n",
       "<small>shape: (5, 4)</small><table border=\"1\" class=\"dataframe\"><thead><tr><th>start_station_name</th><th>start_station_id</th><th>start_lat</th><th>start_lng</th></tr><tr><td>str</td><td>f64</td><td>f64</td><td>f64</td></tr></thead><tbody><tr><td>&quot;Broadway &amp; W 25 St&quot;</td><td>6173.08</td><td>40.742868</td><td>-73.989186</td></tr><tr><td>&quot;46 Ave &amp; 5 St&quot;</td><td>6286.02</td><td>40.74731</td><td>-73.95451</td></tr><tr><td>&quot;46 Ave &amp; 5 St&quot;</td><td>6286.02</td><td>40.74731</td><td>-73.95451</td></tr><tr><td>&quot;46 Ave &amp; 5 St&quot;</td><td>6286.02</td><td>40.74731</td><td>-73.95451</td></tr><tr><td>&quot;E 123 St &amp; Lexington Ave&quot;</td><td>7636.05</td><td>40.802926</td><td>-73.9379</td></tr></tbody></table></div>"
      ],
      "text/plain": [
       "shape: (5, 4)\n",
       "┌──────────────────────────┬──────────────────┬───────────┬────────────┐\n",
       "│ start_station_name       ┆ start_station_id ┆ start_lat ┆ start_lng  │\n",
       "│ ---                      ┆ ---              ┆ ---       ┆ ---        │\n",
       "│ str                      ┆ f64              ┆ f64       ┆ f64        │\n",
       "╞══════════════════════════╪══════════════════╪═══════════╪════════════╡\n",
       "│ Broadway & W 25 St       ┆ 6173.08          ┆ 40.742868 ┆ -73.989186 │\n",
       "│ 46 Ave & 5 St            ┆ 6286.02          ┆ 40.74731  ┆ -73.95451  │\n",
       "│ 46 Ave & 5 St            ┆ 6286.02          ┆ 40.74731  ┆ -73.95451  │\n",
       "│ 46 Ave & 5 St            ┆ 6286.02          ┆ 40.74731  ┆ -73.95451  │\n",
       "│ E 123 St & Lexington Ave ┆ 7636.05          ┆ 40.802926 ┆ -73.9379   │\n",
       "└──────────────────────────┴──────────────────┴───────────┴────────────┘"
      ]
     },
     "execution_count": 7,
     "metadata": {},
     "output_type": "execute_result"
    }
   ],
   "source": [
    "station = pl.read_parquet('/Users/sra/files/projects/citibike_project/combined/group1_combined/group1_pl_stationnorm.parquet')\n",
    "print('original shape: ', station.shape)\n",
    "station.head()"
   ]
  },
  {
   "cell_type": "code",
   "execution_count": 10,
   "metadata": {},
   "outputs": [],
   "source": [
    "# group1_pl_intermediate=\\\n",
    "# group1_pl.with_columns(\n",
    "#     pl.when(pl.col('member_casual') == 'member')\n",
    "#     .then(pl.lit(0))\n",
    "#     .otherwise(pl.lit(1))\n",
    "#     .alias('ridertype'))\n",
    "\n",
    "# group1_pl_intermediate.head()\n",
    "\n",
    "# # named intermediate because this is an intermediate step\n",
    "# # before finalizing this table of data"
   ]
  },
  {
   "cell_type": "code",
   "execution_count": 11,
   "metadata": {},
   "outputs": [],
   "source": [
    "# group1_pl_intermediate=\\\n",
    "# group1_pl_intermediate.with_columns(\n",
    "#         pl.when(pl.col('rideable_type') == 'classic_bike')\n",
    "#         .then(pl.lit(0))\n",
    "#         .when(pl.col('rideable_type') == 'electric_bike')\n",
    "#         .then(pl.lit(1))\n",
    "#         .otherwise(pl.lit(2))\n",
    "#         .alias('biketype')\n",
    "# )\n",
    "\n",
    "# group1_pl_intermediate.head()"
   ]
  },
  {
   "cell_type": "markdown",
   "metadata": {},
   "source": [
    "### Visualize the stations"
   ]
  },
  {
   "cell_type": "markdown",
   "metadata": {},
   "source": []
  },
  {
   "cell_type": "code",
   "execution_count": null,
   "metadata": {},
   "outputs": [],
   "source": [
    "\n",
    "ride = ride.drop_nulls(subset=['county_fips'])\n",
    "pres.head()\n",
    "\n",
    "# filter for mode == \"TOTAL\"\n",
    "pres = pres.filter(pl.col('mode') == 'TOTAL')\n",
    "\n",
    "# pivot 'party' column to create separate columns\n",
    "pres = pres.pivot(\n",
    "    values=['candidatevotes', 'totalvotes'],  # columns to be spread across new columns\n",
    "    index=['year', 'state', 'state_po', 'county_name', 'county_fips', 'office'],  # grouping columns\n",
    "    columns='party',  # column whose values will become new column names\n",
    ").rename({\n",
    "    'candidatevotes_party_DEMOCRAT': 'd',\n",
    "    'candidatevotes_party_REPUBLICAN': 'r',\n",
    "    'candidatevotes_party_GREEN':'g',\n",
    "    'candidatevotes_party_OTHER': 'o',\n",
    "    'candidatevotes_party_LIBERTARIAN': 'l',\n",
    "    'totalvotes_party_DEMOCRAT': 'total_d',\n",
    "    'totalvotes_party_REPUBLICAN': 'total_r',\n",
    "    'totalvotes_party_GREEN': 'total_g',\n",
    "    'totalvotes_party_OTHER': 'total_o',\n",
    "    'totalvotes_party_LIBERTARIAN': 'total_l'\n",
    "}).drop(['office', 'state_po', \n",
    "         # 'county_name',  'state',\n",
    "         'total_d', 'total_r', 'total_g', 'total_o', 'total_l',\n",
    "         'g', 'o', 'l'\n",
    "]).cast({'year': pl.Int32})\n",
    "\n",
    "# pad the 'county_fips' column to ensure all strings are 5 digits\n",
    "pres = pres.with_columns(\n",
    "    pl.col(\"county_fips\").cast(pl.Utf8).str.zfill(5).alias(\"county_fips\")\n",
    ")\n",
    "\n",
    "# get order of colums\n",
    "col_order = pres.columns\n",
    "\n",
    "pres"
   ]
  }
 ],
 "metadata": {
  "kernelspec": {
   "display_name": "geo",
   "language": "python",
   "name": "python3"
  },
  "language_info": {
   "codemirror_mode": {
    "name": "ipython",
    "version": 3
   },
   "file_extension": ".py",
   "mimetype": "text/x-python",
   "name": "python",
   "nbconvert_exporter": "python",
   "pygments_lexer": "ipython3",
   "version": "3.11.8"
  }
 },
 "nbformat": 4,
 "nbformat_minor": 2
}
