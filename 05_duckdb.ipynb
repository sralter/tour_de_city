{
 "cells": [
  {
   "cell_type": "markdown",
   "metadata": {},
   "source": [
    "# Citibike Project - Using DuckDB to analyze spatial relationships of the dataset"
   ]
  },
  {
   "cell_type": "markdown",
   "metadata": {},
   "source": [
    "## Imports"
   ]
  },
  {
   "cell_type": "code",
   "execution_count": 15,
   "metadata": {},
   "outputs": [],
   "source": [
    "import duckdb\n",
    "import leafmap\n",
    "import polars as pl\n",
    "import leafmap\n",
    "import pandas as pd\n",
    "import numpy as np\n",
    "import geopandas as gpd\n",
    "from shapely.geometry import Point\n",
    "import ipyleaflet\n",
    "from ipyleaflet import Marker, Popup\n",
    "import ipywidgets as widgets\n",
    "from IPython.display import display"
   ]
  },
  {
   "cell_type": "markdown",
   "metadata": {},
   "source": [
    "## Import data"
   ]
  },
  {
   "cell_type": "code",
   "execution_count": 16,
   "metadata": {},
   "outputs": [
    {
     "name": "stdout",
     "output_type": "stream",
     "text": [
      "original shape:  (55800085, 7)\n"
     ]
    },
    {
     "data": {
      "text/html": [
       "<div><style>\n",
       ".dataframe > thead > tr,\n",
       ".dataframe > tbody > tr {\n",
       "  text-align: right;\n",
       "  white-space: pre-wrap;\n",
       "}\n",
       "</style>\n",
       "<small>shape: (5, 7)</small><table border=\"1\" class=\"dataframe\"><thead><tr><th>ride_id</th><th>started_at</th><th>ended_at</th><th>start_station_id</th><th>end_station_id</th><th>ridertype</th><th>biketype</th></tr><tr><td>str</td><td>datetime[μs]</td><td>datetime[μs]</td><td>f64</td><td>f64</td><td>i32</td><td>i32</td></tr></thead><tbody><tr><td>&quot;26A3DC47FE0EA3A3&quot;</td><td>2021-05-13 12:48:08</td><td>2021-05-13 13:07:37</td><td>6173.08</td><td>5515.02</td><td>0</td><td>2</td></tr><tr><td>&quot;A99F2E1D627B088F&quot;</td><td>2021-05-16 08:30:13</td><td>2021-05-16 08:45:47</td><td>6286.02</td><td>6873.01</td><td>0</td><td>2</td></tr><tr><td>&quot;43E79A45997B7390&quot;</td><td>2021-05-01 08:38:14</td><td>2021-05-01 08:54:27</td><td>6286.02</td><td>6873.01</td><td>0</td><td>2</td></tr><tr><td>&quot;8B3CC649F4F58816&quot;</td><td>2021-05-09 08:12:31</td><td>2021-05-09 08:27:05</td><td>6286.02</td><td>6873.01</td><td>0</td><td>2</td></tr><tr><td>&quot;7101C98F057486F4&quot;</td><td>2021-05-27 07:52:27</td><td>2021-05-27 08:09:01</td><td>7636.05</td><td>7020.09</td><td>0</td><td>2</td></tr></tbody></table></div>"
      ],
      "text/plain": [
       "shape: (5, 7)\n",
       "┌───────────────┬──────────────┬──────────────┬──────────────┬──────────────┬───────────┬──────────┐\n",
       "│ ride_id       ┆ started_at   ┆ ended_at     ┆ start_statio ┆ end_station_ ┆ ridertype ┆ biketype │\n",
       "│ ---           ┆ ---          ┆ ---          ┆ n_id         ┆ id           ┆ ---       ┆ ---      │\n",
       "│ str           ┆ datetime[μs] ┆ datetime[μs] ┆ ---          ┆ ---          ┆ i32       ┆ i32      │\n",
       "│               ┆              ┆              ┆ f64          ┆ f64          ┆           ┆          │\n",
       "╞═══════════════╪══════════════╪══════════════╪══════════════╪══════════════╪═══════════╪══════════╡\n",
       "│ 26A3DC47FE0EA ┆ 2021-05-13   ┆ 2021-05-13   ┆ 6173.08      ┆ 5515.02      ┆ 0         ┆ 2        │\n",
       "│ 3A3           ┆ 12:48:08     ┆ 13:07:37     ┆              ┆              ┆           ┆          │\n",
       "│ A99F2E1D627B0 ┆ 2021-05-16   ┆ 2021-05-16   ┆ 6286.02      ┆ 6873.01      ┆ 0         ┆ 2        │\n",
       "│ 88F           ┆ 08:30:13     ┆ 08:45:47     ┆              ┆              ┆           ┆          │\n",
       "│ 43E79A45997B7 ┆ 2021-05-01   ┆ 2021-05-01   ┆ 6286.02      ┆ 6873.01      ┆ 0         ┆ 2        │\n",
       "│ 390           ┆ 08:38:14     ┆ 08:54:27     ┆              ┆              ┆           ┆          │\n",
       "│ 8B3CC649F4F58 ┆ 2021-05-09   ┆ 2021-05-09   ┆ 6286.02      ┆ 6873.01      ┆ 0         ┆ 2        │\n",
       "│ 816           ┆ 08:12:31     ┆ 08:27:05     ┆              ┆              ┆           ┆          │\n",
       "│ 7101C98F05748 ┆ 2021-05-27   ┆ 2021-05-27   ┆ 7636.05      ┆ 7020.09      ┆ 0         ┆ 2        │\n",
       "│ 6F4           ┆ 07:52:27     ┆ 08:09:01     ┆              ┆              ┆           ┆          │\n",
       "└───────────────┴──────────────┴──────────────┴──────────────┴──────────────┴───────────┴──────────┘"
      ]
     },
     "execution_count": 16,
     "metadata": {},
     "output_type": "execute_result"
    }
   ],
   "source": [
    "ride = pl.read_parquet('/Users/sra/files/projects/citibike_project/combined/group1_combined/group1_pl_ridenorm.parquet')\n",
    "print('original shape: ', ride.shape)\n",
    "ride.head()"
   ]
  },
  {
   "cell_type": "code",
   "execution_count": 17,
   "metadata": {},
   "outputs": [
    {
     "name": "stdout",
     "output_type": "stream",
     "text": [
      "original shape:  (55800085, 4)\n"
     ]
    },
    {
     "data": {
      "text/html": [
       "<div><style>\n",
       ".dataframe > thead > tr,\n",
       ".dataframe > tbody > tr {\n",
       "  text-align: right;\n",
       "  white-space: pre-wrap;\n",
       "}\n",
       "</style>\n",
       "<small>shape: (5, 4)</small><table border=\"1\" class=\"dataframe\"><thead><tr><th>start_station_name</th><th>start_station_id</th><th>start_lat</th><th>start_lng</th></tr><tr><td>str</td><td>f64</td><td>f64</td><td>f64</td></tr></thead><tbody><tr><td>&quot;Broadway &amp; W 25 St&quot;</td><td>6173.08</td><td>40.742868</td><td>-73.989186</td></tr><tr><td>&quot;46 Ave &amp; 5 St&quot;</td><td>6286.02</td><td>40.74731</td><td>-73.95451</td></tr><tr><td>&quot;46 Ave &amp; 5 St&quot;</td><td>6286.02</td><td>40.74731</td><td>-73.95451</td></tr><tr><td>&quot;46 Ave &amp; 5 St&quot;</td><td>6286.02</td><td>40.74731</td><td>-73.95451</td></tr><tr><td>&quot;E 123 St &amp; Lexington Ave&quot;</td><td>7636.05</td><td>40.802926</td><td>-73.9379</td></tr></tbody></table></div>"
      ],
      "text/plain": [
       "shape: (5, 4)\n",
       "┌──────────────────────────┬──────────────────┬───────────┬────────────┐\n",
       "│ start_station_name       ┆ start_station_id ┆ start_lat ┆ start_lng  │\n",
       "│ ---                      ┆ ---              ┆ ---       ┆ ---        │\n",
       "│ str                      ┆ f64              ┆ f64       ┆ f64        │\n",
       "╞══════════════════════════╪══════════════════╪═══════════╪════════════╡\n",
       "│ Broadway & W 25 St       ┆ 6173.08          ┆ 40.742868 ┆ -73.989186 │\n",
       "│ 46 Ave & 5 St            ┆ 6286.02          ┆ 40.74731  ┆ -73.95451  │\n",
       "│ 46 Ave & 5 St            ┆ 6286.02          ┆ 40.74731  ┆ -73.95451  │\n",
       "│ 46 Ave & 5 St            ┆ 6286.02          ┆ 40.74731  ┆ -73.95451  │\n",
       "│ E 123 St & Lexington Ave ┆ 7636.05          ┆ 40.802926 ┆ -73.9379   │\n",
       "└──────────────────────────┴──────────────────┴───────────┴────────────┘"
      ]
     },
     "execution_count": 17,
     "metadata": {},
     "output_type": "execute_result"
    }
   ],
   "source": [
    "station = pl.read_parquet('/Users/sra/files/projects/citibike_project/combined/group1_combined/group1_pl_stationnorm.parquet')\n",
    "print('original shape: ', station.shape)\n",
    "station.head()"
   ]
  },
  {
   "cell_type": "code",
   "execution_count": 18,
   "metadata": {},
   "outputs": [
    {
     "data": {
      "text/html": [
       "<div><style>\n",
       ".dataframe > thead > tr,\n",
       ".dataframe > tbody > tr {\n",
       "  text-align: right;\n",
       "  white-space: pre-wrap;\n",
       "}\n",
       "</style>\n",
       "<small>shape: (1, 1)</small><table border=\"1\" class=\"dataframe\"><thead><tr><th>start_station_name</th></tr><tr><td>u32</td></tr></thead><tbody><tr><td>2038</td></tr></tbody></table></div>"
      ],
      "text/plain": [
       "shape: (1, 1)\n",
       "┌────────────────────┐\n",
       "│ start_station_name │\n",
       "│ ---                │\n",
       "│ u32                │\n",
       "╞════════════════════╡\n",
       "│ 2038               │\n",
       "└────────────────────┘"
      ]
     },
     "execution_count": 18,
     "metadata": {},
     "output_type": "execute_result"
    }
   ],
   "source": [
    "station.select(\n",
    "    pl.col('start_station_name').n_unique()\n",
    ")"
   ]
  },
  {
   "cell_type": "markdown",
   "metadata": {},
   "source": [
    "Get a reduced dataset with just the first instance of a unique station name: "
   ]
  },
  {
   "cell_type": "code",
   "execution_count": 19,
   "metadata": {},
   "outputs": [
    {
     "name": "stdout",
     "output_type": "stream",
     "text": [
      "(2037, 4)\n"
     ]
    },
    {
     "data": {
      "text/html": [
       "<div><style>\n",
       ".dataframe > thead > tr,\n",
       ".dataframe > tbody > tr {\n",
       "  text-align: right;\n",
       "  white-space: pre-wrap;\n",
       "}\n",
       "</style>\n",
       "<small>shape: (5, 4)</small><table border=\"1\" class=\"dataframe\"><thead><tr><th>start_station_name</th><th>start_station_id</th><th>start_lat</th><th>start_lng</th></tr><tr><td>str</td><td>f64</td><td>f64</td><td>f64</td></tr></thead><tbody><tr><td>&quot;48 St &amp; 37 Ave&quot;</td><td>6435.02</td><td>40.751555</td><td>-73.915026</td></tr><tr><td>&quot;Cliff St &amp; Fulton St&quot;</td><td>5065.14</td><td>40.70838</td><td>-74.00495</td></tr><tr><td>&quot;Broadway &amp; W 38 St&quot;</td><td>6441.05</td><td>40.752996</td><td>-73.987216</td></tr><tr><td>&quot;Carlton Ave &amp; Park Ave&quot;</td><td>4732.04</td><td>40.695807</td><td>-73.973555</td></tr><tr><td>&quot;44 St &amp; 6 Ave&quot;</td><td>3233.06</td><td>40.647105</td><td>-74.004483</td></tr></tbody></table></div>"
      ],
      "text/plain": [
       "shape: (5, 4)\n",
       "┌────────────────────────┬──────────────────┬───────────┬────────────┐\n",
       "│ start_station_name     ┆ start_station_id ┆ start_lat ┆ start_lng  │\n",
       "│ ---                    ┆ ---              ┆ ---       ┆ ---        │\n",
       "│ str                    ┆ f64              ┆ f64       ┆ f64        │\n",
       "╞════════════════════════╪══════════════════╪═══════════╪════════════╡\n",
       "│ 48 St & 37 Ave         ┆ 6435.02          ┆ 40.751555 ┆ -73.915026 │\n",
       "│ Cliff St & Fulton St   ┆ 5065.14          ┆ 40.70838  ┆ -74.00495  │\n",
       "│ Broadway & W 38 St     ┆ 6441.05          ┆ 40.752996 ┆ -73.987216 │\n",
       "│ Carlton Ave & Park Ave ┆ 4732.04          ┆ 40.695807 ┆ -73.973555 │\n",
       "│ 44 St & 6 Ave          ┆ 3233.06          ┆ 40.647105 ┆ -74.004483 │\n",
       "└────────────────────────┴──────────────────┴───────────┴────────────┘"
      ]
     },
     "execution_count": 19,
     "metadata": {},
     "output_type": "execute_result"
    }
   ],
   "source": [
    "unique_stations = station['start_station_name'].unique().to_list()\n",
    "\n",
    "first_rows = []\n",
    "\n",
    "for unique_stat in unique_stations:\n",
    "    # select just the first row that matches\n",
    "    first_row = station.filter(pl.col('start_station_name') == unique_stat).head(1)\n",
    "    if first_row.height > 0:\n",
    "        first_rows.append(first_row.to_dicts()[0])\n",
    "\n",
    "unique_stations = pl.DataFrame(first_rows)\n",
    "print(unique_stations.shape)\n",
    "unique_stations.head()"
   ]
  },
  {
   "cell_type": "markdown",
   "metadata": {},
   "source": [
    "We have some data that is normalized with the columns 'ridertype' and 'biketype'. We will add that data to the table using DuckDB."
   ]
  },
  {
   "cell_type": "code",
   "execution_count": 39,
   "metadata": {},
   "outputs": [
    {
     "name": "stdout",
     "output_type": "stream",
     "text": [
      "Rider Table:\n",
      "[('member', 0), ('casual', 1)]\n",
      "Bike Table:\n",
      "[('classic', 0), ('electric', 1), ('unknown', 2)]\n"
     ]
    }
   ],
   "source": [
    "# create tables\n",
    "with duckdb.connect('citibike.db') as con:\n",
    "    con.execute(\"drop table if exists rider\")\n",
    "    con.execute(\"\"\"\n",
    "        create table rider (\n",
    "            type varchar(255),\n",
    "            id int\n",
    "        )\n",
    "    \"\"\")\n",
    "\n",
    "    # add data to table\n",
    "    con.execute('''insert into rider values ('member', 0), ('casual', 1)''')\n",
    "\n",
    "with duckdb.connect('citibike.db') as con:\n",
    "    con.execute(\"drop table if exists bike\")\n",
    "    con.execute(\"\"\"\n",
    "        create table bike (\n",
    "            type varchar(255),\n",
    "            id int\n",
    "        )\n",
    "    \"\"\")\n",
    "\n",
    "    # add data to table\n",
    "    con.execute(\n",
    "        '''insert into bike values \n",
    "        ('classic', 0), \n",
    "        ('electric', 1), \n",
    "        ('unknown', 2)''')\n",
    "    \n",
    "with duckdb.connect('citibike.db') as con:\n",
    "    print(\"Rider Table:\")\n",
    "    print(con.execute(\"select * from rider\").fetchall())\n",
    "    \n",
    "    print(\"Bike Table:\")\n",
    "    print(con.execute(\"select * from bike\").fetchall())"
   ]
  },
  {
   "cell_type": "markdown",
   "metadata": {},
   "source": [
    "### Visualize the stations"
   ]
  },
  {
   "cell_type": "markdown",
   "metadata": {},
   "source": [
    "Get the centroid of NYC for correct viewing location:"
   ]
  },
  {
   "cell_type": "code",
   "execution_count": 21,
   "metadata": {},
   "outputs": [],
   "source": [
    "# read in centroid of NYC\n",
    "centroid_df = pd.read_csv('../data/nyc_centroid.csv')\n",
    "x, y = centroid_df.loc[0, 'x'], centroid_df.loc[0, 'y']\n",
    "\n",
    "centroid = gpd.GeoDataFrame([{'geometry': Point(x, y)}], crs='EPSG:4326')\n",
    "\n",
    "latitude = centroid.geometry.iloc[0].y\n",
    "longitude = centroid.geometry.iloc[0].x\n",
    "# centroid.explore()"
   ]
  },
  {
   "cell_type": "markdown",
   "metadata": {},
   "source": [
    "Convert station dataframe (in polars) to geopandas and view it:"
   ]
  },
  {
   "cell_type": "code",
   "execution_count": 22,
   "metadata": {},
   "outputs": [],
   "source": [
    "# convert station df (polars) to geopandas\n",
    "geometry = [Point(x, y) for x, y in zip(unique_stations['start_lng'], \n",
    "                                        unique_stations['start_lat'])]\n",
    "station_gdf = gpd.GeoDataFrame(unique_stations.to_pandas(),\n",
    "                               geometry=geometry, \n",
    "                               crs='EPSG:4326')"
   ]
  },
  {
   "cell_type": "code",
   "execution_count": 28,
   "metadata": {},
   "outputs": [
    {
     "data": {
      "text/plain": [
       "<Axes: >"
      ]
     },
     "execution_count": 28,
     "metadata": {},
     "output_type": "execute_result"
    },
    {
     "data": {
      "image/png": "[encoded data removed]",
      "text/plain": [
       "<Figure size 640x480 with 1 Axes>"
      ]
     },
     "metadata": {},
     "output_type": "display_data"
    }
   ],
   "source": [
    "# read in Brooklyn outline\n",
    "brooklyn_outline = gpd.read_file('../data/brooklyn_outline.gpkg', \n",
    "                                 layer='brooklyn_outline')\n",
    "\n",
    "# convert to geojson\n",
    "brooklyn_outline.to_file('../data/brooklyn_outline.geojson', driver='GeoJSON')\n",
    "brooklyn_outline.plot()"
   ]
  },
  {
   "cell_type": "code",
   "execution_count": 41,
   "metadata": {},
   "outputs": [
    {
     "data": {
      "application/vnd.jupyter.widget-view+json": {
       "model_id": "d3d837c4b27c47cebfaa07f02c025d6f",
       "version_major": 2,
       "version_minor": 0
      },
      "text/plain": [
       "Map(center=[40.663919770970146, -73.93835141651655], controls=(ZoomControl(options=['position', 'zoom_in_text'…"
      ]
     },
     "execution_count": 41,
     "metadata": {},
     "output_type": "execute_result"
    }
   ],
   "source": [
    "m = leafmap.Map(center=[latitude, longitude], zoom=11)\n",
    "\n",
    "m.add_geojson('../data/brooklyn_outline.geojson', layer_name='Brooklyn Outline')\n",
    "m.add_marker_cluster(station_gdf, x='start_lng', y='start_lat', \n",
    "                     layer_name='Citibike Stations')\n",
    "\n",
    "m"
   ]
  },
  {
   "cell_type": "markdown",
   "metadata": {},
   "source": [
    "### Use PostGIS to get the intersection of the stations with the Brooklyn borough outline"
   ]
  },
  {
   "cell_type": "code",
   "execution_count": 40,
   "metadata": {},
   "outputs": [],
   "source": [
    "# create tables\n",
    "with duckdb.connect('citibike.db') as con:\n",
    "    con.install_extension('spatial')\n",
    "    con.load_extension('spatial')\n",
    "    con.sql('show tables;')"
   ]
  },
  {
   "cell_type": "code",
   "execution_count": 13,
   "metadata": {},
   "outputs": [],
   "source": [
    "# # create a leafmap map\n",
    "# m = leafmap.Map(center=[latitude, longitude], zoom=10)\n",
    "\n",
    "# # add markers for each station\n",
    "# for idx, row in station_gdf.iterrows():\n",
    "#     # create a popup widget using html widget\n",
    "#     popup = Popup(child=widgets.HTML(value=row['start_station_name']),\n",
    "#                   close_button=True, \n",
    "#                   auto_close=True, \n",
    "#                   close_on_escape_key=True)\n",
    "    \n",
    "#     # add marker with popup\n",
    "#     marker = Marker(location=[row.geometry.y, row.geometry.x])  # latitude, longitude\n",
    "#     marker.popup = popup  # attach the popup to the marker\n",
    "    \n",
    "#     m.add(marker)\n",
    "\n",
    "# # display the map\n",
    "# # print('Map displayed successfully.')\n",
    "# # display(m)"
   ]
  },
  {
   "cell_type": "code",
   "execution_count": null,
   "metadata": {},
   "outputs": [],
   "source": []
  },
  {
   "cell_type": "code",
   "execution_count": null,
   "metadata": {},
   "outputs": [],
   "source": []
  },
  {
   "cell_type": "code",
   "execution_count": null,
   "metadata": {},
   "outputs": [],
   "source": []
  },
  {
   "cell_type": "code",
   "execution_count": null,
   "metadata": {},
   "outputs": [],
   "source": [
    "\n",
    "# ride = ride.drop_nulls(subset=['county_fips'])\n",
    "# pres.head()\n",
    "\n",
    "# # filter for mode == \"TOTAL\"\n",
    "# pres = pres.filter(pl.col('mode') == 'TOTAL')\n",
    "\n",
    "# # pivot 'party' column to create separate columns\n",
    "# pres = pres.pivot(\n",
    "#     values=['candidatevotes', 'totalvotes'],  # columns to be spread across new columns\n",
    "#     index=['year', 'state', 'state_po', 'county_name', 'county_fips', 'office'],  # grouping columns\n",
    "#     columns='party',  # column whose values will become new column names\n",
    "# ).rename({\n",
    "#     'candidatevotes_party_DEMOCRAT': 'd',\n",
    "#     'candidatevotes_party_REPUBLICAN': 'r',\n",
    "#     'candidatevotes_party_GREEN':'g',\n",
    "#     'candidatevotes_party_OTHER': 'o',\n",
    "#     'candidatevotes_party_LIBERTARIAN': 'l',\n",
    "#     'totalvotes_party_DEMOCRAT': 'total_d',\n",
    "#     'totalvotes_party_REPUBLICAN': 'total_r',\n",
    "#     'totalvotes_party_GREEN': 'total_g',\n",
    "#     'totalvotes_party_OTHER': 'total_o',\n",
    "#     'totalvotes_party_LIBERTARIAN': 'total_l'\n",
    "# }).drop(['office', 'state_po', \n",
    "#          # 'county_name',  'state',\n",
    "#          'total_d', 'total_r', 'total_g', 'total_o', 'total_l',\n",
    "#          'g', 'o', 'l'\n",
    "# ]).cast({'year': pl.Int32})\n",
    "\n",
    "# # pad the 'county_fips' column to ensure all strings are 5 digits\n",
    "# pres = pres.with_columns(\n",
    "#     pl.col(\"county_fips\").cast(pl.Utf8).str.zfill(5).alias(\"county_fips\")\n",
    "# )\n",
    "\n",
    "# # get order of colums\n",
    "# col_order = pres.columns\n",
    "\n",
    "# pres"
   ]
  }
 ],
 "metadata": {
  "kernelspec": {
   "display_name": "geo",
   "language": "python",
   "name": "python3"
  },
  "language_info": {
   "codemirror_mode": {
    "name": "ipython",
    "version": 3
   },
   "file_extension": ".py",
   "mimetype": "text/x-python",
   "name": "python",
   "nbconvert_exporter": "python",
   "pygments_lexer": "ipython3",
   "version": "3.11.8"
  }
 },
 "nbformat": 4,
 "nbformat_minor": 2
}
