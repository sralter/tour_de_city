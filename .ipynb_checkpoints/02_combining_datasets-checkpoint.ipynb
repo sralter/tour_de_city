{
 "cells": [
  {
   "cell_type": "markdown",
   "id": "00162787-57ec-454c-ade3-afab17873dd0",
   "metadata": {},
   "source": [
    "# Citibike Project - Combining Datasets"
   ]
  },
  {
   "cell_type": "markdown",
   "id": "68624653-ae2d-41b3-a00f-453db6e7b1d0",
   "metadata": {},
   "source": [
    "Combining the bike share datsets downloaded from `01_download_data.ipynb`"
   ]
  },
  {
   "cell_type": "markdown",
   "id": "b1afb946-35f5-4c75-8226-cf8c56d69ca2",
   "metadata": {},
   "source": [
    "## Imports"
   ]
  },
  {
   "cell_type": "code",
   "execution_count": 54,
   "id": "c4ac5ca3-d47d-439f-8a8f-64cb932896d1",
   "metadata": {},
   "outputs": [],
   "source": [
    "import pandas as pd\n",
    "import numpy as np\n",
    "import os\n",
    "import csv\n",
    "import re\n",
    "import shutil"
   ]
  },
  {
   "cell_type": "markdown",
   "id": "eb715536-7b7e-48cd-aff4-4dee90476eaf",
   "metadata": {},
   "source": [
    "## Examine files"
   ]
  },
  {
   "cell_type": "markdown",
   "id": "3217359d-9a4a-487c-bacb-30602848c461",
   "metadata": {},
   "source": [
    "Look at a few `.head()` of files to see what we're working with."
   ]
  },
  {
   "cell_type": "code",
   "execution_count": 14,
   "id": "746b0771-c833-4ac2-b756-b6dc99792ee1",
   "metadata": {},
   "outputs": [
    {
     "data": {
      "text/html": [
       "<div>\n",
       "<style scoped>\n",
       "    .dataframe tbody tr th:only-of-type {\n",
       "        vertical-align: middle;\n",
       "    }\n",
       "\n",
       "    .dataframe tbody tr th {\n",
       "        vertical-align: top;\n",
       "    }\n",
       "\n",
       "    .dataframe thead th {\n",
       "        text-align: right;\n",
       "    }\n",
       "</style>\n",
       "<table border=\"1\" class=\"dataframe\">\n",
       "  <thead>\n",
       "    <tr style=\"text-align: right;\">\n",
       "      <th></th>\n",
       "      <th>tripduration</th>\n",
       "      <th>starttime</th>\n",
       "      <th>stoptime</th>\n",
       "      <th>start station id</th>\n",
       "      <th>start station name</th>\n",
       "      <th>start station latitude</th>\n",
       "      <th>start station longitude</th>\n",
       "      <th>end station id</th>\n",
       "      <th>end station name</th>\n",
       "      <th>end station latitude</th>\n",
       "      <th>end station longitude</th>\n",
       "      <th>bikeid</th>\n",
       "      <th>usertype</th>\n",
       "      <th>birth year</th>\n",
       "      <th>gender</th>\n",
       "    </tr>\n",
       "  </thead>\n",
       "  <tbody>\n",
       "    <tr>\n",
       "      <th>0</th>\n",
       "      <td>634</td>\n",
       "      <td>2013-07-01 00:00:00</td>\n",
       "      <td>2013-07-01 00:10:34</td>\n",
       "      <td>164</td>\n",
       "      <td>E 47 St &amp; 2 Ave</td>\n",
       "      <td>40.753231</td>\n",
       "      <td>-73.970325</td>\n",
       "      <td>504</td>\n",
       "      <td>1 Ave &amp; E 15 St</td>\n",
       "      <td>40.732219</td>\n",
       "      <td>-73.981656</td>\n",
       "      <td>16950</td>\n",
       "      <td>Customer</td>\n",
       "      <td>\\N</td>\n",
       "      <td>0</td>\n",
       "    </tr>\n",
       "    <tr>\n",
       "      <th>1</th>\n",
       "      <td>1547</td>\n",
       "      <td>2013-07-01 00:00:02</td>\n",
       "      <td>2013-07-01 00:25:49</td>\n",
       "      <td>388</td>\n",
       "      <td>W 26 St &amp; 10 Ave</td>\n",
       "      <td>40.749718</td>\n",
       "      <td>-74.002950</td>\n",
       "      <td>459</td>\n",
       "      <td>W 20 St &amp; 11 Ave</td>\n",
       "      <td>40.746745</td>\n",
       "      <td>-74.007756</td>\n",
       "      <td>19816</td>\n",
       "      <td>Customer</td>\n",
       "      <td>\\N</td>\n",
       "      <td>0</td>\n",
       "    </tr>\n",
       "    <tr>\n",
       "      <th>2</th>\n",
       "      <td>178</td>\n",
       "      <td>2013-07-01 00:01:04</td>\n",
       "      <td>2013-07-01 00:04:02</td>\n",
       "      <td>293</td>\n",
       "      <td>Lafayette St &amp; E 8 St</td>\n",
       "      <td>40.730287</td>\n",
       "      <td>-73.990765</td>\n",
       "      <td>237</td>\n",
       "      <td>E 11 St &amp; 2 Ave</td>\n",
       "      <td>40.730473</td>\n",
       "      <td>-73.986724</td>\n",
       "      <td>14548</td>\n",
       "      <td>Subscriber</td>\n",
       "      <td>1980</td>\n",
       "      <td>2</td>\n",
       "    </tr>\n",
       "    <tr>\n",
       "      <th>3</th>\n",
       "      <td>1580</td>\n",
       "      <td>2013-07-01 00:01:06</td>\n",
       "      <td>2013-07-01 00:27:26</td>\n",
       "      <td>531</td>\n",
       "      <td>Forsyth St &amp; Broome St</td>\n",
       "      <td>40.718939</td>\n",
       "      <td>-73.992663</td>\n",
       "      <td>499</td>\n",
       "      <td>Broadway &amp; W 60 St</td>\n",
       "      <td>40.769155</td>\n",
       "      <td>-73.981918</td>\n",
       "      <td>16063</td>\n",
       "      <td>Customer</td>\n",
       "      <td>\\N</td>\n",
       "      <td>0</td>\n",
       "    </tr>\n",
       "    <tr>\n",
       "      <th>4</th>\n",
       "      <td>757</td>\n",
       "      <td>2013-07-01 00:01:10</td>\n",
       "      <td>2013-07-01 00:13:47</td>\n",
       "      <td>382</td>\n",
       "      <td>University Pl &amp; E 14 St</td>\n",
       "      <td>40.734927</td>\n",
       "      <td>-73.992005</td>\n",
       "      <td>410</td>\n",
       "      <td>Suffolk St &amp; Stanton St</td>\n",
       "      <td>40.720664</td>\n",
       "      <td>-73.985180</td>\n",
       "      <td>19213</td>\n",
       "      <td>Subscriber</td>\n",
       "      <td>1986</td>\n",
       "      <td>1</td>\n",
       "    </tr>\n",
       "  </tbody>\n",
       "</table>\n",
       "</div>"
      ],
      "text/plain": [
       "   tripduration            starttime             stoptime  start station id  \\\n",
       "0           634  2013-07-01 00:00:00  2013-07-01 00:10:34               164   \n",
       "1          1547  2013-07-01 00:00:02  2013-07-01 00:25:49               388   \n",
       "2           178  2013-07-01 00:01:04  2013-07-01 00:04:02               293   \n",
       "3          1580  2013-07-01 00:01:06  2013-07-01 00:27:26               531   \n",
       "4           757  2013-07-01 00:01:10  2013-07-01 00:13:47               382   \n",
       "\n",
       "        start station name  start station latitude  start station longitude  \\\n",
       "0          E 47 St & 2 Ave               40.753231               -73.970325   \n",
       "1         W 26 St & 10 Ave               40.749718               -74.002950   \n",
       "2    Lafayette St & E 8 St               40.730287               -73.990765   \n",
       "3   Forsyth St & Broome St               40.718939               -73.992663   \n",
       "4  University Pl & E 14 St               40.734927               -73.992005   \n",
       "\n",
       "   end station id         end station name  end station latitude  \\\n",
       "0             504          1 Ave & E 15 St             40.732219   \n",
       "1             459         W 20 St & 11 Ave             40.746745   \n",
       "2             237          E 11 St & 2 Ave             40.730473   \n",
       "3             499       Broadway & W 60 St             40.769155   \n",
       "4             410  Suffolk St & Stanton St             40.720664   \n",
       "\n",
       "   end station longitude  bikeid    usertype birth year  gender  \n",
       "0             -73.981656   16950    Customer         \\N       0  \n",
       "1             -74.007756   19816    Customer         \\N       0  \n",
       "2             -73.986724   14548  Subscriber       1980       2  \n",
       "3             -73.981918   16063    Customer         \\N       0  \n",
       "4             -73.985180   19213  Subscriber       1986       1  "
      ]
     },
     "execution_count": 14,
     "metadata": {},
     "output_type": "execute_result"
    }
   ],
   "source": [
    "data_201307=pd.read_csv('/Users/sra/files/projects/citibike_project/combined/csv_group2/2013-07 - Citi Bike trip data.csv')\n",
    "data_201307.head()"
   ]
  },
  {
   "cell_type": "code",
   "execution_count": 17,
   "id": "7eb826c2-8780-4f65-a940-fb9e80b32d4f",
   "metadata": {},
   "outputs": [
    {
     "data": {
      "text/html": [
       "<div>\n",
       "<style scoped>\n",
       "    .dataframe tbody tr th:only-of-type {\n",
       "        vertical-align: middle;\n",
       "    }\n",
       "\n",
       "    .dataframe tbody tr th {\n",
       "        vertical-align: top;\n",
       "    }\n",
       "\n",
       "    .dataframe thead th {\n",
       "        text-align: right;\n",
       "    }\n",
       "</style>\n",
       "<table border=\"1\" class=\"dataframe\">\n",
       "  <thead>\n",
       "    <tr style=\"text-align: right;\">\n",
       "      <th></th>\n",
       "      <th>Trip Duration</th>\n",
       "      <th>Start Time</th>\n",
       "      <th>Stop Time</th>\n",
       "      <th>Start Station ID</th>\n",
       "      <th>Start Station Name</th>\n",
       "      <th>Start Station Latitude</th>\n",
       "      <th>Start Station Longitude</th>\n",
       "      <th>End Station ID</th>\n",
       "      <th>End Station Name</th>\n",
       "      <th>End Station Latitude</th>\n",
       "      <th>End Station Longitude</th>\n",
       "      <th>Bike ID</th>\n",
       "      <th>User Type</th>\n",
       "      <th>Birth Year</th>\n",
       "      <th>Gender</th>\n",
       "    </tr>\n",
       "  </thead>\n",
       "  <tbody>\n",
       "    <tr>\n",
       "      <th>0</th>\n",
       "      <td>528</td>\n",
       "      <td>2016-12-01 00:00:04</td>\n",
       "      <td>2016-12-01 00:08:52</td>\n",
       "      <td>499</td>\n",
       "      <td>Broadway &amp; W 60 St</td>\n",
       "      <td>40.769155</td>\n",
       "      <td>-73.981918</td>\n",
       "      <td>228</td>\n",
       "      <td>E 48 St &amp; 3 Ave</td>\n",
       "      <td>40.754601</td>\n",
       "      <td>-73.971879</td>\n",
       "      <td>26931</td>\n",
       "      <td>Subscriber</td>\n",
       "      <td>1964.0</td>\n",
       "      <td>1</td>\n",
       "    </tr>\n",
       "    <tr>\n",
       "      <th>1</th>\n",
       "      <td>218</td>\n",
       "      <td>2016-12-01 00:00:28</td>\n",
       "      <td>2016-12-01 00:04:06</td>\n",
       "      <td>3418</td>\n",
       "      <td>Plaza St West &amp; Flatbush Ave</td>\n",
       "      <td>40.675021</td>\n",
       "      <td>-73.971115</td>\n",
       "      <td>3358</td>\n",
       "      <td>Garfield Pl &amp; 8 Ave</td>\n",
       "      <td>40.671198</td>\n",
       "      <td>-73.974841</td>\n",
       "      <td>27122</td>\n",
       "      <td>Subscriber</td>\n",
       "      <td>1955.0</td>\n",
       "      <td>1</td>\n",
       "    </tr>\n",
       "    <tr>\n",
       "      <th>2</th>\n",
       "      <td>399</td>\n",
       "      <td>2016-12-01 00:00:39</td>\n",
       "      <td>2016-12-01 00:07:19</td>\n",
       "      <td>297</td>\n",
       "      <td>E 15 St &amp; 3 Ave</td>\n",
       "      <td>40.734232</td>\n",
       "      <td>-73.986923</td>\n",
       "      <td>345</td>\n",
       "      <td>W 13 St &amp; 6 Ave</td>\n",
       "      <td>40.736494</td>\n",
       "      <td>-73.997044</td>\n",
       "      <td>19352</td>\n",
       "      <td>Subscriber</td>\n",
       "      <td>1985.0</td>\n",
       "      <td>1</td>\n",
       "    </tr>\n",
       "    <tr>\n",
       "      <th>3</th>\n",
       "      <td>254</td>\n",
       "      <td>2016-12-01 00:00:44</td>\n",
       "      <td>2016-12-01 00:04:59</td>\n",
       "      <td>405</td>\n",
       "      <td>Washington St &amp; Gansevoort St</td>\n",
       "      <td>40.739323</td>\n",
       "      <td>-74.008119</td>\n",
       "      <td>358</td>\n",
       "      <td>Christopher St &amp; Greenwich St</td>\n",
       "      <td>40.732916</td>\n",
       "      <td>-74.007114</td>\n",
       "      <td>20015</td>\n",
       "      <td>Subscriber</td>\n",
       "      <td>1982.0</td>\n",
       "      <td>1</td>\n",
       "    </tr>\n",
       "    <tr>\n",
       "      <th>4</th>\n",
       "      <td>1805</td>\n",
       "      <td>2016-12-01 00:00:54</td>\n",
       "      <td>2016-12-01 00:31:00</td>\n",
       "      <td>279</td>\n",
       "      <td>Peck Slip &amp; Front St</td>\n",
       "      <td>40.707873</td>\n",
       "      <td>-74.001670</td>\n",
       "      <td>279</td>\n",
       "      <td>Peck Slip &amp; Front St</td>\n",
       "      <td>40.707873</td>\n",
       "      <td>-74.001670</td>\n",
       "      <td>23148</td>\n",
       "      <td>Subscriber</td>\n",
       "      <td>1989.0</td>\n",
       "      <td>1</td>\n",
       "    </tr>\n",
       "  </tbody>\n",
       "</table>\n",
       "</div>"
      ],
      "text/plain": [
       "   Trip Duration           Start Time            Stop Time  Start Station ID  \\\n",
       "0            528  2016-12-01 00:00:04  2016-12-01 00:08:52               499   \n",
       "1            218  2016-12-01 00:00:28  2016-12-01 00:04:06              3418   \n",
       "2            399  2016-12-01 00:00:39  2016-12-01 00:07:19               297   \n",
       "3            254  2016-12-01 00:00:44  2016-12-01 00:04:59               405   \n",
       "4           1805  2016-12-01 00:00:54  2016-12-01 00:31:00               279   \n",
       "\n",
       "              Start Station Name  Start Station Latitude  \\\n",
       "0             Broadway & W 60 St               40.769155   \n",
       "1   Plaza St West & Flatbush Ave               40.675021   \n",
       "2                E 15 St & 3 Ave               40.734232   \n",
       "3  Washington St & Gansevoort St               40.739323   \n",
       "4           Peck Slip & Front St               40.707873   \n",
       "\n",
       "   Start Station Longitude  End Station ID               End Station Name  \\\n",
       "0               -73.981918             228                E 48 St & 3 Ave   \n",
       "1               -73.971115            3358            Garfield Pl & 8 Ave   \n",
       "2               -73.986923             345                W 13 St & 6 Ave   \n",
       "3               -74.008119             358  Christopher St & Greenwich St   \n",
       "4               -74.001670             279           Peck Slip & Front St   \n",
       "\n",
       "   End Station Latitude  End Station Longitude  Bike ID   User Type  \\\n",
       "0             40.754601             -73.971879    26931  Subscriber   \n",
       "1             40.671198             -73.974841    27122  Subscriber   \n",
       "2             40.736494             -73.997044    19352  Subscriber   \n",
       "3             40.732916             -74.007114    20015  Subscriber   \n",
       "4             40.707873             -74.001670    23148  Subscriber   \n",
       "\n",
       "   Birth Year  Gender  \n",
       "0      1964.0       1  \n",
       "1      1955.0       1  \n",
       "2      1985.0       1  \n",
       "3      1982.0       1  \n",
       "4      1989.0       1  "
      ]
     },
     "execution_count": 17,
     "metadata": {},
     "output_type": "execute_result"
    }
   ],
   "source": [
    "data_201612=pd.read_csv('/Users/sra/files/projects/citibike_project/combined/csv_group2/201612-citibike-tripdata.csv')\n",
    "data_201612.head()"
   ]
  },
  {
   "cell_type": "code",
   "execution_count": 18,
   "id": "af1971fd-43b3-431c-b3b7-b5056e5cdf08",
   "metadata": {},
   "outputs": [
    {
     "data": {
      "text/html": [
       "<div>\n",
       "<style scoped>\n",
       "    .dataframe tbody tr th:only-of-type {\n",
       "        vertical-align: middle;\n",
       "    }\n",
       "\n",
       "    .dataframe tbody tr th {\n",
       "        vertical-align: top;\n",
       "    }\n",
       "\n",
       "    .dataframe thead th {\n",
       "        text-align: right;\n",
       "    }\n",
       "</style>\n",
       "<table border=\"1\" class=\"dataframe\">\n",
       "  <thead>\n",
       "    <tr style=\"text-align: right;\">\n",
       "      <th></th>\n",
       "      <th>Trip Duration</th>\n",
       "      <th>Start Time</th>\n",
       "      <th>Stop Time</th>\n",
       "      <th>Start Station ID</th>\n",
       "      <th>Start Station Name</th>\n",
       "      <th>Start Station Latitude</th>\n",
       "      <th>Start Station Longitude</th>\n",
       "      <th>End Station ID</th>\n",
       "      <th>End Station Name</th>\n",
       "      <th>End Station Latitude</th>\n",
       "      <th>End Station Longitude</th>\n",
       "      <th>Bike ID</th>\n",
       "      <th>User Type</th>\n",
       "      <th>Birth Year</th>\n",
       "      <th>Gender</th>\n",
       "    </tr>\n",
       "  </thead>\n",
       "  <tbody>\n",
       "    <tr>\n",
       "      <th>0</th>\n",
       "      <td>528</td>\n",
       "      <td>2016-12-01 00:00:04</td>\n",
       "      <td>2016-12-01 00:08:52</td>\n",
       "      <td>499</td>\n",
       "      <td>Broadway &amp; W 60 St</td>\n",
       "      <td>40.769155</td>\n",
       "      <td>-73.981918</td>\n",
       "      <td>228</td>\n",
       "      <td>E 48 St &amp; 3 Ave</td>\n",
       "      <td>40.754601</td>\n",
       "      <td>-73.971879</td>\n",
       "      <td>26931</td>\n",
       "      <td>Subscriber</td>\n",
       "      <td>1964.0</td>\n",
       "      <td>1</td>\n",
       "    </tr>\n",
       "    <tr>\n",
       "      <th>1</th>\n",
       "      <td>218</td>\n",
       "      <td>2016-12-01 00:00:28</td>\n",
       "      <td>2016-12-01 00:04:06</td>\n",
       "      <td>3418</td>\n",
       "      <td>Plaza St West &amp; Flatbush Ave</td>\n",
       "      <td>40.675021</td>\n",
       "      <td>-73.971115</td>\n",
       "      <td>3358</td>\n",
       "      <td>Garfield Pl &amp; 8 Ave</td>\n",
       "      <td>40.671198</td>\n",
       "      <td>-73.974841</td>\n",
       "      <td>27122</td>\n",
       "      <td>Subscriber</td>\n",
       "      <td>1955.0</td>\n",
       "      <td>1</td>\n",
       "    </tr>\n",
       "    <tr>\n",
       "      <th>2</th>\n",
       "      <td>399</td>\n",
       "      <td>2016-12-01 00:00:39</td>\n",
       "      <td>2016-12-01 00:07:19</td>\n",
       "      <td>297</td>\n",
       "      <td>E 15 St &amp; 3 Ave</td>\n",
       "      <td>40.734232</td>\n",
       "      <td>-73.986923</td>\n",
       "      <td>345</td>\n",
       "      <td>W 13 St &amp; 6 Ave</td>\n",
       "      <td>40.736494</td>\n",
       "      <td>-73.997044</td>\n",
       "      <td>19352</td>\n",
       "      <td>Subscriber</td>\n",
       "      <td>1985.0</td>\n",
       "      <td>1</td>\n",
       "    </tr>\n",
       "    <tr>\n",
       "      <th>3</th>\n",
       "      <td>254</td>\n",
       "      <td>2016-12-01 00:00:44</td>\n",
       "      <td>2016-12-01 00:04:59</td>\n",
       "      <td>405</td>\n",
       "      <td>Washington St &amp; Gansevoort St</td>\n",
       "      <td>40.739323</td>\n",
       "      <td>-74.008119</td>\n",
       "      <td>358</td>\n",
       "      <td>Christopher St &amp; Greenwich St</td>\n",
       "      <td>40.732916</td>\n",
       "      <td>-74.007114</td>\n",
       "      <td>20015</td>\n",
       "      <td>Subscriber</td>\n",
       "      <td>1982.0</td>\n",
       "      <td>1</td>\n",
       "    </tr>\n",
       "    <tr>\n",
       "      <th>4</th>\n",
       "      <td>1805</td>\n",
       "      <td>2016-12-01 00:00:54</td>\n",
       "      <td>2016-12-01 00:31:00</td>\n",
       "      <td>279</td>\n",
       "      <td>Peck Slip &amp; Front St</td>\n",
       "      <td>40.707873</td>\n",
       "      <td>-74.001670</td>\n",
       "      <td>279</td>\n",
       "      <td>Peck Slip &amp; Front St</td>\n",
       "      <td>40.707873</td>\n",
       "      <td>-74.001670</td>\n",
       "      <td>23148</td>\n",
       "      <td>Subscriber</td>\n",
       "      <td>1989.0</td>\n",
       "      <td>1</td>\n",
       "    </tr>\n",
       "  </tbody>\n",
       "</table>\n",
       "</div>"
      ],
      "text/plain": [
       "   Trip Duration           Start Time            Stop Time  Start Station ID  \\\n",
       "0            528  2016-12-01 00:00:04  2016-12-01 00:08:52               499   \n",
       "1            218  2016-12-01 00:00:28  2016-12-01 00:04:06              3418   \n",
       "2            399  2016-12-01 00:00:39  2016-12-01 00:07:19               297   \n",
       "3            254  2016-12-01 00:00:44  2016-12-01 00:04:59               405   \n",
       "4           1805  2016-12-01 00:00:54  2016-12-01 00:31:00               279   \n",
       "\n",
       "              Start Station Name  Start Station Latitude  \\\n",
       "0             Broadway & W 60 St               40.769155   \n",
       "1   Plaza St West & Flatbush Ave               40.675021   \n",
       "2                E 15 St & 3 Ave               40.734232   \n",
       "3  Washington St & Gansevoort St               40.739323   \n",
       "4           Peck Slip & Front St               40.707873   \n",
       "\n",
       "   Start Station Longitude  End Station ID               End Station Name  \\\n",
       "0               -73.981918             228                E 48 St & 3 Ave   \n",
       "1               -73.971115            3358            Garfield Pl & 8 Ave   \n",
       "2               -73.986923             345                W 13 St & 6 Ave   \n",
       "3               -74.008119             358  Christopher St & Greenwich St   \n",
       "4               -74.001670             279           Peck Slip & Front St   \n",
       "\n",
       "   End Station Latitude  End Station Longitude  Bike ID   User Type  \\\n",
       "0             40.754601             -73.971879    26931  Subscriber   \n",
       "1             40.671198             -73.974841    27122  Subscriber   \n",
       "2             40.736494             -73.997044    19352  Subscriber   \n",
       "3             40.732916             -74.007114    20015  Subscriber   \n",
       "4             40.707873             -74.001670    23148  Subscriber   \n",
       "\n",
       "   Birth Year  Gender  \n",
       "0      1964.0       1  \n",
       "1      1955.0       1  \n",
       "2      1985.0       1  \n",
       "3      1982.0       1  \n",
       "4      1989.0       1  "
      ]
     },
     "execution_count": 18,
     "metadata": {},
     "output_type": "execute_result"
    }
   ],
   "source": [
    "data_201701=pd.read_csv('/Users/sra/files/projects/citibike_project/combined/csv_group2/201612-citibike-tripdata.csv')\n",
    "data_201701.head()"
   ]
  },
  {
   "cell_type": "code",
   "execution_count": 20,
   "id": "19b66740-4a3c-4dfb-a8e9-934130423446",
   "metadata": {},
   "outputs": [
    {
     "data": {
      "text/html": [
       "<div>\n",
       "<style scoped>\n",
       "    .dataframe tbody tr th:only-of-type {\n",
       "        vertical-align: middle;\n",
       "    }\n",
       "\n",
       "    .dataframe tbody tr th {\n",
       "        vertical-align: top;\n",
       "    }\n",
       "\n",
       "    .dataframe thead th {\n",
       "        text-align: right;\n",
       "    }\n",
       "</style>\n",
       "<table border=\"1\" class=\"dataframe\">\n",
       "  <thead>\n",
       "    <tr style=\"text-align: right;\">\n",
       "      <th></th>\n",
       "      <th>ride_id</th>\n",
       "      <th>rideable_type</th>\n",
       "      <th>started_at</th>\n",
       "      <th>ended_at</th>\n",
       "      <th>start_station_name</th>\n",
       "      <th>start_station_id</th>\n",
       "      <th>end_station_name</th>\n",
       "      <th>end_station_id</th>\n",
       "      <th>start_lat</th>\n",
       "      <th>start_lng</th>\n",
       "      <th>end_lat</th>\n",
       "      <th>end_lng</th>\n",
       "      <th>member_casual</th>\n",
       "    </tr>\n",
       "  </thead>\n",
       "  <tbody>\n",
       "    <tr>\n",
       "      <th>0</th>\n",
       "      <td>159C90AB46D5631B</td>\n",
       "      <td>classic_bike</td>\n",
       "      <td>2023-04-01 17:24:06</td>\n",
       "      <td>2023-04-01 17:46:10</td>\n",
       "      <td>Hoyt St &amp; Warren St</td>\n",
       "      <td>4330.09</td>\n",
       "      <td>Washington St &amp; Laight St</td>\n",
       "      <td>5509.02</td>\n",
       "      <td>40.684294</td>\n",
       "      <td>-73.988944</td>\n",
       "      <td>40.722310</td>\n",
       "      <td>-74.010600</td>\n",
       "      <td>member</td>\n",
       "    </tr>\n",
       "    <tr>\n",
       "      <th>1</th>\n",
       "      <td>4349D44670885CED</td>\n",
       "      <td>electric_bike</td>\n",
       "      <td>2023-04-13 15:09:12</td>\n",
       "      <td>2023-04-13 15:16:11</td>\n",
       "      <td>E 25 St &amp; 2 Ave</td>\n",
       "      <td>6046.02</td>\n",
       "      <td>E 47 St &amp; 2 Ave</td>\n",
       "      <td>6498.10</td>\n",
       "      <td>40.739126</td>\n",
       "      <td>-73.979738</td>\n",
       "      <td>40.753231</td>\n",
       "      <td>-73.970325</td>\n",
       "      <td>member</td>\n",
       "    </tr>\n",
       "    <tr>\n",
       "      <th>2</th>\n",
       "      <td>55EB4E8AF45439D2</td>\n",
       "      <td>electric_bike</td>\n",
       "      <td>2023-04-28 15:17:00</td>\n",
       "      <td>2023-04-28 15:26:09</td>\n",
       "      <td>3 Ave &amp; E 62 St</td>\n",
       "      <td>6762.04</td>\n",
       "      <td>W 55 St &amp; 6 Ave</td>\n",
       "      <td>6809.09</td>\n",
       "      <td>40.763126</td>\n",
       "      <td>-73.965269</td>\n",
       "      <td>40.763189</td>\n",
       "      <td>-73.978434</td>\n",
       "      <td>member</td>\n",
       "    </tr>\n",
       "    <tr>\n",
       "      <th>3</th>\n",
       "      <td>3133FC58AA938D08</td>\n",
       "      <td>classic_bike</td>\n",
       "      <td>2023-04-23 16:18:49</td>\n",
       "      <td>2023-04-23 17:10:50</td>\n",
       "      <td>Washington Pl &amp; 6 Ave</td>\n",
       "      <td>5838.09</td>\n",
       "      <td>E 56 St &amp; 3 Ave</td>\n",
       "      <td>6691.11</td>\n",
       "      <td>40.732241</td>\n",
       "      <td>-74.000264</td>\n",
       "      <td>40.759345</td>\n",
       "      <td>-73.967597</td>\n",
       "      <td>member</td>\n",
       "    </tr>\n",
       "    <tr>\n",
       "      <th>4</th>\n",
       "      <td>BF2DD897668DA1AC</td>\n",
       "      <td>classic_bike</td>\n",
       "      <td>2023-04-21 15:42:08</td>\n",
       "      <td>2023-04-21 15:47:04</td>\n",
       "      <td>3 Ave &amp; E 62 St</td>\n",
       "      <td>6762.04</td>\n",
       "      <td>W 55 St &amp; 6 Ave</td>\n",
       "      <td>6809.09</td>\n",
       "      <td>40.763112</td>\n",
       "      <td>-73.965812</td>\n",
       "      <td>40.763189</td>\n",
       "      <td>-73.978434</td>\n",
       "      <td>member</td>\n",
       "    </tr>\n",
       "  </tbody>\n",
       "</table>\n",
       "</div>"
      ],
      "text/plain": [
       "            ride_id  rideable_type           started_at             ended_at  \\\n",
       "0  159C90AB46D5631B   classic_bike  2023-04-01 17:24:06  2023-04-01 17:46:10   \n",
       "1  4349D44670885CED  electric_bike  2023-04-13 15:09:12  2023-04-13 15:16:11   \n",
       "2  55EB4E8AF45439D2  electric_bike  2023-04-28 15:17:00  2023-04-28 15:26:09   \n",
       "3  3133FC58AA938D08   classic_bike  2023-04-23 16:18:49  2023-04-23 17:10:50   \n",
       "4  BF2DD897668DA1AC   classic_bike  2023-04-21 15:42:08  2023-04-21 15:47:04   \n",
       "\n",
       "      start_station_name start_station_id           end_station_name  \\\n",
       "0    Hoyt St & Warren St          4330.09  Washington St & Laight St   \n",
       "1        E 25 St & 2 Ave          6046.02            E 47 St & 2 Ave   \n",
       "2        3 Ave & E 62 St          6762.04            W 55 St & 6 Ave   \n",
       "3  Washington Pl & 6 Ave          5838.09            E 56 St & 3 Ave   \n",
       "4        3 Ave & E 62 St          6762.04            W 55 St & 6 Ave   \n",
       "\n",
       "  end_station_id  start_lat  start_lng    end_lat    end_lng member_casual  \n",
       "0        5509.02  40.684294 -73.988944  40.722310 -74.010600        member  \n",
       "1        6498.10  40.739126 -73.979738  40.753231 -73.970325        member  \n",
       "2        6809.09  40.763126 -73.965269  40.763189 -73.978434        member  \n",
       "3        6691.11  40.732241 -74.000264  40.759345 -73.967597        member  \n",
       "4        6809.09  40.763112 -73.965812  40.763189 -73.978434        member  "
      ]
     },
     "execution_count": 20,
     "metadata": {},
     "output_type": "execute_result"
    }
   ],
   "source": [
    "data_202304=pd.read_csv('/Users/sra/files/projects/citibike_project/combined/csv_group1/202304-citibike-tripdata.csv',low_memory=False)\n",
    "data_202304.head()"
   ]
  },
  {
   "cell_type": "markdown",
   "id": "9019b115-0c38-4c53-9988-92a1ef0cd77d",
   "metadata": {},
   "source": [
    "It looks like there are a few patterns of headers within the corpus of CSV files. This will be tricky to disentangle, though hopefully we can rectify the data and combine as much as possible together."
   ]
  },
  {
   "cell_type": "markdown",
   "id": "293be15c-b7c6-44b5-b681-e06e3f2763ad",
   "metadata": {},
   "source": [
    "The recent data has different columns than older data:"
   ]
  },
  {
   "cell_type": "code",
   "execution_count": 91,
   "id": "27688376-b9ab-4178-9bd9-cc520fbdc702",
   "metadata": {},
   "outputs": [
    {
     "data": {
      "text/plain": [
       "Index(['ride_id', 'rideable_type', 'started_at', 'ended_at',\n",
       "       'start_station_name', 'start_station_id', 'end_station_name',\n",
       "       'end_station_id', 'start_lat', 'start_lng', 'end_lat', 'end_lng',\n",
       "       'member_casual'],\n",
       "      dtype='object')"
      ]
     },
     "execution_count": 91,
     "metadata": {},
     "output_type": "execute_result"
    }
   ],
   "source": [
    "data_202304.columns"
   ]
  },
  {
   "cell_type": "markdown",
   "id": "b50a5645-f289-4197-9b46-bf6d8732d4a4",
   "metadata": {},
   "source": [
    "### How many files are in the tripdata folder?"
   ]
  },
  {
   "cell_type": "code",
   "execution_count": 131,
   "id": "1864a9a1-d236-49a3-a83c-96ba2d36e9c9",
   "metadata": {},
   "outputs": [
    {
     "name": "stdout",
     "output_type": "stream",
     "text": [
      "1\n"
     ]
    }
   ],
   "source": [
    "# get number of files in the data folder\n",
    "folder_path='/Users/sra/files/projects/citibike_project/tripdata'\n",
    "\n",
    "# get the list of files in the folder\n",
    "file_list=os.listdir(folder_path)\n",
    "\n",
    "# number of files in the list of files\n",
    "num_files=len(file_list)\n",
    "\n",
    "print(num_files)"
   ]
  },
  {
   "cell_type": "markdown",
   "id": "9d205089-8d45-4b3d-8d25-a0d554d836ec",
   "metadata": {},
   "source": [
    "### View all filenames"
   ]
  },
  {
   "cell_type": "code",
   "execution_count": 21,
   "id": "e71ac853-9f6b-43eb-8464-6163acc126e1",
   "metadata": {},
   "outputs": [],
   "source": [
    "def file_list_printer(folder_path):\n",
    "    \n",
    "    # get the list of files in the folder\n",
    "    file_list=os.listdir(folder_path)\n",
    "    \n",
    "    try:\n",
    "        for file in file_list:\n",
    "        \n",
    "            csv=pd.read_csv(file)\n",
    "        \n",
    "            print(csv.columns)\n",
    "            \n",
    "            # csv=None\n",
    "        \n",
    "    except: \n",
    "        print(f'error, {print(file_list)}')"
   ]
  },
  {
   "cell_type": "code",
   "execution_count": 133,
   "id": "72e07534-1fc8-4c2d-b386-9d9660b27dab",
   "metadata": {},
   "outputs": [],
   "source": [
    "# I moved the files to different folders when I ran the code the first time.\n",
    "# The files are now separated into two groups.\n",
    "# Originally, they were located here:\n",
    "# /Users/sra/files/projects/citibike_project/tripdata"
   ]
  },
  {
   "cell_type": "code",
   "execution_count": 23,
   "id": "ff49c5db-846b-4634-84c3-22c7cf3995ed",
   "metadata": {},
   "outputs": [
    {
     "name": "stdout",
     "output_type": "stream",
     "text": [
      "['202105-citibike-tripdata.csv', '202203-citibike-tripdata.csv', '202209-citibike-tripdata.csv', '.DS_Store', '202207-citbike-tripdata.csv', '202302-citibike-tripdata.csv', '202201-citibike-tripdata.csv', '202107-citibike-tripdata.csv', '202111-citibike-tripdata.csv', '202304-citibike-tripdata.csv', '202211-citibike-tripdata.csv', '202109-citibike-tripdata.csv', '202205-citibike-tripdata.csv', '202103-citibike-tripdata.csv', '202206-citbike-tripdata.csv', '202112-citibike-tripdata.csv', '202104-citibike-tripdata.csv', '202202-citibike-tripdata.csv', '202303-citibike-tripdata.csv', '202110-citibike-tripdata.csv', '202106-citibike-tripdata.csv', '202108-citibike-tripdata.csv', 'JC-202305-citibike-tripdata.csv', '202204-citibike-tripdata.csv', '202102-citibike-tripdata.csv']\n",
      "error, None\n"
     ]
    }
   ],
   "source": [
    "file_list_printer(folder_path='/Users/sra/files/projects/citibike_project/combined/csv_group1')"
   ]
  },
  {
   "cell_type": "code",
   "execution_count": 24,
   "id": "0881e02a-8233-4260-8b83-05effb97c983",
   "metadata": {},
   "outputs": [
    {
     "name": "stdout",
     "output_type": "stream",
     "text": [
      "['201709-citibike-tripdata.csv', '201809-citibike-tripdata.csv', '2013-09 - Citi Bike trip data.csv', '202006-citibike-tripdata.csv', '201701-citibike-tripdata.csv', '202010-citibike-tripdata.csv', '201602-citibike-tripdata.csv', '201902-citibike-tripdata.csv', '201512-citibike-tripdata.csv', '201411-citibike-tripdata.csv', '201801-citibike-tripdata.csv', '2014-05 - Citi Bike trip data.csv', '201504-citibike-tripdata.csv', '2014-02 - Citi Bike trip data.csv', '201908-citibike-tripdata.csv', '201608-citibike-tripdata.csv', '201510-citibike-tripdata.csv', '201803-citibike-tripdata.csv', '201506-citibike-tripdata.csv', '202004-citibike-tripdata.csv', '201703-citibike-tripdata.csv', '202012-citibike-tripdata.csv', '202101-citibike-tripdata.csv', '202002-citibike-tripdata.csv', '201610-citibike-tripdata.csv', '201606-citibike-tripdata.csv', '201705-citibike-tripdata.csv', '201805-citibike-tripdata.csv', '201906-citibike-tripdata.csv', '201910-citibike-tripdata.csv', '201508-citibike-tripdata.csv', '2014-07 - Citi Bike trip data.csv', '201807-citibike-tripdata.csv', '201904-citibike-tripdata.csv', '201502-citibike-tripdata.csv', '201912-citibike-tripdata.csv', '201811-citibike-tripdata.csv', '2014-08 - Citi Bike trip data.csv', '201711-citibike-tripdata.csv', '201612-citibike-tripdata.csv', '201604-citibike-tripdata.csv', '201707-citibike-tripdata.csv', '201409-citibike-tripdata.csv', '202008-citibike-tripdata.csv', '2013-11 - Citi Bike trip data.csv', '201603-citibike-tripdata.csv', '202011-citibike-tripdata.csv', '202007-citibike-tripdata.csv', '2013-10 - Citi Bike trip data.csv', '201505-citibike-tripdata.csv', '201903-citibike-tripdata.csv', '201410-citibike-tripdata.csv', '201708-citibike-tripdata.csv', '201808-citibike-tripdata.csv', '2014-01 - Citi Bike trip data.csv', '201507-citibike-tripdata.csv', '201511-citibike-tripdata.csv', '2014-06 - Citi Bike trip data.csv', '201901-citibike-tripdata.csv', '201802-citibike-tripdata.csv', '201412-citibike-tripdata.csv', '201702-citibike-tripdata.csv', '201601-citibike-tripdata.csv', '202005-citibike-tripdata.csv', '201909-citibike-tripdata.csv', '201609-citibike-tripdata.csv', '2013-12 - Citi Bike trip data.csv', '201509-citibike-tripdata.csv', '201607-citibike-tripdata.csv', '201306-citibike-tripdata.csv', '201704-citibike-tripdata.csv', '201712-citibike-tripdata.csv', '201611-citibike-tripdata.csv', '202003-citibike-tripdata.csv', '201911-citibike-tripdata.csv', '2014-03 - Citi Bike trip data.csv', '201501-citibike-tripdata.csv', '201812-citibike-tripdata.csv', '2013-07 - Citi Bike trip data.csv', '201804-citibike-tripdata.csv', '201907-citibike-tripdata.csv', '2014-04 - Citi Bike trip data.csv', '202009-citibike-tripdata.csv', '2013-08 - Citi Bike trip data.csv', '201503-citibike-tripdata.csv', '201810-citibike-tripdata.csv', '201806-citibike-tripdata.csv', '201905-citibike-tripdata.csv', '201605-citibike-tripdata.csv', '201706-citibike-tripdata.csv', '201710-citibike-tripdata.csv', '202001-citibike-tripdata.csv']\n",
      "error, None\n"
     ]
    }
   ],
   "source": [
    "file_list_printer(folder_path='/Users/sra/files/projects/citibike_project/combined/csv_group2')"
   ]
  },
  {
   "cell_type": "markdown",
   "id": "c197bbf2-11fd-4ccb-8026-40da7a8775a7",
   "metadata": {},
   "source": [
    "#### Attempt to view all file headers in sequence"
   ]
  },
  {
   "cell_type": "code",
   "execution_count": 26,
   "id": "1a0385c0-ffd4-4ce1-b4d4-2091673fb0ef",
   "metadata": {},
   "outputs": [
    {
     "name": "stdout",
     "output_type": "stream",
     "text": [
      "file_path:\n",
      " /Users/sra/files/projects/citibike_project/combined/csv_group1\n"
     ]
    }
   ],
   "source": [
    "file_path='/Users/sra/files/projects/citibike_project/combined/csv_group1'\n",
    "print('file_path:\\n',file_path)\n",
    "\n",
    "def get_column_names(directory):\n",
    "    for filename in os.listdir(directory):\n",
    "        if filename.endswith('.csv'):\n",
    "            file_path = os.path.join(directory, filename)\n",
    "            with open(file_path, 'r') as csv_file:\n",
    "                reader = csv.reader(csv_file)\n",
    "                headers = next(reader)  # get the header row\n",
    "            return headers\n",
    "    return None  # no CSV file found in the directory"
   ]
  },
  {
   "cell_type": "code",
   "execution_count": 27,
   "id": "279a66c3-7a57-482b-976b-8da35ea06dbe",
   "metadata": {},
   "outputs": [
    {
     "data": {
      "text/plain": [
       "['ride_id',\n",
       " 'rideable_type',\n",
       " 'started_at',\n",
       " 'ended_at',\n",
       " 'start_station_name',\n",
       " 'start_station_id',\n",
       " 'end_station_name',\n",
       " 'end_station_id',\n",
       " 'start_lat',\n",
       " 'start_lng',\n",
       " 'end_lat',\n",
       " 'end_lng',\n",
       " 'member_casual']"
      ]
     },
     "execution_count": 27,
     "metadata": {},
     "output_type": "execute_result"
    }
   ],
   "source": [
    "get_column_names(directory=file_path)"
   ]
  },
  {
   "cell_type": "markdown",
   "id": "5f9d7180-6c4e-4cd6-a152-9599995e4e30",
   "metadata": {},
   "source": [
    "That only got the first file."
   ]
  },
  {
   "cell_type": "markdown",
   "id": "a697ea44-6d11-451d-b812-e542bf24f419",
   "metadata": {},
   "source": [
    "##### Try again to view _all_ the files' headers.\n",
    "\n",
    "Put the filenames and headers into a dictionary to make it easy to compare the headers."
   ]
  },
  {
   "cell_type": "code",
   "execution_count": 171,
   "id": "1e48c61c-d1ee-495e-b0a6-4830653ed266",
   "metadata": {},
   "outputs": [],
   "source": [
    "def dict_maker(file_path:str,print_counter=4):\n",
    "    \n",
    "    counter_csv=0\n",
    "    counter_not_csv=0\n",
    "    file_dict={}\n",
    "    print_counter_tracker=0\n",
    "    \n",
    "    for filename in os.listdir(file_path):\n",
    "        print('filename: ',filename)\n",
    "        if filename.endswith('.csv'):\n",
    "            one_file_path = os.path.join(file_path, filename)\n",
    "            print('file path:',one_file_path)\n",
    "            with open(one_file_path, 'r') as csv_file:\n",
    "                reader = csv.reader(csv_file)\n",
    "                headers = next(reader)  # get the header row\n",
    "                print('headers:  ',headers)\n",
    "                print('\\n')\n",
    "            counter_csv+=1 # count to make sure all the files are represented\n",
    "            print_counter_tracker+=1\n",
    "        else:\n",
    "            counter_not_csv+=1\n",
    "            print(f'{filename} is not a csv file')\n",
    "            print('\\n')\n",
    "        file_dict[filename]=headers\n",
    "\n",
    "    print('csv counter:',counter_csv)\n",
    "    print('not csv counter:',counter_not_csv)\n",
    "    print('\\n')\n",
    "    print(file_dict)"
   ]
  },
  {
   "cell_type": "code",
   "execution_count": 201,
   "id": "8819febf-34a5-4146-9f9d-a88723149750",
   "metadata": {
    "tags": []
   },
   "outputs": [],
   "source": [
    "def dict_maker(file_path:str,dictionary:dict,print_counter=4):\n",
    "    \n",
    "    out_dict=dictionary\n",
    "    counter_csv=0\n",
    "    counter_not_csv=0\n",
    "    print_filename_counter_tracker=0\n",
    "    print_filepath_counter_tracker=0\n",
    "    print_header_counter_tracker=0\n",
    "    \n",
    "    for filename in os.listdir(file_path):\n",
    "        if print_filename_counter_tracker <= print_counter:\n",
    "            print('filename: ',filename)\n",
    "            print_filename_counter_tracker+=1\n",
    "            \n",
    "        if filename.endswith('.csv'):\n",
    "            one_file_path = os.path.join(file_path, filename)\n",
    "            if print_filepath_counter_tracker <= print_counter:\n",
    "                print('file path:',one_file_path)\n",
    "                print_filepath_counter_tracker+=1\n",
    "            with open(one_file_path, 'r') as csv_file:\n",
    "                reader = csv.reader(csv_file)\n",
    "                headers = next(reader)  # get the header row\n",
    "                if print_header_counter_tracker <= print_counter:\n",
    "                    print('headers:  ',headers)\n",
    "                    print('\\n')\n",
    "                    print_header_counter_tracker+=1\n",
    "            \n",
    "            counter_csv+=1 # count to make sure all the files are represented\n",
    "            \n",
    "        else:\n",
    "            counter_not_csv+=1\n",
    "            print(f'{filename} is not a csv file')\n",
    "            print('\\n')\n",
    "        out_dict[filename]=headers\n",
    "\n",
    "    print('csv counter:',counter_csv)\n",
    "    print('not csv counter:',counter_not_csv)\n",
    "    print('\\n')\n",
    "    print(out_dict)"
   ]
  },
  {
   "cell_type": "markdown",
   "id": "76c3de41-a886-4927-a64a-be4a04eda946",
   "metadata": {},
   "source": [
    "#### group1"
   ]
  },
  {
   "cell_type": "code",
   "execution_count": 202,
   "id": "b910fe54-13ef-40fa-a265-4baf47399e5d",
   "metadata": {
    "tags": []
   },
   "outputs": [],
   "source": [
    "file_path='/Users/sra/files/projects/citibike_project/combined/csv_group1'"
   ]
  },
  {
   "cell_type": "code",
   "execution_count": 203,
   "id": "18040da6-0e28-48e4-85a7-129a6fd765ae",
   "metadata": {},
   "outputs": [
    {
     "name": "stdout",
     "output_type": "stream",
     "text": [
      "filename:  202105-citibike-tripdata.csv\n",
      "file path: /Users/sra/files/projects/citibike_project/combined/csv_group1/202105-citibike-tripdata.csv\n",
      "headers:   ['ride_id', 'rideable_type', 'started_at', 'ended_at', 'start_station_name', 'start_station_id', 'end_station_name', 'end_station_id', 'start_lat', 'start_lng', 'end_lat', 'end_lng', 'member_casual']\n",
      "\n",
      "\n",
      "filename:  202203-citibike-tripdata.csv\n",
      "file path: /Users/sra/files/projects/citibike_project/combined/csv_group1/202203-citibike-tripdata.csv\n",
      "headers:   ['ride_id', 'rideable_type', 'started_at', 'ended_at', 'start_station_name', 'start_station_id', 'end_station_name', 'end_station_id', 'start_lat', 'start_lng', 'end_lat', 'end_lng', 'member_casual']\n",
      "\n",
      "\n",
      "filename:  202209-citibike-tripdata.csv\n",
      "file path: /Users/sra/files/projects/citibike_project/combined/csv_group1/202209-citibike-tripdata.csv\n",
      "headers:   ['ride_id', 'rideable_type', 'started_at', 'ended_at', 'start_station_name', 'start_station_id', 'end_station_name', 'end_station_id', 'start_lat', 'start_lng', 'end_lat', 'end_lng', 'member_casual']\n",
      "\n",
      "\n",
      "filename:  .DS_Store\n",
      ".DS_Store is not a csv file\n",
      "\n",
      "\n",
      "filename:  202207-citbike-tripdata.csv\n",
      "file path: /Users/sra/files/projects/citibike_project/combined/csv_group1/202207-citbike-tripdata.csv\n",
      "headers:   ['ride_id', 'rideable_type', 'started_at', 'ended_at', 'start_station_name', 'start_station_id', 'end_station_name', 'end_station_id', 'start_lat', 'start_lng', 'end_lat', 'end_lng', 'member_casual']\n",
      "\n",
      "\n",
      "file path: /Users/sra/files/projects/citibike_project/combined/csv_group1/202302-citibike-tripdata.csv\n",
      "headers:   ['ride_id', 'rideable_type', 'started_at', 'ended_at', 'start_station_name', 'start_station_id', 'end_station_name', 'end_station_id', 'start_lat', 'start_lng', 'end_lat', 'end_lng', 'member_casual']\n",
      "\n",
      "\n",
      "csv counter: 24\n",
      "not csv counter: 1\n",
      "\n",
      "\n",
      "{'202105-citibike-tripdata.csv': ['ride_id', 'rideable_type', 'started_at', 'ended_at', 'start_station_name', 'start_station_id', 'end_station_name', 'end_station_id', 'start_lat', 'start_lng', 'end_lat', 'end_lng', 'member_casual'], '202203-citibike-tripdata.csv': ['ride_id', 'rideable_type', 'started_at', 'ended_at', 'start_station_name', 'start_station_id', 'end_station_name', 'end_station_id', 'start_lat', 'start_lng', 'end_lat', 'end_lng', 'member_casual'], '202209-citibike-tripdata.csv': ['ride_id', 'rideable_type', 'started_at', 'ended_at', 'start_station_name', 'start_station_id', 'end_station_name', 'end_station_id', 'start_lat', 'start_lng', 'end_lat', 'end_lng', 'member_casual'], '.DS_Store': ['ride_id', 'rideable_type', 'started_at', 'ended_at', 'start_station_name', 'start_station_id', 'end_station_name', 'end_station_id', 'start_lat', 'start_lng', 'end_lat', 'end_lng', 'member_casual'], '202207-citbike-tripdata.csv': ['ride_id', 'rideable_type', 'started_at', 'ended_at', 'start_station_name', 'start_station_id', 'end_station_name', 'end_station_id', 'start_lat', 'start_lng', 'end_lat', 'end_lng', 'member_casual'], '202302-citibike-tripdata.csv': ['ride_id', 'rideable_type', 'started_at', 'ended_at', 'start_station_name', 'start_station_id', 'end_station_name', 'end_station_id', 'start_lat', 'start_lng', 'end_lat', 'end_lng', 'member_casual'], '202201-citibike-tripdata.csv': ['ride_id', 'rideable_type', 'started_at', 'ended_at', 'start_station_name', 'start_station_id', 'end_station_name', 'end_station_id', 'start_lat', 'start_lng', 'end_lat', 'end_lng', 'member_casual'], '202107-citibike-tripdata.csv': ['ride_id', 'rideable_type', 'started_at', 'ended_at', 'start_station_name', 'start_station_id', 'end_station_name', 'end_station_id', 'start_lat', 'start_lng', 'end_lat', 'end_lng', 'member_casual'], '202111-citibike-tripdata.csv': ['ride_id', 'rideable_type', 'started_at', 'ended_at', 'start_station_name', 'start_station_id', 'end_station_name', 'end_station_id', 'start_lat', 'start_lng', 'end_lat', 'end_lng', 'member_casual'], '202304-citibike-tripdata.csv': ['ride_id', 'rideable_type', 'started_at', 'ended_at', 'start_station_name', 'start_station_id', 'end_station_name', 'end_station_id', 'start_lat', 'start_lng', 'end_lat', 'end_lng', 'member_casual'], '202211-citibike-tripdata.csv': ['ride_id', 'rideable_type', 'started_at', 'ended_at', 'start_station_name', 'start_station_id', 'end_station_name', 'end_station_id', 'start_lat', 'start_lng', 'end_lat', 'end_lng', 'member_casual'], '202109-citibike-tripdata.csv': ['ride_id', 'rideable_type', 'started_at', 'ended_at', 'start_station_name', 'start_station_id', 'end_station_name', 'end_station_id', 'start_lat', 'start_lng', 'end_lat', 'end_lng', 'member_casual'], '202205-citibike-tripdata.csv': ['ride_id', 'rideable_type', 'started_at', 'ended_at', 'start_station_name', 'start_station_id', 'end_station_name', 'end_station_id', 'start_lat', 'start_lng', 'end_lat', 'end_lng', 'member_casual'], '202103-citibike-tripdata.csv': ['ride_id', 'rideable_type', 'started_at', 'ended_at', 'start_station_name', 'start_station_id', 'end_station_name', 'end_station_id', 'start_lat', 'start_lng', 'end_lat', 'end_lng', 'member_casual'], '202206-citbike-tripdata.csv': ['ride_id', 'rideable_type', 'started_at', 'ended_at', 'start_station_name', 'start_station_id', 'end_station_name', 'end_station_id', 'start_lat', 'start_lng', 'end_lat', 'end_lng', 'member_casual'], '202112-citibike-tripdata.csv': ['ride_id', 'rideable_type', 'started_at', 'ended_at', 'start_station_name', 'start_station_id', 'end_station_name', 'end_station_id', 'start_lat', 'start_lng', 'end_lat', 'end_lng', 'member_casual'], '202104-citibike-tripdata.csv': ['ride_id', 'rideable_type', 'started_at', 'ended_at', 'start_station_name', 'start_station_id', 'end_station_name', 'end_station_id', 'start_lat', 'start_lng', 'end_lat', 'end_lng', 'member_casual'], '202202-citibike-tripdata.csv': ['ride_id', 'rideable_type', 'started_at', 'ended_at', 'start_station_name', 'start_station_id', 'end_station_name', 'end_station_id', 'start_lat', 'start_lng', 'end_lat', 'end_lng', 'member_casual'], '202303-citibike-tripdata.csv': ['ride_id', 'rideable_type', 'started_at', 'ended_at', 'start_station_name', 'start_station_id', 'end_station_name', 'end_station_id', 'start_lat', 'start_lng', 'end_lat', 'end_lng', 'member_casual'], '202110-citibike-tripdata.csv': ['ride_id', 'rideable_type', 'started_at', 'ended_at', 'start_station_name', 'start_station_id', 'end_station_name', 'end_station_id', 'start_lat', 'start_lng', 'end_lat', 'end_lng', 'member_casual'], '202106-citibike-tripdata.csv': ['ride_id', 'rideable_type', 'started_at', 'ended_at', 'start_station_name', 'start_station_id', 'end_station_name', 'end_station_id', 'start_lat', 'start_lng', 'end_lat', 'end_lng', 'member_casual'], '202108-citibike-tripdata.csv': ['ride_id', 'rideable_type', 'started_at', 'ended_at', 'start_station_name', 'start_station_id', 'end_station_name', 'end_station_id', 'start_lat', 'start_lng', 'end_lat', 'end_lng', 'member_casual'], '202305-citibike-tripdata.csv': ['ride_id', 'rideable_type', 'started_at', 'ended_at', 'start_station_name', 'start_station_id', 'end_station_name', 'end_station_id', 'start_lat', 'start_lng', 'end_lat', 'end_lng', 'member_casual'], '202204-citibike-tripdata.csv': ['ride_id', 'rideable_type', 'started_at', 'ended_at', 'start_station_name', 'start_station_id', 'end_station_name', 'end_station_id', 'start_lat', 'start_lng', 'end_lat', 'end_lng', 'member_casual'], '202102-citibike-tripdata.csv': ['ride_id', 'rideable_type', 'started_at', 'ended_at', 'start_station_name', 'start_station_id', 'end_station_name', 'end_station_id', 'start_lat', 'start_lng', 'end_lat', 'end_lng', 'member_casual']}\n"
     ]
    }
   ],
   "source": [
    "group1_dict={}\n",
    "dict_maker(file_path=file_path,dictionary=group1_dict)"
   ]
  },
  {
   "cell_type": "code",
   "execution_count": 208,
   "id": "76daee42-4942-4d27-bc69-ef2e0f81d683",
   "metadata": {},
   "outputs": [
    {
     "name": "stdout",
     "output_type": "stream",
     "text": [
      ".DS_Store\n",
      "202102-citibike-tripdata.csv\n",
      "202103-citibike-tripdata.csv\n",
      "202104-citibike-tripdata.csv\n",
      "202105-citibike-tripdata.csv\n",
      "202106-citibike-tripdata.csv\n",
      "202107-citibike-tripdata.csv\n",
      "202108-citibike-tripdata.csv\n",
      "202109-citibike-tripdata.csv\n",
      "202110-citibike-tripdata.csv\n",
      "202111-citibike-tripdata.csv\n",
      "202112-citibike-tripdata.csv\n",
      "202201-citibike-tripdata.csv\n",
      "202202-citibike-tripdata.csv\n",
      "202203-citibike-tripdata.csv\n",
      "202204-citibike-tripdata.csv\n",
      "202205-citibike-tripdata.csv\n",
      "202206-citbike-tripdata.csv\n",
      "202207-citbike-tripdata.csv\n",
      "202209-citibike-tripdata.csv\n",
      "202211-citibike-tripdata.csv\n",
      "202302-citibike-tripdata.csv\n",
      "202303-citibike-tripdata.csv\n",
      "202304-citibike-tripdata.csv\n",
      "202305-citibike-tripdata.csv\n"
     ]
    }
   ],
   "source": [
    "for key in sorted(group1_dict.keys()):\n",
    "    print(key)"
   ]
  },
  {
   "cell_type": "markdown",
   "id": "60dcd013-7878-4f68-b069-ec01644b8e10",
   "metadata": {},
   "source": [
    "#### group2"
   ]
  },
  {
   "cell_type": "code",
   "execution_count": 209,
   "id": "9a2422eb-a9a2-45b1-885c-b0ab767771d3",
   "metadata": {},
   "outputs": [
    {
     "name": "stdout",
     "output_type": "stream",
     "text": [
      "filename:  201709-citibike-tripdata.csv\n",
      "file path: /Users/sra/files/projects/citibike_project/combined/csv_group2/201709-citibike-tripdata.csv\n",
      "headers:   ['tripduration', 'starttime', 'stoptime', 'start station id', 'start station name', 'start station latitude', 'start station longitude', 'end station id', 'end station name', 'end station latitude', 'end station longitude', 'bikeid', 'usertype', 'birth year', 'gender']\n",
      "\n",
      "\n",
      "filename:  201809-citibike-tripdata.csv\n",
      "file path: /Users/sra/files/projects/citibike_project/combined/csv_group2/201809-citibike-tripdata.csv\n",
      "headers:   ['tripduration', 'starttime', 'stoptime', 'start station id', 'start station name', 'start station latitude', 'start station longitude', 'end station id', 'end station name', 'end station latitude', 'end station longitude', 'bikeid', 'usertype', 'birth year', 'gender']\n",
      "\n",
      "\n",
      "filename:  2013-09 - Citi Bike trip data.csv\n",
      "file path: /Users/sra/files/projects/citibike_project/combined/csv_group2/2013-09 - Citi Bike trip data.csv\n",
      "headers:   ['tripduration', 'starttime', 'stoptime', 'start station id', 'start station name', 'start station latitude', 'start station longitude', 'end station id', 'end station name', 'end station latitude', 'end station longitude', 'bikeid', 'usertype', 'birth year', 'gender']\n",
      "\n",
      "\n",
      "filename:  202006-citibike-tripdata.csv\n",
      "file path: /Users/sra/files/projects/citibike_project/combined/csv_group2/202006-citibike-tripdata.csv\n",
      "headers:   ['tripduration', 'starttime', 'stoptime', 'start station id', 'start station name', 'start station latitude', 'start station longitude', 'end station id', 'end station name', 'end station latitude', 'end station longitude', 'bikeid', 'usertype', 'birth year', 'gender']\n",
      "\n",
      "\n",
      "filename:  201701-citibike-tripdata.csv\n",
      "file path: /Users/sra/files/projects/citibike_project/combined/csv_group2/201701-citibike-tripdata.csv\n",
      "headers:   ['Trip Duration', 'Start Time', 'Stop Time', 'Start Station ID', 'Start Station Name', 'Start Station Latitude', 'Start Station Longitude', 'End Station ID', 'End Station Name', 'End Station Latitude', 'End Station Longitude', 'Bike ID', 'User Type', 'Birth Year', 'Gender']\n",
      "\n",
      "\n",
      "csv counter: 92\n",
      "not csv counter: 0\n",
      "\n",
      "\n",
      "{'201709-citibike-tripdata.csv': ['tripduration', 'starttime', 'stoptime', 'start station id', 'start station name', 'start station latitude', 'start station longitude', 'end station id', 'end station name', 'end station latitude', 'end station longitude', 'bikeid', 'usertype', 'birth year', 'gender'], '201809-citibike-tripdata.csv': ['tripduration', 'starttime', 'stoptime', 'start station id', 'start station name', 'start station latitude', 'start station longitude', 'end station id', 'end station name', 'end station latitude', 'end station longitude', 'bikeid', 'usertype', 'birth year', 'gender'], '2013-09 - Citi Bike trip data.csv': ['tripduration', 'starttime', 'stoptime', 'start station id', 'start station name', 'start station latitude', 'start station longitude', 'end station id', 'end station name', 'end station latitude', 'end station longitude', 'bikeid', 'usertype', 'birth year', 'gender'], '202006-citibike-tripdata.csv': ['tripduration', 'starttime', 'stoptime', 'start station id', 'start station name', 'start station latitude', 'start station longitude', 'end station id', 'end station name', 'end station latitude', 'end station longitude', 'bikeid', 'usertype', 'birth year', 'gender'], '201701-citibike-tripdata.csv': ['Trip Duration', 'Start Time', 'Stop Time', 'Start Station ID', 'Start Station Name', 'Start Station Latitude', 'Start Station Longitude', 'End Station ID', 'End Station Name', 'End Station Latitude', 'End Station Longitude', 'Bike ID', 'User Type', 'Birth Year', 'Gender'], '202010-citibike-tripdata.csv': ['tripduration', 'starttime', 'stoptime', 'start station id', 'start station name', 'start station latitude', 'start station longitude', 'end station id', 'end station name', 'end station latitude', 'end station longitude', 'bikeid', 'usertype', 'birth year', 'gender'], '201602-citibike-tripdata.csv': ['tripduration', 'starttime', 'stoptime', 'start station id', 'start station name', 'start station latitude', 'start station longitude', 'end station id', 'end station name', 'end station latitude', 'end station longitude', 'bikeid', 'usertype', 'birth year', 'gender'], '201902-citibike-tripdata.csv': ['tripduration', 'starttime', 'stoptime', 'start station id', 'start station name', 'start station latitude', 'start station longitude', 'end station id', 'end station name', 'end station latitude', 'end station longitude', 'bikeid', 'usertype', 'birth year', 'gender'], '201512-citibike-tripdata.csv': ['tripduration', 'starttime', 'stoptime', 'start station id', 'start station name', 'start station latitude', 'start station longitude', 'end station id', 'end station name', 'end station latitude', 'end station longitude', 'bikeid', 'usertype', 'birth year', 'gender'], '201411-citibike-tripdata.csv': ['tripduration', 'starttime', 'stoptime', 'start station id', 'start station name', 'start station latitude', 'start station longitude', 'end station id', 'end station name', 'end station latitude', 'end station longitude', 'bikeid', 'usertype', 'birth year', 'gender'], '201801-citibike-tripdata.csv': ['tripduration', 'starttime', 'stoptime', 'start station id', 'start station name', 'start station latitude', 'start station longitude', 'end station id', 'end station name', 'end station latitude', 'end station longitude', 'bikeid', 'usertype', 'birth year', 'gender'], '2014-05 - Citi Bike trip data.csv': ['tripduration', 'starttime', 'stoptime', 'start station id', 'start station name', 'start station latitude', 'start station longitude', 'end station id', 'end station name', 'end station latitude', 'end station longitude', 'bikeid', 'usertype', 'birth year', 'gender'], '201504-citibike-tripdata.csv': ['tripduration', 'starttime', 'stoptime', 'start station id', 'start station name', 'start station latitude', 'start station longitude', 'end station id', 'end station name', 'end station latitude', 'end station longitude', 'bikeid', 'usertype', 'birth year', 'gender'], '2014-02 - Citi Bike trip data.csv': ['tripduration', 'starttime', 'stoptime', 'start station id', 'start station name', 'start station latitude', 'start station longitude', 'end station id', 'end station name', 'end station latitude', 'end station longitude', 'bikeid', 'usertype', 'birth year', 'gender'], '201908-citibike-tripdata.csv': ['tripduration', 'starttime', 'stoptime', 'start station id', 'start station name', 'start station latitude', 'start station longitude', 'end station id', 'end station name', 'end station latitude', 'end station longitude', 'bikeid', 'usertype', 'birth year', 'gender'], '201608-citibike-tripdata.csv': ['tripduration', 'starttime', 'stoptime', 'start station id', 'start station name', 'start station latitude', 'start station longitude', 'end station id', 'end station name', 'end station latitude', 'end station longitude', 'bikeid', 'usertype', 'birth year', 'gender'], '201510-citibike-tripdata.csv': ['tripduration', 'starttime', 'stoptime', 'start station id', 'start station name', 'start station latitude', 'start station longitude', 'end station id', 'end station name', 'end station latitude', 'end station longitude', 'bikeid', 'usertype', 'birth year', 'gender'], '201803-citibike-tripdata.csv': ['tripduration', 'starttime', 'stoptime', 'start station id', 'start station name', 'start station latitude', 'start station longitude', 'end station id', 'end station name', 'end station latitude', 'end station longitude', 'bikeid', 'usertype', 'birth year', 'gender'], '201506-citibike-tripdata.csv': ['tripduration', 'starttime', 'stoptime', 'start station id', 'start station name', 'start station latitude', 'start station longitude', 'end station id', 'end station name', 'end station latitude', 'end station longitude', 'bikeid', 'usertype', 'birth year', 'gender'], '202004-citibike-tripdata.csv': ['tripduration', 'starttime', 'stoptime', 'start station id', 'start station name', 'start station latitude', 'start station longitude', 'end station id', 'end station name', 'end station latitude', 'end station longitude', 'bikeid', 'usertype', 'birth year', 'gender'], '201703-citibike-tripdata.csv': ['Trip Duration', 'Start Time', 'Stop Time', 'Start Station ID', 'Start Station Name', 'Start Station Latitude', 'Start Station Longitude', 'End Station ID', 'End Station Name', 'End Station Latitude', 'End Station Longitude', 'Bike ID', 'User Type', 'Birth Year', 'Gender'], '202012-citibike-tripdata.csv': ['tripduration', 'starttime', 'stoptime', 'start station id', 'start station name', 'start station latitude', 'start station longitude', 'end station id', 'end station name', 'end station latitude', 'end station longitude', 'bikeid', 'usertype', 'birth year', 'gender'], '202101-citibike-tripdata.csv': ['tripduration', 'starttime', 'stoptime', 'start station id', 'start station name', 'start station latitude', 'start station longitude', 'end station id', 'end station name', 'end station latitude', 'end station longitude', 'bikeid', 'usertype', 'birth year', 'gender'], '202002-citibike-tripdata.csv': ['tripduration', 'starttime', 'stoptime', 'start station id', 'start station name', 'start station latitude', 'start station longitude', 'end station id', 'end station name', 'end station latitude', 'end station longitude', 'bikeid', 'usertype', 'birth year', 'gender'], '201610-citibike-tripdata.csv': ['Trip Duration', 'Start Time', 'Stop Time', 'Start Station ID', 'Start Station Name', 'Start Station Latitude', 'Start Station Longitude', 'End Station ID', 'End Station Name', 'End Station Latitude', 'End Station Longitude', 'Bike ID', 'User Type', 'Birth Year', 'Gender'], '201606-citibike-tripdata.csv': ['tripduration', 'starttime', 'stoptime', 'start station id', 'start station name', 'start station latitude', 'start station longitude', 'end station id', 'end station name', 'end station latitude', 'end station longitude', 'bikeid', 'usertype', 'birth year', 'gender'], '201705-citibike-tripdata.csv': ['tripduration', 'starttime', 'stoptime', 'start station id', 'start station name', 'start station latitude', 'start station longitude', 'end station id', 'end station name', 'end station latitude', 'end station longitude', 'bikeid', 'usertype', 'birth year', 'gender'], '201805-citibike-tripdata.csv': ['tripduration', 'starttime', 'stoptime', 'start station id', 'start station name', 'start station latitude', 'start station longitude', 'end station id', 'end station name', 'end station latitude', 'end station longitude', 'bikeid', 'usertype', 'birth year', 'gender'], '201906-citibike-tripdata.csv': ['tripduration', 'starttime', 'stoptime', 'start station id', 'start station name', 'start station latitude', 'start station longitude', 'end station id', 'end station name', 'end station latitude', 'end station longitude', 'bikeid', 'usertype', 'birth year', 'gender'], '201910-citibike-tripdata.csv': ['tripduration', 'starttime', 'stoptime', 'start station id', 'start station name', 'start station latitude', 'start station longitude', 'end station id', 'end station name', 'end station latitude', 'end station longitude', 'bikeid', 'usertype', 'birth year', 'gender'], '201508-citibike-tripdata.csv': ['tripduration', 'starttime', 'stoptime', 'start station id', 'start station name', 'start station latitude', 'start station longitude', 'end station id', 'end station name', 'end station latitude', 'end station longitude', 'bikeid', 'usertype', 'birth year', 'gender'], '2014-07 - Citi Bike trip data.csv': ['tripduration', 'starttime', 'stoptime', 'start station id', 'start station name', 'start station latitude', 'start station longitude', 'end station id', 'end station name', 'end station latitude', 'end station longitude', 'bikeid', 'usertype', 'birth year', 'gender'], '201807-citibike-tripdata.csv': ['tripduration', 'starttime', 'stoptime', 'start station id', 'start station name', 'start station latitude', 'start station longitude', 'end station id', 'end station name', 'end station latitude', 'end station longitude', 'bikeid', 'usertype', 'birth year', 'gender'], '201904-citibike-tripdata.csv': ['tripduration', 'starttime', 'stoptime', 'start station id', 'start station name', 'start station latitude', 'start station longitude', 'end station id', 'end station name', 'end station latitude', 'end station longitude', 'bikeid', 'usertype', 'birth year', 'gender'], '201502-citibike-tripdata.csv': ['tripduration', 'starttime', 'stoptime', 'start station id', 'start station name', 'start station latitude', 'start station longitude', 'end station id', 'end station name', 'end station latitude', 'end station longitude', 'bikeid', 'usertype', 'birth year', 'gender'], '201912-citibike-tripdata.csv': ['tripduration', 'starttime', 'stoptime', 'start station id', 'start station name', 'start station latitude', 'start station longitude', 'end station id', 'end station name', 'end station latitude', 'end station longitude', 'bikeid', 'usertype', 'birth year', 'gender'], '201811-citibike-tripdata.csv': ['tripduration', 'starttime', 'stoptime', 'start station id', 'start station name', 'start station latitude', 'start station longitude', 'end station id', 'end station name', 'end station latitude', 'end station longitude', 'bikeid', 'usertype', 'birth year', 'gender'], '2014-08 - Citi Bike trip data.csv': ['tripduration', 'starttime', 'stoptime', 'start station id', 'start station name', 'start station latitude', 'start station longitude', 'end station id', 'end station name', 'end station latitude', 'end station longitude', 'bikeid', 'usertype', 'birth year', 'gender'], '201711-citibike-tripdata.csv': ['tripduration', 'starttime', 'stoptime', 'start station id', 'start station name', 'start station latitude', 'start station longitude', 'end station id', 'end station name', 'end station latitude', 'end station longitude', 'bikeid', 'usertype', 'birth year', 'gender'], '201612-citibike-tripdata.csv': ['Trip Duration', 'Start Time', 'Stop Time', 'Start Station ID', 'Start Station Name', 'Start Station Latitude', 'Start Station Longitude', 'End Station ID', 'End Station Name', 'End Station Latitude', 'End Station Longitude', 'Bike ID', 'User Type', 'Birth Year', 'Gender'], '201604-citibike-tripdata.csv': ['tripduration', 'starttime', 'stoptime', 'start station id', 'start station name', 'start station latitude', 'start station longitude', 'end station id', 'end station name', 'end station latitude', 'end station longitude', 'bikeid', 'usertype', 'birth year', 'gender'], '201707-citibike-tripdata.csv': ['tripduration', 'starttime', 'stoptime', 'start station id', 'start station name', 'start station latitude', 'start station longitude', 'end station id', 'end station name', 'end station latitude', 'end station longitude', 'bikeid', 'usertype', 'birth year', 'gender'], '201409-citibike-tripdata.csv': ['tripduration', 'starttime', 'stoptime', 'start station id', 'start station name', 'start station latitude', 'start station longitude', 'end station id', 'end station name', 'end station latitude', 'end station longitude', 'bikeid', 'usertype', 'birth year', 'gender'], '202008-citibike-tripdata.csv': ['tripduration', 'starttime', 'stoptime', 'start station id', 'start station name', 'start station latitude', 'start station longitude', 'end station id', 'end station name', 'end station latitude', 'end station longitude', 'bikeid', 'usertype', 'birth year', 'gender'], '2013-11 - Citi Bike trip data.csv': ['tripduration', 'starttime', 'stoptime', 'start station id', 'start station name', 'start station latitude', 'start station longitude', 'end station id', 'end station name', 'end station latitude', 'end station longitude', 'bikeid', 'usertype', 'birth year', 'gender'], '201603-citibike-tripdata.csv': ['tripduration', 'starttime', 'stoptime', 'start station id', 'start station name', 'start station latitude', 'start station longitude', 'end station id', 'end station name', 'end station latitude', 'end station longitude', 'bikeid', 'usertype', 'birth year', 'gender'], '202011-citibike-tripdata.csv': ['tripduration', 'starttime', 'stoptime', 'start station id', 'start station name', 'start station latitude', 'start station longitude', 'end station id', 'end station name', 'end station latitude', 'end station longitude', 'bikeid', 'usertype', 'birth year', 'gender'], '202007-citibike-tripdata.csv': ['tripduration', 'starttime', 'stoptime', 'start station id', 'start station name', 'start station latitude', 'start station longitude', 'end station id', 'end station name', 'end station latitude', 'end station longitude', 'bikeid', 'usertype', 'birth year', 'gender'], '2013-10 - Citi Bike trip data.csv': ['tripduration', 'starttime', 'stoptime', 'start station id', 'start station name', 'start station latitude', 'start station longitude', 'end station id', 'end station name', 'end station latitude', 'end station longitude', 'bikeid', 'usertype', 'birth year', 'gender'], '201505-citibike-tripdata.csv': ['tripduration', 'starttime', 'stoptime', 'start station id', 'start station name', 'start station latitude', 'start station longitude', 'end station id', 'end station name', 'end station latitude', 'end station longitude', 'bikeid', 'usertype', 'birth year', 'gender'], '201903-citibike-tripdata.csv': ['tripduration', 'starttime', 'stoptime', 'start station id', 'start station name', 'start station latitude', 'start station longitude', 'end station id', 'end station name', 'end station latitude', 'end station longitude', 'bikeid', 'usertype', 'birth year', 'gender'], '201410-citibike-tripdata.csv': ['tripduration', 'starttime', 'stoptime', 'start station id', 'start station name', 'start station latitude', 'start station longitude', 'end station id', 'end station name', 'end station latitude', 'end station longitude', 'bikeid', 'usertype', 'birth year', 'gender'], '201708-citibike-tripdata.csv': ['tripduration', 'starttime', 'stoptime', 'start station id', 'start station name', 'start station latitude', 'start station longitude', 'end station id', 'end station name', 'end station latitude', 'end station longitude', 'bikeid', 'usertype', 'birth year', 'gender'], '201808-citibike-tripdata.csv': ['tripduration', 'starttime', 'stoptime', 'start station id', 'start station name', 'start station latitude', 'start station longitude', 'end station id', 'end station name', 'end station latitude', 'end station longitude', 'bikeid', 'usertype', 'birth year', 'gender'], '2014-01 - Citi Bike trip data.csv': ['tripduration', 'starttime', 'stoptime', 'start station id', 'start station name', 'start station latitude', 'start station longitude', 'end station id', 'end station name', 'end station latitude', 'end station longitude', 'bikeid', 'usertype', 'birth year', 'gender'], '201507-citibike-tripdata.csv': ['tripduration', 'starttime', 'stoptime', 'start station id', 'start station name', 'start station latitude', 'start station longitude', 'end station id', 'end station name', 'end station latitude', 'end station longitude', 'bikeid', 'usertype', 'birth year', 'gender'], '201511-citibike-tripdata.csv': ['tripduration', 'starttime', 'stoptime', 'start station id', 'start station name', 'start station latitude', 'start station longitude', 'end station id', 'end station name', 'end station latitude', 'end station longitude', 'bikeid', 'usertype', 'birth year', 'gender'], '2014-06 - Citi Bike trip data.csv': ['tripduration', 'starttime', 'stoptime', 'start station id', 'start station name', 'start station latitude', 'start station longitude', 'end station id', 'end station name', 'end station latitude', 'end station longitude', 'bikeid', 'usertype', 'birth year', 'gender'], '201901-citibike-tripdata.csv': ['tripduration', 'starttime', 'stoptime', 'start station id', 'start station name', 'start station latitude', 'start station longitude', 'end station id', 'end station name', 'end station latitude', 'end station longitude', 'bikeid', 'usertype', 'birth year', 'gender'], '201802-citibike-tripdata.csv': ['tripduration', 'starttime', 'stoptime', 'start station id', 'start station name', 'start station latitude', 'start station longitude', 'end station id', 'end station name', 'end station latitude', 'end station longitude', 'bikeid', 'usertype', 'birth year', 'gender'], '201412-citibike-tripdata.csv': ['tripduration', 'starttime', 'stoptime', 'start station id', 'start station name', 'start station latitude', 'start station longitude', 'end station id', 'end station name', 'end station latitude', 'end station longitude', 'bikeid', 'usertype', 'birth year', 'gender'], '201702-citibike-tripdata.csv': ['Trip Duration', 'Start Time', 'Stop Time', 'Start Station ID', 'Start Station Name', 'Start Station Latitude', 'Start Station Longitude', 'End Station ID', 'End Station Name', 'End Station Latitude', 'End Station Longitude', 'Bike ID', 'User Type', 'Birth Year', 'Gender'], '201601-citibike-tripdata.csv': ['tripduration', 'starttime', 'stoptime', 'start station id', 'start station name', 'start station latitude', 'start station longitude', 'end station id', 'end station name', 'end station latitude', 'end station longitude', 'bikeid', 'usertype', 'birth year', 'gender'], '202005-citibike-tripdata.csv': ['tripduration', 'starttime', 'stoptime', 'start station id', 'start station name', 'start station latitude', 'start station longitude', 'end station id', 'end station name', 'end station latitude', 'end station longitude', 'bikeid', 'usertype', 'birth year', 'gender'], '201909-citibike-tripdata.csv': ['tripduration', 'starttime', 'stoptime', 'start station id', 'start station name', 'start station latitude', 'start station longitude', 'end station id', 'end station name', 'end station latitude', 'end station longitude', 'bikeid', 'usertype', 'birth year', 'gender'], '201609-citibike-tripdata.csv': ['tripduration', 'starttime', 'stoptime', 'start station id', 'start station name', 'start station latitude', 'start station longitude', 'end station id', 'end station name', 'end station latitude', 'end station longitude', 'bikeid', 'usertype', 'birth year', 'gender'], '2013-12 - Citi Bike trip data.csv': ['tripduration', 'starttime', 'stoptime', 'start station id', 'start station name', 'start station latitude', 'start station longitude', 'end station id', 'end station name', 'end station latitude', 'end station longitude', 'bikeid', 'usertype', 'birth year', 'gender'], '201509-citibike-tripdata.csv': ['tripduration', 'starttime', 'stoptime', 'start station id', 'start station name', 'start station latitude', 'start station longitude', 'end station id', 'end station name', 'end station latitude', 'end station longitude', 'bikeid', 'usertype', 'birth year', 'gender'], '201607-citibike-tripdata.csv': ['tripduration', 'starttime', 'stoptime', 'start station id', 'start station name', 'start station latitude', 'start station longitude', 'end station id', 'end station name', 'end station latitude', 'end station longitude', 'bikeid', 'usertype', 'birth year', 'gender'], '201306-citibike-tripdata.csv': ['tripduration', 'starttime', 'stoptime', 'start station id', 'start station name', 'start station latitude', 'start station longitude', 'end station id', 'end station name', 'end station latitude', 'end station longitude', 'bikeid', 'usertype', 'birth year', 'gender'], '201704-citibike-tripdata.csv': ['tripduration', 'starttime', 'stoptime', 'start station id', 'start station name', 'start station latitude', 'start station longitude', 'end station id', 'end station name', 'end station latitude', 'end station longitude', 'bikeid', 'usertype', 'birth year', 'gender'], '201712-citibike-tripdata.csv': ['tripduration', 'starttime', 'stoptime', 'start station id', 'start station name', 'start station latitude', 'start station longitude', 'end station id', 'end station name', 'end station latitude', 'end station longitude', 'bikeid', 'usertype', 'birth year', 'gender'], '201611-citibike-tripdata.csv': ['Trip Duration', 'Start Time', 'Stop Time', 'Start Station ID', 'Start Station Name', 'Start Station Latitude', 'Start Station Longitude', 'End Station ID', 'End Station Name', 'End Station Latitude', 'End Station Longitude', 'Bike ID', 'User Type', 'Birth Year', 'Gender'], '202003-citibike-tripdata.csv': ['tripduration', 'starttime', 'stoptime', 'start station id', 'start station name', 'start station latitude', 'start station longitude', 'end station id', 'end station name', 'end station latitude', 'end station longitude', 'bikeid', 'usertype', 'birth year', 'gender'], '201911-citibike-tripdata.csv': ['tripduration', 'starttime', 'stoptime', 'start station id', 'start station name', 'start station latitude', 'start station longitude', 'end station id', 'end station name', 'end station latitude', 'end station longitude', 'bikeid', 'usertype', 'birth year', 'gender'], '2014-03 - Citi Bike trip data.csv': ['tripduration', 'starttime', 'stoptime', 'start station id', 'start station name', 'start station latitude', 'start station longitude', 'end station id', 'end station name', 'end station latitude', 'end station longitude', 'bikeid', 'usertype', 'birth year', 'gender'], '201501-citibike-tripdata.csv': ['tripduration', 'starttime', 'stoptime', 'start station id', 'start station name', 'start station latitude', 'start station longitude', 'end station id', 'end station name', 'end station latitude', 'end station longitude', 'bikeid', 'usertype', 'birth year', 'gender'], '201812-citibike-tripdata.csv': ['tripduration', 'starttime', 'stoptime', 'start station id', 'start station name', 'start station latitude', 'start station longitude', 'end station id', 'end station name', 'end station latitude', 'end station longitude', 'bikeid', 'usertype', 'birth year', 'gender'], '2013-07 - Citi Bike trip data.csv': ['tripduration', 'starttime', 'stoptime', 'start station id', 'start station name', 'start station latitude', 'start station longitude', 'end station id', 'end station name', 'end station latitude', 'end station longitude', 'bikeid', 'usertype', 'birth year', 'gender'], '201804-citibike-tripdata.csv': ['tripduration', 'starttime', 'stoptime', 'start station id', 'start station name', 'start station latitude', 'start station longitude', 'end station id', 'end station name', 'end station latitude', 'end station longitude', 'bikeid', 'usertype', 'birth year', 'gender'], '201907-citibike-tripdata.csv': ['tripduration', 'starttime', 'stoptime', 'start station id', 'start station name', 'start station latitude', 'start station longitude', 'end station id', 'end station name', 'end station latitude', 'end station longitude', 'bikeid', 'usertype', 'birth year', 'gender'], '2014-04 - Citi Bike trip data.csv': ['tripduration', 'starttime', 'stoptime', 'start station id', 'start station name', 'start station latitude', 'start station longitude', 'end station id', 'end station name', 'end station latitude', 'end station longitude', 'bikeid', 'usertype', 'birth year', 'gender'], '202009-citibike-tripdata.csv': ['tripduration', 'starttime', 'stoptime', 'start station id', 'start station name', 'start station latitude', 'start station longitude', 'end station id', 'end station name', 'end station latitude', 'end station longitude', 'bikeid', 'usertype', 'birth year', 'gender'], '2013-08 - Citi Bike trip data.csv': ['tripduration', 'starttime', 'stoptime', 'start station id', 'start station name', 'start station latitude', 'start station longitude', 'end station id', 'end station name', 'end station latitude', 'end station longitude', 'bikeid', 'usertype', 'birth year', 'gender'], '201503-citibike-tripdata.csv': ['tripduration', 'starttime', 'stoptime', 'start station id', 'start station name', 'start station latitude', 'start station longitude', 'end station id', 'end station name', 'end station latitude', 'end station longitude', 'bikeid', 'usertype', 'birth year', 'gender'], '201810-citibike-tripdata.csv': ['tripduration', 'starttime', 'stoptime', 'start station id', 'start station name', 'start station latitude', 'start station longitude', 'end station id', 'end station name', 'end station latitude', 'end station longitude', 'bikeid', 'usertype', 'birth year', 'gender'], '201806-citibike-tripdata.csv': ['tripduration', 'starttime', 'stoptime', 'start station id', 'start station name', 'start station latitude', 'start station longitude', 'end station id', 'end station name', 'end station latitude', 'end station longitude', 'bikeid', 'usertype', 'birth year', 'gender'], '201905-citibike-tripdata.csv': ['tripduration', 'starttime', 'stoptime', 'start station id', 'start station name', 'start station latitude', 'start station longitude', 'end station id', 'end station name', 'end station latitude', 'end station longitude', 'bikeid', 'usertype', 'birth year', 'gender'], '201605-citibike-tripdata.csv': ['tripduration', 'starttime', 'stoptime', 'start station id', 'start station name', 'start station latitude', 'start station longitude', 'end station id', 'end station name', 'end station latitude', 'end station longitude', 'bikeid', 'usertype', 'birth year', 'gender'], '201706-citibike-tripdata.csv': ['tripduration', 'starttime', 'stoptime', 'start station id', 'start station name', 'start station latitude', 'start station longitude', 'end station id', 'end station name', 'end station latitude', 'end station longitude', 'bikeid', 'usertype', 'birth year', 'gender'], '201710-citibike-tripdata.csv': ['tripduration', 'starttime', 'stoptime', 'start station id', 'start station name', 'start station latitude', 'start station longitude', 'end station id', 'end station name', 'end station latitude', 'end station longitude', 'bikeid', 'usertype', 'birth year', 'gender'], '202001-citibike-tripdata.csv': ['tripduration', 'starttime', 'stoptime', 'start station id', 'start station name', 'start station latitude', 'start station longitude', 'end station id', 'end station name', 'end station latitude', 'end station longitude', 'bikeid', 'usertype', 'birth year', 'gender']}\n"
     ]
    }
   ],
   "source": [
    "file_path='/Users/sra/files/projects/citibike_project/combined/csv_group2'\n",
    "group2_dict={}\n",
    "\n",
    "dict_maker(file_path=file_path,dictionary=group2_dict)"
   ]
  },
  {
   "cell_type": "code",
   "execution_count": 210,
   "id": "a2365a66-d0f5-4294-b859-d79fe7bdde5a",
   "metadata": {},
   "outputs": [
    {
     "name": "stdout",
     "output_type": "stream",
     "text": [
      "2013-07 - Citi Bike trip data.csv\n",
      "2013-08 - Citi Bike trip data.csv\n",
      "2013-09 - Citi Bike trip data.csv\n",
      "2013-10 - Citi Bike trip data.csv\n",
      "2013-11 - Citi Bike trip data.csv\n",
      "2013-12 - Citi Bike trip data.csv\n",
      "201306-citibike-tripdata.csv\n",
      "2014-01 - Citi Bike trip data.csv\n",
      "2014-02 - Citi Bike trip data.csv\n",
      "2014-03 - Citi Bike trip data.csv\n",
      "2014-04 - Citi Bike trip data.csv\n",
      "2014-05 - Citi Bike trip data.csv\n",
      "2014-06 - Citi Bike trip data.csv\n",
      "2014-07 - Citi Bike trip data.csv\n",
      "2014-08 - Citi Bike trip data.csv\n",
      "201409-citibike-tripdata.csv\n",
      "201410-citibike-tripdata.csv\n",
      "201411-citibike-tripdata.csv\n",
      "201412-citibike-tripdata.csv\n",
      "201501-citibike-tripdata.csv\n",
      "201502-citibike-tripdata.csv\n",
      "201503-citibike-tripdata.csv\n",
      "201504-citibike-tripdata.csv\n",
      "201505-citibike-tripdata.csv\n",
      "201506-citibike-tripdata.csv\n",
      "201507-citibike-tripdata.csv\n",
      "201508-citibike-tripdata.csv\n",
      "201509-citibike-tripdata.csv\n",
      "201510-citibike-tripdata.csv\n",
      "201511-citibike-tripdata.csv\n",
      "201512-citibike-tripdata.csv\n",
      "201601-citibike-tripdata.csv\n",
      "201602-citibike-tripdata.csv\n",
      "201603-citibike-tripdata.csv\n",
      "201604-citibike-tripdata.csv\n",
      "201605-citibike-tripdata.csv\n",
      "201606-citibike-tripdata.csv\n",
      "201607-citibike-tripdata.csv\n",
      "201608-citibike-tripdata.csv\n",
      "201609-citibike-tripdata.csv\n",
      "201610-citibike-tripdata.csv\n",
      "201611-citibike-tripdata.csv\n",
      "201612-citibike-tripdata.csv\n",
      "201701-citibike-tripdata.csv\n",
      "201702-citibike-tripdata.csv\n",
      "201703-citibike-tripdata.csv\n",
      "201704-citibike-tripdata.csv\n",
      "201705-citibike-tripdata.csv\n",
      "201706-citibike-tripdata.csv\n",
      "201707-citibike-tripdata.csv\n",
      "201708-citibike-tripdata.csv\n",
      "201709-citibike-tripdata.csv\n",
      "201710-citibike-tripdata.csv\n",
      "201711-citibike-tripdata.csv\n",
      "201712-citibike-tripdata.csv\n",
      "201801-citibike-tripdata.csv\n",
      "201802-citibike-tripdata.csv\n",
      "201803-citibike-tripdata.csv\n",
      "201804-citibike-tripdata.csv\n",
      "201805-citibike-tripdata.csv\n",
      "201806-citibike-tripdata.csv\n",
      "201807-citibike-tripdata.csv\n",
      "201808-citibike-tripdata.csv\n",
      "201809-citibike-tripdata.csv\n",
      "201810-citibike-tripdata.csv\n",
      "201811-citibike-tripdata.csv\n",
      "201812-citibike-tripdata.csv\n",
      "201901-citibike-tripdata.csv\n",
      "201902-citibike-tripdata.csv\n",
      "201903-citibike-tripdata.csv\n",
      "201904-citibike-tripdata.csv\n",
      "201905-citibike-tripdata.csv\n",
      "201906-citibike-tripdata.csv\n",
      "201907-citibike-tripdata.csv\n",
      "201908-citibike-tripdata.csv\n",
      "201909-citibike-tripdata.csv\n",
      "201910-citibike-tripdata.csv\n",
      "201911-citibike-tripdata.csv\n",
      "201912-citibike-tripdata.csv\n",
      "202001-citibike-tripdata.csv\n",
      "202002-citibike-tripdata.csv\n",
      "202003-citibike-tripdata.csv\n",
      "202004-citibike-tripdata.csv\n",
      "202005-citibike-tripdata.csv\n",
      "202006-citibike-tripdata.csv\n",
      "202007-citibike-tripdata.csv\n",
      "202008-citibike-tripdata.csv\n",
      "202009-citibike-tripdata.csv\n",
      "202010-citibike-tripdata.csv\n",
      "202011-citibike-tripdata.csv\n",
      "202012-citibike-tripdata.csv\n",
      "202101-citibike-tripdata.csv\n"
     ]
    }
   ],
   "source": [
    "for key in sorted(group2_dict.keys()):\n",
    "    print(key)"
   ]
  },
  {
   "cell_type": "markdown",
   "id": "8af80b19-a973-4dad-88dd-501ecc248a9e",
   "metadata": {},
   "source": [
    "Success!"
   ]
  },
  {
   "cell_type": "markdown",
   "id": "2bb64c31-374f-47a3-af73-891b4382801d",
   "metadata": {
    "tags": []
   },
   "source": [
    "#### Comparing dictionary values (i.e., .CSV headers) to see if they're the same.\n",
    "\n",
    "If the header is the same, then the name of the file will be saved as a value under that same header key.\n",
    "This is required as I want to make a dataset that has the same headers. Later I can do transformations if it turns out that the different header names have only capitalization patterns or other minor aesthetic differences."
   ]
  },
  {
   "cell_type": "code",
   "execution_count": 211,
   "id": "102ed2d8-470f-4fbe-9aea-c1135d23598d",
   "metadata": {},
   "outputs": [
    {
     "name": "stdout",
     "output_type": "stream",
     "text": [
      "{(30, 'abc'): ['key0', 'key6'], (10, 'abc'): ['key1', 'key2', 'key4'], (20, 'abc'): ['key3', 'key5'], (20, 'def'): ['key7']}\n"
     ]
    }
   ],
   "source": [
    "def separate_dictionaries_by_value(dictionary):\n",
    "    result = {}\n",
    "    \n",
    "    # Iterate over the key-value pairs in the dictionary\n",
    "    for key, value in dictionary.items():\n",
    "        if isinstance(value, list):\n",
    "            value_tuple = tuple(value)\n",
    "        else:\n",
    "            value_tuple = value\n",
    "        \n",
    "        if value_tuple not in result:\n",
    "            result[value_tuple] = []  # create a new list for the value\n",
    "        \n",
    "        result[value_tuple].append(key)  # add the key to the respective list\n",
    "    \n",
    "    return result\n",
    "\n",
    "# example usage\n",
    "dictionary = {'key0': [30, 'abc'], 'key1': [10, 'abc'], 'key2': [10, 'abc'], 'key3': [20, 'abc'],\n",
    "              'key4': [10, 'abc'], 'key5': [20, 'abc'], 'key6': [30, 'abc'], 'key7': [20, 'def']}\n",
    "result = separate_dictionaries_by_value(dictionary)\n",
    "print(result)"
   ]
  },
  {
   "cell_type": "code",
   "execution_count": 213,
   "id": "bdf59531-e363-43cd-94bf-e70a0805c91b",
   "metadata": {
    "tags": []
   },
   "outputs": [
    {
     "data": {
      "text/plain": [
       "{('ride_id',\n",
       "  'rideable_type',\n",
       "  'started_at',\n",
       "  'ended_at',\n",
       "  'start_station_name',\n",
       "  'start_station_id',\n",
       "  'end_station_name',\n",
       "  'end_station_id',\n",
       "  'start_lat',\n",
       "  'start_lng',\n",
       "  'end_lat',\n",
       "  'end_lng',\n",
       "  'member_casual'): ['202105-citibike-tripdata.csv',\n",
       "  '202203-citibike-tripdata.csv',\n",
       "  '202209-citibike-tripdata.csv',\n",
       "  '.DS_Store',\n",
       "  '202207-citbike-tripdata.csv',\n",
       "  '202302-citibike-tripdata.csv',\n",
       "  '202201-citibike-tripdata.csv',\n",
       "  '202107-citibike-tripdata.csv',\n",
       "  '202111-citibike-tripdata.csv',\n",
       "  '202304-citibike-tripdata.csv',\n",
       "  '202211-citibike-tripdata.csv',\n",
       "  '202109-citibike-tripdata.csv',\n",
       "  '202205-citibike-tripdata.csv',\n",
       "  '202103-citibike-tripdata.csv',\n",
       "  '202206-citbike-tripdata.csv',\n",
       "  '202112-citibike-tripdata.csv',\n",
       "  '202104-citibike-tripdata.csv',\n",
       "  '202202-citibike-tripdata.csv',\n",
       "  '202303-citibike-tripdata.csv',\n",
       "  '202110-citibike-tripdata.csv',\n",
       "  '202106-citibike-tripdata.csv',\n",
       "  '202108-citibike-tripdata.csv',\n",
       "  '202305-citibike-tripdata.csv',\n",
       "  '202204-citibike-tripdata.csv',\n",
       "  '202102-citibike-tripdata.csv']}"
      ]
     },
     "execution_count": 213,
     "metadata": {},
     "output_type": "execute_result"
    }
   ],
   "source": [
    "separated_dicts_group1=separate_dictionaries_by_value(group1_dict)\n",
    "separated_dicts_group1"
   ]
  },
  {
   "cell_type": "code",
   "execution_count": 214,
   "id": "0320b9f7-52f3-4524-ad98-384dec999c43",
   "metadata": {},
   "outputs": [
    {
     "data": {
      "text/plain": [
       "{('tripduration',\n",
       "  'starttime',\n",
       "  'stoptime',\n",
       "  'start station id',\n",
       "  'start station name',\n",
       "  'start station latitude',\n",
       "  'start station longitude',\n",
       "  'end station id',\n",
       "  'end station name',\n",
       "  'end station latitude',\n",
       "  'end station longitude',\n",
       "  'bikeid',\n",
       "  'usertype',\n",
       "  'birth year',\n",
       "  'gender'): ['201709-citibike-tripdata.csv',\n",
       "  '201809-citibike-tripdata.csv',\n",
       "  '2013-09 - Citi Bike trip data.csv',\n",
       "  '202006-citibike-tripdata.csv',\n",
       "  '202010-citibike-tripdata.csv',\n",
       "  '201602-citibike-tripdata.csv',\n",
       "  '201902-citibike-tripdata.csv',\n",
       "  '201512-citibike-tripdata.csv',\n",
       "  '201411-citibike-tripdata.csv',\n",
       "  '201801-citibike-tripdata.csv',\n",
       "  '2014-05 - Citi Bike trip data.csv',\n",
       "  '201504-citibike-tripdata.csv',\n",
       "  '2014-02 - Citi Bike trip data.csv',\n",
       "  '201908-citibike-tripdata.csv',\n",
       "  '201608-citibike-tripdata.csv',\n",
       "  '201510-citibike-tripdata.csv',\n",
       "  '201803-citibike-tripdata.csv',\n",
       "  '201506-citibike-tripdata.csv',\n",
       "  '202004-citibike-tripdata.csv',\n",
       "  '202012-citibike-tripdata.csv',\n",
       "  '202101-citibike-tripdata.csv',\n",
       "  '202002-citibike-tripdata.csv',\n",
       "  '201606-citibike-tripdata.csv',\n",
       "  '201705-citibike-tripdata.csv',\n",
       "  '201805-citibike-tripdata.csv',\n",
       "  '201906-citibike-tripdata.csv',\n",
       "  '201910-citibike-tripdata.csv',\n",
       "  '201508-citibike-tripdata.csv',\n",
       "  '2014-07 - Citi Bike trip data.csv',\n",
       "  '201807-citibike-tripdata.csv',\n",
       "  '201904-citibike-tripdata.csv',\n",
       "  '201502-citibike-tripdata.csv',\n",
       "  '201912-citibike-tripdata.csv',\n",
       "  '201811-citibike-tripdata.csv',\n",
       "  '2014-08 - Citi Bike trip data.csv',\n",
       "  '201711-citibike-tripdata.csv',\n",
       "  '201604-citibike-tripdata.csv',\n",
       "  '201707-citibike-tripdata.csv',\n",
       "  '201409-citibike-tripdata.csv',\n",
       "  '202008-citibike-tripdata.csv',\n",
       "  '2013-11 - Citi Bike trip data.csv',\n",
       "  '201603-citibike-tripdata.csv',\n",
       "  '202011-citibike-tripdata.csv',\n",
       "  '202007-citibike-tripdata.csv',\n",
       "  '2013-10 - Citi Bike trip data.csv',\n",
       "  '201505-citibike-tripdata.csv',\n",
       "  '201903-citibike-tripdata.csv',\n",
       "  '201410-citibike-tripdata.csv',\n",
       "  '201708-citibike-tripdata.csv',\n",
       "  '201808-citibike-tripdata.csv',\n",
       "  '2014-01 - Citi Bike trip data.csv',\n",
       "  '201507-citibike-tripdata.csv',\n",
       "  '201511-citibike-tripdata.csv',\n",
       "  '2014-06 - Citi Bike trip data.csv',\n",
       "  '201901-citibike-tripdata.csv',\n",
       "  '201802-citibike-tripdata.csv',\n",
       "  '201412-citibike-tripdata.csv',\n",
       "  '201601-citibike-tripdata.csv',\n",
       "  '202005-citibike-tripdata.csv',\n",
       "  '201909-citibike-tripdata.csv',\n",
       "  '201609-citibike-tripdata.csv',\n",
       "  '2013-12 - Citi Bike trip data.csv',\n",
       "  '201509-citibike-tripdata.csv',\n",
       "  '201607-citibike-tripdata.csv',\n",
       "  '201306-citibike-tripdata.csv',\n",
       "  '201704-citibike-tripdata.csv',\n",
       "  '201712-citibike-tripdata.csv',\n",
       "  '202003-citibike-tripdata.csv',\n",
       "  '201911-citibike-tripdata.csv',\n",
       "  '2014-03 - Citi Bike trip data.csv',\n",
       "  '201501-citibike-tripdata.csv',\n",
       "  '201812-citibike-tripdata.csv',\n",
       "  '2013-07 - Citi Bike trip data.csv',\n",
       "  '201804-citibike-tripdata.csv',\n",
       "  '201907-citibike-tripdata.csv',\n",
       "  '2014-04 - Citi Bike trip data.csv',\n",
       "  '202009-citibike-tripdata.csv',\n",
       "  '2013-08 - Citi Bike trip data.csv',\n",
       "  '201503-citibike-tripdata.csv',\n",
       "  '201810-citibike-tripdata.csv',\n",
       "  '201806-citibike-tripdata.csv',\n",
       "  '201905-citibike-tripdata.csv',\n",
       "  '201605-citibike-tripdata.csv',\n",
       "  '201706-citibike-tripdata.csv',\n",
       "  '201710-citibike-tripdata.csv',\n",
       "  '202001-citibike-tripdata.csv'],\n",
       " ('Trip Duration',\n",
       "  'Start Time',\n",
       "  'Stop Time',\n",
       "  'Start Station ID',\n",
       "  'Start Station Name',\n",
       "  'Start Station Latitude',\n",
       "  'Start Station Longitude',\n",
       "  'End Station ID',\n",
       "  'End Station Name',\n",
       "  'End Station Latitude',\n",
       "  'End Station Longitude',\n",
       "  'Bike ID',\n",
       "  'User Type',\n",
       "  'Birth Year',\n",
       "  'Gender'): ['201701-citibike-tripdata.csv',\n",
       "  '201703-citibike-tripdata.csv',\n",
       "  '201610-citibike-tripdata.csv',\n",
       "  '201612-citibike-tripdata.csv',\n",
       "  '201702-citibike-tripdata.csv',\n",
       "  '201611-citibike-tripdata.csv']}"
      ]
     },
     "execution_count": 214,
     "metadata": {},
     "output_type": "execute_result"
    }
   ],
   "source": [
    "separated_dicts_group2=separate_dictionaries_by_value(group2_dict)\n",
    "separated_dicts_group2"
   ]
  },
  {
   "cell_type": "markdown",
   "id": "af5e7fd9-a691-46ae-ad5e-cf2a9cdd9a5e",
   "metadata": {},
   "source": [
    "There are only six file that have title-cased headers. Let's make them lower case and remove the spaces."
   ]
  },
  {
   "cell_type": "markdown",
   "id": "7b557d7e-0cdc-4429-8480-45e67d9fd17b",
   "metadata": {},
   "source": [
    "# WORK ON THIS NEXT"
   ]
  },
  {
   "cell_type": "code",
   "execution_count": 221,
   "id": "46ccac74-340d-443c-93e7-a5198006013f",
   "metadata": {},
   "outputs": [],
   "source": [
    "import os\n",
    "import csv\n",
    "\n",
    "def clean_headers_and_save(input_folder, output_folder):\n",
    "    # Create the output folder if it doesn't exist\n",
    "    os.makedirs(output_folder, exist_ok=True)\n",
    "    \n",
    "    for filename in os.listdir(input_folder):\n",
    "        if filename.endswith('.csv'):\n",
    "            input_file_path = os.path.join(input_folder, filename)\n",
    "            output_file_path = os.path.join(output_folder, filename)\n",
    "            \n",
    "            with open(input_file_path, 'r') as input_csv, open(output_file_path, 'w', newline='') as output_csv:\n",
    "                reader = csv.reader(input_csv)\n",
    "                writer = csv.writer(output_csv)\n",
    "                \n",
    "                # Read and clean the header\n",
    "                header = next(reader)\n",
    "                cleaned_header = [col.strip().replace(' ', '').replace('_', '').lower() for col in header]\n",
    "                \n",
    "                # Write the cleaned header to the output file\n",
    "                writer.writerow(cleaned_header)\n",
    "                \n",
    "                # Copy the rest of the rows\n",
    "                for row in reader:\n",
    "                    writer.writerow(row)"
   ]
  },
  {
   "cell_type": "code",
   "execution_count": 219,
   "id": "a710470f-b797-4472-b80c-565a162d1968",
   "metadata": {},
   "outputs": [
    {
     "ename": "OSError",
     "evalue": "[Errno 30] Read-only file system: '/path'",
     "output_type": "error",
     "traceback": [
      "\u001b[0;31m---------------------------------------------------------------------------\u001b[0m",
      "\u001b[0;31mOSError\u001b[0m                                   Traceback (most recent call last)",
      "Cell \u001b[0;32mIn[219], line 32\u001b[0m\n\u001b[1;32m     29\u001b[0m input_folder \u001b[38;5;241m=\u001b[39m \u001b[38;5;124m'\u001b[39m\u001b[38;5;124m/path/to/your/input_folder\u001b[39m\u001b[38;5;124m'\u001b[39m\n\u001b[1;32m     30\u001b[0m output_folder \u001b[38;5;241m=\u001b[39m \u001b[38;5;124m'\u001b[39m\u001b[38;5;124m/path/to/your/output_folder\u001b[39m\u001b[38;5;124m'\u001b[39m\n\u001b[0;32m---> 32\u001b[0m \u001b[43mclean_headers_and_save\u001b[49m\u001b[43m(\u001b[49m\u001b[43minput_folder\u001b[49m\u001b[43m,\u001b[49m\u001b[43m \u001b[49m\u001b[43moutput_folder\u001b[49m\u001b[43m)\u001b[49m\n",
      "Cell \u001b[0;32mIn[219], line 6\u001b[0m, in \u001b[0;36mclean_headers_and_save\u001b[0;34m(input_folder, output_folder)\u001b[0m\n\u001b[1;32m      4\u001b[0m \u001b[38;5;28;01mdef\u001b[39;00m \u001b[38;5;21mclean_headers_and_save\u001b[39m(input_folder, output_folder):\n\u001b[1;32m      5\u001b[0m     \u001b[38;5;66;03m# Create the output folder if it doesn't exist\u001b[39;00m\n\u001b[0;32m----> 6\u001b[0m     \u001b[43mos\u001b[49m\u001b[38;5;241;43m.\u001b[39;49m\u001b[43mmakedirs\u001b[49m\u001b[43m(\u001b[49m\u001b[43moutput_folder\u001b[49m\u001b[43m,\u001b[49m\u001b[43m \u001b[49m\u001b[43mexist_ok\u001b[49m\u001b[38;5;241;43m=\u001b[39;49m\u001b[38;5;28;43;01mTrue\u001b[39;49;00m\u001b[43m)\u001b[49m\n\u001b[1;32m      8\u001b[0m     \u001b[38;5;28;01mfor\u001b[39;00m filename \u001b[38;5;129;01min\u001b[39;00m os\u001b[38;5;241m.\u001b[39mlistdir(input_folder):\n\u001b[1;32m      9\u001b[0m         \u001b[38;5;28;01mif\u001b[39;00m filename\u001b[38;5;241m.\u001b[39mendswith(\u001b[38;5;124m'\u001b[39m\u001b[38;5;124m.csv\u001b[39m\u001b[38;5;124m'\u001b[39m):\n",
      "File \u001b[0;32m/Applications/Anaconda/anaconda3/envs/bigdataml/lib/python3.8/os.py:213\u001b[0m, in \u001b[0;36mmakedirs\u001b[0;34m(name, mode, exist_ok)\u001b[0m\n\u001b[1;32m    211\u001b[0m \u001b[38;5;28;01mif\u001b[39;00m head \u001b[38;5;129;01mand\u001b[39;00m tail \u001b[38;5;129;01mand\u001b[39;00m \u001b[38;5;129;01mnot\u001b[39;00m path\u001b[38;5;241m.\u001b[39mexists(head):\n\u001b[1;32m    212\u001b[0m     \u001b[38;5;28;01mtry\u001b[39;00m:\n\u001b[0;32m--> 213\u001b[0m         \u001b[43mmakedirs\u001b[49m\u001b[43m(\u001b[49m\u001b[43mhead\u001b[49m\u001b[43m,\u001b[49m\u001b[43m \u001b[49m\u001b[43mexist_ok\u001b[49m\u001b[38;5;241;43m=\u001b[39;49m\u001b[43mexist_ok\u001b[49m\u001b[43m)\u001b[49m\n\u001b[1;32m    214\u001b[0m     \u001b[38;5;28;01mexcept\u001b[39;00m \u001b[38;5;167;01mFileExistsError\u001b[39;00m:\n\u001b[1;32m    215\u001b[0m         \u001b[38;5;66;03m# Defeats race condition when another thread created the path\u001b[39;00m\n\u001b[1;32m    216\u001b[0m         \u001b[38;5;28;01mpass\u001b[39;00m\n",
      "File \u001b[0;32m/Applications/Anaconda/anaconda3/envs/bigdataml/lib/python3.8/os.py:213\u001b[0m, in \u001b[0;36mmakedirs\u001b[0;34m(name, mode, exist_ok)\u001b[0m\n\u001b[1;32m    211\u001b[0m \u001b[38;5;28;01mif\u001b[39;00m head \u001b[38;5;129;01mand\u001b[39;00m tail \u001b[38;5;129;01mand\u001b[39;00m \u001b[38;5;129;01mnot\u001b[39;00m path\u001b[38;5;241m.\u001b[39mexists(head):\n\u001b[1;32m    212\u001b[0m     \u001b[38;5;28;01mtry\u001b[39;00m:\n\u001b[0;32m--> 213\u001b[0m         \u001b[43mmakedirs\u001b[49m\u001b[43m(\u001b[49m\u001b[43mhead\u001b[49m\u001b[43m,\u001b[49m\u001b[43m \u001b[49m\u001b[43mexist_ok\u001b[49m\u001b[38;5;241;43m=\u001b[39;49m\u001b[43mexist_ok\u001b[49m\u001b[43m)\u001b[49m\n\u001b[1;32m    214\u001b[0m     \u001b[38;5;28;01mexcept\u001b[39;00m \u001b[38;5;167;01mFileExistsError\u001b[39;00m:\n\u001b[1;32m    215\u001b[0m         \u001b[38;5;66;03m# Defeats race condition when another thread created the path\u001b[39;00m\n\u001b[1;32m    216\u001b[0m         \u001b[38;5;28;01mpass\u001b[39;00m\n",
      "File \u001b[0;32m/Applications/Anaconda/anaconda3/envs/bigdataml/lib/python3.8/os.py:213\u001b[0m, in \u001b[0;36mmakedirs\u001b[0;34m(name, mode, exist_ok)\u001b[0m\n\u001b[1;32m    211\u001b[0m \u001b[38;5;28;01mif\u001b[39;00m head \u001b[38;5;129;01mand\u001b[39;00m tail \u001b[38;5;129;01mand\u001b[39;00m \u001b[38;5;129;01mnot\u001b[39;00m path\u001b[38;5;241m.\u001b[39mexists(head):\n\u001b[1;32m    212\u001b[0m     \u001b[38;5;28;01mtry\u001b[39;00m:\n\u001b[0;32m--> 213\u001b[0m         \u001b[43mmakedirs\u001b[49m\u001b[43m(\u001b[49m\u001b[43mhead\u001b[49m\u001b[43m,\u001b[49m\u001b[43m \u001b[49m\u001b[43mexist_ok\u001b[49m\u001b[38;5;241;43m=\u001b[39;49m\u001b[43mexist_ok\u001b[49m\u001b[43m)\u001b[49m\n\u001b[1;32m    214\u001b[0m     \u001b[38;5;28;01mexcept\u001b[39;00m \u001b[38;5;167;01mFileExistsError\u001b[39;00m:\n\u001b[1;32m    215\u001b[0m         \u001b[38;5;66;03m# Defeats race condition when another thread created the path\u001b[39;00m\n\u001b[1;32m    216\u001b[0m         \u001b[38;5;28;01mpass\u001b[39;00m\n",
      "File \u001b[0;32m/Applications/Anaconda/anaconda3/envs/bigdataml/lib/python3.8/os.py:223\u001b[0m, in \u001b[0;36mmakedirs\u001b[0;34m(name, mode, exist_ok)\u001b[0m\n\u001b[1;32m    221\u001b[0m         \u001b[38;5;28;01mreturn\u001b[39;00m\n\u001b[1;32m    222\u001b[0m \u001b[38;5;28;01mtry\u001b[39;00m:\n\u001b[0;32m--> 223\u001b[0m     \u001b[43mmkdir\u001b[49m\u001b[43m(\u001b[49m\u001b[43mname\u001b[49m\u001b[43m,\u001b[49m\u001b[43m \u001b[49m\u001b[43mmode\u001b[49m\u001b[43m)\u001b[49m\n\u001b[1;32m    224\u001b[0m \u001b[38;5;28;01mexcept\u001b[39;00m \u001b[38;5;167;01mOSError\u001b[39;00m:\n\u001b[1;32m    225\u001b[0m     \u001b[38;5;66;03m# Cannot rely on checking for EEXIST, since the operating system\u001b[39;00m\n\u001b[1;32m    226\u001b[0m     \u001b[38;5;66;03m# could give priority to other errors like EACCES or EROFS\u001b[39;00m\n\u001b[1;32m    227\u001b[0m     \u001b[38;5;28;01mif\u001b[39;00m \u001b[38;5;129;01mnot\u001b[39;00m exist_ok \u001b[38;5;129;01mor\u001b[39;00m \u001b[38;5;129;01mnot\u001b[39;00m path\u001b[38;5;241m.\u001b[39misdir(name):\n",
      "\u001b[0;31mOSError\u001b[0m: [Errno 30] Read-only file system: '/path'"
     ]
    }
   ],
   "source": [
    "# Example usage\n",
    "input_folder = '/path/to/your/input_folder'\n",
    "output_folder = '/path/to/your/output_folder'\n",
    "\n",
    "clean_headers_and_save(input_folder, output_folder)"
   ]
  },
  {
   "cell_type": "code",
   "execution_count": null,
   "id": "3fc64d90-6979-4327-a36b-3f8aca82a398",
   "metadata": {},
   "outputs": [],
   "source": [
    "file_path='/Users/sra/files/projects/citibike_project/combined/csv_group1'\n",
    "\n",
    "dict_maker(file_path=file_path)"
   ]
  },
  {
   "cell_type": "markdown",
   "id": "d2c8511c-8077-4ac4-a6ee-f1077ef9995e",
   "metadata": {},
   "source": [
    "Success!\n",
    "\n",
    "Now let's check to make sure that all of the files are accounted for after all of this transformation:"
   ]
  },
  {
   "cell_type": "code",
   "execution_count": 37,
   "id": "177c0b0d-10f7-44a9-a70d-00c132a4a4ea",
   "metadata": {},
   "outputs": [
    {
     "name": "stdout",
     "output_type": "stream",
     "text": [
      "('ride_id', 'rideable_type', 'started_at', 'ended_at', 'start_station_name', 'start_station_id', 'end_station_name', 'end_station_id', 'start_lat', 'start_lng', 'end_lat', 'end_lng', 'member_casual') \n",
      " number of keys: 25\n",
      "sum of all values, i.e., sum of all the files: 25\n"
     ]
    }
   ],
   "source": [
    "sum_of_files=[]\n",
    "for key in separated_dicts:\n",
    "    sum_of_files.append(len(separated_dicts[key]))\n",
    "    print(key,'\\n','number of keys:',len(separated_dicts[key]))\n",
    "print('sum of all values, i.e., sum of all the files:',sum(sum_of_files))"
   ]
  },
  {
   "cell_type": "markdown",
   "id": "9bb556ff-bd50-497a-bd13-0b3743e81d3b",
   "metadata": {},
   "source": [
    "It looks like that the first and third header groups are the same, it's just a matter of capitalization. The second header group is different, so I will put those aside for now."
   ]
  },
  {
   "cell_type": "markdown",
   "id": "96a20185-c437-42b1-b00b-6eb70bf9d285",
   "metadata": {},
   "source": [
    "#### Now let's organize all the files from the first and third header groups into the same folder."
   ]
  },
  {
   "cell_type": "code",
   "execution_count": 8,
   "id": "ebecf07d-659c-458f-9834-a141032760af",
   "metadata": {},
   "outputs": [
    {
     "ename": "NameError",
     "evalue": "name 'separated_dicts' is not defined",
     "output_type": "error",
     "traceback": [
      "\u001b[0;31m---------------------------------------------------------------------------\u001b[0m",
      "\u001b[0;31mNameError\u001b[0m                                 Traceback (most recent call last)",
      "Cell \u001b[0;32mIn[8], line 3\u001b[0m\n\u001b[1;32m      1\u001b[0m \u001b[38;5;66;03m# header_group_1a and 1b have the same headers\u001b[39;00m\n\u001b[1;32m      2\u001b[0m \u001b[38;5;66;03m# except that 1b is title-cased\u001b[39;00m\n\u001b[0;32m----> 3\u001b[0m header_group_1a\u001b[38;5;241m=\u001b[39m\u001b[43mseparated_dicts\u001b[49m[\u001b[38;5;124m'\u001b[39m\u001b[38;5;124mtripduration\u001b[39m\u001b[38;5;124m'\u001b[39m,\n\u001b[1;32m      4\u001b[0m   \u001b[38;5;124m'\u001b[39m\u001b[38;5;124mstarttime\u001b[39m\u001b[38;5;124m'\u001b[39m,\n\u001b[1;32m      5\u001b[0m   \u001b[38;5;124m'\u001b[39m\u001b[38;5;124mstoptime\u001b[39m\u001b[38;5;124m'\u001b[39m,\n\u001b[1;32m      6\u001b[0m   \u001b[38;5;124m'\u001b[39m\u001b[38;5;124mstart station id\u001b[39m\u001b[38;5;124m'\u001b[39m,\n\u001b[1;32m      7\u001b[0m   \u001b[38;5;124m'\u001b[39m\u001b[38;5;124mstart station name\u001b[39m\u001b[38;5;124m'\u001b[39m,\n\u001b[1;32m      8\u001b[0m   \u001b[38;5;124m'\u001b[39m\u001b[38;5;124mstart station latitude\u001b[39m\u001b[38;5;124m'\u001b[39m,\n\u001b[1;32m      9\u001b[0m   \u001b[38;5;124m'\u001b[39m\u001b[38;5;124mstart station longitude\u001b[39m\u001b[38;5;124m'\u001b[39m,\n\u001b[1;32m     10\u001b[0m   \u001b[38;5;124m'\u001b[39m\u001b[38;5;124mend station id\u001b[39m\u001b[38;5;124m'\u001b[39m,\n\u001b[1;32m     11\u001b[0m   \u001b[38;5;124m'\u001b[39m\u001b[38;5;124mend station name\u001b[39m\u001b[38;5;124m'\u001b[39m,\n\u001b[1;32m     12\u001b[0m   \u001b[38;5;124m'\u001b[39m\u001b[38;5;124mend station latitude\u001b[39m\u001b[38;5;124m'\u001b[39m,\n\u001b[1;32m     13\u001b[0m   \u001b[38;5;124m'\u001b[39m\u001b[38;5;124mend station longitude\u001b[39m\u001b[38;5;124m'\u001b[39m,\n\u001b[1;32m     14\u001b[0m   \u001b[38;5;124m'\u001b[39m\u001b[38;5;124mbikeid\u001b[39m\u001b[38;5;124m'\u001b[39m,\n\u001b[1;32m     15\u001b[0m   \u001b[38;5;124m'\u001b[39m\u001b[38;5;124musertype\u001b[39m\u001b[38;5;124m'\u001b[39m,\n\u001b[1;32m     16\u001b[0m   \u001b[38;5;124m'\u001b[39m\u001b[38;5;124mbirth year\u001b[39m\u001b[38;5;124m'\u001b[39m,\n\u001b[1;32m     17\u001b[0m   \u001b[38;5;124m'\u001b[39m\u001b[38;5;124mgender\u001b[39m\u001b[38;5;124m'\u001b[39m]\n",
      "\u001b[0;31mNameError\u001b[0m: name 'separated_dicts' is not defined"
     ]
    }
   ],
   "source": [
    "# header_group_1a and 1b have the same headers\n",
    "# except that 1b is title-cased\n",
    "header_group_1a=separated_dicts['tripduration',\n",
    "  'starttime',\n",
    "  'stoptime',\n",
    "  'start station id',\n",
    "  'start station name',\n",
    "  'start station latitude',\n",
    "  'start station longitude',\n",
    "  'end station id',\n",
    "  'end station name',\n",
    "  'end station latitude',\n",
    "  'end station longitude',\n",
    "  'bikeid',\n",
    "  'usertype',\n",
    "  'birth year',\n",
    "  'gender']"
   ]
  },
  {
   "cell_type": "code",
   "execution_count": 102,
   "id": "771186ee-4b3e-42f8-9d96-f35aa03e8743",
   "metadata": {},
   "outputs": [
    {
     "data": {
      "text/plain": [
       "86"
      ]
     },
     "execution_count": 102,
     "metadata": {},
     "output_type": "execute_result"
    }
   ],
   "source": [
    "len(header_group_1a)"
   ]
  },
  {
   "cell_type": "code",
   "execution_count": 103,
   "id": "3c108f13-f456-4019-9dcd-72c8db819414",
   "metadata": {},
   "outputs": [
    {
     "data": {
      "text/plain": [
       "['201701-citibike-tripdata.csv',\n",
       " '201703-citibike-tripdata.csv',\n",
       " '201610-citibike-tripdata.csv',\n",
       " '201612-citibike-tripdata.csv',\n",
       " '201702-citibike-tripdata.csv',\n",
       " '201611-citibike-tripdata.csv']"
      ]
     },
     "execution_count": 103,
     "metadata": {},
     "output_type": "execute_result"
    }
   ],
   "source": [
    "header_group_1b=separated_dicts[('Trip Duration',\n",
    "  'Start Time',\n",
    "  'Stop Time',\n",
    "  'Start Station ID',\n",
    "  'Start Station Name',\n",
    "  'Start Station Latitude',\n",
    "  'Start Station Longitude',\n",
    "  'End Station ID',\n",
    "  'End Station Name',\n",
    "  'End Station Latitude',\n",
    "  'End Station Longitude',\n",
    "  'Bike ID',\n",
    "  'User Type',\n",
    "  'Birth Year',\n",
    "  'Gender')]\n",
    "header_group_1b"
   ]
  },
  {
   "cell_type": "code",
   "execution_count": 104,
   "id": "0e0c33e4-8ede-403f-9b95-c6ac7fae4dbe",
   "metadata": {},
   "outputs": [
    {
     "data": {
      "text/plain": [
       "6"
      ]
     },
     "execution_count": 104,
     "metadata": {},
     "output_type": "execute_result"
    }
   ],
   "source": [
    "len(header_group_1b)"
   ]
  },
  {
   "cell_type": "code",
   "execution_count": 105,
   "id": "f1e126dd-f9cd-4941-b410-994040d90584",
   "metadata": {},
   "outputs": [
    {
     "data": {
      "text/plain": [
       "['201709-citibike-tripdata.csv',\n",
       " '201809-citibike-tripdata.csv',\n",
       " '2013-09 - Citi Bike trip data.csv',\n",
       " '202006-citibike-tripdata.csv',\n",
       " '202010-citibike-tripdata.csv',\n",
       " '201602-citibike-tripdata.csv',\n",
       " '201902-citibike-tripdata.csv',\n",
       " '201512-citibike-tripdata.csv',\n",
       " '201411-citibike-tripdata.csv',\n",
       " '201801-citibike-tripdata.csv',\n",
       " '2014-05 - Citi Bike trip data.csv',\n",
       " '201504-citibike-tripdata.csv',\n",
       " '2014-02 - Citi Bike trip data.csv',\n",
       " '201908-citibike-tripdata.csv',\n",
       " '201608-citibike-tripdata.csv',\n",
       " '201510-citibike-tripdata.csv',\n",
       " '201803-citibike-tripdata.csv',\n",
       " '201506-citibike-tripdata.csv',\n",
       " '202004-citibike-tripdata.csv',\n",
       " '202012-citibike-tripdata.csv',\n",
       " '202101-citibike-tripdata.csv',\n",
       " '202002-citibike-tripdata.csv',\n",
       " '201606-citibike-tripdata.csv',\n",
       " '201705-citibike-tripdata.csv',\n",
       " '201805-citibike-tripdata.csv',\n",
       " '201906-citibike-tripdata.csv',\n",
       " '201910-citibike-tripdata.csv',\n",
       " '201508-citibike-tripdata.csv',\n",
       " '2014-07 - Citi Bike trip data.csv',\n",
       " '201807-citibike-tripdata.csv',\n",
       " '201904-citibike-tripdata.csv',\n",
       " '201502-citibike-tripdata.csv',\n",
       " '201912-citibike-tripdata.csv',\n",
       " '201811-citibike-tripdata.csv',\n",
       " '2014-08 - Citi Bike trip data.csv',\n",
       " '201711-citibike-tripdata.csv',\n",
       " '201604-citibike-tripdata.csv',\n",
       " '201707-citibike-tripdata.csv',\n",
       " '201409-citibike-tripdata.csv',\n",
       " '202008-citibike-tripdata.csv',\n",
       " '2013-11 - Citi Bike trip data.csv',\n",
       " '201603-citibike-tripdata.csv',\n",
       " '202011-citibike-tripdata.csv',\n",
       " '202007-citibike-tripdata.csv',\n",
       " '2013-10 - Citi Bike trip data.csv',\n",
       " '201505-citibike-tripdata.csv',\n",
       " '201903-citibike-tripdata.csv',\n",
       " '201410-citibike-tripdata.csv',\n",
       " '201708-citibike-tripdata.csv',\n",
       " '201808-citibike-tripdata.csv',\n",
       " '2014-01 - Citi Bike trip data.csv',\n",
       " '201507-citibike-tripdata.csv',\n",
       " '201511-citibike-tripdata.csv',\n",
       " '2014-06 - Citi Bike trip data.csv',\n",
       " '201901-citibike-tripdata.csv',\n",
       " '201802-citibike-tripdata.csv',\n",
       " '201412-citibike-tripdata.csv',\n",
       " '201601-citibike-tripdata.csv',\n",
       " '202005-citibike-tripdata.csv',\n",
       " '201909-citibike-tripdata.csv',\n",
       " '201609-citibike-tripdata.csv',\n",
       " '2013-12 - Citi Bike trip data.csv',\n",
       " '201509-citibike-tripdata.csv',\n",
       " '201607-citibike-tripdata.csv',\n",
       " '201306-citibike-tripdata.csv',\n",
       " '201704-citibike-tripdata.csv',\n",
       " '201712-citibike-tripdata.csv',\n",
       " '202003-citibike-tripdata.csv',\n",
       " '201911-citibike-tripdata.csv',\n",
       " '2014-03 - Citi Bike trip data.csv',\n",
       " '201501-citibike-tripdata.csv',\n",
       " '201812-citibike-tripdata.csv',\n",
       " '2013-07 - Citi Bike trip data.csv',\n",
       " '201804-citibike-tripdata.csv',\n",
       " '201907-citibike-tripdata.csv',\n",
       " '2014-04 - Citi Bike trip data.csv',\n",
       " '202009-citibike-tripdata.csv',\n",
       " '2013-08 - Citi Bike trip data.csv',\n",
       " '201503-citibike-tripdata.csv',\n",
       " '201810-citibike-tripdata.csv',\n",
       " '201806-citibike-tripdata.csv',\n",
       " '201905-citibike-tripdata.csv',\n",
       " '201605-citibike-tripdata.csv',\n",
       " '201706-citibike-tripdata.csv',\n",
       " '201710-citibike-tripdata.csv',\n",
       " '202001-citibike-tripdata.csv',\n",
       " '201701-citibike-tripdata.csv',\n",
       " '201703-citibike-tripdata.csv',\n",
       " '201610-citibike-tripdata.csv',\n",
       " '201612-citibike-tripdata.csv',\n",
       " '201702-citibike-tripdata.csv',\n",
       " '201611-citibike-tripdata.csv']"
      ]
     },
     "execution_count": 105,
     "metadata": {},
     "output_type": "execute_result"
    }
   ],
   "source": [
    "# append list of files from header_group_1b onto header_group_1a\n",
    "\n",
    "if len(header_group_1a)==86: #flow control\n",
    "    for i in header_group_1b:\n",
    "        header_group_1a.append(i)\n",
    "    \n",
    "header_group_1a"
   ]
  },
  {
   "cell_type": "code",
   "execution_count": 106,
   "id": "7ba7b54c-9df4-4060-a2f7-5fd1eb4d3788",
   "metadata": {},
   "outputs": [
    {
     "data": {
      "text/plain": [
       "92"
      ]
     },
     "execution_count": 106,
     "metadata": {},
     "output_type": "execute_result"
    }
   ],
   "source": [
    "len(header_group_1a)\n",
    "# good, math checks out.\n",
    "# original length was 86. 86+6=92"
   ]
  },
  {
   "cell_type": "code",
   "execution_count": 107,
   "id": "dafa7f83-f9ca-41f5-ba09-bf0b41921474",
   "metadata": {},
   "outputs": [
    {
     "data": {
      "text/plain": [
       "6"
      ]
     },
     "execution_count": 107,
     "metadata": {},
     "output_type": "execute_result"
    }
   ],
   "source": [
    "len(header_group_1b)"
   ]
  },
  {
   "cell_type": "markdown",
   "id": "63fc25c7-5860-440a-aaed-a98f3dae273e",
   "metadata": {},
   "source": [
    "What is `.DS_Store` doing in the list? Let's remove it."
   ]
  },
  {
   "cell_type": "code",
   "execution_count": 108,
   "id": "e4532765-16df-450e-b915-2e2d11e9dade",
   "metadata": {},
   "outputs": [
    {
     "data": {
      "text/plain": [
       "['202105-citibike-tripdata.csv',\n",
       " '202203-citibike-tripdata.csv',\n",
       " '202209-citibike-tripdata.csv',\n",
       " '.DS_Store',\n",
       " '202207-citbike-tripdata.csv',\n",
       " '202302-citibike-tripdata.csv',\n",
       " '202201-citibike-tripdata.csv',\n",
       " '202107-citibike-tripdata.csv',\n",
       " '202111-citibike-tripdata.csv',\n",
       " '202304-citibike-tripdata.csv',\n",
       " '202211-citibike-tripdata.csv',\n",
       " '202109-citibike-tripdata.csv',\n",
       " '202205-citibike-tripdata.csv',\n",
       " '202103-citibike-tripdata.csv',\n",
       " '202206-citbike-tripdata.csv',\n",
       " '202112-citibike-tripdata.csv',\n",
       " '202104-citibike-tripdata.csv',\n",
       " '202202-citibike-tripdata.csv',\n",
       " '202303-citibike-tripdata.csv',\n",
       " '202110-citibike-tripdata.csv',\n",
       " '202106-citibike-tripdata.csv',\n",
       " '202108-citibike-tripdata.csv',\n",
       " '202204-citibike-tripdata.csv',\n",
       " '202102-citibike-tripdata.csv']"
      ]
     },
     "execution_count": 108,
     "metadata": {},
     "output_type": "execute_result"
    }
   ],
   "source": [
    "separated_dicts[('ride_id',\n",
    "  'rideable_type',\n",
    "  'started_at',\n",
    "  'ended_at',\n",
    "  'start_station_name',\n",
    "  'start_station_id',\n",
    "  'end_station_name',\n",
    "  'end_station_id',\n",
    "  'start_lat',\n",
    "  'start_lng',\n",
    "  'end_lat',\n",
    "  'end_lng',\n",
    "  'member_casual')]"
   ]
  },
  {
   "cell_type": "code",
   "execution_count": 109,
   "id": "079afb7b-6dfd-4abc-8ee8-50a232cf109a",
   "metadata": {},
   "outputs": [
    {
     "name": "stdout",
     "output_type": "stream",
     "text": [
      "['202105-citibike-tripdata.csv', '202203-citibike-tripdata.csv', '202209-citibike-tripdata.csv', '202207-citbike-tripdata.csv', '202302-citibike-tripdata.csv', '202201-citibike-tripdata.csv', '202107-citibike-tripdata.csv', '202111-citibike-tripdata.csv', '202304-citibike-tripdata.csv', '202211-citibike-tripdata.csv', '202109-citibike-tripdata.csv', '202205-citibike-tripdata.csv', '202103-citibike-tripdata.csv', '202206-citbike-tripdata.csv', '202112-citibike-tripdata.csv', '202104-citibike-tripdata.csv', '202202-citibike-tripdata.csv', '202303-citibike-tripdata.csv', '202110-citibike-tripdata.csv', '202106-citibike-tripdata.csv', '202108-citibike-tripdata.csv', '202204-citibike-tripdata.csv', '202102-citibike-tripdata.csv']\n",
      "23\n"
     ]
    }
   ],
   "source": [
    "item_to_remove = '.DS_Store'\n",
    "list_value = separated_dicts[('ride_id',\n",
    "  'rideable_type',\n",
    "  'started_at',\n",
    "  'ended_at',\n",
    "  'start_station_name',\n",
    "  'start_station_id',\n",
    "  'end_station_name',\n",
    "  'end_station_id',\n",
    "  'start_lat',\n",
    "  'start_lng',\n",
    "  'end_lat',\n",
    "  'end_lng',\n",
    "  'member_casual')]\n",
    "\n",
    "if item_to_remove in list_value:\n",
    "    list_value.remove(item_to_remove)\n",
    "\n",
    "print(separated_dicts[('ride_id',\n",
    "  'rideable_type',\n",
    "  'started_at',\n",
    "  'ended_at',\n",
    "  'start_station_name',\n",
    "  'start_station_id',\n",
    "  'end_station_name',\n",
    "  'end_station_id',\n",
    "  'start_lat',\n",
    "  'start_lng',\n",
    "  'end_lat',\n",
    "  'end_lng',\n",
    "  'member_casual')])\n",
    "\n",
    "print(len(separated_dicts[('ride_id',\n",
    "  'rideable_type',\n",
    "  'started_at',\n",
    "  'ended_at',\n",
    "  'start_station_name',\n",
    "  'start_station_id',\n",
    "  'end_station_name',\n",
    "  'end_station_id',\n",
    "  'start_lat',\n",
    "  'start_lng',\n",
    "  'end_lat',\n",
    "  'end_lng',\n",
    "  'member_casual')]))"
   ]
  },
  {
   "cell_type": "markdown",
   "id": "f9644256-e9fe-4a68-a794-a52392e7246b",
   "metadata": {},
   "source": [
    "## Organize Header Groups"
   ]
  },
  {
   "cell_type": "markdown",
   "id": "6d37c8d1-0b9f-4300-97b6-5447c5869ce8",
   "metadata": {},
   "source": [
    "### Header Group 1"
   ]
  },
  {
   "cell_type": "code",
   "execution_count": 110,
   "id": "039a94c8-84d3-4529-8c97-140ef6ed08cc",
   "metadata": {},
   "outputs": [
    {
     "name": "stdout",
     "output_type": "stream",
     "text": [
      "['202105-citibike-tripdata.csv', '202203-citibike-tripdata.csv', '202209-citibike-tripdata.csv', '202207-citbike-tripdata.csv', '202302-citibike-tripdata.csv', '202201-citibike-tripdata.csv', '202107-citibike-tripdata.csv', '202111-citibike-tripdata.csv', '202304-citibike-tripdata.csv', '202211-citibike-tripdata.csv', '202109-citibike-tripdata.csv', '202205-citibike-tripdata.csv', '202103-citibike-tripdata.csv', '202206-citbike-tripdata.csv', '202112-citibike-tripdata.csv', '202104-citibike-tripdata.csv', '202202-citibike-tripdata.csv', '202303-citibike-tripdata.csv', '202110-citibike-tripdata.csv', '202106-citibike-tripdata.csv', '202108-citibike-tripdata.csv', '202204-citibike-tripdata.csv', '202102-citibike-tripdata.csv']\n"
     ]
    }
   ],
   "source": [
    "# define header group 1\n",
    "header_group1=('ride_id',\n",
    "  'rideable_type',\n",
    "  'started_at',\n",
    "  'ended_at',\n",
    "  'start_station_name',\n",
    "  'start_station_id',\n",
    "  'end_station_name',\n",
    "  'end_station_id',\n",
    "  'start_lat',\n",
    "  'start_lng',\n",
    "  'end_lat',\n",
    "  'end_lng',\n",
    "  'member_casual')\n",
    "\n",
    "print(separated_dicts[header_group1])\n",
    "len(separated_dicts[header_group1])\n",
    "\n",
    "csv_group1=separated_dicts[header_group1]"
   ]
  },
  {
   "cell_type": "markdown",
   "id": "a921e28a-1c15-4547-aaba-a8ed705bc0b2",
   "metadata": {},
   "source": [
    "### Header Group 2"
   ]
  },
  {
   "cell_type": "code",
   "execution_count": 7,
   "id": "d5aa3a8c-37fc-4b48-aff1-aa0929578afe",
   "metadata": {},
   "outputs": [
    {
     "ename": "NameError",
     "evalue": "name 'separated_dicts' is not defined",
     "output_type": "error",
     "traceback": [
      "\u001b[0;31m---------------------------------------------------------------------------\u001b[0m",
      "\u001b[0;31mNameError\u001b[0m                                 Traceback (most recent call last)",
      "Cell \u001b[0;32mIn[7], line 18\u001b[0m\n\u001b[1;32m      1\u001b[0m \u001b[38;5;66;03m# define header group 2\u001b[39;00m\n\u001b[1;32m      2\u001b[0m header_group2\u001b[38;5;241m=\u001b[39m(\u001b[38;5;124m'\u001b[39m\u001b[38;5;124mtripduration\u001b[39m\u001b[38;5;124m'\u001b[39m,\n\u001b[1;32m      3\u001b[0m   \u001b[38;5;124m'\u001b[39m\u001b[38;5;124mstarttime\u001b[39m\u001b[38;5;124m'\u001b[39m,\n\u001b[1;32m      4\u001b[0m   \u001b[38;5;124m'\u001b[39m\u001b[38;5;124mstoptime\u001b[39m\u001b[38;5;124m'\u001b[39m,\n\u001b[0;32m   (...)\u001b[0m\n\u001b[1;32m     15\u001b[0m   \u001b[38;5;124m'\u001b[39m\u001b[38;5;124mbirth year\u001b[39m\u001b[38;5;124m'\u001b[39m,\n\u001b[1;32m     16\u001b[0m   \u001b[38;5;124m'\u001b[39m\u001b[38;5;124mgender\u001b[39m\u001b[38;5;124m'\u001b[39m)\n\u001b[0;32m---> 18\u001b[0m \u001b[38;5;28mprint\u001b[39m(\u001b[43mseparated_dicts\u001b[49m[header_group2])\n\u001b[1;32m     19\u001b[0m \u001b[38;5;28mlen\u001b[39m(separated_dicts[header_group2])\n\u001b[1;32m     21\u001b[0m csv_group2\u001b[38;5;241m=\u001b[39mseparated_dicts[header_group2]\n",
      "\u001b[0;31mNameError\u001b[0m: name 'separated_dicts' is not defined"
     ]
    }
   ],
   "source": [
    "# define header group 2\n",
    "header_group2=('tripduration',\n",
    "  'starttime',\n",
    "  'stoptime',\n",
    "  'start station id',\n",
    "  'start station name',\n",
    "  'start station latitude',\n",
    "  'start station longitude',\n",
    "  'end station id',\n",
    "  'end station name',\n",
    "  'end station latitude',\n",
    "  'end station longitude',\n",
    "  'bikeid',\n",
    "  'usertype',\n",
    "  'birth year',\n",
    "  'gender')\n",
    "\n",
    "print(separated_dicts[header_group2])\n",
    "len(separated_dicts[header_group2])\n",
    "\n",
    "csv_group2=separated_dicts[header_group2]"
   ]
  },
  {
   "cell_type": "code",
   "execution_count": 112,
   "id": "d91d7b08-d7e1-4a9e-a00d-33257bd48dbc",
   "metadata": {},
   "outputs": [
    {
     "data": {
      "text/plain": [
       "115"
      ]
     },
     "execution_count": 112,
     "metadata": {},
     "output_type": "execute_result"
    }
   ],
   "source": [
    "# sanity check\n",
    "len(csv_group1)+len(csv_group2)"
   ]
  },
  {
   "cell_type": "markdown",
   "id": "a591e069-0e21-4049-9777-ebe63e8897f9",
   "metadata": {},
   "source": [
    "## Combine all the CSVs in each header group"
   ]
  },
  {
   "cell_type": "markdown",
   "id": "c784f91c-bb00-42e8-9cf1-3bb830a435a9",
   "metadata": {},
   "source": [
    "### Need to move all the filenames from each header group into their own folder"
   ]
  },
  {
   "cell_type": "markdown",
   "id": "b91d9188-8c9c-41f1-be17-b09f61dcb928",
   "metadata": {},
   "source": [
    "Create function:"
   ]
  },
  {
   "cell_type": "code",
   "execution_count": 136,
   "id": "f44a4236-ae5c-40a9-8f8d-ea73ebe7f30e",
   "metadata": {},
   "outputs": [],
   "source": [
    "def move_files_with_filenames(original_dir, new_dir, filenames):\n",
    "    # Create the new directory if it doesn't exist\n",
    "    if not os.path.exists(new_dir):\n",
    "        os.makedirs(new_dir)\n",
    "    \n",
    "    # Iterate over the filenames\n",
    "    for filename in filenames:\n",
    "        # Get the full path of the file in the original directory\n",
    "        original_file_path = os.path.join(original_dir, filename)\n",
    "        \n",
    "        # Check if the file exists in the original directory\n",
    "        if os.path.isfile(original_file_path):\n",
    "            # Get the full path of the file in the new directory\n",
    "            new_file_path = os.path.join(new_dir, filename)\n",
    "            \n",
    "            # Move the file to the new directory\n",
    "            shutil.move(original_file_path, new_file_path)\n",
    "            print(f\"Moved file: {filename} to {new_dir}\")\n",
    "        else:\n",
    "            print(f\"File not found: {filename}\")"
   ]
  },
  {
   "cell_type": "code",
   "execution_count": 2,
   "id": "fae39128-11fd-44a4-a6f1-3a2f2167cd82",
   "metadata": {
    "tags": []
   },
   "outputs": [],
   "source": [
    "def move_csv_files_with_filenames(original_dir, new_dir, filenames):\n",
    "    '''\n",
    "    Takes files from an original directory and puts them in a \n",
    "    new directory, but only taking the specific filenames.\n",
    "    '''\n",
    "    # create the new directories if they don't exist\n",
    "    if not os.path.exists(new_dir):\n",
    "        os.makedirs(new_dir)\n",
    "        \n",
    "    # iterate over the filenames\n",
    "    for filename in filenames:\n",
    "        # get the full path of the file in the original directory\n",
    "        original_file_path = os.path.join(original_dir, filename)\n",
    "\n",
    "        # check if the file exists in the original directory\n",
    "        if os.path.isfile(original_file_path):\n",
    "            # get the full path of the file in the new directory\n",
    "            new_file_path = os.path.join(new_dir, filename)\n",
    "\n",
    "            # move the file to the new directory\n",
    "            shutil.move(original_file_path, new_file_path)\n",
    "            print(f\"Moved file: {filename} to {new_dir}\")\n",
    "        else:\n",
    "            print(f\"File not found: {filename}\")"
   ]
  },
  {
   "cell_type": "markdown",
   "id": "da8865a0-1fb4-4dc1-a547-67ccd7b11190",
   "metadata": {
    "tags": []
   },
   "source": [
    "Checking some files first:"
   ]
  },
  {
   "cell_type": "code",
   "execution_count": 6,
   "id": "2b124962-586b-469a-ae21-866e6d24c8eb",
   "metadata": {},
   "outputs": [
    {
     "ename": "NameError",
     "evalue": "name 'csv_group2' is not defined",
     "output_type": "error",
     "traceback": [
      "\u001b[0;31m---------------------------------------------------------------------------\u001b[0m",
      "\u001b[0;31mNameError\u001b[0m                                 Traceback (most recent call last)",
      "Cell \u001b[0;32mIn[6], line 3\u001b[0m\n\u001b[1;32m      1\u001b[0m original_dir\u001b[38;5;241m=\u001b[39m\u001b[38;5;124m'\u001b[39m\u001b[38;5;124m/Users/sra/files/projects/citibike_project/tripdata\u001b[39m\u001b[38;5;124m'\u001b[39m\n\u001b[1;32m      2\u001b[0m new_dir\u001b[38;5;241m=\u001b[39m\u001b[38;5;124m'\u001b[39m\u001b[38;5;124m/Users/sra/files/projects/citibike_project/combined/csv_group1\u001b[39m\u001b[38;5;124m'\u001b[39m\n\u001b[0;32m----> 3\u001b[0m filenames\u001b[38;5;241m=\u001b[39m\u001b[43mcsv_group2\u001b[49m\n\u001b[1;32m      5\u001b[0m \u001b[38;5;28;01mif\u001b[39;00m \u001b[38;5;124m'\u001b[39m\u001b[38;5;124m202001-citibike-tripdata.csv\u001b[39m\u001b[38;5;124m'\u001b[39m \u001b[38;5;129;01min\u001b[39;00m csv_group2:\n\u001b[1;32m      6\u001b[0m     \u001b[38;5;28mprint\u001b[39m(\u001b[38;5;124m'\u001b[39m\u001b[38;5;124mwithin csv_group2\u001b[39m\u001b[38;5;124m'\u001b[39m)\n",
      "\u001b[0;31mNameError\u001b[0m: name 'csv_group2' is not defined"
     ]
    }
   ],
   "source": [
    "original_dir='/Users/sra/files/projects/citibike_project/tripdata'\n",
    "new_dir='/Users/sra/files/projects/citibike_project/combined/csv_group1'\n",
    "filenames=csv_group2\n",
    "\n",
    "if '202001-citibike-tripdata.csv' in csv_group2:\n",
    "    print('within csv_group2')"
   ]
  },
  {
   "cell_type": "code",
   "execution_count": 142,
   "id": "0adfa3bd-50e3-41d7-8ca3-e22744c3389b",
   "metadata": {},
   "outputs": [
    {
     "name": "stdout",
     "output_type": "stream",
     "text": [
      "not within csv_group1\n"
     ]
    }
   ],
   "source": [
    "if '202001-citibike-tripdata.csv' in csv_group1:\n",
    "    print('within csv_group1')\n",
    "else:\n",
    "    print('not within csv_group1')"
   ]
  },
  {
   "cell_type": "code",
   "execution_count": 129,
   "id": "aaad05e3-a246-4e9a-a211-49b44488c95d",
   "metadata": {},
   "outputs": [
    {
     "name": "stdout",
     "output_type": "stream",
     "text": [
      "/Users/sra/files/projects/citibike_project/tripdata/202001-citibike-tripdata.csv\n",
      "/Users/sra/files/projects/citibike_project/tripdata/202001-citibike-tripdata.csv\n",
      "/Users/sra/files/projects/citibike_project/tripdata/202001-citibike-tripdata.csv\n",
      "/Users/sra/files/projects/citibike_project/tripdata/202001-citibike-tripdata.csv\n",
      "/Users/sra/files/projects/citibike_project/tripdata/202001-citibike-tripdata.csv\n",
      "/Users/sra/files/projects/citibike_project/tripdata/202001-citibike-tripdata.csv\n",
      "/Users/sra/files/projects/citibike_project/tripdata/202001-citibike-tripdata.csv\n",
      "/Users/sra/files/projects/citibike_project/tripdata/202001-citibike-tripdata.csv\n",
      "/Users/sra/files/projects/citibike_project/tripdata/202001-citibike-tripdata.csv\n",
      "/Users/sra/files/projects/citibike_project/tripdata/202001-citibike-tripdata.csv\n",
      "/Users/sra/files/projects/citibike_project/tripdata/202001-citibike-tripdata.csv\n",
      "/Users/sra/files/projects/citibike_project/tripdata/202001-citibike-tripdata.csv\n",
      "/Users/sra/files/projects/citibike_project/tripdata/202001-citibike-tripdata.csv\n",
      "/Users/sra/files/projects/citibike_project/tripdata/202001-citibike-tripdata.csv\n",
      "/Users/sra/files/projects/citibike_project/tripdata/202001-citibike-tripdata.csv\n",
      "/Users/sra/files/projects/citibike_project/tripdata/202001-citibike-tripdata.csv\n",
      "/Users/sra/files/projects/citibike_project/tripdata/202001-citibike-tripdata.csv\n",
      "/Users/sra/files/projects/citibike_project/tripdata/202001-citibike-tripdata.csv\n",
      "/Users/sra/files/projects/citibike_project/tripdata/202001-citibike-tripdata.csv\n",
      "/Users/sra/files/projects/citibike_project/tripdata/202001-citibike-tripdata.csv\n",
      "/Users/sra/files/projects/citibike_project/tripdata/202001-citibike-tripdata.csv\n",
      "/Users/sra/files/projects/citibike_project/tripdata/202001-citibike-tripdata.csv\n",
      "/Users/sra/files/projects/citibike_project/tripdata/202001-citibike-tripdata.csv\n"
     ]
    }
   ],
   "source": [
    "# Create the new directories if they don't exist\n",
    "if not os.path.exists(new_dir):\n",
    "    os.makedirs(new_dir)\n",
    "\n",
    "# Iterate over the filenames\n",
    "for file in filenames:\n",
    "    # Get the full path of the file in the original directory\n",
    "    original_file_path = os.path.join(original_dir, filename)\n",
    "    \n",
    "    print(original_file_path)"
   ]
  },
  {
   "cell_type": "code",
   "execution_count": 126,
   "id": "4f8b5e09-68e2-46b2-af0a-8b8ee7152c1a",
   "metadata": {},
   "outputs": [],
   "source": [
    "# test=pd.read_csv('/Users/sra/files/projects/citibike_project/tripdata/202304-citibike-tripdata.csv')\n",
    "# test.head()"
   ]
  },
  {
   "cell_type": "code",
   "execution_count": 146,
   "id": "ba46dcf8-f616-45f7-9fdf-17587a37c207",
   "metadata": {},
   "outputs": [
    {
     "name": "stdout",
     "output_type": "stream",
     "text": [
      "File not found: 202105-citibike-tripdata.csv\n",
      "File not found: 202203-citibike-tripdata.csv\n",
      "File not found: 202209-citibike-tripdata.csv\n",
      "Moved file: 202207-citbike-tripdata.csv to /Users/sra/files/projects/citibike_project/combined/csv_group1\n",
      "Moved file: 202302-citibike-tripdata.csv to /Users/sra/files/projects/citibike_project/combined/csv_group1\n",
      "Moved file: 202201-citibike-tripdata.csv to /Users/sra/files/projects/citibike_project/combined/csv_group1\n",
      "Moved file: 202107-citibike-tripdata.csv to /Users/sra/files/projects/citibike_project/combined/csv_group1\n",
      "Moved file: 202111-citibike-tripdata.csv to /Users/sra/files/projects/citibike_project/combined/csv_group1\n",
      "Moved file: 202304-citibike-tripdata.csv to /Users/sra/files/projects/citibike_project/combined/csv_group1\n",
      "Moved file: 202211-citibike-tripdata.csv to /Users/sra/files/projects/citibike_project/combined/csv_group1\n",
      "Moved file: 202109-citibike-tripdata.csv to /Users/sra/files/projects/citibike_project/combined/csv_group1\n",
      "Moved file: 202205-citibike-tripdata.csv to /Users/sra/files/projects/citibike_project/combined/csv_group1\n",
      "Moved file: 202103-citibike-tripdata.csv to /Users/sra/files/projects/citibike_project/combined/csv_group1\n",
      "Moved file: 202206-citbike-tripdata.csv to /Users/sra/files/projects/citibike_project/combined/csv_group1\n",
      "Moved file: 202112-citibike-tripdata.csv to /Users/sra/files/projects/citibike_project/combined/csv_group1\n",
      "Moved file: 202104-citibike-tripdata.csv to /Users/sra/files/projects/citibike_project/combined/csv_group1\n",
      "Moved file: 202202-citibike-tripdata.csv to /Users/sra/files/projects/citibike_project/combined/csv_group1\n",
      "Moved file: 202303-citibike-tripdata.csv to /Users/sra/files/projects/citibike_project/combined/csv_group1\n",
      "Moved file: 202110-citibike-tripdata.csv to /Users/sra/files/projects/citibike_project/combined/csv_group1\n",
      "Moved file: 202106-citibike-tripdata.csv to /Users/sra/files/projects/citibike_project/combined/csv_group1\n",
      "Moved file: 202108-citibike-tripdata.csv to /Users/sra/files/projects/citibike_project/combined/csv_group1\n",
      "Moved file: 202204-citibike-tripdata.csv to /Users/sra/files/projects/citibike_project/combined/csv_group1\n",
      "Moved file: 202102-citibike-tripdata.csv to /Users/sra/files/projects/citibike_project/combined/csv_group1\n"
     ]
    }
   ],
   "source": [
    "original_dir='/Users/sra/files/projects/citibike_project/tripdata'\n",
    "new_dir='/Users/sra/files/projects/citibike_project/combined/csv_group1'\n",
    "filenames=csv_group1\n",
    "\n",
    "move_csv_files_with_filenames(original_dir=original_dir,\n",
    "                             new_dir=new_dir,\n",
    "                             filenames=filenames)"
   ]
  },
  {
   "cell_type": "code",
   "execution_count": 148,
   "id": "0737ee8d-ebeb-4a2b-b818-3426d924b431",
   "metadata": {},
   "outputs": [
    {
     "name": "stdout",
     "output_type": "stream",
     "text": [
      "File not found: 201709-citibike-tripdata.csv\n",
      "File not found: 201809-citibike-tripdata.csv\n",
      "File not found: 2013-09 - Citi Bike trip data.csv\n",
      "File not found: 202006-citibike-tripdata.csv\n",
      "File not found: 202010-citibike-tripdata.csv\n",
      "File not found: 201602-citibike-tripdata.csv\n",
      "File not found: 201902-citibike-tripdata.csv\n",
      "File not found: 201512-citibike-tripdata.csv\n",
      "File not found: 201411-citibike-tripdata.csv\n",
      "File not found: 201801-citibike-tripdata.csv\n",
      "File not found: 2014-05 - Citi Bike trip data.csv\n",
      "File not found: 201504-citibike-tripdata.csv\n",
      "File not found: 2014-02 - Citi Bike trip data.csv\n",
      "File not found: 201908-citibike-tripdata.csv\n",
      "File not found: 201608-citibike-tripdata.csv\n",
      "File not found: 201510-citibike-tripdata.csv\n",
      "File not found: 201803-citibike-tripdata.csv\n",
      "File not found: 201506-citibike-tripdata.csv\n",
      "File not found: 202004-citibike-tripdata.csv\n",
      "File not found: 202012-citibike-tripdata.csv\n",
      "File not found: 202101-citibike-tripdata.csv\n",
      "File not found: 202002-citibike-tripdata.csv\n",
      "File not found: 201606-citibike-tripdata.csv\n",
      "File not found: 201705-citibike-tripdata.csv\n",
      "File not found: 201805-citibike-tripdata.csv\n",
      "File not found: 201906-citibike-tripdata.csv\n",
      "File not found: 201910-citibike-tripdata.csv\n",
      "File not found: 201508-citibike-tripdata.csv\n",
      "File not found: 2014-07 - Citi Bike trip data.csv\n",
      "File not found: 201807-citibike-tripdata.csv\n",
      "File not found: 201904-citibike-tripdata.csv\n",
      "File not found: 201502-citibike-tripdata.csv\n",
      "File not found: 201912-citibike-tripdata.csv\n",
      "File not found: 201811-citibike-tripdata.csv\n",
      "File not found: 2014-08 - Citi Bike trip data.csv\n",
      "File not found: 201711-citibike-tripdata.csv\n",
      "File not found: 201604-citibike-tripdata.csv\n",
      "File not found: 201707-citibike-tripdata.csv\n",
      "File not found: 201409-citibike-tripdata.csv\n",
      "File not found: 202008-citibike-tripdata.csv\n",
      "File not found: 2013-11 - Citi Bike trip data.csv\n",
      "File not found: 201603-citibike-tripdata.csv\n",
      "File not found: 202011-citibike-tripdata.csv\n",
      "File not found: 202007-citibike-tripdata.csv\n",
      "File not found: 2013-10 - Citi Bike trip data.csv\n",
      "File not found: 201505-citibike-tripdata.csv\n",
      "File not found: 201903-citibike-tripdata.csv\n",
      "File not found: 201410-citibike-tripdata.csv\n",
      "File not found: 201708-citibike-tripdata.csv\n",
      "File not found: 201808-citibike-tripdata.csv\n",
      "File not found: 2014-01 - Citi Bike trip data.csv\n",
      "File not found: 201507-citibike-tripdata.csv\n",
      "File not found: 201511-citibike-tripdata.csv\n",
      "File not found: 2014-06 - Citi Bike trip data.csv\n",
      "File not found: 201901-citibike-tripdata.csv\n",
      "File not found: 201802-citibike-tripdata.csv\n",
      "File not found: 201412-citibike-tripdata.csv\n",
      "File not found: 201601-citibike-tripdata.csv\n",
      "File not found: 202005-citibike-tripdata.csv\n",
      "File not found: 201909-citibike-tripdata.csv\n",
      "File not found: 201609-citibike-tripdata.csv\n",
      "File not found: 2013-12 - Citi Bike trip data.csv\n",
      "File not found: 201509-citibike-tripdata.csv\n",
      "File not found: 201607-citibike-tripdata.csv\n",
      "File not found: 201306-citibike-tripdata.csv\n",
      "File not found: 201704-citibike-tripdata.csv\n",
      "File not found: 201712-citibike-tripdata.csv\n",
      "File not found: 202003-citibike-tripdata.csv\n",
      "File not found: 201911-citibike-tripdata.csv\n",
      "File not found: 2014-03 - Citi Bike trip data.csv\n",
      "File not found: 201501-citibike-tripdata.csv\n",
      "File not found: 201812-citibike-tripdata.csv\n",
      "File not found: 2013-07 - Citi Bike trip data.csv\n",
      "File not found: 201804-citibike-tripdata.csv\n",
      "File not found: 201907-citibike-tripdata.csv\n",
      "File not found: 2014-04 - Citi Bike trip data.csv\n",
      "File not found: 202009-citibike-tripdata.csv\n",
      "File not found: 2013-08 - Citi Bike trip data.csv\n",
      "File not found: 201503-citibike-tripdata.csv\n",
      "File not found: 201810-citibike-tripdata.csv\n",
      "File not found: 201806-citibike-tripdata.csv\n",
      "File not found: 201905-citibike-tripdata.csv\n",
      "File not found: 201605-citibike-tripdata.csv\n",
      "File not found: 201706-citibike-tripdata.csv\n",
      "File not found: 201710-citibike-tripdata.csv\n",
      "File not found: 202001-citibike-tripdata.csv\n",
      "File not found: 201701-citibike-tripdata.csv\n",
      "File not found: 201703-citibike-tripdata.csv\n",
      "File not found: 201610-citibike-tripdata.csv\n",
      "File not found: 201612-citibike-tripdata.csv\n",
      "File not found: 201702-citibike-tripdata.csv\n",
      "File not found: 201611-citibike-tripdata.csv\n"
     ]
    }
   ],
   "source": [
    "original_dir='/Users/sra/files/projects/citibike_project/tripdata'\n",
    "new_dir='/Users/sra/files/projects/citibike_project/combined/csv_group2'\n",
    "filenames=csv_group2\n",
    "\n",
    "move_csv_files_with_filenames(original_dir=original_dir,\n",
    "                             new_dir=new_dir,\n",
    "                             filenames=filenames)"
   ]
  },
  {
   "cell_type": "markdown",
   "id": "ddd1cc89-8b91-4902-96d9-f5718839e60f",
   "metadata": {},
   "source": [
    "### Now we can combine the CSVs together"
   ]
  },
  {
   "cell_type": "code",
   "execution_count": 169,
   "id": "a89f4cfd-7160-4421-a84e-f7d3505b4937",
   "metadata": {},
   "outputs": [],
   "source": [
    "def combine_csv_files(original_dir,combined_dir,combined_filename):\n",
    "    '''\n",
    "    Takes an original directory where CSV files are \n",
    "    located and combines them to a user-specified \n",
    "    location (combined_dir) and names the new file \n",
    "    in a user-specified manner (combined_filename).\n",
    "    '''\n",
    "    \n",
    "    # Get the list of CSV files in the directory\n",
    "    csv_files = [file for file in os.listdir(original_dir) if file.endswith('.csv')]\n",
    "\n",
    "    # Initialize an empty DataFrame for combined data\n",
    "    combined_data = pd.DataFrame()\n",
    "\n",
    "    # Iterate over each CSV file\n",
    "    for index, csv_file in enumerate(csv_files):\n",
    "        file_path = os.path.join(original_dir, csv_file)\n",
    "\n",
    "        # Read CSV file\n",
    "        df = pd.read_csv(file_path)\n",
    "\n",
    "        # Append data to combined DataFrame\n",
    "        if index == 0:\n",
    "            # Include header only for the first CSV\n",
    "            combined_data = combined_data.append(df)\n",
    "        else:\n",
    "            # Skip header for other CSVs\n",
    "            combined_data = combined_data.append(df[1:], ignore_index=True)\n",
    "\n",
    "    # Save the combined data to a new CSV file\n",
    "    file_path = os.path.join(combined_dir,combined_filename)\n",
    "    combined_data.to_csv(f'{file_path}'+'.csv', index=False)"
   ]
  },
  {
   "cell_type": "code",
   "execution_count": 170,
   "id": "93e6c679-89f5-48db-aa3b-b8499156f2d9",
   "metadata": {},
   "outputs": [],
   "source": [
    "orignal_dir='/Users/sra/files/projects/citibike_project/combined/csv_group1'\n",
    "combined_dir='/Users/sra/files/projects/citibike_project/combined/group1_combined'\n",
    "combined_filename='group1'\n",
    "combine_csv_files(original_dir=original_dir,\n",
    "                  combined_dir=combined_dir,\n",
    "                  combined_filename=combined_filename)"
   ]
  },
  {
   "cell_type": "code",
   "execution_count": 173,
   "id": "1ca5ec45-0378-4686-a28a-a431ee8fe73d",
   "metadata": {},
   "outputs": [],
   "source": [
    "def combine_csv_files(original_dir, combined_dir, combined_filename):\n",
    "    '''\n",
    "    Combines all CSV files found at an original \n",
    "    directory location (original_dir) and saves it to a \n",
    "    new directory (combined_dir) with a user-specified filename\n",
    "    (combined_filename)\n",
    "    '''\n",
    "    \n",
    "    # Create the combined directory if it doesn't exist\n",
    "    if not os.path.exists(combined_dir):\n",
    "        os.makedirs(combined_dir)\n",
    "    \n",
    "    # Initialize an empty DataFrame to store the combined data\n",
    "    combined_data = pd.DataFrame()\n",
    "    \n",
    "    # Iterate over the files in the original directory\n",
    "    for filename in os.listdir(original_dir):\n",
    "        if filename.endswith('.csv'):\n",
    "            file_path = os.path.join(original_dir, filename)\n",
    "            \n",
    "            if index == 0:\n",
    "            # Include header only for the first CSV\n",
    "            combined_data = combined_data.append(df)\n",
    "            else:\n",
    "            # Skip header for other CSVs\n",
    "            combined_data = combined_data.append(df[1:], ignore_index=True)\n",
    "            \n",
    "            # Read the CSV file and append it to the combined data\n",
    "            df = pd.read_csv(file_path)\n",
    "            combined_data = combined_data.append(df, ignore_index=True)\n",
    "    \n",
    "    # Write the combined data to a new CSV file\n",
    "    combined_file_path = os.path.join(combined_dir, combined_filename)\n",
    "    combined_data.to_csv(combined_file_path, index=False)\n",
    "    print(f\"Combined CSV files saved to: {combined_file_path}\")"
   ]
  },
  {
   "cell_type": "code",
   "execution_count": 179,
   "id": "472516eb-8f85-4361-8174-650cf684de60",
   "metadata": {},
   "outputs": [],
   "source": [
    "def combine_csv_files(original_dir, combined_dir, combined_filename):\n",
    "    '''\n",
    "    Combines all CSV files found at an original \n",
    "    directory location (original_dir) and saves it to a \n",
    "    new directory (combined_dir) with a user-specified filename\n",
    "    (combined_filename), but only preserving the headers of \n",
    "    the first file (all the files have the same headers at this point)\n",
    "    '''\n",
    "    \n",
    "    # Create the combined directory if it doesn't exist\n",
    "    if not os.path.exists(combined_dir):\n",
    "        os.makedirs(combined_dir)\n",
    "    \n",
    "    # Initialize an empty DataFrame to store the combined data\n",
    "    combined_data = pd.DataFrame()\n",
    "    \n",
    "    # Flag to keep track if the header is already added\n",
    "    header_added = False\n",
    "    \n",
    "    # Iterate over the files in the original directory\n",
    "    for filename in os.listdir(original_dir):\n",
    "        if filename.endswith('.csv'):\n",
    "            file_path = os.path.join(original_dir, filename)\n",
    "            \n",
    "            # Read the CSV file\n",
    "            df = pd.read_csv(file_path)\n",
    "            \n",
    "            # If header is not added yet, add it to the combined data\n",
    "            if not header_added:\n",
    "                combined_data = pd.concat([combined_data, df.head(0)], ignore_index=True)\n",
    "                header_added = True\n",
    "            \n",
    "            # Append the remaining rows to the combined data\n",
    "            combined_data = pd.concat([combined_data, df[1:]], ignore_index=True)\n",
    "            print(f\"Concatenated the dataframe of file {filename}\")\n",
    "            \n",
    "    # Write the combined data to a new CSV file\n",
    "    combined_file_path = os.path.join(combined_dir, combined_filename)\n",
    "    combined_data.to_csv(combined_file_path, index=False)\n",
    "    print(f\"Combined CSV files saved to: {combined_file_path}\")"
   ]
  },
  {
   "cell_type": "markdown",
   "id": "eb410b7e-6be0-4a1f-8cbe-34cfa2255caa",
   "metadata": {
    "tags": []
   },
   "source": [
    "#### Group 1"
   ]
  },
  {
   "cell_type": "code",
   "execution_count": 180,
   "id": "1cb949e5-f276-4632-9ed2-69d6dac9a9e0",
   "metadata": {},
   "outputs": [
    {
     "name": "stderr",
     "output_type": "stream",
     "text": [
      "/var/folders/n3/q8wb235x57n_sx2q14dsngjr0000gn/T/ipykernel_3392/3020053849.py:26: DtypeWarning: Columns (5,7) have mixed types. Specify dtype option on import or set low_memory=False.\n",
      "  df = pd.read_csv(file_path)\n"
     ]
    },
    {
     "name": "stdout",
     "output_type": "stream",
     "text": [
      "Concatenated the dataframe of file 202105-citibike-tripdata.csv\n"
     ]
    },
    {
     "name": "stderr",
     "output_type": "stream",
     "text": [
      "/var/folders/n3/q8wb235x57n_sx2q14dsngjr0000gn/T/ipykernel_3392/3020053849.py:26: DtypeWarning: Columns (5,7) have mixed types. Specify dtype option on import or set low_memory=False.\n",
      "  df = pd.read_csv(file_path)\n"
     ]
    },
    {
     "name": "stdout",
     "output_type": "stream",
     "text": [
      "Concatenated the dataframe of file 202203-citibike-tripdata.csv\n"
     ]
    },
    {
     "name": "stderr",
     "output_type": "stream",
     "text": [
      "/var/folders/n3/q8wb235x57n_sx2q14dsngjr0000gn/T/ipykernel_3392/3020053849.py:26: DtypeWarning: Columns (5,7) have mixed types. Specify dtype option on import or set low_memory=False.\n",
      "  df = pd.read_csv(file_path)\n"
     ]
    },
    {
     "name": "stdout",
     "output_type": "stream",
     "text": [
      "Concatenated the dataframe of file 202209-citibike-tripdata.csv\n"
     ]
    },
    {
     "name": "stderr",
     "output_type": "stream",
     "text": [
      "/var/folders/n3/q8wb235x57n_sx2q14dsngjr0000gn/T/ipykernel_3392/3020053849.py:26: DtypeWarning: Columns (5,7) have mixed types. Specify dtype option on import or set low_memory=False.\n",
      "  df = pd.read_csv(file_path)\n"
     ]
    },
    {
     "name": "stdout",
     "output_type": "stream",
     "text": [
      "Concatenated the dataframe of file 202207-citbike-tripdata.csv\n"
     ]
    },
    {
     "name": "stderr",
     "output_type": "stream",
     "text": [
      "/var/folders/n3/q8wb235x57n_sx2q14dsngjr0000gn/T/ipykernel_3392/3020053849.py:26: DtypeWarning: Columns (5,7) have mixed types. Specify dtype option on import or set low_memory=False.\n",
      "  df = pd.read_csv(file_path)\n"
     ]
    },
    {
     "name": "stdout",
     "output_type": "stream",
     "text": [
      "Concatenated the dataframe of file 202302-citibike-tripdata.csv\n"
     ]
    },
    {
     "name": "stderr",
     "output_type": "stream",
     "text": [
      "/var/folders/n3/q8wb235x57n_sx2q14dsngjr0000gn/T/ipykernel_3392/3020053849.py:26: DtypeWarning: Columns (5,7) have mixed types. Specify dtype option on import or set low_memory=False.\n",
      "  df = pd.read_csv(file_path)\n"
     ]
    },
    {
     "name": "stdout",
     "output_type": "stream",
     "text": [
      "Concatenated the dataframe of file 202201-citibike-tripdata.csv\n"
     ]
    },
    {
     "name": "stderr",
     "output_type": "stream",
     "text": [
      "/var/folders/n3/q8wb235x57n_sx2q14dsngjr0000gn/T/ipykernel_3392/3020053849.py:26: DtypeWarning: Columns (7) have mixed types. Specify dtype option on import or set low_memory=False.\n",
      "  df = pd.read_csv(file_path)\n"
     ]
    },
    {
     "name": "stdout",
     "output_type": "stream",
     "text": [
      "Concatenated the dataframe of file 202107-citibike-tripdata.csv\n"
     ]
    },
    {
     "name": "stderr",
     "output_type": "stream",
     "text": [
      "/var/folders/n3/q8wb235x57n_sx2q14dsngjr0000gn/T/ipykernel_3392/3020053849.py:26: DtypeWarning: Columns (5,7) have mixed types. Specify dtype option on import or set low_memory=False.\n",
      "  df = pd.read_csv(file_path)\n"
     ]
    },
    {
     "name": "stdout",
     "output_type": "stream",
     "text": [
      "Concatenated the dataframe of file 202111-citibike-tripdata.csv\n"
     ]
    },
    {
     "name": "stderr",
     "output_type": "stream",
     "text": [
      "/var/folders/n3/q8wb235x57n_sx2q14dsngjr0000gn/T/ipykernel_3392/3020053849.py:26: DtypeWarning: Columns (5,7) have mixed types. Specify dtype option on import or set low_memory=False.\n",
      "  df = pd.read_csv(file_path)\n"
     ]
    },
    {
     "name": "stdout",
     "output_type": "stream",
     "text": [
      "Concatenated the dataframe of file 202304-citibike-tripdata.csv\n"
     ]
    },
    {
     "name": "stderr",
     "output_type": "stream",
     "text": [
      "/var/folders/n3/q8wb235x57n_sx2q14dsngjr0000gn/T/ipykernel_3392/3020053849.py:26: DtypeWarning: Columns (5,7) have mixed types. Specify dtype option on import or set low_memory=False.\n",
      "  df = pd.read_csv(file_path)\n"
     ]
    },
    {
     "name": "stdout",
     "output_type": "stream",
     "text": [
      "Concatenated the dataframe of file 202211-citibike-tripdata.csv\n"
     ]
    },
    {
     "name": "stderr",
     "output_type": "stream",
     "text": [
      "/var/folders/n3/q8wb235x57n_sx2q14dsngjr0000gn/T/ipykernel_3392/3020053849.py:26: DtypeWarning: Columns (7) have mixed types. Specify dtype option on import or set low_memory=False.\n",
      "  df = pd.read_csv(file_path)\n"
     ]
    },
    {
     "name": "stdout",
     "output_type": "stream",
     "text": [
      "Concatenated the dataframe of file 202109-citibike-tripdata.csv\n"
     ]
    },
    {
     "name": "stderr",
     "output_type": "stream",
     "text": [
      "/var/folders/n3/q8wb235x57n_sx2q14dsngjr0000gn/T/ipykernel_3392/3020053849.py:26: DtypeWarning: Columns (5,7) have mixed types. Specify dtype option on import or set low_memory=False.\n",
      "  df = pd.read_csv(file_path)\n"
     ]
    },
    {
     "name": "stdout",
     "output_type": "stream",
     "text": [
      "Concatenated the dataframe of file 202205-citibike-tripdata.csv\n"
     ]
    },
    {
     "name": "stderr",
     "output_type": "stream",
     "text": [
      "/var/folders/n3/q8wb235x57n_sx2q14dsngjr0000gn/T/ipykernel_3392/3020053849.py:26: DtypeWarning: Columns (5,7) have mixed types. Specify dtype option on import or set low_memory=False.\n",
      "  df = pd.read_csv(file_path)\n"
     ]
    },
    {
     "name": "stdout",
     "output_type": "stream",
     "text": [
      "Concatenated the dataframe of file 202103-citibike-tripdata.csv\n"
     ]
    },
    {
     "name": "stderr",
     "output_type": "stream",
     "text": [
      "/var/folders/n3/q8wb235x57n_sx2q14dsngjr0000gn/T/ipykernel_3392/3020053849.py:26: DtypeWarning: Columns (5,7) have mixed types. Specify dtype option on import or set low_memory=False.\n",
      "  df = pd.read_csv(file_path)\n"
     ]
    },
    {
     "name": "stdout",
     "output_type": "stream",
     "text": [
      "Concatenated the dataframe of file 202206-citbike-tripdata.csv\n"
     ]
    },
    {
     "name": "stderr",
     "output_type": "stream",
     "text": [
      "/var/folders/n3/q8wb235x57n_sx2q14dsngjr0000gn/T/ipykernel_3392/3020053849.py:26: DtypeWarning: Columns (5,7) have mixed types. Specify dtype option on import or set low_memory=False.\n",
      "  df = pd.read_csv(file_path)\n"
     ]
    },
    {
     "name": "stdout",
     "output_type": "stream",
     "text": [
      "Concatenated the dataframe of file 202112-citibike-tripdata.csv\n"
     ]
    },
    {
     "name": "stderr",
     "output_type": "stream",
     "text": [
      "/var/folders/n3/q8wb235x57n_sx2q14dsngjr0000gn/T/ipykernel_3392/3020053849.py:26: DtypeWarning: Columns (5,7) have mixed types. Specify dtype option on import or set low_memory=False.\n",
      "  df = pd.read_csv(file_path)\n"
     ]
    },
    {
     "name": "stdout",
     "output_type": "stream",
     "text": [
      "Concatenated the dataframe of file 202104-citibike-tripdata.csv\n"
     ]
    },
    {
     "name": "stderr",
     "output_type": "stream",
     "text": [
      "/var/folders/n3/q8wb235x57n_sx2q14dsngjr0000gn/T/ipykernel_3392/3020053849.py:26: DtypeWarning: Columns (5,7) have mixed types. Specify dtype option on import or set low_memory=False.\n",
      "  df = pd.read_csv(file_path)\n"
     ]
    },
    {
     "name": "stdout",
     "output_type": "stream",
     "text": [
      "Concatenated the dataframe of file 202202-citibike-tripdata.csv\n"
     ]
    },
    {
     "name": "stderr",
     "output_type": "stream",
     "text": [
      "/var/folders/n3/q8wb235x57n_sx2q14dsngjr0000gn/T/ipykernel_3392/3020053849.py:26: DtypeWarning: Columns (7) have mixed types. Specify dtype option on import or set low_memory=False.\n",
      "  df = pd.read_csv(file_path)\n"
     ]
    },
    {
     "name": "stdout",
     "output_type": "stream",
     "text": [
      "Concatenated the dataframe of file 202303-citibike-tripdata.csv\n"
     ]
    },
    {
     "name": "stderr",
     "output_type": "stream",
     "text": [
      "/var/folders/n3/q8wb235x57n_sx2q14dsngjr0000gn/T/ipykernel_3392/3020053849.py:26: DtypeWarning: Columns (5,7) have mixed types. Specify dtype option on import or set low_memory=False.\n",
      "  df = pd.read_csv(file_path)\n"
     ]
    },
    {
     "name": "stdout",
     "output_type": "stream",
     "text": [
      "Concatenated the dataframe of file 202110-citibike-tripdata.csv\n"
     ]
    },
    {
     "name": "stderr",
     "output_type": "stream",
     "text": [
      "/var/folders/n3/q8wb235x57n_sx2q14dsngjr0000gn/T/ipykernel_3392/3020053849.py:26: DtypeWarning: Columns (7) have mixed types. Specify dtype option on import or set low_memory=False.\n",
      "  df = pd.read_csv(file_path)\n"
     ]
    },
    {
     "name": "stdout",
     "output_type": "stream",
     "text": [
      "Concatenated the dataframe of file 202106-citibike-tripdata.csv\n"
     ]
    },
    {
     "name": "stderr",
     "output_type": "stream",
     "text": [
      "/var/folders/n3/q8wb235x57n_sx2q14dsngjr0000gn/T/ipykernel_3392/3020053849.py:26: DtypeWarning: Columns (7) have mixed types. Specify dtype option on import or set low_memory=False.\n",
      "  df = pd.read_csv(file_path)\n"
     ]
    },
    {
     "name": "stdout",
     "output_type": "stream",
     "text": [
      "Concatenated the dataframe of file 202108-citibike-tripdata.csv\n",
      "Concatenated the dataframe of file JC-202305-citibike-tripdata.csv\n"
     ]
    },
    {
     "name": "stderr",
     "output_type": "stream",
     "text": [
      "/var/folders/n3/q8wb235x57n_sx2q14dsngjr0000gn/T/ipykernel_3392/3020053849.py:26: DtypeWarning: Columns (5,7) have mixed types. Specify dtype option on import or set low_memory=False.\n",
      "  df = pd.read_csv(file_path)\n"
     ]
    },
    {
     "name": "stdout",
     "output_type": "stream",
     "text": [
      "Concatenated the dataframe of file 202204-citibike-tripdata.csv\n"
     ]
    },
    {
     "name": "stderr",
     "output_type": "stream",
     "text": [
      "/var/folders/n3/q8wb235x57n_sx2q14dsngjr0000gn/T/ipykernel_3392/3020053849.py:26: DtypeWarning: Columns (5,7) have mixed types. Specify dtype option on import or set low_memory=False.\n",
      "  df = pd.read_csv(file_path)\n"
     ]
    },
    {
     "name": "stdout",
     "output_type": "stream",
     "text": [
      "Concatenated the dataframe of file 202102-citibike-tripdata.csv\n",
      "Combined CSV files saved to: /Users/sra/files/projects/citibike_project/combined/group1_combined/group1.csv\n"
     ]
    }
   ],
   "source": [
    "original_directory = '/Users/sra/files/projects/citibike_project/combined/csv_group1'\n",
    "combined_directory = '/Users/sra/files/projects/citibike_project/combined/group1_combined'\n",
    "combined_filename = 'group1.csv'\n",
    "\n",
    "combine_csv_files(original_directory, combined_directory, combined_filename)"
   ]
  },
  {
   "cell_type": "markdown",
   "id": "f57c6f3f-e504-40b2-a965-3663cdf4d252",
   "metadata": {},
   "source": [
    "#### Group 2"
   ]
  },
  {
   "cell_type": "code",
   "execution_count": 181,
   "id": "6386227b-a2b8-4659-9087-83375f8bd27c",
   "metadata": {},
   "outputs": [
    {
     "name": "stdout",
     "output_type": "stream",
     "text": [
      "Concatenated the dataframe of file 201709-citibike-tripdata.csv\n",
      "Concatenated the dataframe of file 201809-citibike-tripdata.csv\n",
      "Concatenated the dataframe of file 2013-09 - Citi Bike trip data.csv\n",
      "Concatenated the dataframe of file 202006-citibike-tripdata.csv\n",
      "Concatenated the dataframe of file 201701-citibike-tripdata.csv\n",
      "Concatenated the dataframe of file 202010-citibike-tripdata.csv\n",
      "Concatenated the dataframe of file 201602-citibike-tripdata.csv\n",
      "Concatenated the dataframe of file 201902-citibike-tripdata.csv\n",
      "Concatenated the dataframe of file 201512-citibike-tripdata.csv\n",
      "Concatenated the dataframe of file 201411-citibike-tripdata.csv\n",
      "Concatenated the dataframe of file 201801-citibike-tripdata.csv\n",
      "Concatenated the dataframe of file 2014-05 - Citi Bike trip data.csv\n",
      "Concatenated the dataframe of file 201504-citibike-tripdata.csv\n",
      "Concatenated the dataframe of file 2014-02 - Citi Bike trip data.csv\n",
      "Concatenated the dataframe of file 201908-citibike-tripdata.csv\n",
      "Concatenated the dataframe of file 201608-citibike-tripdata.csv\n",
      "Concatenated the dataframe of file 201510-citibike-tripdata.csv\n",
      "Concatenated the dataframe of file 201803-citibike-tripdata.csv\n",
      "Concatenated the dataframe of file 201506-citibike-tripdata.csv\n",
      "Concatenated the dataframe of file 202004-citibike-tripdata.csv\n",
      "Concatenated the dataframe of file 201703-citibike-tripdata.csv\n",
      "Concatenated the dataframe of file 202012-citibike-tripdata.csv\n",
      "Concatenated the dataframe of file 202101-citibike-tripdata.csv\n",
      "Concatenated the dataframe of file 202002-citibike-tripdata.csv\n",
      "Concatenated the dataframe of file 201610-citibike-tripdata.csv\n",
      "Concatenated the dataframe of file 201606-citibike-tripdata.csv\n",
      "Concatenated the dataframe of file 201705-citibike-tripdata.csv\n",
      "Concatenated the dataframe of file 201805-citibike-tripdata.csv\n",
      "Concatenated the dataframe of file 201906-citibike-tripdata.csv\n",
      "Concatenated the dataframe of file 201910-citibike-tripdata.csv\n",
      "Concatenated the dataframe of file 201508-citibike-tripdata.csv\n",
      "Concatenated the dataframe of file 2014-07 - Citi Bike trip data.csv\n",
      "Concatenated the dataframe of file 201807-citibike-tripdata.csv\n",
      "Concatenated the dataframe of file 201904-citibike-tripdata.csv\n",
      "Concatenated the dataframe of file 201502-citibike-tripdata.csv\n",
      "Concatenated the dataframe of file 201912-citibike-tripdata.csv\n",
      "Concatenated the dataframe of file 201811-citibike-tripdata.csv\n",
      "Concatenated the dataframe of file 2014-08 - Citi Bike trip data.csv\n",
      "Concatenated the dataframe of file 201711-citibike-tripdata.csv\n",
      "Concatenated the dataframe of file 201612-citibike-tripdata.csv\n",
      "Concatenated the dataframe of file 201604-citibike-tripdata.csv\n",
      "Concatenated the dataframe of file 201707-citibike-tripdata.csv\n",
      "Concatenated the dataframe of file 201409-citibike-tripdata.csv\n",
      "Concatenated the dataframe of file 202008-citibike-tripdata.csv\n",
      "Concatenated the dataframe of file 2013-11 - Citi Bike trip data.csv\n",
      "Concatenated the dataframe of file 201603-citibike-tripdata.csv\n",
      "Concatenated the dataframe of file 202011-citibike-tripdata.csv\n",
      "Concatenated the dataframe of file 202007-citibike-tripdata.csv\n",
      "Concatenated the dataframe of file 2013-10 - Citi Bike trip data.csv\n",
      "Concatenated the dataframe of file 201505-citibike-tripdata.csv\n",
      "Concatenated the dataframe of file 201903-citibike-tripdata.csv\n",
      "Concatenated the dataframe of file 201410-citibike-tripdata.csv\n",
      "Concatenated the dataframe of file 201708-citibike-tripdata.csv\n",
      "Concatenated the dataframe of file 201808-citibike-tripdata.csv\n",
      "Concatenated the dataframe of file 2014-01 - Citi Bike trip data.csv\n",
      "Concatenated the dataframe of file 201507-citibike-tripdata.csv\n",
      "Concatenated the dataframe of file 201511-citibike-tripdata.csv\n",
      "Concatenated the dataframe of file 2014-06 - Citi Bike trip data.csv\n",
      "Concatenated the dataframe of file 201901-citibike-tripdata.csv\n",
      "Concatenated the dataframe of file 201802-citibike-tripdata.csv\n",
      "Concatenated the dataframe of file 201412-citibike-tripdata.csv\n",
      "Concatenated the dataframe of file 201702-citibike-tripdata.csv\n",
      "Concatenated the dataframe of file 201601-citibike-tripdata.csv\n",
      "Concatenated the dataframe of file 202005-citibike-tripdata.csv\n",
      "Concatenated the dataframe of file 201909-citibike-tripdata.csv\n",
      "Concatenated the dataframe of file 201609-citibike-tripdata.csv\n",
      "Concatenated the dataframe of file 2013-12 - Citi Bike trip data.csv\n",
      "Concatenated the dataframe of file 201509-citibike-tripdata.csv\n",
      "Concatenated the dataframe of file 201607-citibike-tripdata.csv\n",
      "Concatenated the dataframe of file 201306-citibike-tripdata.csv\n",
      "Concatenated the dataframe of file 201704-citibike-tripdata.csv\n",
      "Concatenated the dataframe of file 201712-citibike-tripdata.csv\n",
      "Concatenated the dataframe of file 201611-citibike-tripdata.csv\n",
      "Concatenated the dataframe of file 202003-citibike-tripdata.csv\n",
      "Concatenated the dataframe of file 201911-citibike-tripdata.csv\n",
      "Concatenated the dataframe of file 2014-03 - Citi Bike trip data.csv\n",
      "Concatenated the dataframe of file 201501-citibike-tripdata.csv\n",
      "Concatenated the dataframe of file 201812-citibike-tripdata.csv\n",
      "Concatenated the dataframe of file 2013-07 - Citi Bike trip data.csv\n",
      "Concatenated the dataframe of file 201804-citibike-tripdata.csv\n",
      "Concatenated the dataframe of file 201907-citibike-tripdata.csv\n",
      "Concatenated the dataframe of file 2014-04 - Citi Bike trip data.csv\n",
      "Concatenated the dataframe of file 202009-citibike-tripdata.csv\n",
      "Concatenated the dataframe of file 2013-08 - Citi Bike trip data.csv\n",
      "Concatenated the dataframe of file 201503-citibike-tripdata.csv\n",
      "Concatenated the dataframe of file 201810-citibike-tripdata.csv\n",
      "Concatenated the dataframe of file 201806-citibike-tripdata.csv\n",
      "Concatenated the dataframe of file 201905-citibike-tripdata.csv\n",
      "Concatenated the dataframe of file 201605-citibike-tripdata.csv\n",
      "Concatenated the dataframe of file 201706-citibike-tripdata.csv\n",
      "Concatenated the dataframe of file 201710-citibike-tripdata.csv\n",
      "Concatenated the dataframe of file 202001-citibike-tripdata.csv\n",
      "Combined CSV files saved to: /Users/sra/files/projects/citibike_project/combined/group2_combined/group2.csv\n"
     ]
    }
   ],
   "source": [
    "original_directory = '/Users/sra/files/projects/citibike_project/combined/csv_group2'\n",
    "combined_directory = '/Users/sra/files/projects/citibike_project/combined/group2_combined'\n",
    "combined_filename = 'group2.csv'\n",
    "\n",
    "combine_csv_files(original_directory, combined_directory, combined_filename)"
   ]
  },
  {
   "cell_type": "markdown",
   "id": "8354150a-77ac-4475-8f23-3155f34e6cc6",
   "metadata": {},
   "source": [
    "## Subsample `group1` for quicker turnaround"
   ]
  },
  {
   "cell_type": "code",
   "execution_count": 6,
   "id": "6fa2e21c-72df-4ee3-a697-1b54593164d3",
   "metadata": {},
   "outputs": [],
   "source": [
    "group1_location='/Users/sra/files/projects/citibike_project/combined/group1_combined/group1.csv'\n",
    "group1_full=pd.read_csv(group1_location, low_memory=False)"
   ]
  },
  {
   "cell_type": "code",
   "execution_count": 11,
   "id": "0a7e373f-1b5f-4bfe-b0eb-1d409dd3420f",
   "metadata": {},
   "outputs": [
    {
     "name": "stdout",
     "output_type": "stream",
     "text": [
      "<class 'pandas.core.frame.DataFrame'>\n",
      "RangeIndex: 55800085 entries, 0 to 55800084\n",
      "Data columns (total 13 columns):\n",
      " #   Column              Dtype  \n",
      "---  ------              -----  \n",
      " 0   ride_id             object \n",
      " 1   rideable_type       object \n",
      " 2   started_at          object \n",
      " 3   ended_at            object \n",
      " 4   start_station_name  object \n",
      " 5   start_station_id    object \n",
      " 6   end_station_name    object \n",
      " 7   end_station_id      object \n",
      " 8   start_lat           float64\n",
      " 9   start_lng           float64\n",
      " 10  end_lat             float64\n",
      " 11  end_lng             float64\n",
      " 12  member_casual       object \n",
      "dtypes: float64(4), object(9)\n",
      "memory usage: 5.4+ GB\n"
     ]
    }
   ],
   "source": [
    "group1_full.info()"
   ]
  },
  {
   "cell_type": "code",
   "execution_count": 7,
   "id": "556e7902-cbad-4133-b42b-f42027cd1498",
   "metadata": {},
   "outputs": [],
   "source": [
    "group1_sample=group1_full.sample(frac=0.1, random_state=1)"
   ]
  },
  {
   "cell_type": "code",
   "execution_count": 8,
   "id": "e1afb63d-df61-4c70-81d1-07978093595c",
   "metadata": {},
   "outputs": [
    {
     "data": {
      "text/html": [
       "<div>\n",
       "<style scoped>\n",
       "    .dataframe tbody tr th:only-of-type {\n",
       "        vertical-align: middle;\n",
       "    }\n",
       "\n",
       "    .dataframe tbody tr th {\n",
       "        vertical-align: top;\n",
       "    }\n",
       "\n",
       "    .dataframe thead th {\n",
       "        text-align: right;\n",
       "    }\n",
       "</style>\n",
       "<table border=\"1\" class=\"dataframe\">\n",
       "  <thead>\n",
       "    <tr style=\"text-align: right;\">\n",
       "      <th></th>\n",
       "      <th>ride_id</th>\n",
       "      <th>rideable_type</th>\n",
       "      <th>started_at</th>\n",
       "      <th>ended_at</th>\n",
       "      <th>start_station_name</th>\n",
       "      <th>start_station_id</th>\n",
       "      <th>end_station_name</th>\n",
       "      <th>end_station_id</th>\n",
       "      <th>start_lat</th>\n",
       "      <th>start_lng</th>\n",
       "      <th>end_lat</th>\n",
       "      <th>end_lng</th>\n",
       "      <th>member_casual</th>\n",
       "    </tr>\n",
       "  </thead>\n",
       "  <tbody>\n",
       "    <tr>\n",
       "      <th>11856258</th>\n",
       "      <td>052476E4CEC046E3</td>\n",
       "      <td>electric_bike</td>\n",
       "      <td>2023-02-01 09:54:39</td>\n",
       "      <td>2023-02-01 09:57:47</td>\n",
       "      <td>Prospect Pl &amp; Nostrand Ave</td>\n",
       "      <td>4025.02</td>\n",
       "      <td>Brevoort Pl &amp; Bedford Ave</td>\n",
       "      <td>4181.10</td>\n",
       "      <td>40.674280</td>\n",
       "      <td>-73.950300</td>\n",
       "      <td>40.680120</td>\n",
       "      <td>-73.953620</td>\n",
       "      <td>member</td>\n",
       "    </tr>\n",
       "    <tr>\n",
       "      <th>49373665</th>\n",
       "      <td>38933EDB9088B05E</td>\n",
       "      <td>electric_bike</td>\n",
       "      <td>2021-06-27 00:37:05</td>\n",
       "      <td>2021-06-27 01:01:18</td>\n",
       "      <td>N 6 St &amp; Bedford Ave</td>\n",
       "      <td>5379.1</td>\n",
       "      <td>Dean St &amp; Franklin Ave</td>\n",
       "      <td>4107.13</td>\n",
       "      <td>40.717452</td>\n",
       "      <td>-73.958509</td>\n",
       "      <td>40.677592</td>\n",
       "      <td>-73.955637</td>\n",
       "      <td>casual</td>\n",
       "    </tr>\n",
       "    <tr>\n",
       "      <th>9678059</th>\n",
       "      <td>C3277587ACF30DB4</td>\n",
       "      <td>electric_bike</td>\n",
       "      <td>2022-07-14 17:48:37</td>\n",
       "      <td>2022-07-14 17:56:22</td>\n",
       "      <td>University Pl &amp; E 14 St</td>\n",
       "      <td>5905.14</td>\n",
       "      <td>Forsyth St\\t&amp; Grand St</td>\n",
       "      <td>5382.07</td>\n",
       "      <td>40.734814</td>\n",
       "      <td>-73.992085</td>\n",
       "      <td>40.717798</td>\n",
       "      <td>-73.993161</td>\n",
       "      <td>member</td>\n",
       "    </tr>\n",
       "    <tr>\n",
       "      <th>32643957</th>\n",
       "      <td>73F9A9B55C74CA4D</td>\n",
       "      <td>docked_bike</td>\n",
       "      <td>2021-03-12 11:31:18</td>\n",
       "      <td>2021-03-12 11:38:06</td>\n",
       "      <td>E 58 St &amp; 3 Ave</td>\n",
       "      <td>6762.02</td>\n",
       "      <td>E 43 St &amp; 2 Ave</td>\n",
       "      <td>6422.08</td>\n",
       "      <td>40.760958</td>\n",
       "      <td>-73.967245</td>\n",
       "      <td>40.750224</td>\n",
       "      <td>-73.971214</td>\n",
       "      <td>member</td>\n",
       "    </tr>\n",
       "    <tr>\n",
       "      <th>51891896</th>\n",
       "      <td>265A60512EE3A6CE</td>\n",
       "      <td>electric_bike</td>\n",
       "      <td>2021-08-18 09:53:17</td>\n",
       "      <td>2021-08-18 10:02:44</td>\n",
       "      <td>5 Ave &amp; E 103 St</td>\n",
       "      <td>7511.19</td>\n",
       "      <td>Cathedral Pkwy &amp; Broadway</td>\n",
       "      <td>7680.03</td>\n",
       "      <td>40.792255</td>\n",
       "      <td>-73.952499</td>\n",
       "      <td>40.804213</td>\n",
       "      <td>-73.966991</td>\n",
       "      <td>member</td>\n",
       "    </tr>\n",
       "  </tbody>\n",
       "</table>\n",
       "</div>"
      ],
      "text/plain": [
       "                   ride_id  rideable_type           started_at  \\\n",
       "11856258  052476E4CEC046E3  electric_bike  2023-02-01 09:54:39   \n",
       "49373665  38933EDB9088B05E  electric_bike  2021-06-27 00:37:05   \n",
       "9678059   C3277587ACF30DB4  electric_bike  2022-07-14 17:48:37   \n",
       "32643957  73F9A9B55C74CA4D    docked_bike  2021-03-12 11:31:18   \n",
       "51891896  265A60512EE3A6CE  electric_bike  2021-08-18 09:53:17   \n",
       "\n",
       "                     ended_at          start_station_name start_station_id  \\\n",
       "11856258  2023-02-01 09:57:47  Prospect Pl & Nostrand Ave          4025.02   \n",
       "49373665  2021-06-27 01:01:18        N 6 St & Bedford Ave           5379.1   \n",
       "9678059   2022-07-14 17:56:22     University Pl & E 14 St          5905.14   \n",
       "32643957  2021-03-12 11:38:06             E 58 St & 3 Ave          6762.02   \n",
       "51891896  2021-08-18 10:02:44            5 Ave & E 103 St          7511.19   \n",
       "\n",
       "                   end_station_name end_station_id  start_lat  start_lng  \\\n",
       "11856258  Brevoort Pl & Bedford Ave        4181.10  40.674280 -73.950300   \n",
       "49373665     Dean St & Franklin Ave        4107.13  40.717452 -73.958509   \n",
       "9678059      Forsyth St\\t& Grand St        5382.07  40.734814 -73.992085   \n",
       "32643957            E 43 St & 2 Ave        6422.08  40.760958 -73.967245   \n",
       "51891896  Cathedral Pkwy & Broadway        7680.03  40.792255 -73.952499   \n",
       "\n",
       "            end_lat    end_lng member_casual  \n",
       "11856258  40.680120 -73.953620        member  \n",
       "49373665  40.677592 -73.955637        casual  \n",
       "9678059   40.717798 -73.993161        member  \n",
       "32643957  40.750224 -73.971214        member  \n",
       "51891896  40.804213 -73.966991        member  "
      ]
     },
     "execution_count": 8,
     "metadata": {},
     "output_type": "execute_result"
    }
   ],
   "source": [
    "group1_sample.head()"
   ]
  },
  {
   "cell_type": "code",
   "execution_count": 10,
   "id": "3f059113-cea5-4d7d-8402-a2b8331e352a",
   "metadata": {},
   "outputs": [
    {
     "name": "stdout",
     "output_type": "stream",
     "text": [
      "<class 'pandas.core.frame.DataFrame'>\n",
      "Int64Index: 5580008 entries, 11856258 to 41137841\n",
      "Data columns (total 13 columns):\n",
      " #   Column              Dtype  \n",
      "---  ------              -----  \n",
      " 0   ride_id             object \n",
      " 1   rideable_type       object \n",
      " 2   started_at          object \n",
      " 3   ended_at            object \n",
      " 4   start_station_name  object \n",
      " 5   start_station_id    object \n",
      " 6   end_station_name    object \n",
      " 7   end_station_id      object \n",
      " 8   start_lat           float64\n",
      " 9   start_lng           float64\n",
      " 10  end_lat             float64\n",
      " 11  end_lng             float64\n",
      " 12  member_casual       object \n",
      "dtypes: float64(4), object(9)\n",
      "memory usage: 596.0+ MB\n"
     ]
    }
   ],
   "source": [
    "group1_sample.info()"
   ]
  },
  {
   "cell_type": "markdown",
   "id": "caaca59e-20b5-46f4-b800-52859993ab02",
   "metadata": {},
   "source": [
    "Good that the sub-sampling worked.\n",
    "\n",
    "Now we can save this sub-sampled dataframe to a .CSV to work on it in Tableau."
   ]
  },
  {
   "cell_type": "code",
   "execution_count": 12,
   "id": "65e56a9f-c856-4ebb-908d-a63cfaf9fc53",
   "metadata": {},
   "outputs": [],
   "source": [
    "group1_sample.to_csv('/Users/sra/files/projects/citibike_project/combined/group1_combined/group1_sample.csv',index=False)"
   ]
  },
  {
   "cell_type": "markdown",
   "id": "bce3fee1-dcf4-492f-bc26-cf0f6237859e",
   "metadata": {},
   "source": [
    "# Addendum: Table Doublechecks"
   ]
  },
  {
   "cell_type": "markdown",
   "id": "441d84b6-1637-4e97-8655-bac9dc17c11c",
   "metadata": {},
   "source": [
    "Check if the tables are formatted correctly, with minimal 'nulls'. To do this, we have to import `polars` to view the table."
   ]
  },
  {
   "cell_type": "code",
   "execution_count": 1,
   "id": "3c93211a-4704-45fb-b0d3-cf2cee1c06c6",
   "metadata": {},
   "outputs": [],
   "source": [
    "import polars as pl"
   ]
  },
  {
   "cell_type": "code",
   "execution_count": 2,
   "id": "5754c21b-cf9b-4a9a-8d39-0954380ae2c5",
   "metadata": {},
   "outputs": [],
   "source": [
    "group1_location='/Users/sra/files/projects/citibike_project/combined/group1_combined/group1.csv'\n",
    "group2_location='/Users/sra/files/projects/citibike_project/combined/group2_combined/group2.csv'"
   ]
  },
  {
   "cell_type": "code",
   "execution_count": 3,
   "id": "b766c4ee-a92f-4b4a-8cbd-c657b936e165",
   "metadata": {},
   "outputs": [
    {
     "data": {
      "text/html": [
       "<div><style>\n",
       ".dataframe > thead > tr > th,\n",
       ".dataframe > tbody > tr > td {\n",
       "  text-align: right;\n",
       "}\n",
       "</style>\n",
       "<small>shape: (5, 13)</small><table border=\"1\" class=\"dataframe\"><thead><tr><th>ride_id</th><th>rideable_type</th><th>started_at</th><th>ended_at</th><th>start_station_name</th><th>start_station_id</th><th>end_station_name</th><th>end_station_id</th><th>start_lat</th><th>start_lng</th><th>end_lat</th><th>end_lng</th><th>member_casual</th></tr><tr><td>str</td><td>str</td><td>datetime[μs]</td><td>datetime[μs]</td><td>str</td><td>f64</td><td>str</td><td>f64</td><td>f64</td><td>f64</td><td>f64</td><td>f64</td><td>str</td></tr></thead><tbody><tr><td>&quot;26A3DC47FE0EA3…</td><td>&quot;docked_bike&quot;</td><td>2021-05-13 12:48:08</td><td>2021-05-13 13:07:37</td><td>&quot;Broadway &amp; W 2…</td><td>6173.08</td><td>&quot;E 2 St &amp; Avenu…</td><td>5515.02</td><td>40.742868</td><td>-73.989186</td><td>40.722174</td><td>-73.983688</td><td>&quot;member&quot;</td></tr><tr><td>&quot;A99F2E1D627B08…</td><td>&quot;docked_bike&quot;</td><td>2021-05-16 08:30:13</td><td>2021-05-16 08:45:47</td><td>&quot;46 Ave &amp; 5 St&quot;</td><td>6286.02</td><td>&quot;34th Ave &amp; Ver…</td><td>6873.01</td><td>40.74731</td><td>-73.95451</td><td>40.765354</td><td>-73.939863</td><td>&quot;member&quot;</td></tr><tr><td>&quot;43E79A45997B73…</td><td>&quot;docked_bike&quot;</td><td>2021-05-01 08:38:14</td><td>2021-05-01 08:54:27</td><td>&quot;46 Ave &amp; 5 St&quot;</td><td>6286.02</td><td>&quot;34th Ave &amp; Ver…</td><td>6873.01</td><td>40.74731</td><td>-73.95451</td><td>40.765354</td><td>-73.939863</td><td>&quot;member&quot;</td></tr><tr><td>&quot;8B3CC649F4F588…</td><td>&quot;docked_bike&quot;</td><td>2021-05-09 08:12:31</td><td>2021-05-09 08:27:05</td><td>&quot;46 Ave &amp; 5 St&quot;</td><td>6286.02</td><td>&quot;34th Ave &amp; Ver…</td><td>6873.01</td><td>40.74731</td><td>-73.95451</td><td>40.765354</td><td>-73.939863</td><td>&quot;member&quot;</td></tr><tr><td>&quot;7101C98F057486…</td><td>&quot;docked_bike&quot;</td><td>2021-05-27 07:52:27</td><td>2021-05-27 08:09:01</td><td>&quot;E 123 St &amp; Lex…</td><td>7636.05</td><td>&quot;1 Ave &amp; E 78 S…</td><td>7020.09</td><td>40.802926</td><td>-73.9379</td><td>40.771404</td><td>-73.953517</td><td>&quot;member&quot;</td></tr></tbody></table></div>"
      ],
      "text/plain": [
       "shape: (5, 13)\n",
       "┌───────────┬────────────┬──────────┬───────────┬───┬─────────┬───────────┬───────────┬────────────┐\n",
       "│ ride_id   ┆ rideable_t ┆ started_ ┆ ended_at  ┆ … ┆ start_l ┆ end_lat   ┆ end_lng   ┆ member_cas │\n",
       "│ ---       ┆ ype        ┆ at       ┆ ---       ┆   ┆ ng      ┆ ---       ┆ ---       ┆ ual        │\n",
       "│ str       ┆ ---        ┆ ---      ┆ datetime[ ┆   ┆ ---     ┆ f64       ┆ f64       ┆ ---        │\n",
       "│           ┆ str        ┆ datetime ┆ μs]       ┆   ┆ f64     ┆           ┆           ┆ str        │\n",
       "│           ┆            ┆ [μs]     ┆           ┆   ┆         ┆           ┆           ┆            │\n",
       "╞═══════════╪════════════╪══════════╪═══════════╪═══╪═════════╪═══════════╪═══════════╪════════════╡\n",
       "│ 26A3DC47F ┆ docked_bik ┆ 2021-05- ┆ 2021-05-1 ┆ … ┆ -73.989 ┆ 40.722174 ┆ -73.98368 ┆ member     │\n",
       "│ E0EA3A3   ┆ e          ┆ 13       ┆ 3         ┆   ┆ 186     ┆           ┆ 8         ┆            │\n",
       "│           ┆            ┆ 12:48:08 ┆ 13:07:37  ┆   ┆         ┆           ┆           ┆            │\n",
       "│ A99F2E1D6 ┆ docked_bik ┆ 2021-05- ┆ 2021-05-1 ┆ … ┆ -73.954 ┆ 40.765354 ┆ -73.93986 ┆ member     │\n",
       "│ 27B088F   ┆ e          ┆ 16       ┆ 6         ┆   ┆ 51      ┆           ┆ 3         ┆            │\n",
       "│           ┆            ┆ 08:30:13 ┆ 08:45:47  ┆   ┆         ┆           ┆           ┆            │\n",
       "│ 43E79A459 ┆ docked_bik ┆ 2021-05- ┆ 2021-05-0 ┆ … ┆ -73.954 ┆ 40.765354 ┆ -73.93986 ┆ member     │\n",
       "│ 97B7390   ┆ e          ┆ 01       ┆ 1         ┆   ┆ 51      ┆           ┆ 3         ┆            │\n",
       "│           ┆            ┆ 08:38:14 ┆ 08:54:27  ┆   ┆         ┆           ┆           ┆            │\n",
       "│ 8B3CC649F ┆ docked_bik ┆ 2021-05- ┆ 2021-05-0 ┆ … ┆ -73.954 ┆ 40.765354 ┆ -73.93986 ┆ member     │\n",
       "│ 4F58816   ┆ e          ┆ 09       ┆ 9         ┆   ┆ 51      ┆           ┆ 3         ┆            │\n",
       "│           ┆            ┆ 08:12:31 ┆ 08:27:05  ┆   ┆         ┆           ┆           ┆            │\n",
       "│ 7101C98F0 ┆ docked_bik ┆ 2021-05- ┆ 2021-05-2 ┆ … ┆ -73.937 ┆ 40.771404 ┆ -73.95351 ┆ member     │\n",
       "│ 57486F4   ┆ e          ┆ 27       ┆ 7         ┆   ┆ 9       ┆           ┆ 7         ┆            │\n",
       "│           ┆            ┆ 07:52:27 ┆ 08:09:01  ┆   ┆         ┆           ┆           ┆            │\n",
       "└───────────┴────────────┴──────────┴───────────┴───┴─────────┴───────────┴───────────┴────────────┘"
      ]
     },
     "execution_count": 3,
     "metadata": {},
     "output_type": "execute_result"
    }
   ],
   "source": [
    "q=(\n",
    "    pl.scan_csv(group1_location,ignore_errors=True,try_parse_dates=True)\n",
    ")\n",
    "group1_pl=q.collect()\n",
    "group1_pl.head()"
   ]
  },
  {
   "cell_type": "code",
   "execution_count": 3,
   "id": "027d54f1-f915-4cc7-ac83-c5279e836b54",
   "metadata": {},
   "outputs": [
    {
     "ename": "NameError",
     "evalue": "name 'group1_pl' is not defined",
     "output_type": "error",
     "traceback": [
      "\u001b[0;31m---------------------------------------------------------------------------\u001b[0m",
      "\u001b[0;31mNameError\u001b[0m                                 Traceback (most recent call last)",
      "Cell \u001b[0;32mIn[3], line 1\u001b[0m\n\u001b[0;32m----> 1\u001b[0m table\u001b[38;5;241m=\u001b[39m\u001b[43mgroup1_pl\u001b[49m\u001b[38;5;241m.\u001b[39mfilter(group1_pl[\u001b[38;5;124m'\u001b[39m\u001b[38;5;124mstart_station_id\u001b[39m\u001b[38;5;124m'\u001b[39m]\u001b[38;5;241m==\u001b[39m\u001b[38;5;241m6173.08\u001b[39m)\n\u001b[1;32m      2\u001b[0m table\u001b[38;5;241m=\u001b[39mtable\u001b[38;5;241m.\u001b[39mfilter(table[\u001b[38;5;124m'\u001b[39m\u001b[38;5;124mend_station_id\u001b[39m\u001b[38;5;124m'\u001b[39m]\u001b[38;5;241m==\u001b[39m\u001b[38;5;241m6173.08\u001b[39m)\n\u001b[1;32m      3\u001b[0m table\u001b[38;5;241m.\u001b[39mhead()\n",
      "\u001b[0;31mNameError\u001b[0m: name 'group1_pl' is not defined"
     ]
    }
   ],
   "source": [
    "table=group1_pl.filter(group1_pl['start_station_id']==6173.08)\n",
    "table=table.filter(table['end_station_id']==6173.08)\n",
    "table.head()"
   ]
  },
  {
   "cell_type": "code",
   "execution_count": 14,
   "id": "2df4d440-8df6-4437-a1f6-599edd10144e",
   "metadata": {},
   "outputs": [
    {
     "data": {
      "text/html": [
       "<div><style>\n",
       ".dataframe > thead > tr > th,\n",
       ".dataframe > tbody > tr > td {\n",
       "  text-align: right;\n",
       "}\n",
       "</style>\n",
       "<small>shape: (9, 14)</small><table border=\"1\" class=\"dataframe\"><thead><tr><th>describe</th><th>ride_id</th><th>rideable_type</th><th>started_at</th><th>ended_at</th><th>start_station_name</th><th>start_station_id</th><th>end_station_name</th><th>end_station_id</th><th>start_lat</th><th>start_lng</th><th>end_lat</th><th>end_lng</th><th>member_casual</th></tr><tr><td>str</td><td>str</td><td>str</td><td>str</td><td>str</td><td>str</td><td>f64</td><td>str</td><td>f64</td><td>f64</td><td>f64</td><td>f64</td><td>f64</td><td>str</td></tr></thead><tbody><tr><td>&quot;count&quot;</td><td>&quot;55800085&quot;</td><td>&quot;55800085&quot;</td><td>&quot;55800085&quot;</td><td>&quot;55800085&quot;</td><td>&quot;55800085&quot;</td><td>5.5800085e7</td><td>&quot;55800085&quot;</td><td>5.5800085e7</td><td>5.5800085e7</td><td>5.5800085e7</td><td>5.5800085e7</td><td>5.5800085e7</td><td>&quot;55800085&quot;</td></tr><tr><td>&quot;null_count&quot;</td><td>&quot;0&quot;</td><td>&quot;0&quot;</td><td>&quot;0&quot;</td><td>&quot;0&quot;</td><td>&quot;892&quot;</td><td>97418.0</td><td>&quot;164131&quot;</td><td>264461.0</td><td>0.0</td><td>0.0</td><td>94619.0</td><td>94619.0</td><td>&quot;0&quot;</td></tr><tr><td>&quot;mean&quot;</td><td>null</td><td>null</td><td>null</td><td>null</td><td>null</td><td>6029.1487</td><td>null</td><td>6022.732784</td><td>40.740472</td><td>-73.97562</td><td>40.740252</td><td>-73.975724</td><td>null</td></tr><tr><td>&quot;std&quot;</td><td>null</td><td>null</td><td>null</td><td>null</td><td>null</td><td>1079.796264</td><td>null</td><td>1078.309562</td><td>0.03859</td><td>0.025587</td><td>0.038519</td><td>0.025605</td><td>null</td></tr><tr><td>&quot;min&quot;</td><td>&quot;00000045A35269…</td><td>&quot;classic_bike&quot;</td><td>&quot;2021-02-01 00:…</td><td>&quot;2021-02-01 00:…</td><td>&quot;1 Ave &amp; E 110 …</td><td>2733.03</td><td>&quot;1 Ave &amp; E 110 …</td><td>2733.03</td><td>40.574826</td><td>-74.086783</td><td>40.56</td><td>-74.28</td><td>&quot;casual&quot;</td></tr><tr><td>&quot;max&quot;</td><td>&quot;FFFFFFE8DDCE56…</td><td>&quot;electric_bike&quot;</td><td>&quot;2023-05-31 23:…</td><td>&quot;2023-06-06 07:…</td><td>&quot;York St &amp; Mari…</td><td>8841.03</td><td>&quot;York St &amp; Mari…</td><td>8841.03</td><td>40.882736</td><td>-73.86757</td><td>40.96</td><td>-73.53</td><td>&quot;member&quot;</td></tr><tr><td>&quot;median&quot;</td><td>null</td><td>null</td><td>null</td><td>null</td><td>null</td><td>6055.08</td><td>null</td><td>6039.06</td><td>40.739355</td><td>-73.981656</td><td>40.739126</td><td>-73.981687</td><td>null</td></tr><tr><td>&quot;25%&quot;</td><td>null</td><td>null</td><td>null</td><td>null</td><td>null</td><td>5329.03</td><td>null</td><td>5329.03</td><td>40.716058</td><td>-73.993836</td><td>40.716021</td><td>-73.993915</td><td>null</td></tr><tr><td>&quot;75%&quot;</td><td>null</td><td>null</td><td>null</td><td>null</td><td>null</td><td>6809.09</td><td>null</td><td>6798.01</td><td>40.763189</td><td>-73.959776</td><td>40.763126</td><td>-73.959875</td><td>null</td></tr></tbody></table></div>"
      ],
      "text/plain": [
       "shape: (9, 14)\n",
       "┌───────────┬───────────┬────────────┬──────────┬───┬─────────┬───────────┬───────────┬────────────┐\n",
       "│ describe  ┆ ride_id   ┆ rideable_t ┆ started_ ┆ … ┆ start_l ┆ end_lat   ┆ end_lng   ┆ member_cas │\n",
       "│ ---       ┆ ---       ┆ ype        ┆ at       ┆   ┆ ng      ┆ ---       ┆ ---       ┆ ual        │\n",
       "│ str       ┆ str       ┆ ---        ┆ ---      ┆   ┆ ---     ┆ f64       ┆ f64       ┆ ---        │\n",
       "│           ┆           ┆ str        ┆ str      ┆   ┆ f64     ┆           ┆           ┆ str        │\n",
       "╞═══════════╪═══════════╪════════════╪══════════╪═══╪═════════╪═══════════╪═══════════╪════════════╡\n",
       "│ count     ┆ 55800085  ┆ 55800085   ┆ 55800085 ┆ … ┆ 5.58000 ┆ 5.5800085 ┆ 5.5800085 ┆ 55800085   │\n",
       "│           ┆           ┆            ┆          ┆   ┆ 85e7    ┆ e7        ┆ e7        ┆            │\n",
       "│ null_coun ┆ 0         ┆ 0          ┆ 0        ┆ … ┆ 0.0     ┆ 94619.0   ┆ 94619.0   ┆ 0          │\n",
       "│ t         ┆           ┆            ┆          ┆   ┆         ┆           ┆           ┆            │\n",
       "│ mean      ┆ null      ┆ null       ┆ null     ┆ … ┆ -73.975 ┆ 40.740252 ┆ -73.97572 ┆ null       │\n",
       "│           ┆           ┆            ┆          ┆   ┆ 62      ┆           ┆ 4         ┆            │\n",
       "│ std       ┆ null      ┆ null       ┆ null     ┆ … ┆ 0.02558 ┆ 0.038519  ┆ 0.025605  ┆ null       │\n",
       "│           ┆           ┆            ┆          ┆   ┆ 7       ┆           ┆           ┆            │\n",
       "│ min       ┆ 00000045A ┆ classic_bi ┆ 2021-02- ┆ … ┆ -74.086 ┆ 40.56     ┆ -74.28    ┆ casual     │\n",
       "│           ┆ 35269CB   ┆ ke         ┆ 01       ┆   ┆ 783     ┆           ┆           ┆            │\n",
       "│           ┆           ┆            ┆ 00:04:23 ┆   ┆         ┆           ┆           ┆            │\n",
       "│ max       ┆ FFFFFFE8D ┆ electric_b ┆ 2023-05- ┆ … ┆ -73.867 ┆ 40.96     ┆ -73.53    ┆ member     │\n",
       "│           ┆ DCE5606   ┆ ike        ┆ 31       ┆   ┆ 57      ┆           ┆           ┆            │\n",
       "│           ┆           ┆            ┆ 23:58:58 ┆   ┆         ┆           ┆           ┆            │\n",
       "│ median    ┆ null      ┆ null       ┆ null     ┆ … ┆ -73.981 ┆ 40.739126 ┆ -73.98168 ┆ null       │\n",
       "│           ┆           ┆            ┆          ┆   ┆ 656     ┆           ┆ 7         ┆            │\n",
       "│ 25%       ┆ null      ┆ null       ┆ null     ┆ … ┆ -73.993 ┆ 40.716021 ┆ -73.99391 ┆ null       │\n",
       "│           ┆           ┆            ┆          ┆   ┆ 836     ┆           ┆ 5         ┆            │\n",
       "│ 75%       ┆ null      ┆ null       ┆ null     ┆ … ┆ -73.959 ┆ 40.763126 ┆ -73.95987 ┆ null       │\n",
       "│           ┆           ┆            ┆          ┆   ┆ 776     ┆           ┆ 5         ┆            │\n",
       "└───────────┴───────────┴────────────┴──────────┴───┴─────────┴───────────┴───────────┴────────────┘"
      ]
     },
     "execution_count": 14,
     "metadata": {},
     "output_type": "execute_result"
    }
   ],
   "source": [
    "group1_pl.describe()"
   ]
  },
  {
   "cell_type": "code",
   "execution_count": 4,
   "id": "da26067e-50a3-49f7-919b-c5fb0cc91581",
   "metadata": {},
   "outputs": [
    {
     "data": {
      "text/html": [
       "<div><style>\n",
       ".dataframe > thead > tr > th,\n",
       ".dataframe > tbody > tr > td {\n",
       "  text-align: right;\n",
       "}\n",
       "</style>\n",
       "<small>shape: (5, 30)</small><table border=\"1\" class=\"dataframe\"><thead><tr><th>tripduration</th><th>starttime</th><th>stoptime</th><th>start station id</th><th>start station name</th><th>start station latitude</th><th>start station longitude</th><th>end station id</th><th>end station name</th><th>end station latitude</th><th>end station longitude</th><th>bikeid</th><th>usertype</th><th>birth year</th><th>gender</th><th>Trip Duration</th><th>Start Time</th><th>Stop Time</th><th>Start Station ID</th><th>Start Station Name</th><th>Start Station Latitude</th><th>Start Station Longitude</th><th>End Station ID</th><th>End Station Name</th><th>End Station Latitude</th><th>End Station Longitude</th><th>Bike ID</th><th>User Type</th><th>Birth Year</th><th>Gender</th></tr><tr><td>f64</td><td>datetime[μs]</td><td>datetime[μs]</td><td>f64</td><td>str</td><td>f64</td><td>f64</td><td>f64</td><td>str</td><td>f64</td><td>f64</td><td>f64</td><td>str</td><td>f64</td><td>f64</td><td>str</td><td>str</td><td>str</td><td>str</td><td>str</td><td>str</td><td>str</td><td>str</td><td>str</td><td>str</td><td>str</td><td>str</td><td>str</td><td>str</td><td>str</td></tr></thead><tbody><tr><td>188.0</td><td>2017-09-01 00:00:21</td><td>2017-09-01 00:03:30</td><td>3101.0</td><td>&quot;N 12 St &amp; Bedf…</td><td>40.720798</td><td>-73.954847</td><td>3100.0</td><td>&quot;Nassau Ave &amp; N…</td><td>40.724813</td><td>-73.947526</td><td>15475.0</td><td>&quot;Subscriber&quot;</td><td>1988.0</td><td>1.0</td><td>null</td><td>null</td><td>null</td><td>null</td><td>null</td><td>null</td><td>null</td><td>null</td><td>null</td><td>null</td><td>null</td><td>null</td><td>null</td><td>null</td><td>null</td></tr><tr><td>305.0</td><td>2017-09-01 00:00:25</td><td>2017-09-01 00:05:30</td><td>3140.0</td><td>&quot;1 Ave &amp; E 78 S…</td><td>40.771404</td><td>-73.953517</td><td>3141.0</td><td>&quot;1 Ave &amp; E 68 S…</td><td>40.765005</td><td>-73.958185</td><td>30346.0</td><td>&quot;Subscriber&quot;</td><td>1969.0</td><td>1.0</td><td>null</td><td>null</td><td>null</td><td>null</td><td>null</td><td>null</td><td>null</td><td>null</td><td>null</td><td>null</td><td>null</td><td>null</td><td>null</td><td>null</td><td>null</td></tr><tr><td>223.0</td><td>2017-09-01 00:00:52</td><td>2017-09-01 00:04:36</td><td>236.0</td><td>&quot;St Marks Pl &amp; …</td><td>40.728419</td><td>-73.98714</td><td>473.0</td><td>&quot;Rivington St &amp;…</td><td>40.721101</td><td>-73.991925</td><td>28056.0</td><td>&quot;Subscriber&quot;</td><td>1993.0</td><td>1.0</td><td>null</td><td>null</td><td>null</td><td>null</td><td>null</td><td>null</td><td>null</td><td>null</td><td>null</td><td>null</td><td>null</td><td>null</td><td>null</td><td>null</td><td>null</td></tr><tr><td>758.0</td><td>2017-09-01 00:01:01</td><td>2017-09-01 00:13:40</td><td>3427.0</td><td>&quot;Lafayette St &amp;…</td><td>40.724305</td><td>-73.99601</td><td>3431.0</td><td>&quot;E 35 St &amp; 3 Av…</td><td>40.746524</td><td>-73.977885</td><td>25413.0</td><td>&quot;Subscriber&quot;</td><td>1987.0</td><td>1.0</td><td>null</td><td>null</td><td>null</td><td>null</td><td>null</td><td>null</td><td>null</td><td>null</td><td>null</td><td>null</td><td>null</td><td>null</td><td>null</td><td>null</td><td>null</td></tr><tr><td>2089.0</td><td>2017-09-01 00:01:20</td><td>2017-09-01 00:36:09</td><td>3016.0</td><td>&quot;Kent Ave &amp; N 7…</td><td>40.720368</td><td>-73.961651</td><td>3358.0</td><td>&quot;Garfield Pl &amp; …</td><td>40.671198</td><td>-73.974841</td><td>17584.0</td><td>&quot;Subscriber&quot;</td><td>1975.0</td><td>2.0</td><td>null</td><td>null</td><td>null</td><td>null</td><td>null</td><td>null</td><td>null</td><td>null</td><td>null</td><td>null</td><td>null</td><td>null</td><td>null</td><td>null</td><td>null</td></tr></tbody></table></div>"
      ],
      "text/plain": [
       "shape: (5, 30)\n",
       "┌────────────┬─────────────┬────────────┬────────────┬───┬─────────┬───────────┬──────────┬────────┐\n",
       "│ tripdurati ┆ starttime   ┆ stoptime   ┆ start      ┆ … ┆ Bike ID ┆ User Type ┆ Birth    ┆ Gender │\n",
       "│ on         ┆ ---         ┆ ---        ┆ station id ┆   ┆ ---     ┆ ---       ┆ Year     ┆ ---    │\n",
       "│ ---        ┆ datetime[μs ┆ datetime[μ ┆ ---        ┆   ┆ str     ┆ str       ┆ ---      ┆ str    │\n",
       "│ f64        ┆ ]           ┆ s]         ┆ f64        ┆   ┆         ┆           ┆ str      ┆        │\n",
       "╞════════════╪═════════════╪════════════╪════════════╪═══╪═════════╪═══════════╪══════════╪════════╡\n",
       "│ 188.0      ┆ 2017-09-01  ┆ 2017-09-01 ┆ 3101.0     ┆ … ┆ null    ┆ null      ┆ null     ┆ null   │\n",
       "│            ┆ 00:00:21    ┆ 00:03:30   ┆            ┆   ┆         ┆           ┆          ┆        │\n",
       "│ 305.0      ┆ 2017-09-01  ┆ 2017-09-01 ┆ 3140.0     ┆ … ┆ null    ┆ null      ┆ null     ┆ null   │\n",
       "│            ┆ 00:00:25    ┆ 00:05:30   ┆            ┆   ┆         ┆           ┆          ┆        │\n",
       "│ 223.0      ┆ 2017-09-01  ┆ 2017-09-01 ┆ 236.0      ┆ … ┆ null    ┆ null      ┆ null     ┆ null   │\n",
       "│            ┆ 00:00:52    ┆ 00:04:36   ┆            ┆   ┆         ┆           ┆          ┆        │\n",
       "│ 758.0      ┆ 2017-09-01  ┆ 2017-09-01 ┆ 3427.0     ┆ … ┆ null    ┆ null      ┆ null     ┆ null   │\n",
       "│            ┆ 00:01:01    ┆ 00:13:40   ┆            ┆   ┆         ┆           ┆          ┆        │\n",
       "│ 2089.0     ┆ 2017-09-01  ┆ 2017-09-01 ┆ 3016.0     ┆ … ┆ null    ┆ null      ┆ null     ┆ null   │\n",
       "│            ┆ 00:01:20    ┆ 00:36:09   ┆            ┆   ┆         ┆           ┆          ┆        │\n",
       "└────────────┴─────────────┴────────────┴────────────┴───┴─────────┴───────────┴──────────┴────────┘"
      ]
     },
     "execution_count": 4,
     "metadata": {},
     "output_type": "execute_result"
    }
   ],
   "source": [
    "q=(\n",
    "    pl.scan_csv(group2_location,ignore_errors=True,try_parse_dates=True)\n",
    ")\n",
    "\n",
    "group2_pl=q.collect()\n",
    "group2_pl.head()"
   ]
  },
  {
   "cell_type": "code",
   "execution_count": 5,
   "id": "b4d2064f-3d89-4a07-96f9-6ba33445f3c3",
   "metadata": {},
   "outputs": [],
   "source": [
    "group2_pl_original=group2_pl"
   ]
  },
  {
   "cell_type": "code",
   "execution_count": 36,
   "id": "0d24e432-74a6-4d38-8c40-d1cfe4629c38",
   "metadata": {},
   "outputs": [
    {
     "data": {
      "text/html": [
       "<div><style>\n",
       ".dataframe > thead > tr > th,\n",
       ".dataframe > tbody > tr > td {\n",
       "  text-align: right;\n",
       "}\n",
       "</style>\n",
       "<small>shape: (2, 2)</small><table border=\"1\" class=\"dataframe\"><thead><tr><th>a</th><th>b</th></tr><tr><td>i64</td><td>i64</td></tr></thead><tbody><tr><td>1</td><td>3</td></tr><tr><td>2</td><td>4</td></tr></tbody></table></div>"
      ],
      "text/plain": [
       "shape: (2, 2)\n",
       "┌─────┬─────┐\n",
       "│ a   ┆ b   │\n",
       "│ --- ┆ --- │\n",
       "│ i64 ┆ i64 │\n",
       "╞═════╪═════╡\n",
       "│ 1   ┆ 3   │\n",
       "│ 2   ┆ 4   │\n",
       "└─────┴─────┘"
      ]
     },
     "execution_count": 36,
     "metadata": {},
     "output_type": "execute_result"
    }
   ],
   "source": [
    "df1 = pl.DataFrame({\"a\": [1], \"b\": [3]})\n",
    "df2 = pl.DataFrame({\"a\": [2], \"b\": [4]})\n",
    "df=pl.concat([df1, df2])  # default is 'vertical' strategy\n",
    "df"
   ]
  },
  {
   "cell_type": "code",
   "execution_count": 6,
   "id": "7ab73524-5b10-49e2-9fe2-a771be1e1583",
   "metadata": {},
   "outputs": [],
   "source": [
    "# rename columns\n",
    "group2_pl=group2_pl.select([\n",
    "    pl.col('tripduration').alias('trip_duration'),\n",
    "    pl.col('starttime').alias('started_at'),\n",
    "    pl.col('stoptime').alias('ended_at'),\n",
    "    pl.col('start station id').alias('start_station_id'),\n",
    "    pl.col('start station name').alias('start_station_name'),\n",
    "    pl.col('start station latitude').alias('start_lat'),\n",
    "    pl.col('start station longitude').alias('start_lng'),\n",
    "    pl.col('end station id').alias('end_station_id'),\n",
    "    pl.col('end station name').alias('end_station_name'),\n",
    "    pl.col('end station latitude').alias('end_lat'),\n",
    "    pl.col('end station longitude').alias('end_lng'),\n",
    "    pl.col('bikeid').alias('bike_id'),\n",
    "    pl.col('usertype').alias('user_type'),\n",
    "    pl.col('birth year').alias('birth_year'),\n",
    "    pl.col('gender'),\n",
    "    pl.col('Trip Duration').alias('trip_duration2'),\n",
    "    pl.col('Start Time').alias('started_at2'),\n",
    "    pl.col('Stop Time').alias('ended_at2'),\n",
    "    pl.col('Start Station ID').alias('start_station_id2'),\n",
    "    pl.col('Start Station Name').alias('start_station_name2'),\n",
    "    pl.col('Start Station Latitude').alias('start_lat2'),\n",
    "    pl.col('Start Station Longitude').alias('start_lng2'),\n",
    "    pl.col('End Station ID').alias('end_station_id2'),\n",
    "    pl.col('End Station Name').alias('end_station_name2'),\n",
    "    pl.col('End Station Latitude').alias('end_lat2'),\n",
    "    pl.col('End Station Longitude').alias('end_lng2'),\n",
    "    pl.col('Bike ID').alias('bike_id2'),\n",
    "    pl.col('User Type').alias('user_type2'),\n",
    "    pl.col('Birth Year').alias('birth_year2'),\n",
    "    pl.col('Gender').alias('gender2')\n",
    "])"
   ]
  },
  {
   "cell_type": "markdown",
   "id": "7a8cbd18-81eb-4c7b-9386-0441eda76b4f",
   "metadata": {},
   "source": [
    "Write to `.parquet` for saving a checkpoint"
   ]
  },
  {
   "cell_type": "code",
   "execution_count": 10,
   "id": "9edad225-0abf-4e4f-bcdd-de80848648e8",
   "metadata": {},
   "outputs": [],
   "source": [
    "from pathlib import Path\n",
    "\n",
    "data_directory=Path('/Users/sra/files/projects/citibike_project/combined')\n",
    "\n",
    "file_name='group2_pl_checkpoint.parquet'\n",
    "\n",
    "file_path=data_directory / file_name"
   ]
  },
  {
   "cell_type": "code",
   "execution_count": 11,
   "id": "d87674e9-4533-4375-b1c0-6df10b14996f",
   "metadata": {},
   "outputs": [],
   "source": [
    "group2_pl.write_parquet(file=file_path)"
   ]
  },
  {
   "cell_type": "code",
   "execution_count": 16,
   "id": "d79a89dc-7736-4a74-b1b7-19bf2f0a8766",
   "metadata": {},
   "outputs": [],
   "source": [
    "q=(\n",
    "    pl.scan_parquet(file_path)\n",
    ")\n",
    "\n",
    "group2_pl=q.collect()"
   ]
  },
  {
   "cell_type": "code",
   "execution_count": 17,
   "id": "3c2d1f0b-2728-4d46-b067-c1b8b2584e11",
   "metadata": {},
   "outputs": [
    {
     "data": {
      "text/html": [
       "<div><style>\n",
       ".dataframe > thead > tr > th,\n",
       ".dataframe > tbody > tr > td {\n",
       "  text-align: right;\n",
       "}\n",
       "</style>\n",
       "<small>shape: (9, 31)</small><table border=\"1\" class=\"dataframe\"><thead><tr><th>describe</th><th>trip_duration</th><th>started_at</th><th>ended_at</th><th>start_station_id</th><th>start_station_name</th><th>start_lat</th><th>start_lng</th><th>end_station_id</th><th>end_station_name</th><th>end_lat</th><th>end_lng</th><th>bike_id</th><th>user_type</th><th>birth_year</th><th>gender</th><th>trip_duration2</th><th>started_at2</th><th>ended_at2</th><th>start_station_id2</th><th>start_station_name2</th><th>start_lat2</th><th>start_lng2</th><th>end_station_id2</th><th>end_station_name2</th><th>end_lat2</th><th>end_lng2</th><th>bike_id2</th><th>user_type2</th><th>birth_year2</th><th>gender2</th></tr><tr><td>str</td><td>f64</td><td>str</td><td>str</td><td>f64</td><td>str</td><td>f64</td><td>f64</td><td>f64</td><td>str</td><td>f64</td><td>f64</td><td>f64</td><td>str</td><td>f64</td><td>f64</td><td>str</td><td>str</td><td>str</td><td>str</td><td>str</td><td>str</td><td>str</td><td>str</td><td>str</td><td>str</td><td>str</td><td>str</td><td>str</td><td>str</td><td>str</td></tr></thead><tbody><tr><td>&quot;count&quot;</td><td>1.12546532e8</td><td>&quot;112546532&quot;</td><td>&quot;112546532&quot;</td><td>1.12546532e8</td><td>&quot;112546532&quot;</td><td>1.12546532e8</td><td>1.12546532e8</td><td>1.12546532e8</td><td>&quot;112546532&quot;</td><td>1.12546532e8</td><td>1.12546532e8</td><td>1.12546532e8</td><td>&quot;112546532&quot;</td><td>1.12546532e8</td><td>1.12546532e8</td><td>&quot;112546532&quot;</td><td>&quot;112546532&quot;</td><td>&quot;112546532&quot;</td><td>&quot;112546532&quot;</td><td>&quot;112546532&quot;</td><td>&quot;112546532&quot;</td><td>&quot;112546532&quot;</td><td>&quot;112546532&quot;</td><td>&quot;112546532&quot;</td><td>&quot;112546532&quot;</td><td>&quot;112546532&quot;</td><td>&quot;112546532&quot;</td><td>&quot;112546532&quot;</td><td>&quot;112546532&quot;</td><td>&quot;112546532&quot;</td></tr><tr><td>&quot;null_count&quot;</td><td>5.828988e6</td><td>&quot;90530996&quot;</td><td>&quot;90880362&quot;</td><td>5.831665e6</td><td>&quot;5831665&quot;</td><td>5.828988e6</td><td>5.828988e6</td><td>5.849724e6</td><td>&quot;5849724&quot;</td><td>5.847047e6</td><td>5.847047e6</td><td>5.828988e6</td><td>&quot;5828988&quot;</td><td>1.1643697e7</td><td>5.828988e6</td><td>&quot;106717544&quot;</td><td>&quot;106717544&quot;</td><td>&quot;106717544&quot;</td><td>&quot;106717544&quot;</td><td>&quot;106717544&quot;</td><td>&quot;106717544&quot;</td><td>&quot;106717544&quot;</td><td>&quot;106717544&quot;</td><td>&quot;106717544&quot;</td><td>&quot;106717544&quot;</td><td>&quot;106717544&quot;</td><td>&quot;106717544&quot;</td><td>&quot;106769324&quot;</td><td>&quot;107132307&quot;</td><td>&quot;106717544&quot;</td></tr><tr><td>&quot;mean&quot;</td><td>1034.93434</td><td>null</td><td>null</td><td>1366.991202</td><td>null</td><td>40.737373</td><td>-73.983758</td><td>1359.870766</td><td>null</td><td>40.737033</td><td>-73.983899</td><td>26286.055977</td><td>null</td><td>1978.983794</td><td>1.129902</td><td>null</td><td>null</td><td>null</td><td>null</td><td>null</td><td>null</td><td>null</td><td>null</td><td>null</td><td>null</td><td>null</td><td>null</td><td>null</td><td>null</td><td>null</td></tr><tr><td>&quot;std&quot;</td><td>13147.120036</td><td>null</td><td>null</td><td>1392.797372</td><td>null</td><td>0.038633</td><td>0.049637</td><td>1390.971733</td><td>null</td><td>0.048709</td><td>0.073419</td><td>8745.667876</td><td>null</td><td>12.043863</td><td>0.568256</td><td>null</td><td>null</td><td>null</td><td>null</td><td>null</td><td>null</td><td>null</td><td>null</td><td>null</td><td>null</td><td>null</td><td>null</td><td>null</td><td>null</td><td>null</td></tr><tr><td>&quot;min&quot;</td><td>60.0</td><td>&quot;2013-06-01 00:…</td><td>&quot;2013-07-01 00:…</td><td>72.0</td><td>&quot;1 Ave &amp; E 110 …</td><td>0.0</td><td>-74.034234</td><td>72.0</td><td>&quot;1 Ave &amp; E 110 …</td><td>0.0</td><td>-74.085849</td><td>14529.0</td><td>&quot;Customer&quot;</td><td>1857.0</td><td>0.0</td><td>&quot;100.0&quot;</td><td>&quot;2016-10-01 00:…</td><td>&quot;2016-10-01 00:…</td><td>&quot;116.0&quot;</td><td>&quot;1 Ave &amp; E 16 S…</td><td>&quot;0.0&quot;</td><td>&quot;-73.9298911&quot;</td><td>&quot;116.0&quot;</td><td>&quot;1 Ave &amp; E 16 S…</td><td>&quot;0.0&quot;</td><td>&quot;-73.9298911&quot;</td><td>&quot;14529.0&quot;</td><td>&quot;Customer&quot;</td><td>&quot;1858.0&quot;</td><td>&quot;0.0&quot;</td></tr><tr><td>&quot;max&quot;</td><td>1.9510049e7</td><td>&quot;2017-12-31 23:…</td><td>&quot;2018-01-30 08:…</td><td>4387.0</td><td>&quot;old - E 13 St …</td><td>45.506364</td><td>0.0</td><td>4387.0</td><td>&quot;old - E 13 St …</td><td>45.506364</td><td>0.0</td><td>50124.0</td><td>&quot;Subscriber&quot;</td><td>2005.0</td><td>2.0</td><td>&quot;9998.0&quot;</td><td>&quot;2017-03-31 23:…</td><td>&quot;2017-04-06 13:…</td><td>&quot;83.0&quot;</td><td>&quot;York St &amp; Jay …</td><td>&quot;40.804213&quot;</td><td>&quot;0.0&quot;</td><td>&quot;83.0&quot;</td><td>&quot;York St &amp; Jay …</td><td>&quot;40.804213&quot;</td><td>&quot;0.0&quot;</td><td>&quot;29196.0&quot;</td><td>&quot;Subscriber&quot;</td><td>&quot;2001.0&quot;</td><td>&quot;2.0&quot;</td></tr><tr><td>&quot;median&quot;</td><td>647.0</td><td>null</td><td>null</td><td>484.0</td><td>null</td><td>40.737815</td><td>-73.98714</td><td>483.0</td><td>null</td><td>40.73705</td><td>-73.987216</td><td>25336.0</td><td>null</td><td>1981.0</td><td>1.0</td><td>null</td><td>null</td><td>null</td><td>null</td><td>null</td><td>null</td><td>null</td><td>null</td><td>null</td><td>null</td><td>null</td><td>null</td><td>null</td><td>null</td><td>null</td></tr><tr><td>&quot;25%&quot;</td><td>382.0</td><td>null</td><td>null</td><td>357.0</td><td>null</td><td>40.718939</td><td>-73.996826</td><td>355.0</td><td>null</td><td>40.718822</td><td>-73.997047</td><td>18621.0</td><td>null</td><td>1969.0</td><td>1.0</td><td>null</td><td>null</td><td>null</td><td>null</td><td>null</td><td>null</td><td>null</td><td>null</td><td>null</td><td>null</td><td>null</td><td>null</td><td>null</td><td>null</td><td>null</td></tr><tr><td>&quot;75%&quot;</td><td>1129.0</td><td>null</td><td>null</td><td>3147.0</td><td>null</td><td>40.755942</td><td>-73.974987</td><td>3144.0</td><td>null</td><td>40.755136</td><td>-73.975361</td><td>32429.0</td><td>null</td><td>1989.0</td><td>1.0</td><td>null</td><td>null</td><td>null</td><td>null</td><td>null</td><td>null</td><td>null</td><td>null</td><td>null</td><td>null</td><td>null</td><td>null</td><td>null</td><td>null</td><td>null</td></tr></tbody></table></div>"
      ],
      "text/plain": [
       "shape: (9, 31)\n",
       "┌───────────┬────────────┬──────────┬───────────┬───┬───────────┬──────────┬───────────┬───────────┐\n",
       "│ describe  ┆ trip_durat ┆ started_ ┆ ended_at  ┆ … ┆ bike_id2  ┆ user_typ ┆ birth_yea ┆ gender2   │\n",
       "│ ---       ┆ ion        ┆ at       ┆ ---       ┆   ┆ ---       ┆ e2       ┆ r2        ┆ ---       │\n",
       "│ str       ┆ ---        ┆ ---      ┆ str       ┆   ┆ str       ┆ ---      ┆ ---       ┆ str       │\n",
       "│           ┆ f64        ┆ str      ┆           ┆   ┆           ┆ str      ┆ str       ┆           │\n",
       "╞═══════════╪════════════╪══════════╪═══════════╪═══╪═══════════╪══════════╪═══════════╪═══════════╡\n",
       "│ count     ┆ 1.12546532 ┆ 11254653 ┆ 112546532 ┆ … ┆ 112546532 ┆ 11254653 ┆ 112546532 ┆ 112546532 │\n",
       "│           ┆ e8         ┆ 2        ┆           ┆   ┆           ┆ 2        ┆           ┆           │\n",
       "│ null_coun ┆ 5.828988e6 ┆ 90530996 ┆ 90880362  ┆ … ┆ 106717544 ┆ 10676932 ┆ 107132307 ┆ 106717544 │\n",
       "│ t         ┆            ┆          ┆           ┆   ┆           ┆ 4        ┆           ┆           │\n",
       "│ mean      ┆ 1034.93434 ┆ null     ┆ null      ┆ … ┆ null      ┆ null     ┆ null      ┆ null      │\n",
       "│ std       ┆ 13147.1200 ┆ null     ┆ null      ┆ … ┆ null      ┆ null     ┆ null      ┆ null      │\n",
       "│           ┆ 36         ┆          ┆           ┆   ┆           ┆          ┆           ┆           │\n",
       "│ min       ┆ 60.0       ┆ 2013-06- ┆ 2013-07-0 ┆ … ┆ 14529.0   ┆ Customer ┆ 1858.0    ┆ 0.0       │\n",
       "│           ┆            ┆ 01       ┆ 1         ┆   ┆           ┆          ┆           ┆           │\n",
       "│           ┆            ┆ 00:00:08 ┆ 00:04:02  ┆   ┆           ┆          ┆           ┆           │\n",
       "│ max       ┆ 1.9510049e ┆ 2017-12- ┆ 2018-01-3 ┆ … ┆ 29196.0   ┆ Subscrib ┆ 2001.0    ┆ 2.0       │\n",
       "│           ┆ 7          ┆ 31       ┆ 0         ┆   ┆           ┆ er       ┆           ┆           │\n",
       "│           ┆            ┆ 23:58:56 ┆ 08:33:49  ┆   ┆           ┆          ┆           ┆           │\n",
       "│ median    ┆ 647.0      ┆ null     ┆ null      ┆ … ┆ null      ┆ null     ┆ null      ┆ null      │\n",
       "│ 25%       ┆ 382.0      ┆ null     ┆ null      ┆ … ┆ null      ┆ null     ┆ null      ┆ null      │\n",
       "│ 75%       ┆ 1129.0     ┆ null     ┆ null      ┆ … ┆ null      ┆ null     ┆ null      ┆ null      │\n",
       "└───────────┴────────────┴──────────┴───────────┴───┴───────────┴──────────┴───────────┴───────────┘"
      ]
     },
     "execution_count": 17,
     "metadata": {},
     "output_type": "execute_result"
    }
   ],
   "source": [
    "group2_pl.describe()"
   ]
  },
  {
   "cell_type": "markdown",
   "id": "97284098-7353-47f2-b065-35f5f5a37c93",
   "metadata": {},
   "source": [
    "Surprise - there are null columns. We need to see if the 'null' columns are ever populated with useable data, like for column 'Start Station ID'. Let's examine the nulls more closely."
   ]
  },
  {
   "cell_type": "code",
   "execution_count": 18,
   "id": "cd4013ab-25c7-4695-9944-feb3c04313ad",
   "metadata": {},
   "outputs": [
    {
     "ename": "NameError",
     "evalue": "name 'group1_pl' is not defined",
     "output_type": "error",
     "traceback": [
      "\u001b[0;31m---------------------------------------------------------------------------\u001b[0m",
      "\u001b[0;31mNameError\u001b[0m                                 Traceback (most recent call last)",
      "Cell \u001b[0;32mIn[18], line 1\u001b[0m\n\u001b[0;32m----> 1\u001b[0m \u001b[43mgroup1_pl\u001b[49m\u001b[38;5;241m.\u001b[39mshape\n",
      "\u001b[0;31mNameError\u001b[0m: name 'group1_pl' is not defined"
     ]
    }
   ],
   "source": [
    "group1_pl.shape"
   ]
  },
  {
   "cell_type": "code",
   "execution_count": 19,
   "id": "b98097c4-40c8-4e8e-8809-73720940215f",
   "metadata": {},
   "outputs": [
    {
     "data": {
      "text/plain": [
       "(112546532, 30)"
      ]
     },
     "execution_count": 19,
     "metadata": {},
     "output_type": "execute_result"
    }
   ],
   "source": [
    "group2_pl.shape"
   ]
  },
  {
   "cell_type": "code",
   "execution_count": 38,
   "id": "0f7f0d14-a4ac-48ba-bcbf-d6e64c6b3813",
   "metadata": {},
   "outputs": [
    {
     "name": "stdout",
     "output_type": "stream",
     "text": [
      "shape: (5, 2)\n",
      "┌──────────────────┬────────┐\n",
      "│ start_station_id ┆ counts │\n",
      "│ ---              ┆ ---    │\n",
      "│ f64              ┆ u32    │\n",
      "╞══════════════════╪════════╡\n",
      "│ 6140.05          ┆ 247908 │\n",
      "│ 5329.03          ┆ 219580 │\n",
      "│ 6822.09          ┆ 208483 │\n",
      "│ 6364.07          ┆ 197135 │\n",
      "│ 6173.08          ┆ 194687 │\n",
      "└──────────────────┴────────┘\n",
      "number unique values in group1 for column\n",
      "'start_station_id': 1927\n"
     ]
    }
   ],
   "source": [
    "print(group1_pl['start_station_id'].value_counts().sort(by='counts',descending=True).head())\n",
    "print(\"number unique values in group1 for column\\n'start_station_id':\",group1_pl['start_station_id'].n_unique())"
   ]
  },
  {
   "cell_type": "markdown",
   "id": "375317e3-0bbe-4c4b-ae23-002774c16962",
   "metadata": {
    "tags": []
   },
   "source": [
    "Wow, `group2` has an eye-popping 112.5 million rows of data!"
   ]
  },
  {
   "cell_type": "code",
   "execution_count": 7,
   "id": "87b9bc6d-ebdd-492d-abe0-062b67524161",
   "metadata": {},
   "outputs": [
    {
     "name": "stdout",
     "output_type": "stream",
     "text": [
      "shape: (5, 2)\n",
      "┌──────────────────┬───────────┐\n",
      "│ Start Station ID ┆ counts    │\n",
      "│ ---              ┆ ---       │\n",
      "│ str              ┆ u32       │\n",
      "╞══════════════════╪═══════════╡\n",
      "│ null             ┆ 106717544 │\n",
      "│ 519.0            ┆ 65441     │\n",
      "│ 435.0            ┆ 40787     │\n",
      "│ 497.0            ┆ 40250     │\n",
      "│ 402.0            ┆ 38993     │\n",
      "└──────────────────┴───────────┘\n",
      "number unique values in group2 for column\n",
      "'Start Station ID': 638\n"
     ]
    }
   ],
   "source": [
    "print(group2_pl['Start Station ID'].value_counts().sort(by='counts',descending=True).head())\n",
    "print(\"number unique values in group2 for column\\n'Start Station ID':\",group2_pl['Start Station ID'].n_unique())"
   ]
  },
  {
   "cell_type": "markdown",
   "id": "4ae51fab-fb0e-495f-8162-2f25127c86f1",
   "metadata": {},
   "source": [
    "A lot of nulls in the title case column. In fact, most of the rows are nulls."
   ]
  },
  {
   "cell_type": "code",
   "execution_count": 21,
   "id": "919ca2f7-6bab-456c-8f13-4a26ab029ac0",
   "metadata": {},
   "outputs": [
    {
     "data": {
      "text/plain": [
       "638"
      ]
     },
     "execution_count": 21,
     "metadata": {},
     "output_type": "execute_result"
    }
   ],
   "source": [
    "group2_pl['Start Station ID'].n_unique()"
   ]
  },
  {
   "cell_type": "code",
   "execution_count": 36,
   "id": "170b486c-4304-40ad-a09d-d416bf6e0d83",
   "metadata": {},
   "outputs": [
    {
     "name": "stdout",
     "output_type": "stream",
     "text": [
      "shape: (5, 2)\n",
      "┌──────────────────┬─────────┐\n",
      "│ start station id ┆ counts  │\n",
      "│ ---              ┆ ---     │\n",
      "│ f64              ┆ u32     │\n",
      "╞══════════════════╪═════════╡\n",
      "│ null             ┆ 5831665 │\n",
      "│ 519.0            ┆ 884617  │\n",
      "│ 497.0            ┆ 719292  │\n",
      "│ 435.0            ┆ 691568  │\n",
      "│ 426.0            ┆ 663812  │\n",
      "└──────────────────┴─────────┘\n",
      "number unique values in group2 for column\n",
      "'start station id': 1430\n"
     ]
    }
   ],
   "source": [
    "print(group2_pl['start station id'].value_counts().sort(by='counts',descending=True).head())\n",
    "print(\"number unique values in group2 for column\\n'start station id':\",group2_pl['start station id'].n_unique())"
   ]
  },
  {
   "cell_type": "code",
   "execution_count": 48,
   "id": "2c8fab70-ad7e-4e8f-b4c5-f96481e58d69",
   "metadata": {},
   "outputs": [
    {
     "name": "stdout",
     "output_type": "stream",
     "text": [
      "Nulls take up 5.18% of the column 'start station id'\n"
     ]
    }
   ],
   "source": [
    "print(f\"Nulls take up {round(((5831665/group2_pl.height)*100),2)}% of the column 'start station id'\")"
   ]
  },
  {
   "cell_type": "code",
   "execution_count": 70,
   "id": "48559947-f0e0-453f-bd93-ba5c9ff4c5ca",
   "metadata": {},
   "outputs": [
    {
     "data": {
      "text/html": [
       "<div><style>\n",
       ".dataframe > thead > tr > th,\n",
       ".dataframe > tbody > tr > td {\n",
       "  text-align: right;\n",
       "}\n",
       "</style>\n",
       "<small>shape: (1, 30)</small><table border=\"1\" class=\"dataframe\"><thead><tr><th>tripduration</th><th>starttime</th><th>stoptime</th><th>start station id</th><th>start station name</th><th>start station latitude</th><th>start station longitude</th><th>end station id</th><th>end station name</th><th>end station latitude</th><th>end station longitude</th><th>bikeid</th><th>usertype</th><th>birth year</th><th>gender</th><th>Trip Duration</th><th>Start Time</th><th>Stop Time</th><th>Start Station ID</th><th>Start Station Name</th><th>Start Station Latitude</th><th>Start Station Longitude</th><th>End Station ID</th><th>End Station Name</th><th>End Station Latitude</th><th>End Station Longitude</th><th>Bike ID</th><th>User Type</th><th>Birth Year</th><th>Gender</th></tr><tr><td>u32</td><td>u32</td><td>u32</td><td>u32</td><td>u32</td><td>u32</td><td>u32</td><td>u32</td><td>u32</td><td>u32</td><td>u32</td><td>u32</td><td>u32</td><td>u32</td><td>u32</td><td>u32</td><td>u32</td><td>u32</td><td>u32</td><td>u32</td><td>u32</td><td>u32</td><td>u32</td><td>u32</td><td>u32</td><td>u32</td><td>u32</td><td>u32</td><td>u32</td><td>u32</td></tr></thead><tbody><tr><td>5828988</td><td>90530996</td><td>90880362</td><td>5831665</td><td>5831665</td><td>5828988</td><td>5828988</td><td>5849724</td><td>5849724</td><td>5847047</td><td>5847047</td><td>5828988</td><td>5828988</td><td>11643697</td><td>5828988</td><td>106717544</td><td>106717544</td><td>106717544</td><td>106717544</td><td>106717544</td><td>106717544</td><td>106717544</td><td>106717544</td><td>106717544</td><td>106717544</td><td>106717544</td><td>106717544</td><td>106769324</td><td>107132307</td><td>106717544</td></tr></tbody></table></div>"
      ],
      "text/plain": [
       "shape: (1, 30)\n",
       "┌────────────┬───────────┬──────────┬────────────┬───┬───────────┬───────────┬──────────┬───────────┐\n",
       "│ tripdurati ┆ starttime ┆ stoptime ┆ start      ┆ … ┆ Bike ID   ┆ User Type ┆ Birth    ┆ Gender    │\n",
       "│ on         ┆ ---       ┆ ---      ┆ station id ┆   ┆ ---       ┆ ---       ┆ Year     ┆ ---       │\n",
       "│ ---        ┆ u32       ┆ u32      ┆ ---        ┆   ┆ u32       ┆ u32       ┆ ---      ┆ u32       │\n",
       "│ u32        ┆           ┆          ┆ u32        ┆   ┆           ┆           ┆ u32      ┆           │\n",
       "╞════════════╪═══════════╪══════════╪════════════╪═══╪═══════════╪═══════════╪══════════╪═══════════╡\n",
       "│ 5828988    ┆ 90530996  ┆ 90880362 ┆ 5831665    ┆ … ┆ 106717544 ┆ 106769324 ┆ 10713230 ┆ 106717544 │\n",
       "│            ┆           ┆          ┆            ┆   ┆           ┆           ┆ 7        ┆           │\n",
       "└────────────┴───────────┴──────────┴────────────┴───┴───────────┴───────────┴──────────┴───────────┘"
      ]
     },
     "execution_count": 70,
     "metadata": {},
     "output_type": "execute_result"
    }
   ],
   "source": [
    "group2_pl.null_count()"
   ]
  },
  {
   "cell_type": "code",
   "execution_count": 74,
   "id": "49b14820-5577-4ffc-99a6-58ee7d03c44e",
   "metadata": {},
   "outputs": [
    {
     "data": {
      "text/html": [
       "<div>\n",
       "<style scoped>\n",
       "    .dataframe tbody tr th:only-of-type {\n",
       "        vertical-align: middle;\n",
       "    }\n",
       "\n",
       "    .dataframe tbody tr th {\n",
       "        vertical-align: top;\n",
       "    }\n",
       "\n",
       "    .dataframe thead th {\n",
       "        text-align: right;\n",
       "    }\n",
       "</style>\n",
       "<table border=\"1\" class=\"dataframe\">\n",
       "  <thead>\n",
       "    <tr style=\"text-align: right;\">\n",
       "      <th></th>\n",
       "      <th>tripduration</th>\n",
       "      <th>starttime</th>\n",
       "      <th>stoptime</th>\n",
       "      <th>start station id</th>\n",
       "      <th>start station name</th>\n",
       "      <th>start station latitude</th>\n",
       "      <th>start station longitude</th>\n",
       "      <th>end station id</th>\n",
       "      <th>end station name</th>\n",
       "      <th>end station latitude</th>\n",
       "      <th>end station longitude</th>\n",
       "      <th>bikeid</th>\n",
       "      <th>usertype</th>\n",
       "      <th>birth year</th>\n",
       "      <th>gender</th>\n",
       "      <th>Trip Duration</th>\n",
       "      <th>Start Time</th>\n",
       "      <th>Stop Time</th>\n",
       "      <th>Start Station ID</th>\n",
       "      <th>Start Station Name</th>\n",
       "      <th>Start Station Latitude</th>\n",
       "      <th>Start Station Longitude</th>\n",
       "      <th>End Station ID</th>\n",
       "      <th>End Station Name</th>\n",
       "      <th>End Station Latitude</th>\n",
       "      <th>End Station Longitude</th>\n",
       "      <th>Bike ID</th>\n",
       "      <th>User Type</th>\n",
       "      <th>Birth Year</th>\n",
       "      <th>Gender</th>\n",
       "    </tr>\n",
       "  </thead>\n",
       "  <tbody>\n",
       "    <tr>\n",
       "      <th>0</th>\n",
       "      <td>0.05</td>\n",
       "      <td>0.8</td>\n",
       "      <td>0.81</td>\n",
       "      <td>0.05</td>\n",
       "      <td>0.05</td>\n",
       "      <td>0.05</td>\n",
       "      <td>0.05</td>\n",
       "      <td>0.05</td>\n",
       "      <td>0.05</td>\n",
       "      <td>0.05</td>\n",
       "      <td>0.05</td>\n",
       "      <td>0.05</td>\n",
       "      <td>0.05</td>\n",
       "      <td>0.1</td>\n",
       "      <td>0.05</td>\n",
       "      <td>0.95</td>\n",
       "      <td>0.95</td>\n",
       "      <td>0.95</td>\n",
       "      <td>0.95</td>\n",
       "      <td>0.95</td>\n",
       "      <td>0.95</td>\n",
       "      <td>0.95</td>\n",
       "      <td>0.95</td>\n",
       "      <td>0.95</td>\n",
       "      <td>0.95</td>\n",
       "      <td>0.95</td>\n",
       "      <td>0.95</td>\n",
       "      <td>0.95</td>\n",
       "      <td>0.95</td>\n",
       "      <td>0.95</td>\n",
       "    </tr>\n",
       "  </tbody>\n",
       "</table>\n",
       "</div>"
      ],
      "text/plain": [
       "   tripduration  starttime  stoptime  start station id  start station name  \\\n",
       "0          0.05        0.8      0.81              0.05                0.05   \n",
       "\n",
       "   start station latitude  start station longitude  end station id  \\\n",
       "0                    0.05                     0.05            0.05   \n",
       "\n",
       "   end station name  end station latitude  end station longitude  bikeid  \\\n",
       "0              0.05                  0.05                   0.05    0.05   \n",
       "\n",
       "   usertype  birth year  gender  Trip Duration  Start Time  Stop Time  \\\n",
       "0      0.05         0.1    0.05           0.95        0.95       0.95   \n",
       "\n",
       "   Start Station ID  Start Station Name  Start Station Latitude  \\\n",
       "0              0.95                0.95                    0.95   \n",
       "\n",
       "   Start Station Longitude  End Station ID  End Station Name  \\\n",
       "0                     0.95            0.95              0.95   \n",
       "\n",
       "   End Station Latitude  End Station Longitude  Bike ID  User Type  \\\n",
       "0                  0.95                   0.95     0.95       0.95   \n",
       "\n",
       "   Birth Year  Gender  \n",
       "0        0.95    0.95  "
      ]
     },
     "execution_count": 74,
     "metadata": {},
     "output_type": "execute_result"
    }
   ],
   "source": [
    "pd.options.display.max_columns = None\n",
    "\n",
    "group2_pl_nulls_pd=group2_pl.null_count().to_pandas()\n",
    "round((group2_pl_nulls_pd/group2_pl.height),2)"
   ]
  },
  {
   "cell_type": "markdown",
   "id": "ccfc062c-13e3-4d72-ae8f-d777fcced594",
   "metadata": {},
   "source": [
    "Let's drop the title cased columns, as 95% of the data is null."
   ]
  },
  {
   "cell_type": "code",
   "execution_count": 49,
   "id": "88e40c36-44c0-4c55-913f-6e0303e1f055",
   "metadata": {},
   "outputs": [
    {
     "ename": "NameError",
     "evalue": "name 'group2_pl_nulls_pd' is not defined",
     "output_type": "error",
     "traceback": [
      "\u001b[0;31m---------------------------------------------------------------------------\u001b[0m",
      "\u001b[0;31mNameError\u001b[0m                                 Traceback (most recent call last)",
      "Cell \u001b[0;32mIn[49], line 1\u001b[0m\n\u001b[0;32m----> 1\u001b[0m \u001b[43mgroup2_pl_nulls_pd\u001b[49m\u001b[38;5;241m.\u001b[39mcolumns[\u001b[38;5;241m15\u001b[39m:]\n",
      "\u001b[0;31mNameError\u001b[0m: name 'group2_pl_nulls_pd' is not defined"
     ]
    }
   ],
   "source": [
    "group2_pl_nulls_pd.columns[15:]"
   ]
  },
  {
   "cell_type": "code",
   "execution_count": 1,
   "id": "3ee1211a-06b2-4d53-878a-8241215a0d9a",
   "metadata": {},
   "outputs": [
    {
     "ename": "NameError",
     "evalue": "name 'group2_pl' is not defined",
     "output_type": "error",
     "traceback": [
      "\u001b[0;31m---------------------------------------------------------------------------\u001b[0m",
      "\u001b[0;31mNameError\u001b[0m                                 Traceback (most recent call last)",
      "Cell \u001b[0;32mIn[1], line 1\u001b[0m\n\u001b[0;32m----> 1\u001b[0m \u001b[38;5;28mprint\u001b[39m(\u001b[43mgroup2_pl\u001b[49m\u001b[38;5;241m.\u001b[39mcolumns[\u001b[38;5;241m15\u001b[39m:])\n",
      "\u001b[0;31mNameError\u001b[0m: name 'group2_pl' is not defined"
     ]
    }
   ],
   "source": [
    "print(group2_pl.columns[15:])"
   ]
  },
  {
   "cell_type": "code",
   "execution_count": null,
   "id": "1727342c-73b3-4cba-8a75-d26472a9e00e",
   "metadata": {},
   "outputs": [],
   "source": [
    "columns_to_exclude = group2_pl.columns[15:]\n",
    "group2_pl_intermediate = group2_pl.select('*', exclude=columns_to_exclude)\n",
    "group2_pl_intermediate"
   ]
  },
  {
   "cell_type": "code",
   "execution_count": 76,
   "id": "ae915b43-adff-4d6c-9398-8d8569018055",
   "metadata": {},
   "outputs": [],
   "source": [
    "group1_pl_nulls_pd=group1_pl.null_count().to_pandas()\n",
    "round((group1_pl_nulls_pd/group1_pl.height),2)"
   ]
  },
  {
   "cell_type": "code",
   "execution_count": 76,
   "id": "ab0427f2-0340-4a35-96bf-c80849e44ec8",
   "metadata": {},
   "outputs": [
    {
     "data": {
      "text/html": [
       "<div><style>\n",
       ".dataframe > thead > tr > th,\n",
       ".dataframe > tbody > tr > td {\n",
       "  text-align: right;\n",
       "}\n",
       "</style>\n",
       "<small>shape: (1, 13)</small><table border=\"1\" class=\"dataframe\"><thead><tr><th>ride_id</th><th>rideable_type</th><th>started_at</th><th>ended_at</th><th>start_station_name</th><th>start_station_id</th><th>end_station_name</th><th>end_station_id</th><th>start_lat</th><th>start_lng</th><th>end_lat</th><th>end_lng</th><th>member_casual</th></tr><tr><td>u32</td><td>u32</td><td>u32</td><td>u32</td><td>u32</td><td>u32</td><td>u32</td><td>u32</td><td>u32</td><td>u32</td><td>u32</td><td>u32</td><td>u32</td></tr></thead><tbody><tr><td>0</td><td>0</td><td>0</td><td>0</td><td>892</td><td>97418</td><td>164131</td><td>264461</td><td>0</td><td>0</td><td>94619</td><td>94619</td><td>0</td></tr></tbody></table></div>"
      ],
      "text/plain": [
       "shape: (1, 13)\n",
       "┌─────────┬────────────┬────────────┬──────────┬───┬───────────┬─────────┬─────────┬───────────────┐\n",
       "│ ride_id ┆ rideable_t ┆ started_at ┆ ended_at ┆ … ┆ start_lng ┆ end_lat ┆ end_lng ┆ member_casual │\n",
       "│ ---     ┆ ype        ┆ ---        ┆ ---      ┆   ┆ ---       ┆ ---     ┆ ---     ┆ ---           │\n",
       "│ u32     ┆ ---        ┆ u32        ┆ u32      ┆   ┆ u32       ┆ u32     ┆ u32     ┆ u32           │\n",
       "│         ┆ u32        ┆            ┆          ┆   ┆           ┆         ┆         ┆               │\n",
       "╞═════════╪════════════╪════════════╪══════════╪═══╪═══════════╪═════════╪═════════╪═══════════════╡\n",
       "│ 0       ┆ 0          ┆ 0          ┆ 0        ┆ … ┆ 0         ┆ 94619   ┆ 94619   ┆ 0             │\n",
       "└─────────┴────────────┴────────────┴──────────┴───┴───────────┴─────────┴─────────┴───────────────┘"
      ]
     },
     "execution_count": 76,
     "metadata": {},
     "output_type": "execute_result"
    }
   ],
   "source": [
    "group1_pl.null_count()"
   ]
  },
  {
   "cell_type": "code",
   "execution_count": 53,
   "id": "b436cdd7-9430-4b0f-b544-ad4ed3fd7a5a",
   "metadata": {},
   "outputs": [],
   "source": [
    "# split group2 to prepare for concatenation\n",
    "\n",
    "# group2 has double columns with different data,\n",
    "# so I want to stack them so there are no\n",
    "# repeated columns"
   ]
  },
  {
   "cell_type": "code",
   "execution_count": 20,
   "id": "7cd68150-b13b-4126-bf76-5536172ea809",
   "metadata": {},
   "outputs": [
    {
     "data": {
      "text/html": [
       "<div><style>\n",
       ".dataframe > thead > tr > th,\n",
       ".dataframe > tbody > tr > td {\n",
       "  text-align: right;\n",
       "}\n",
       "</style>\n",
       "<small>shape: (5, 30)</small><table border=\"1\" class=\"dataframe\"><thead><tr><th>trip_duration</th><th>started_at</th><th>ended_at</th><th>start_station_id</th><th>start_station_name</th><th>start_lat</th><th>start_lng</th><th>end_station_id</th><th>end_station_name</th><th>end_lat</th><th>end_lng</th><th>bike_id</th><th>user_type</th><th>birth_year</th><th>gender</th><th>trip_duration2</th><th>started_at2</th><th>ended_at2</th><th>start_station_id2</th><th>start_station_name2</th><th>start_lat2</th><th>start_lng2</th><th>end_station_id2</th><th>end_station_name2</th><th>end_lat2</th><th>end_lng2</th><th>bike_id2</th><th>user_type2</th><th>birth_year2</th><th>gender2</th></tr><tr><td>f64</td><td>datetime[μs]</td><td>datetime[μs]</td><td>f64</td><td>str</td><td>f64</td><td>f64</td><td>f64</td><td>str</td><td>f64</td><td>f64</td><td>f64</td><td>str</td><td>f64</td><td>f64</td><td>str</td><td>str</td><td>str</td><td>str</td><td>str</td><td>str</td><td>str</td><td>str</td><td>str</td><td>str</td><td>str</td><td>str</td><td>str</td><td>str</td><td>str</td></tr></thead><tbody><tr><td>188.0</td><td>2017-09-01 00:00:21</td><td>2017-09-01 00:03:30</td><td>3101.0</td><td>&quot;N 12 St &amp; Bedf…</td><td>40.720798</td><td>-73.954847</td><td>3100.0</td><td>&quot;Nassau Ave &amp; N…</td><td>40.724813</td><td>-73.947526</td><td>15475.0</td><td>&quot;Subscriber&quot;</td><td>1988.0</td><td>1.0</td><td>null</td><td>null</td><td>null</td><td>null</td><td>null</td><td>null</td><td>null</td><td>null</td><td>null</td><td>null</td><td>null</td><td>null</td><td>null</td><td>null</td><td>null</td></tr><tr><td>305.0</td><td>2017-09-01 00:00:25</td><td>2017-09-01 00:05:30</td><td>3140.0</td><td>&quot;1 Ave &amp; E 78 S…</td><td>40.771404</td><td>-73.953517</td><td>3141.0</td><td>&quot;1 Ave &amp; E 68 S…</td><td>40.765005</td><td>-73.958185</td><td>30346.0</td><td>&quot;Subscriber&quot;</td><td>1969.0</td><td>1.0</td><td>null</td><td>null</td><td>null</td><td>null</td><td>null</td><td>null</td><td>null</td><td>null</td><td>null</td><td>null</td><td>null</td><td>null</td><td>null</td><td>null</td><td>null</td></tr><tr><td>223.0</td><td>2017-09-01 00:00:52</td><td>2017-09-01 00:04:36</td><td>236.0</td><td>&quot;St Marks Pl &amp; …</td><td>40.728419</td><td>-73.98714</td><td>473.0</td><td>&quot;Rivington St &amp;…</td><td>40.721101</td><td>-73.991925</td><td>28056.0</td><td>&quot;Subscriber&quot;</td><td>1993.0</td><td>1.0</td><td>null</td><td>null</td><td>null</td><td>null</td><td>null</td><td>null</td><td>null</td><td>null</td><td>null</td><td>null</td><td>null</td><td>null</td><td>null</td><td>null</td><td>null</td></tr><tr><td>758.0</td><td>2017-09-01 00:01:01</td><td>2017-09-01 00:13:40</td><td>3427.0</td><td>&quot;Lafayette St &amp;…</td><td>40.724305</td><td>-73.99601</td><td>3431.0</td><td>&quot;E 35 St &amp; 3 Av…</td><td>40.746524</td><td>-73.977885</td><td>25413.0</td><td>&quot;Subscriber&quot;</td><td>1987.0</td><td>1.0</td><td>null</td><td>null</td><td>null</td><td>null</td><td>null</td><td>null</td><td>null</td><td>null</td><td>null</td><td>null</td><td>null</td><td>null</td><td>null</td><td>null</td><td>null</td></tr><tr><td>2089.0</td><td>2017-09-01 00:01:20</td><td>2017-09-01 00:36:09</td><td>3016.0</td><td>&quot;Kent Ave &amp; N 7…</td><td>40.720368</td><td>-73.961651</td><td>3358.0</td><td>&quot;Garfield Pl &amp; …</td><td>40.671198</td><td>-73.974841</td><td>17584.0</td><td>&quot;Subscriber&quot;</td><td>1975.0</td><td>2.0</td><td>null</td><td>null</td><td>null</td><td>null</td><td>null</td><td>null</td><td>null</td><td>null</td><td>null</td><td>null</td><td>null</td><td>null</td><td>null</td><td>null</td><td>null</td></tr></tbody></table></div>"
      ],
      "text/plain": [
       "shape: (5, 30)\n",
       "┌────────────┬──────────┬─────────────┬────────────┬───┬──────────┬──────────┬───────────┬─────────┐\n",
       "│ trip_durat ┆ started_ ┆ ended_at    ┆ start_stat ┆ … ┆ bike_id2 ┆ user_typ ┆ birth_yea ┆ gender2 │\n",
       "│ ion        ┆ at       ┆ ---         ┆ ion_id     ┆   ┆ ---      ┆ e2       ┆ r2        ┆ ---     │\n",
       "│ ---        ┆ ---      ┆ datetime[μs ┆ ---        ┆   ┆ str      ┆ ---      ┆ ---       ┆ str     │\n",
       "│ f64        ┆ datetime ┆ ]           ┆ f64        ┆   ┆          ┆ str      ┆ str       ┆         │\n",
       "│            ┆ [μs]     ┆             ┆            ┆   ┆          ┆          ┆           ┆         │\n",
       "╞════════════╪══════════╪═════════════╪════════════╪═══╪══════════╪══════════╪═══════════╪═════════╡\n",
       "│ 188.0      ┆ 2017-09- ┆ 2017-09-01  ┆ 3101.0     ┆ … ┆ null     ┆ null     ┆ null      ┆ null    │\n",
       "│            ┆ 01       ┆ 00:03:30    ┆            ┆   ┆          ┆          ┆           ┆         │\n",
       "│            ┆ 00:00:21 ┆             ┆            ┆   ┆          ┆          ┆           ┆         │\n",
       "│ 305.0      ┆ 2017-09- ┆ 2017-09-01  ┆ 3140.0     ┆ … ┆ null     ┆ null     ┆ null      ┆ null    │\n",
       "│            ┆ 01       ┆ 00:05:30    ┆            ┆   ┆          ┆          ┆           ┆         │\n",
       "│            ┆ 00:00:25 ┆             ┆            ┆   ┆          ┆          ┆           ┆         │\n",
       "│ 223.0      ┆ 2017-09- ┆ 2017-09-01  ┆ 236.0      ┆ … ┆ null     ┆ null     ┆ null      ┆ null    │\n",
       "│            ┆ 01       ┆ 00:04:36    ┆            ┆   ┆          ┆          ┆           ┆         │\n",
       "│            ┆ 00:00:52 ┆             ┆            ┆   ┆          ┆          ┆           ┆         │\n",
       "│ 758.0      ┆ 2017-09- ┆ 2017-09-01  ┆ 3427.0     ┆ … ┆ null     ┆ null     ┆ null      ┆ null    │\n",
       "│            ┆ 01       ┆ 00:13:40    ┆            ┆   ┆          ┆          ┆           ┆         │\n",
       "│            ┆ 00:01:01 ┆             ┆            ┆   ┆          ┆          ┆           ┆         │\n",
       "│ 2089.0     ┆ 2017-09- ┆ 2017-09-01  ┆ 3016.0     ┆ … ┆ null     ┆ null     ┆ null      ┆ null    │\n",
       "│            ┆ 01       ┆ 00:36:09    ┆            ┆   ┆          ┆          ┆           ┆         │\n",
       "│            ┆ 00:01:20 ┆             ┆            ┆   ┆          ┆          ┆           ┆         │\n",
       "└────────────┴──────────┴─────────────┴────────────┴───┴──────────┴──────────┴───────────┴─────────┘"
      ]
     },
     "execution_count": 20,
     "metadata": {},
     "output_type": "execute_result"
    }
   ],
   "source": [
    "group2_pl.head()"
   ]
  },
  {
   "cell_type": "code",
   "execution_count": 21,
   "id": "f69a1909-c073-4500-9689-bf8a90f3055d",
   "metadata": {},
   "outputs": [
    {
     "data": {
      "text/plain": [
       "['trip_duration2',\n",
       " 'started_at2',\n",
       " 'ended_at2',\n",
       " 'start_station_id2',\n",
       " 'start_station_name2',\n",
       " 'start_lat2',\n",
       " 'start_lng2',\n",
       " 'end_station_id2',\n",
       " 'end_station_name2',\n",
       " 'end_lat2',\n",
       " 'end_lng2',\n",
       " 'bike_id2',\n",
       " 'user_type2',\n",
       " 'birth_year2',\n",
       " 'gender2']"
      ]
     },
     "execution_count": 21,
     "metadata": {},
     "output_type": "execute_result"
    }
   ],
   "source": [
    "col_list=group2_pl.columns[15:]\n",
    "col_list"
   ]
  },
  {
   "cell_type": "code",
   "execution_count": 43,
   "id": "392eb19e-11e7-46cd-a99e-9d1e041db808",
   "metadata": {},
   "outputs": [
    {
     "data": {
      "text/html": [
       "<div><style>\n",
       ".dataframe > thead > tr > th,\n",
       ".dataframe > tbody > tr > td {\n",
       "  text-align: right;\n",
       "}\n",
       "</style>\n",
       "<small>shape: (5, 15)</small><table border=\"1\" class=\"dataframe\"><thead><tr><th>trip_duration</th><th>started_at</th><th>ended_at</th><th>start_station_id</th><th>start_station_name</th><th>start_lat</th><th>start_lng</th><th>end_station_id</th><th>end_station_name</th><th>end_lat</th><th>end_lng</th><th>bike_id</th><th>user_type</th><th>birth_year</th><th>gender</th></tr><tr><td>f64</td><td>datetime[μs]</td><td>datetime[μs]</td><td>f64</td><td>str</td><td>f64</td><td>f64</td><td>f64</td><td>str</td><td>f64</td><td>f64</td><td>f64</td><td>str</td><td>f64</td><td>f64</td></tr></thead><tbody><tr><td>188.0</td><td>2017-09-01 00:00:21</td><td>2017-09-01 00:03:30</td><td>3101.0</td><td>&quot;N 12 St &amp; Bedf…</td><td>40.720798</td><td>-73.954847</td><td>3100.0</td><td>&quot;Nassau Ave &amp; N…</td><td>40.724813</td><td>-73.947526</td><td>15475.0</td><td>&quot;Subscriber&quot;</td><td>1988.0</td><td>1.0</td></tr><tr><td>305.0</td><td>2017-09-01 00:00:25</td><td>2017-09-01 00:05:30</td><td>3140.0</td><td>&quot;1 Ave &amp; E 78 S…</td><td>40.771404</td><td>-73.953517</td><td>3141.0</td><td>&quot;1 Ave &amp; E 68 S…</td><td>40.765005</td><td>-73.958185</td><td>30346.0</td><td>&quot;Subscriber&quot;</td><td>1969.0</td><td>1.0</td></tr><tr><td>223.0</td><td>2017-09-01 00:00:52</td><td>2017-09-01 00:04:36</td><td>236.0</td><td>&quot;St Marks Pl &amp; …</td><td>40.728419</td><td>-73.98714</td><td>473.0</td><td>&quot;Rivington St &amp;…</td><td>40.721101</td><td>-73.991925</td><td>28056.0</td><td>&quot;Subscriber&quot;</td><td>1993.0</td><td>1.0</td></tr><tr><td>758.0</td><td>2017-09-01 00:01:01</td><td>2017-09-01 00:13:40</td><td>3427.0</td><td>&quot;Lafayette St &amp;…</td><td>40.724305</td><td>-73.99601</td><td>3431.0</td><td>&quot;E 35 St &amp; 3 Av…</td><td>40.746524</td><td>-73.977885</td><td>25413.0</td><td>&quot;Subscriber&quot;</td><td>1987.0</td><td>1.0</td></tr><tr><td>2089.0</td><td>2017-09-01 00:01:20</td><td>2017-09-01 00:36:09</td><td>3016.0</td><td>&quot;Kent Ave &amp; N 7…</td><td>40.720368</td><td>-73.961651</td><td>3358.0</td><td>&quot;Garfield Pl &amp; …</td><td>40.671198</td><td>-73.974841</td><td>17584.0</td><td>&quot;Subscriber&quot;</td><td>1975.0</td><td>2.0</td></tr></tbody></table></div>"
      ],
      "text/plain": [
       "shape: (5, 15)\n",
       "┌────────────┬──────────┬────────────┬────────────┬───┬─────────┬────────────┬────────────┬────────┐\n",
       "│ trip_durat ┆ started_ ┆ ended_at   ┆ start_stat ┆ … ┆ bike_id ┆ user_type  ┆ birth_year ┆ gender │\n",
       "│ ion        ┆ at       ┆ ---        ┆ ion_id     ┆   ┆ ---     ┆ ---        ┆ ---        ┆ ---    │\n",
       "│ ---        ┆ ---      ┆ datetime[μ ┆ ---        ┆   ┆ f64     ┆ str        ┆ f64        ┆ f64    │\n",
       "│ f64        ┆ datetime ┆ s]         ┆ f64        ┆   ┆         ┆            ┆            ┆        │\n",
       "│            ┆ [μs]     ┆            ┆            ┆   ┆         ┆            ┆            ┆        │\n",
       "╞════════════╪══════════╪════════════╪════════════╪═══╪═════════╪════════════╪════════════╪════════╡\n",
       "│ 188.0      ┆ 2017-09- ┆ 2017-09-01 ┆ 3101.0     ┆ … ┆ 15475.0 ┆ Subscriber ┆ 1988.0     ┆ 1.0    │\n",
       "│            ┆ 01       ┆ 00:03:30   ┆            ┆   ┆         ┆            ┆            ┆        │\n",
       "│            ┆ 00:00:21 ┆            ┆            ┆   ┆         ┆            ┆            ┆        │\n",
       "│ 305.0      ┆ 2017-09- ┆ 2017-09-01 ┆ 3140.0     ┆ … ┆ 30346.0 ┆ Subscriber ┆ 1969.0     ┆ 1.0    │\n",
       "│            ┆ 01       ┆ 00:05:30   ┆            ┆   ┆         ┆            ┆            ┆        │\n",
       "│            ┆ 00:00:25 ┆            ┆            ┆   ┆         ┆            ┆            ┆        │\n",
       "│ 223.0      ┆ 2017-09- ┆ 2017-09-01 ┆ 236.0      ┆ … ┆ 28056.0 ┆ Subscriber ┆ 1993.0     ┆ 1.0    │\n",
       "│            ┆ 01       ┆ 00:04:36   ┆            ┆   ┆         ┆            ┆            ┆        │\n",
       "│            ┆ 00:00:52 ┆            ┆            ┆   ┆         ┆            ┆            ┆        │\n",
       "│ 758.0      ┆ 2017-09- ┆ 2017-09-01 ┆ 3427.0     ┆ … ┆ 25413.0 ┆ Subscriber ┆ 1987.0     ┆ 1.0    │\n",
       "│            ┆ 01       ┆ 00:13:40   ┆            ┆   ┆         ┆            ┆            ┆        │\n",
       "│            ┆ 00:01:01 ┆            ┆            ┆   ┆         ┆            ┆            ┆        │\n",
       "│ 2089.0     ┆ 2017-09- ┆ 2017-09-01 ┆ 3016.0     ┆ … ┆ 17584.0 ┆ Subscriber ┆ 1975.0     ┆ 2.0    │\n",
       "│            ┆ 01       ┆ 00:36:09   ┆            ┆   ┆         ┆            ┆            ┆        │\n",
       "│            ┆ 00:01:20 ┆            ┆            ┆   ┆         ┆            ┆            ┆        │\n",
       "└────────────┴──────────┴────────────┴────────────┴───┴─────────┴────────────┴────────────┴────────┘"
      ]
     },
     "execution_count": 43,
     "metadata": {},
     "output_type": "execute_result"
    }
   ],
   "source": [
    "group2_col_section2=group2_pl.select([\n",
    "    pl.col(col_list[0]),\n",
    "    pl.col(col_list[1]),\n",
    "    pl.col(col_list[2]),\n",
    "    pl.col(col_list[3]),\n",
    "    pl.col(col_list[4]),\n",
    "    pl.col(col_list[5]),\n",
    "    pl.col(col_list[6]),\n",
    "    pl.col(col_list[7]),\n",
    "    pl.col(col_list[8]),\n",
    "    pl.col(col_list[9]),\n",
    "    pl.col(col_list[10]),\n",
    "    pl.col(col_list[11]),\n",
    "    pl.col(col_list[12]),\n",
    "    pl.col(col_list[13]),\n",
    "    pl.col(col_list[14])\n",
    "])\n",
    "\n",
    "group2_col_section2.head()"
   ]
  },
  {
   "cell_type": "code",
   "execution_count": 44,
   "id": "9a7bb92e-f6c4-47de-b6b9-597a3bf11a1d",
   "metadata": {},
   "outputs": [
    {
     "data": {
      "text/html": [
       "<div><style>\n",
       ".dataframe > thead > tr > th,\n",
       ".dataframe > tbody > tr > td {\n",
       "  text-align: right;\n",
       "}\n",
       "</style>\n",
       "<small>shape: (9, 16)</small><table border=\"1\" class=\"dataframe\"><thead><tr><th>describe</th><th>trip_duration</th><th>started_at</th><th>ended_at</th><th>start_station_id</th><th>start_station_name</th><th>start_lat</th><th>start_lng</th><th>end_station_id</th><th>end_station_name</th><th>end_lat</th><th>end_lng</th><th>bike_id</th><th>user_type</th><th>birth_year</th><th>gender</th></tr><tr><td>str</td><td>f64</td><td>str</td><td>str</td><td>f64</td><td>str</td><td>f64</td><td>f64</td><td>f64</td><td>str</td><td>f64</td><td>f64</td><td>f64</td><td>str</td><td>f64</td><td>f64</td></tr></thead><tbody><tr><td>&quot;count&quot;</td><td>1.12546532e8</td><td>&quot;112546532&quot;</td><td>&quot;112546532&quot;</td><td>1.12546532e8</td><td>&quot;112546532&quot;</td><td>1.12546532e8</td><td>1.12546532e8</td><td>1.12546532e8</td><td>&quot;112546532&quot;</td><td>1.12546532e8</td><td>1.12546532e8</td><td>1.12546532e8</td><td>&quot;112546532&quot;</td><td>1.12546532e8</td><td>1.12546532e8</td></tr><tr><td>&quot;null_count&quot;</td><td>5.828988e6</td><td>&quot;90530996&quot;</td><td>&quot;90880362&quot;</td><td>5.831665e6</td><td>&quot;5831665&quot;</td><td>5.828988e6</td><td>5.828988e6</td><td>5.849724e6</td><td>&quot;5849724&quot;</td><td>5.847047e6</td><td>5.847047e6</td><td>5.828988e6</td><td>&quot;5828988&quot;</td><td>1.1643697e7</td><td>5.828988e6</td></tr><tr><td>&quot;mean&quot;</td><td>1034.93434</td><td>null</td><td>null</td><td>1366.991202</td><td>null</td><td>40.737373</td><td>-73.983758</td><td>1359.870766</td><td>null</td><td>40.737033</td><td>-73.983899</td><td>26286.055977</td><td>null</td><td>1978.983794</td><td>1.129902</td></tr><tr><td>&quot;std&quot;</td><td>13147.120036</td><td>null</td><td>null</td><td>1392.797372</td><td>null</td><td>0.038633</td><td>0.049637</td><td>1390.971733</td><td>null</td><td>0.048709</td><td>0.073419</td><td>8745.667876</td><td>null</td><td>12.043863</td><td>0.568256</td></tr><tr><td>&quot;min&quot;</td><td>60.0</td><td>&quot;2013-06-01 00:…</td><td>&quot;2013-07-01 00:…</td><td>72.0</td><td>&quot;1 Ave &amp; E 110 …</td><td>0.0</td><td>-74.034234</td><td>72.0</td><td>&quot;1 Ave &amp; E 110 …</td><td>0.0</td><td>-74.085849</td><td>14529.0</td><td>&quot;Customer&quot;</td><td>1857.0</td><td>0.0</td></tr><tr><td>&quot;max&quot;</td><td>1.9510049e7</td><td>&quot;2017-12-31 23:…</td><td>&quot;2018-01-30 08:…</td><td>4387.0</td><td>&quot;old - E 13 St …</td><td>45.506364</td><td>0.0</td><td>4387.0</td><td>&quot;old - E 13 St …</td><td>45.506364</td><td>0.0</td><td>50124.0</td><td>&quot;Subscriber&quot;</td><td>2005.0</td><td>2.0</td></tr><tr><td>&quot;median&quot;</td><td>647.0</td><td>null</td><td>null</td><td>484.0</td><td>null</td><td>40.737815</td><td>-73.98714</td><td>483.0</td><td>null</td><td>40.73705</td><td>-73.987216</td><td>25336.0</td><td>null</td><td>1981.0</td><td>1.0</td></tr><tr><td>&quot;25%&quot;</td><td>382.0</td><td>null</td><td>null</td><td>357.0</td><td>null</td><td>40.718939</td><td>-73.996826</td><td>355.0</td><td>null</td><td>40.718822</td><td>-73.997047</td><td>18621.0</td><td>null</td><td>1969.0</td><td>1.0</td></tr><tr><td>&quot;75%&quot;</td><td>1129.0</td><td>null</td><td>null</td><td>3147.0</td><td>null</td><td>40.755942</td><td>-73.974987</td><td>3144.0</td><td>null</td><td>40.755136</td><td>-73.975361</td><td>32429.0</td><td>null</td><td>1989.0</td><td>1.0</td></tr></tbody></table></div>"
      ],
      "text/plain": [
       "shape: (9, 16)\n",
       "┌────────────┬────────────┬──────────┬────────────┬───┬───────────┬─────────┬──────────┬───────────┐\n",
       "│ describe   ┆ trip_durat ┆ started_ ┆ ended_at   ┆ … ┆ bike_id   ┆ user_ty ┆ birth_ye ┆ gender    │\n",
       "│ ---        ┆ ion        ┆ at       ┆ ---        ┆   ┆ ---       ┆ pe      ┆ ar       ┆ ---       │\n",
       "│ str        ┆ ---        ┆ ---      ┆ str        ┆   ┆ f64       ┆ ---     ┆ ---      ┆ f64       │\n",
       "│            ┆ f64        ┆ str      ┆            ┆   ┆           ┆ str     ┆ f64      ┆           │\n",
       "╞════════════╪════════════╪══════════╪════════════╪═══╪═══════════╪═════════╪══════════╪═══════════╡\n",
       "│ count      ┆ 1.12546532 ┆ 11254653 ┆ 112546532  ┆ … ┆ 1.1254653 ┆ 1125465 ┆ 1.125465 ┆ 1.1254653 │\n",
       "│            ┆ e8         ┆ 2        ┆            ┆   ┆ 2e8       ┆ 32      ┆ 32e8     ┆ 2e8       │\n",
       "│ null_count ┆ 5.828988e6 ┆ 90530996 ┆ 90880362   ┆ … ┆ 5.828988e ┆ 5828988 ┆ 1.164369 ┆ 5.828988e │\n",
       "│            ┆            ┆          ┆            ┆   ┆ 6         ┆         ┆ 7e7      ┆ 6         │\n",
       "│ mean       ┆ 1034.93434 ┆ null     ┆ null       ┆ … ┆ 26286.055 ┆ null    ┆ 1978.983 ┆ 1.129902  │\n",
       "│            ┆            ┆          ┆            ┆   ┆ 977       ┆         ┆ 794      ┆           │\n",
       "│ std        ┆ 13147.1200 ┆ null     ┆ null       ┆ … ┆ 8745.6678 ┆ null    ┆ 12.04386 ┆ 0.568256  │\n",
       "│            ┆ 36         ┆          ┆            ┆   ┆ 76        ┆         ┆ 3        ┆           │\n",
       "│ min        ┆ 60.0       ┆ 2013-06- ┆ 2013-07-01 ┆ … ┆ 14529.0   ┆ Custome ┆ 1857.0   ┆ 0.0       │\n",
       "│            ┆            ┆ 01       ┆ 00:04:02   ┆   ┆           ┆ r       ┆          ┆           │\n",
       "│            ┆            ┆ 00:00:08 ┆            ┆   ┆           ┆         ┆          ┆           │\n",
       "│ max        ┆ 1.9510049e ┆ 2017-12- ┆ 2018-01-30 ┆ … ┆ 50124.0   ┆ Subscri ┆ 2005.0   ┆ 2.0       │\n",
       "│            ┆ 7          ┆ 31       ┆ 08:33:49   ┆   ┆           ┆ ber     ┆          ┆           │\n",
       "│            ┆            ┆ 23:58:56 ┆            ┆   ┆           ┆         ┆          ┆           │\n",
       "│ median     ┆ 647.0      ┆ null     ┆ null       ┆ … ┆ 25336.0   ┆ null    ┆ 1981.0   ┆ 1.0       │\n",
       "│ 25%        ┆ 382.0      ┆ null     ┆ null       ┆ … ┆ 18621.0   ┆ null    ┆ 1969.0   ┆ 1.0       │\n",
       "│ 75%        ┆ 1129.0     ┆ null     ┆ null       ┆ … ┆ 32429.0   ┆ null    ┆ 1989.0   ┆ 1.0       │\n",
       "└────────────┴────────────┴──────────┴────────────┴───┴───────────┴─────────┴──────────┴───────────┘"
      ]
     },
     "execution_count": 44,
     "metadata": {},
     "output_type": "execute_result"
    }
   ],
   "source": [
    "group2_col_section2.describe()"
   ]
  },
  {
   "cell_type": "code",
   "execution_count": 24,
   "id": "bbc5e6bf-f467-4ef9-a70b-eb815fcb936c",
   "metadata": {},
   "outputs": [
    {
     "data": {
      "text/plain": [
       "['trip_duration',\n",
       " 'started_at',\n",
       " 'ended_at',\n",
       " 'start_station_id',\n",
       " 'start_station_name',\n",
       " 'start_lat',\n",
       " 'start_lng',\n",
       " 'end_station_id',\n",
       " 'end_station_name',\n",
       " 'end_lat',\n",
       " 'end_lng',\n",
       " 'bike_id',\n",
       " 'user_type',\n",
       " 'birth_year',\n",
       " 'gender']"
      ]
     },
     "execution_count": 24,
     "metadata": {},
     "output_type": "execute_result"
    }
   ],
   "source": [
    "# list comprehension to remove the last character from each string\n",
    "col_list = [s[:-1] for s in col_list]\n",
    "\n",
    "col_list"
   ]
  },
  {
   "cell_type": "code",
   "execution_count": 25,
   "id": "2da75710-edcb-47ce-ac0c-f0f1fcbcda9b",
   "metadata": {},
   "outputs": [
    {
     "data": {
      "text/plain": [
       "['trip_duration',\n",
       " 'started_at',\n",
       " 'ended_at',\n",
       " 'start_station_id',\n",
       " 'start_station_name',\n",
       " 'start_lat',\n",
       " 'start_lng',\n",
       " 'end_station_id',\n",
       " 'end_station_name',\n",
       " 'end_lat',\n",
       " 'end_lng',\n",
       " 'bike_id',\n",
       " 'user_type',\n",
       " 'birth_year',\n",
       " 'gender']"
      ]
     },
     "execution_count": 25,
     "metadata": {},
     "output_type": "execute_result"
    }
   ],
   "source": [
    "col_list=group2_pl.columns[:15]\n",
    "col_list"
   ]
  },
  {
   "cell_type": "code",
   "execution_count": 26,
   "id": "591524f5-89b7-4812-8e14-cc76a581549f",
   "metadata": {},
   "outputs": [
    {
     "data": {
      "text/html": [
       "<div><style>\n",
       ".dataframe > thead > tr > th,\n",
       ".dataframe > tbody > tr > td {\n",
       "  text-align: right;\n",
       "}\n",
       "</style>\n",
       "<small>shape: (5, 15)</small><table border=\"1\" class=\"dataframe\"><thead><tr><th>trip_duration</th><th>started_at</th><th>ended_at</th><th>start_station_id</th><th>start_station_name</th><th>start_lat</th><th>start_lng</th><th>end_station_id</th><th>end_station_name</th><th>end_lat</th><th>end_lng</th><th>bike_id</th><th>user_type</th><th>birth_year</th><th>gender</th></tr><tr><td>f64</td><td>datetime[μs]</td><td>datetime[μs]</td><td>f64</td><td>str</td><td>f64</td><td>f64</td><td>f64</td><td>str</td><td>f64</td><td>f64</td><td>f64</td><td>str</td><td>f64</td><td>f64</td></tr></thead><tbody><tr><td>188.0</td><td>2017-09-01 00:00:21</td><td>2017-09-01 00:03:30</td><td>3101.0</td><td>&quot;N 12 St &amp; Bedf…</td><td>40.720798</td><td>-73.954847</td><td>3100.0</td><td>&quot;Nassau Ave &amp; N…</td><td>40.724813</td><td>-73.947526</td><td>15475.0</td><td>&quot;Subscriber&quot;</td><td>1988.0</td><td>1.0</td></tr><tr><td>305.0</td><td>2017-09-01 00:00:25</td><td>2017-09-01 00:05:30</td><td>3140.0</td><td>&quot;1 Ave &amp; E 78 S…</td><td>40.771404</td><td>-73.953517</td><td>3141.0</td><td>&quot;1 Ave &amp; E 68 S…</td><td>40.765005</td><td>-73.958185</td><td>30346.0</td><td>&quot;Subscriber&quot;</td><td>1969.0</td><td>1.0</td></tr><tr><td>223.0</td><td>2017-09-01 00:00:52</td><td>2017-09-01 00:04:36</td><td>236.0</td><td>&quot;St Marks Pl &amp; …</td><td>40.728419</td><td>-73.98714</td><td>473.0</td><td>&quot;Rivington St &amp;…</td><td>40.721101</td><td>-73.991925</td><td>28056.0</td><td>&quot;Subscriber&quot;</td><td>1993.0</td><td>1.0</td></tr><tr><td>758.0</td><td>2017-09-01 00:01:01</td><td>2017-09-01 00:13:40</td><td>3427.0</td><td>&quot;Lafayette St &amp;…</td><td>40.724305</td><td>-73.99601</td><td>3431.0</td><td>&quot;E 35 St &amp; 3 Av…</td><td>40.746524</td><td>-73.977885</td><td>25413.0</td><td>&quot;Subscriber&quot;</td><td>1987.0</td><td>1.0</td></tr><tr><td>2089.0</td><td>2017-09-01 00:01:20</td><td>2017-09-01 00:36:09</td><td>3016.0</td><td>&quot;Kent Ave &amp; N 7…</td><td>40.720368</td><td>-73.961651</td><td>3358.0</td><td>&quot;Garfield Pl &amp; …</td><td>40.671198</td><td>-73.974841</td><td>17584.0</td><td>&quot;Subscriber&quot;</td><td>1975.0</td><td>2.0</td></tr></tbody></table></div>"
      ],
      "text/plain": [
       "shape: (5, 15)\n",
       "┌────────────┬──────────┬────────────┬────────────┬───┬─────────┬────────────┬────────────┬────────┐\n",
       "│ trip_durat ┆ started_ ┆ ended_at   ┆ start_stat ┆ … ┆ bike_id ┆ user_type  ┆ birth_year ┆ gender │\n",
       "│ ion        ┆ at       ┆ ---        ┆ ion_id     ┆   ┆ ---     ┆ ---        ┆ ---        ┆ ---    │\n",
       "│ ---        ┆ ---      ┆ datetime[μ ┆ ---        ┆   ┆ f64     ┆ str        ┆ f64        ┆ f64    │\n",
       "│ f64        ┆ datetime ┆ s]         ┆ f64        ┆   ┆         ┆            ┆            ┆        │\n",
       "│            ┆ [μs]     ┆            ┆            ┆   ┆         ┆            ┆            ┆        │\n",
       "╞════════════╪══════════╪════════════╪════════════╪═══╪═════════╪════════════╪════════════╪════════╡\n",
       "│ 188.0      ┆ 2017-09- ┆ 2017-09-01 ┆ 3101.0     ┆ … ┆ 15475.0 ┆ Subscriber ┆ 1988.0     ┆ 1.0    │\n",
       "│            ┆ 01       ┆ 00:03:30   ┆            ┆   ┆         ┆            ┆            ┆        │\n",
       "│            ┆ 00:00:21 ┆            ┆            ┆   ┆         ┆            ┆            ┆        │\n",
       "│ 305.0      ┆ 2017-09- ┆ 2017-09-01 ┆ 3140.0     ┆ … ┆ 30346.0 ┆ Subscriber ┆ 1969.0     ┆ 1.0    │\n",
       "│            ┆ 01       ┆ 00:05:30   ┆            ┆   ┆         ┆            ┆            ┆        │\n",
       "│            ┆ 00:00:25 ┆            ┆            ┆   ┆         ┆            ┆            ┆        │\n",
       "│ 223.0      ┆ 2017-09- ┆ 2017-09-01 ┆ 236.0      ┆ … ┆ 28056.0 ┆ Subscriber ┆ 1993.0     ┆ 1.0    │\n",
       "│            ┆ 01       ┆ 00:04:36   ┆            ┆   ┆         ┆            ┆            ┆        │\n",
       "│            ┆ 00:00:52 ┆            ┆            ┆   ┆         ┆            ┆            ┆        │\n",
       "│ 758.0      ┆ 2017-09- ┆ 2017-09-01 ┆ 3427.0     ┆ … ┆ 25413.0 ┆ Subscriber ┆ 1987.0     ┆ 1.0    │\n",
       "│            ┆ 01       ┆ 00:13:40   ┆            ┆   ┆         ┆            ┆            ┆        │\n",
       "│            ┆ 00:01:01 ┆            ┆            ┆   ┆         ┆            ┆            ┆        │\n",
       "│ 2089.0     ┆ 2017-09- ┆ 2017-09-01 ┆ 3016.0     ┆ … ┆ 17584.0 ┆ Subscriber ┆ 1975.0     ┆ 2.0    │\n",
       "│            ┆ 01       ┆ 00:36:09   ┆            ┆   ┆         ┆            ┆            ┆        │\n",
       "│            ┆ 00:01:20 ┆            ┆            ┆   ┆         ┆            ┆            ┆        │\n",
       "└────────────┴──────────┴────────────┴────────────┴───┴─────────┴────────────┴────────────┴────────┘"
      ]
     },
     "execution_count": 26,
     "metadata": {},
     "output_type": "execute_result"
    }
   ],
   "source": [
    "group2_col_section1=group2_pl.select([\n",
    "    pl.col(col_list[0]),\n",
    "    pl.col(col_list[1]),\n",
    "    pl.col(col_list[2]),\n",
    "    pl.col(col_list[3]),\n",
    "    pl.col(col_list[4]),\n",
    "    pl.col(col_list[5]),\n",
    "    pl.col(col_list[6]),\n",
    "    pl.col(col_list[7]),\n",
    "    pl.col(col_list[8]),\n",
    "    pl.col(col_list[9]),\n",
    "    pl.col(col_list[10]),\n",
    "    pl.col(col_list[11]),\n",
    "    pl.col(col_list[12]),\n",
    "    pl.col(col_list[13]),\n",
    "    pl.col(col_list[14])\n",
    "])\n",
    "\n",
    "group2_col_section1.head()"
   ]
  },
  {
   "cell_type": "code",
   "execution_count": 29,
   "id": "03f06d5b-becb-4de4-ab9f-b146cf3c6836",
   "metadata": {},
   "outputs": [
    {
     "data": {
      "text/html": [
       "<div><style>\n",
       ".dataframe > thead > tr > th,\n",
       ".dataframe > tbody > tr > td {\n",
       "  text-align: right;\n",
       "}\n",
       "</style>\n",
       "<small>shape: (9, 16)</small><table border=\"1\" class=\"dataframe\"><thead><tr><th>describe</th><th>trip_duration</th><th>started_at</th><th>ended_at</th><th>start_station_id</th><th>start_station_name</th><th>start_lat</th><th>start_lng</th><th>end_station_id</th><th>end_station_name</th><th>end_lat</th><th>end_lng</th><th>bike_id</th><th>user_type</th><th>birth_year</th><th>gender</th></tr><tr><td>str</td><td>f64</td><td>str</td><td>str</td><td>f64</td><td>str</td><td>f64</td><td>f64</td><td>f64</td><td>str</td><td>f64</td><td>f64</td><td>f64</td><td>str</td><td>f64</td><td>f64</td></tr></thead><tbody><tr><td>&quot;count&quot;</td><td>1.12546532e8</td><td>&quot;112546532&quot;</td><td>&quot;112546532&quot;</td><td>1.12546532e8</td><td>&quot;112546532&quot;</td><td>1.12546532e8</td><td>1.12546532e8</td><td>1.12546532e8</td><td>&quot;112546532&quot;</td><td>1.12546532e8</td><td>1.12546532e8</td><td>1.12546532e8</td><td>&quot;112546532&quot;</td><td>1.12546532e8</td><td>1.12546532e8</td></tr><tr><td>&quot;null_count&quot;</td><td>5.828988e6</td><td>&quot;90530996&quot;</td><td>&quot;90880362&quot;</td><td>5.831665e6</td><td>&quot;5831665&quot;</td><td>5.828988e6</td><td>5.828988e6</td><td>5.849724e6</td><td>&quot;5849724&quot;</td><td>5.847047e6</td><td>5.847047e6</td><td>5.828988e6</td><td>&quot;5828988&quot;</td><td>1.1643697e7</td><td>5.828988e6</td></tr><tr><td>&quot;mean&quot;</td><td>1034.93434</td><td>null</td><td>null</td><td>1366.991202</td><td>null</td><td>40.737373</td><td>-73.983758</td><td>1359.870766</td><td>null</td><td>40.737033</td><td>-73.983899</td><td>26286.055977</td><td>null</td><td>1978.983794</td><td>1.129902</td></tr><tr><td>&quot;std&quot;</td><td>13147.120036</td><td>null</td><td>null</td><td>1392.797372</td><td>null</td><td>0.038633</td><td>0.049637</td><td>1390.971733</td><td>null</td><td>0.048709</td><td>0.073419</td><td>8745.667876</td><td>null</td><td>12.043863</td><td>0.568256</td></tr><tr><td>&quot;min&quot;</td><td>60.0</td><td>&quot;2013-06-01 00:…</td><td>&quot;2013-07-01 00:…</td><td>72.0</td><td>&quot;1 Ave &amp; E 110 …</td><td>0.0</td><td>-74.034234</td><td>72.0</td><td>&quot;1 Ave &amp; E 110 …</td><td>0.0</td><td>-74.085849</td><td>14529.0</td><td>&quot;Customer&quot;</td><td>1857.0</td><td>0.0</td></tr><tr><td>&quot;max&quot;</td><td>1.9510049e7</td><td>&quot;2017-12-31 23:…</td><td>&quot;2018-01-30 08:…</td><td>4387.0</td><td>&quot;old - E 13 St …</td><td>45.506364</td><td>0.0</td><td>4387.0</td><td>&quot;old - E 13 St …</td><td>45.506364</td><td>0.0</td><td>50124.0</td><td>&quot;Subscriber&quot;</td><td>2005.0</td><td>2.0</td></tr><tr><td>&quot;median&quot;</td><td>647.0</td><td>null</td><td>null</td><td>484.0</td><td>null</td><td>40.737815</td><td>-73.98714</td><td>483.0</td><td>null</td><td>40.73705</td><td>-73.987216</td><td>25336.0</td><td>null</td><td>1981.0</td><td>1.0</td></tr><tr><td>&quot;25%&quot;</td><td>382.0</td><td>null</td><td>null</td><td>357.0</td><td>null</td><td>40.718939</td><td>-73.996826</td><td>355.0</td><td>null</td><td>40.718822</td><td>-73.997047</td><td>18621.0</td><td>null</td><td>1969.0</td><td>1.0</td></tr><tr><td>&quot;75%&quot;</td><td>1129.0</td><td>null</td><td>null</td><td>3147.0</td><td>null</td><td>40.755942</td><td>-73.974987</td><td>3144.0</td><td>null</td><td>40.755136</td><td>-73.975361</td><td>32429.0</td><td>null</td><td>1989.0</td><td>1.0</td></tr></tbody></table></div>"
      ],
      "text/plain": [
       "shape: (9, 16)\n",
       "┌────────────┬────────────┬──────────┬────────────┬───┬───────────┬─────────┬──────────┬───────────┐\n",
       "│ describe   ┆ trip_durat ┆ started_ ┆ ended_at   ┆ … ┆ bike_id   ┆ user_ty ┆ birth_ye ┆ gender    │\n",
       "│ ---        ┆ ion        ┆ at       ┆ ---        ┆   ┆ ---       ┆ pe      ┆ ar       ┆ ---       │\n",
       "│ str        ┆ ---        ┆ ---      ┆ str        ┆   ┆ f64       ┆ ---     ┆ ---      ┆ f64       │\n",
       "│            ┆ f64        ┆ str      ┆            ┆   ┆           ┆ str     ┆ f64      ┆           │\n",
       "╞════════════╪════════════╪══════════╪════════════╪═══╪═══════════╪═════════╪══════════╪═══════════╡\n",
       "│ count      ┆ 1.12546532 ┆ 11254653 ┆ 112546532  ┆ … ┆ 1.1254653 ┆ 1125465 ┆ 1.125465 ┆ 1.1254653 │\n",
       "│            ┆ e8         ┆ 2        ┆            ┆   ┆ 2e8       ┆ 32      ┆ 32e8     ┆ 2e8       │\n",
       "│ null_count ┆ 5.828988e6 ┆ 90530996 ┆ 90880362   ┆ … ┆ 5.828988e ┆ 5828988 ┆ 1.164369 ┆ 5.828988e │\n",
       "│            ┆            ┆          ┆            ┆   ┆ 6         ┆         ┆ 7e7      ┆ 6         │\n",
       "│ mean       ┆ 1034.93434 ┆ null     ┆ null       ┆ … ┆ 26286.055 ┆ null    ┆ 1978.983 ┆ 1.129902  │\n",
       "│            ┆            ┆          ┆            ┆   ┆ 977       ┆         ┆ 794      ┆           │\n",
       "│ std        ┆ 13147.1200 ┆ null     ┆ null       ┆ … ┆ 8745.6678 ┆ null    ┆ 12.04386 ┆ 0.568256  │\n",
       "│            ┆ 36         ┆          ┆            ┆   ┆ 76        ┆         ┆ 3        ┆           │\n",
       "│ min        ┆ 60.0       ┆ 2013-06- ┆ 2013-07-01 ┆ … ┆ 14529.0   ┆ Custome ┆ 1857.0   ┆ 0.0       │\n",
       "│            ┆            ┆ 01       ┆ 00:04:02   ┆   ┆           ┆ r       ┆          ┆           │\n",
       "│            ┆            ┆ 00:00:08 ┆            ┆   ┆           ┆         ┆          ┆           │\n",
       "│ max        ┆ 1.9510049e ┆ 2017-12- ┆ 2018-01-30 ┆ … ┆ 50124.0   ┆ Subscri ┆ 2005.0   ┆ 2.0       │\n",
       "│            ┆ 7          ┆ 31       ┆ 08:33:49   ┆   ┆           ┆ ber     ┆          ┆           │\n",
       "│            ┆            ┆ 23:58:56 ┆            ┆   ┆           ┆         ┆          ┆           │\n",
       "│ median     ┆ 647.0      ┆ null     ┆ null       ┆ … ┆ 25336.0   ┆ null    ┆ 1981.0   ┆ 1.0       │\n",
       "│ 25%        ┆ 382.0      ┆ null     ┆ null       ┆ … ┆ 18621.0   ┆ null    ┆ 1969.0   ┆ 1.0       │\n",
       "│ 75%        ┆ 1129.0     ┆ null     ┆ null       ┆ … ┆ 32429.0   ┆ null    ┆ 1989.0   ┆ 1.0       │\n",
       "└────────────┴────────────┴──────────┴────────────┴───┴───────────┴─────────┴──────────┴───────────┘"
      ]
     },
     "execution_count": 29,
     "metadata": {},
     "output_type": "execute_result"
    }
   ],
   "source": [
    "group2_col_section1.describe()"
   ]
  },
  {
   "cell_type": "code",
   "execution_count": 32,
   "id": "87d6b640-47f6-432f-82f0-7c62d72a8665",
   "metadata": {},
   "outputs": [
    {
     "data": {
      "text/html": [
       "<div><style>\n",
       ".dataframe > thead > tr > th,\n",
       ".dataframe > tbody > tr > td {\n",
       "  text-align: right;\n",
       "}\n",
       "</style>\n",
       "<small>shape: (10, 15)</small><table border=\"1\" class=\"dataframe\"><thead><tr><th>trip_duration</th><th>started_at</th><th>ended_at</th><th>start_station_id</th><th>start_station_name</th><th>start_lat</th><th>start_lng</th><th>end_station_id</th><th>end_station_name</th><th>end_lat</th><th>end_lng</th><th>bike_id</th><th>user_type</th><th>birth_year</th><th>gender</th></tr><tr><td>f64</td><td>datetime[μs]</td><td>datetime[μs]</td><td>f64</td><td>str</td><td>f64</td><td>f64</td><td>f64</td><td>str</td><td>f64</td><td>f64</td><td>f64</td><td>str</td><td>f64</td><td>f64</td></tr></thead><tbody><tr><td>550.0</td><td>null</td><td>null</td><td>492.0</td><td>&quot;W 33 St &amp; 7 Av…</td><td>40.7502</td><td>-73.990931</td><td>3687.0</td><td>&quot;E 33 St &amp; 1 Av…</td><td>40.743227</td><td>-73.974498</td><td>32930.0</td><td>&quot;Subscriber&quot;</td><td>1975.0</td><td>1.0</td></tr><tr><td>1306.0</td><td>null</td><td>null</td><td>401.0</td><td>&quot;Allen St &amp; Riv…</td><td>40.720196</td><td>-73.989978</td><td>505.0</td><td>&quot;6 Ave &amp; W 33 S…</td><td>40.749013</td><td>-73.988484</td><td>17030.0</td><td>&quot;Subscriber&quot;</td><td>1987.0</td><td>1.0</td></tr><tr><td>902.0</td><td>null</td><td>null</td><td>82.0</td><td>&quot;St James Pl &amp; …</td><td>40.711174</td><td>-74.000165</td><td>473.0</td><td>&quot;Rivington St &amp;…</td><td>40.721101</td><td>-73.991925</td><td>16526.0</td><td>&quot;Customer&quot;</td><td>null</td><td>0.0</td></tr><tr><td>834.0</td><td>null</td><td>null</td><td>285.0</td><td>&quot;Broadway &amp; E 1…</td><td>40.734546</td><td>-73.990741</td><td>265.0</td><td>&quot;Stanton St &amp; C…</td><td>40.722293</td><td>-73.991475</td><td>30323.0</td><td>&quot;Subscriber&quot;</td><td>1974.0</td><td>1.0</td></tr><tr><td>489.0</td><td>2014-05-01 16:00:01</td><td>2014-05-01 16:08:10</td><td>492.0</td><td>&quot;W 33 St &amp; 7 Av…</td><td>40.7502</td><td>-73.990931</td><td>493.0</td><td>&quot;W 45 St &amp; 6 Av…</td><td>40.7568</td><td>-73.982912</td><td>19119.0</td><td>&quot;Subscriber&quot;</td><td>1957.0</td><td>1.0</td></tr><tr><td>637.0</td><td>2017-07-12 15:56:28</td><td>2017-07-12 16:07:05</td><td>3167.0</td><td>&quot;Amsterdam Ave …</td><td>40.779668</td><td>-73.98093</td><td>3301.0</td><td>&quot;Columbus Ave &amp;…</td><td>40.791956</td><td>-73.968087</td><td>16414.0</td><td>&quot;Subscriber&quot;</td><td>1968.0</td><td>2.0</td></tr><tr><td>260.0</td><td>null</td><td>null</td><td>450.0</td><td>&quot;W 49 St &amp; 8 Av…</td><td>40.762272</td><td>-73.987882</td><td>3443.0</td><td>&quot;W 52 St &amp; 6 Av…</td><td>40.76133</td><td>-73.97982</td><td>29818.0</td><td>&quot;Subscriber&quot;</td><td>1995.0</td><td>1.0</td></tr><tr><td>1303.0</td><td>2014-06-18 06:38:51</td><td>null</td><td>314.0</td><td>&quot;Cadman Plaza W…</td><td>40.69383</td><td>-73.990539</td><td>2008.0</td><td>&quot;Little West St…</td><td>40.705693</td><td>-74.016777</td><td>18246.0</td><td>&quot;Subscriber&quot;</td><td>1963.0</td><td>1.0</td></tr><tr><td>1292.0</td><td>null</td><td>null</td><td>3126.0</td><td>&quot;44 Dr &amp; Jackso…</td><td>40.747182</td><td>-73.943264</td><td>3116.0</td><td>&quot;Huron St &amp; Fra…</td><td>40.73266</td><td>-73.95826</td><td>16923.0</td><td>&quot;Customer&quot;</td><td>1969.0</td><td>0.0</td></tr><tr><td>472.0</td><td>null</td><td>null</td><td>458.0</td><td>&quot;11 Ave &amp; W 27 …</td><td>40.751396</td><td>-74.005226</td><td>508.0</td><td>&quot;W 46 St &amp; 11 A…</td><td>40.763414</td><td>-73.996674</td><td>31613.0</td><td>&quot;Subscriber&quot;</td><td>1967.0</td><td>1.0</td></tr></tbody></table></div>"
      ],
      "text/plain": [
       "shape: (10, 15)\n",
       "┌────────────┬──────────┬────────────┬────────────┬───┬─────────┬────────────┬────────────┬────────┐\n",
       "│ trip_durat ┆ started_ ┆ ended_at   ┆ start_stat ┆ … ┆ bike_id ┆ user_type  ┆ birth_year ┆ gender │\n",
       "│ ion        ┆ at       ┆ ---        ┆ ion_id     ┆   ┆ ---     ┆ ---        ┆ ---        ┆ ---    │\n",
       "│ ---        ┆ ---      ┆ datetime[μ ┆ ---        ┆   ┆ f64     ┆ str        ┆ f64        ┆ f64    │\n",
       "│ f64        ┆ datetime ┆ s]         ┆ f64        ┆   ┆         ┆            ┆            ┆        │\n",
       "│            ┆ [μs]     ┆            ┆            ┆   ┆         ┆            ┆            ┆        │\n",
       "╞════════════╪══════════╪════════════╪════════════╪═══╪═════════╪════════════╪════════════╪════════╡\n",
       "│ 550.0      ┆ null     ┆ null       ┆ 492.0      ┆ … ┆ 32930.0 ┆ Subscriber ┆ 1975.0     ┆ 1.0    │\n",
       "│ 1306.0     ┆ null     ┆ null       ┆ 401.0      ┆ … ┆ 17030.0 ┆ Subscriber ┆ 1987.0     ┆ 1.0    │\n",
       "│ 902.0      ┆ null     ┆ null       ┆ 82.0       ┆ … ┆ 16526.0 ┆ Customer   ┆ null       ┆ 0.0    │\n",
       "│ 834.0      ┆ null     ┆ null       ┆ 285.0      ┆ … ┆ 30323.0 ┆ Subscriber ┆ 1974.0     ┆ 1.0    │\n",
       "│ …          ┆ …        ┆ …          ┆ …          ┆ … ┆ …       ┆ …          ┆ …          ┆ …      │\n",
       "│ 260.0      ┆ null     ┆ null       ┆ 450.0      ┆ … ┆ 29818.0 ┆ Subscriber ┆ 1995.0     ┆ 1.0    │\n",
       "│ 1303.0     ┆ 2014-06- ┆ null       ┆ 314.0      ┆ … ┆ 18246.0 ┆ Subscriber ┆ 1963.0     ┆ 1.0    │\n",
       "│            ┆ 18       ┆            ┆            ┆   ┆         ┆            ┆            ┆        │\n",
       "│            ┆ 06:38:51 ┆            ┆            ┆   ┆         ┆            ┆            ┆        │\n",
       "│ 1292.0     ┆ null     ┆ null       ┆ 3126.0     ┆ … ┆ 16923.0 ┆ Customer   ┆ 1969.0     ┆ 0.0    │\n",
       "│ 472.0      ┆ null     ┆ null       ┆ 458.0      ┆ … ┆ 31613.0 ┆ Subscriber ┆ 1967.0     ┆ 1.0    │\n",
       "└────────────┴──────────┴────────────┴────────────┴───┴─────────┴────────────┴────────────┴────────┘"
      ]
     },
     "execution_count": 32,
     "metadata": {},
     "output_type": "execute_result"
    }
   ],
   "source": [
    "group2_col_section1.sample(n=10)"
   ]
  },
  {
   "cell_type": "code",
   "execution_count": 27,
   "id": "b8d67f2a-3c40-4e04-9ba6-c7d7143131f1",
   "metadata": {},
   "outputs": [
    {
     "data": {
      "text/html": [
       "<div><style>\n",
       ".dataframe > thead > tr > th,\n",
       ".dataframe > tbody > tr > td {\n",
       "  text-align: right;\n",
       "}\n",
       "</style>\n",
       "<small>shape: (5, 15)</small><table border=\"1\" class=\"dataframe\"><thead><tr><th>trip_duration</th><th>started_at</th><th>ended_at</th><th>start_station_id</th><th>start_station_name</th><th>start_lat</th><th>start_lng</th><th>end_station_id</th><th>end_station_name</th><th>end_lat</th><th>end_lng</th><th>bike_id</th><th>user_type</th><th>birth_year</th><th>gender</th></tr><tr><td>str</td><td>str</td><td>str</td><td>str</td><td>str</td><td>str</td><td>str</td><td>str</td><td>str</td><td>str</td><td>str</td><td>str</td><td>str</td><td>str</td><td>str</td></tr></thead><tbody><tr><td>null</td><td>null</td><td>null</td><td>null</td><td>null</td><td>null</td><td>null</td><td>null</td><td>null</td><td>null</td><td>null</td><td>null</td><td>null</td><td>null</td><td>null</td></tr><tr><td>null</td><td>null</td><td>null</td><td>null</td><td>null</td><td>null</td><td>null</td><td>null</td><td>null</td><td>null</td><td>null</td><td>null</td><td>null</td><td>null</td><td>null</td></tr><tr><td>null</td><td>null</td><td>null</td><td>null</td><td>null</td><td>null</td><td>null</td><td>null</td><td>null</td><td>null</td><td>null</td><td>null</td><td>null</td><td>null</td><td>null</td></tr><tr><td>null</td><td>null</td><td>null</td><td>null</td><td>null</td><td>null</td><td>null</td><td>null</td><td>null</td><td>null</td><td>null</td><td>null</td><td>null</td><td>null</td><td>null</td></tr><tr><td>null</td><td>null</td><td>null</td><td>null</td><td>null</td><td>null</td><td>null</td><td>null</td><td>null</td><td>null</td><td>null</td><td>null</td><td>null</td><td>null</td><td>null</td></tr></tbody></table></div>"
      ],
      "text/plain": [
       "shape: (5, 15)\n",
       "┌────────────┬────────────┬──────────┬────────────┬───┬─────────┬───────────┬────────────┬────────┐\n",
       "│ trip_durat ┆ started_at ┆ ended_at ┆ start_stat ┆ … ┆ bike_id ┆ user_type ┆ birth_year ┆ gender │\n",
       "│ ion        ┆ ---        ┆ ---      ┆ ion_id     ┆   ┆ ---     ┆ ---       ┆ ---        ┆ ---    │\n",
       "│ ---        ┆ str        ┆ str      ┆ ---        ┆   ┆ str     ┆ str       ┆ str        ┆ str    │\n",
       "│ str        ┆            ┆          ┆ str        ┆   ┆         ┆           ┆            ┆        │\n",
       "╞════════════╪════════════╪══════════╪════════════╪═══╪═════════╪═══════════╪════════════╪════════╡\n",
       "│ null       ┆ null       ┆ null     ┆ null       ┆ … ┆ null    ┆ null      ┆ null       ┆ null   │\n",
       "│ null       ┆ null       ┆ null     ┆ null       ┆ … ┆ null    ┆ null      ┆ null       ┆ null   │\n",
       "│ null       ┆ null       ┆ null     ┆ null       ┆ … ┆ null    ┆ null      ┆ null       ┆ null   │\n",
       "│ null       ┆ null       ┆ null     ┆ null       ┆ … ┆ null    ┆ null      ┆ null       ┆ null   │\n",
       "│ null       ┆ null       ┆ null     ┆ null       ┆ … ┆ null    ┆ null      ┆ null       ┆ null   │\n",
       "└────────────┴────────────┴──────────┴────────────┴───┴─────────┴───────────┴────────────┴────────┘"
      ]
     },
     "execution_count": 27,
     "metadata": {},
     "output_type": "execute_result"
    }
   ],
   "source": [
    "# remove column name overwrite protection\n",
    "group2_col_section2=group2_col_section2.select([\n",
    "    pl.col('trip_duration2').alias('trip_duration'),\n",
    "    pl.col('started_at2').alias('started_at'),\n",
    "    pl.col('ended_at2').alias('ended_at'),\n",
    "    pl.col('start_station_id2').alias('start_station_id'),\n",
    "    pl.col('start_station_name2').alias('start_station_name'),\n",
    "    pl.col('start_lat2').alias('start_lat'),\n",
    "    pl.col('start_lng2').alias('start_lng'),\n",
    "    pl.col('end_station_id2').alias('end_station_id'),\n",
    "    pl.col('end_station_name2').alias('end_station_name'),\n",
    "    pl.col('end_lat2').alias('end_lat'),\n",
    "    pl.col('end_lng2').alias('end_lng'),\n",
    "    pl.col('bike_id2').alias('bike_id'),\n",
    "    pl.col('user_type2').alias('user_type'),\n",
    "    pl.col('birth_year2').alias('birth_year'),\n",
    "    pl.col('gender2').alias('gender')\n",
    "])\n",
    "\n",
    "group2_col_section2.head()"
   ]
  },
  {
   "cell_type": "code",
   "execution_count": 34,
   "id": "26464df1-408e-4e44-b564-b7767f5bc540",
   "metadata": {},
   "outputs": [
    {
     "data": {
      "text/html": [
       "<div><style>\n",
       ".dataframe > thead > tr > th,\n",
       ".dataframe > tbody > tr > td {\n",
       "  text-align: right;\n",
       "}\n",
       "</style>\n",
       "<small>shape: (9, 16)</small><table border=\"1\" class=\"dataframe\"><thead><tr><th>describe</th><th>trip_duration</th><th>started_at</th><th>ended_at</th><th>start_station_id</th><th>start_station_name</th><th>start_lat</th><th>start_lng</th><th>end_station_id</th><th>end_station_name</th><th>end_lat</th><th>end_lng</th><th>bike_id</th><th>user_type</th><th>birth_year</th><th>gender</th></tr><tr><td>str</td><td>str</td><td>str</td><td>str</td><td>str</td><td>str</td><td>str</td><td>str</td><td>str</td><td>str</td><td>str</td><td>str</td><td>str</td><td>str</td><td>str</td><td>str</td></tr></thead><tbody><tr><td>&quot;count&quot;</td><td>&quot;112546532&quot;</td><td>&quot;112546532&quot;</td><td>&quot;112546532&quot;</td><td>&quot;112546532&quot;</td><td>&quot;112546532&quot;</td><td>&quot;112546532&quot;</td><td>&quot;112546532&quot;</td><td>&quot;112546532&quot;</td><td>&quot;112546532&quot;</td><td>&quot;112546532&quot;</td><td>&quot;112546532&quot;</td><td>&quot;112546532&quot;</td><td>&quot;112546532&quot;</td><td>&quot;112546532&quot;</td><td>&quot;112546532&quot;</td></tr><tr><td>&quot;null_count&quot;</td><td>&quot;106717544&quot;</td><td>&quot;106717544&quot;</td><td>&quot;106717544&quot;</td><td>&quot;106717544&quot;</td><td>&quot;106717544&quot;</td><td>&quot;106717544&quot;</td><td>&quot;106717544&quot;</td><td>&quot;106717544&quot;</td><td>&quot;106717544&quot;</td><td>&quot;106717544&quot;</td><td>&quot;106717544&quot;</td><td>&quot;106717544&quot;</td><td>&quot;106769324&quot;</td><td>&quot;107132307&quot;</td><td>&quot;106717544&quot;</td></tr><tr><td>&quot;mean&quot;</td><td>null</td><td>null</td><td>null</td><td>null</td><td>null</td><td>null</td><td>null</td><td>null</td><td>null</td><td>null</td><td>null</td><td>null</td><td>null</td><td>null</td><td>null</td></tr><tr><td>&quot;std&quot;</td><td>null</td><td>null</td><td>null</td><td>null</td><td>null</td><td>null</td><td>null</td><td>null</td><td>null</td><td>null</td><td>null</td><td>null</td><td>null</td><td>null</td><td>null</td></tr><tr><td>&quot;min&quot;</td><td>&quot;100.0&quot;</td><td>&quot;2016-10-01 00:…</td><td>&quot;2016-10-01 00:…</td><td>&quot;116.0&quot;</td><td>&quot;1 Ave &amp; E 16 S…</td><td>&quot;0.0&quot;</td><td>&quot;-73.9298911&quot;</td><td>&quot;116.0&quot;</td><td>&quot;1 Ave &amp; E 16 S…</td><td>&quot;0.0&quot;</td><td>&quot;-73.9298911&quot;</td><td>&quot;14529.0&quot;</td><td>&quot;Customer&quot;</td><td>&quot;1858.0&quot;</td><td>&quot;0.0&quot;</td></tr><tr><td>&quot;max&quot;</td><td>&quot;9998.0&quot;</td><td>&quot;2017-03-31 23:…</td><td>&quot;2017-04-06 13:…</td><td>&quot;83.0&quot;</td><td>&quot;York St &amp; Jay …</td><td>&quot;40.804213&quot;</td><td>&quot;0.0&quot;</td><td>&quot;83.0&quot;</td><td>&quot;York St &amp; Jay …</td><td>&quot;40.804213&quot;</td><td>&quot;0.0&quot;</td><td>&quot;29196.0&quot;</td><td>&quot;Subscriber&quot;</td><td>&quot;2001.0&quot;</td><td>&quot;2.0&quot;</td></tr><tr><td>&quot;median&quot;</td><td>null</td><td>null</td><td>null</td><td>null</td><td>null</td><td>null</td><td>null</td><td>null</td><td>null</td><td>null</td><td>null</td><td>null</td><td>null</td><td>null</td><td>null</td></tr><tr><td>&quot;25%&quot;</td><td>null</td><td>null</td><td>null</td><td>null</td><td>null</td><td>null</td><td>null</td><td>null</td><td>null</td><td>null</td><td>null</td><td>null</td><td>null</td><td>null</td><td>null</td></tr><tr><td>&quot;75%&quot;</td><td>null</td><td>null</td><td>null</td><td>null</td><td>null</td><td>null</td><td>null</td><td>null</td><td>null</td><td>null</td><td>null</td><td>null</td><td>null</td><td>null</td><td>null</td></tr></tbody></table></div>"
      ],
      "text/plain": [
       "shape: (9, 16)\n",
       "┌────────────┬────────────┬──────────┬────────────┬───┬───────────┬─────────┬──────────┬───────────┐\n",
       "│ describe   ┆ trip_durat ┆ started_ ┆ ended_at   ┆ … ┆ bike_id   ┆ user_ty ┆ birth_ye ┆ gender    │\n",
       "│ ---        ┆ ion        ┆ at       ┆ ---        ┆   ┆ ---       ┆ pe      ┆ ar       ┆ ---       │\n",
       "│ str        ┆ ---        ┆ ---      ┆ str        ┆   ┆ str       ┆ ---     ┆ ---      ┆ str       │\n",
       "│            ┆ str        ┆ str      ┆            ┆   ┆           ┆ str     ┆ str      ┆           │\n",
       "╞════════════╪════════════╪══════════╪════════════╪═══╪═══════════╪═════════╪══════════╪═══════════╡\n",
       "│ count      ┆ 112546532  ┆ 11254653 ┆ 112546532  ┆ … ┆ 112546532 ┆ 1125465 ┆ 11254653 ┆ 112546532 │\n",
       "│            ┆            ┆ 2        ┆            ┆   ┆           ┆ 32      ┆ 2        ┆           │\n",
       "│ null_count ┆ 106717544  ┆ 10671754 ┆ 106717544  ┆ … ┆ 106717544 ┆ 1067693 ┆ 10713230 ┆ 106717544 │\n",
       "│            ┆            ┆ 4        ┆            ┆   ┆           ┆ 24      ┆ 7        ┆           │\n",
       "│ mean       ┆ null       ┆ null     ┆ null       ┆ … ┆ null      ┆ null    ┆ null     ┆ null      │\n",
       "│ std        ┆ null       ┆ null     ┆ null       ┆ … ┆ null      ┆ null    ┆ null     ┆ null      │\n",
       "│ min        ┆ 100.0      ┆ 2016-10- ┆ 2016-10-01 ┆ … ┆ 14529.0   ┆ Custome ┆ 1858.0   ┆ 0.0       │\n",
       "│            ┆            ┆ 01       ┆ 00:04:03   ┆   ┆           ┆ r       ┆          ┆           │\n",
       "│            ┆            ┆ 00:00:11 ┆            ┆   ┆           ┆         ┆          ┆           │\n",
       "│ max        ┆ 9998.0     ┆ 2017-03- ┆ 2017-04-06 ┆ … ┆ 29196.0   ┆ Subscri ┆ 2001.0   ┆ 2.0       │\n",
       "│            ┆            ┆ 31       ┆ 13:05:50   ┆   ┆           ┆ ber     ┆          ┆           │\n",
       "│            ┆            ┆ 23:59:49 ┆            ┆   ┆           ┆         ┆          ┆           │\n",
       "│ median     ┆ null       ┆ null     ┆ null       ┆ … ┆ null      ┆ null    ┆ null     ┆ null      │\n",
       "│ 25%        ┆ null       ┆ null     ┆ null       ┆ … ┆ null      ┆ null    ┆ null     ┆ null      │\n",
       "│ 75%        ┆ null       ┆ null     ┆ null       ┆ … ┆ null      ┆ null    ┆ null     ┆ null      │\n",
       "└────────────┴────────────┴──────────┴────────────┴───┴───────────┴─────────┴──────────┴───────────┘"
      ]
     },
     "execution_count": 34,
     "metadata": {},
     "output_type": "execute_result"
    }
   ],
   "source": [
    "group2_col_section2.describe()"
   ]
  },
  {
   "cell_type": "code",
   "execution_count": 46,
   "id": "d95c20fc-f368-40d5-b8ac-8275339ca30a",
   "metadata": {},
   "outputs": [
    {
     "data": {
      "text/html": [
       "<div><style>\n",
       ".dataframe > thead > tr > th,\n",
       ".dataframe > tbody > tr > td {\n",
       "  text-align: right;\n",
       "}\n",
       "</style>\n",
       "<small>shape: (10, 15)</small><table border=\"1\" class=\"dataframe\"><thead><tr><th>trip_duration</th><th>started_at</th><th>ended_at</th><th>start_station_id</th><th>start_station_name</th><th>start_lat</th><th>start_lng</th><th>end_station_id</th><th>end_station_name</th><th>end_lat</th><th>end_lng</th><th>bike_id</th><th>user_type</th><th>birth_year</th><th>gender</th></tr><tr><td>f64</td><td>datetime[μs]</td><td>datetime[μs]</td><td>f64</td><td>str</td><td>f64</td><td>f64</td><td>f64</td><td>str</td><td>f64</td><td>f64</td><td>f64</td><td>str</td><td>f64</td><td>f64</td></tr></thead><tbody><tr><td>627.0</td><td>null</td><td>null</td><td>450.0</td><td>&quot;W 49 St &amp; 8 Av…</td><td>40.762272</td><td>-73.987882</td><td>267.0</td><td>&quot;Broadway &amp; W 3…</td><td>40.750977</td><td>-73.987654</td><td>41279.0</td><td>&quot;Subscriber&quot;</td><td>1987.0</td><td>2.0</td></tr><tr><td>147.0</td><td>null</td><td>null</td><td>357.0</td><td>&quot;E 11 St &amp; Broa…</td><td>40.732618</td><td>-73.99158</td><td>382.0</td><td>&quot;University Pl …</td><td>40.734927</td><td>-73.992005</td><td>20335.0</td><td>&quot;Subscriber&quot;</td><td>1984.0</td><td>1.0</td></tr><tr><td>580.0</td><td>2017-10-20 09:22:57</td><td>2017-10-20 09:32:38</td><td>334.0</td><td>&quot;W 20 St &amp; 7 Av…</td><td>40.742388</td><td>-73.997262</td><td>3463.0</td><td>&quot;E 16 St &amp; Irvi…</td><td>40.735367</td><td>-73.987974</td><td>32376.0</td><td>&quot;Subscriber&quot;</td><td>1971.0</td><td>1.0</td></tr><tr><td>1620.0</td><td>null</td><td>null</td><td>281.0</td><td>&quot;Grand Army Pla…</td><td>40.764397</td><td>-73.973715</td><td>3143.0</td><td>&quot;5 Ave &amp; E 78 S…</td><td>40.776321</td><td>-73.964274</td><td>16111.0</td><td>&quot;Customer&quot;</td><td>1969.0</td><td>0.0</td></tr><tr><td>716.0</td><td>null</td><td>null</td><td>356.0</td><td>&quot;Bialystoker Pl…</td><td>40.716226</td><td>-73.982612</td><td>532.0</td><td>&quot;S 5 Pl &amp; S 5 S…</td><td>40.710451</td><td>-73.960876</td><td>43769.0</td><td>&quot;Subscriber&quot;</td><td>1976.0</td><td>1.0</td></tr><tr><td>583.0</td><td>null</td><td>null</td><td>3165.0</td><td>&quot;Central Park W…</td><td>40.775794</td><td>-73.976206</td><td>3233.0</td><td>&quot;E 48 St &amp; 5 Av…</td><td>40.757246</td><td>-73.978059</td><td>15943.0</td><td>&quot;Subscriber&quot;</td><td>1968.0</td><td>1.0</td></tr><tr><td>1393.0</td><td>2017-07-30 15:37:31</td><td>2017-07-30 16:00:44</td><td>502.0</td><td>&quot;Henry St &amp; Gra…</td><td>40.714215</td><td>-73.981346</td><td>403.0</td><td>&quot;E 2 St &amp; 2 Ave…</td><td>40.725029</td><td>-73.990697</td><td>30324.0</td><td>&quot;Subscriber&quot;</td><td>1943.0</td><td>1.0</td></tr><tr><td>377.0</td><td>null</td><td>null</td><td>244.0</td><td>&quot;Willoughby Ave…</td><td>40.69196</td><td>-73.965369</td><td>243.0</td><td>&quot;Fulton St &amp; Ro…</td><td>40.68841</td><td>-73.979458</td><td>27587.0</td><td>&quot;Subscriber&quot;</td><td>1980.0</td><td>1.0</td></tr><tr><td>1201.0</td><td>null</td><td>null</td><td>3072.0</td><td>&quot;Leonard St &amp; B…</td><td>40.705833</td><td>-73.946446</td><td>3062.0</td><td>&quot;Myrtle Ave &amp; M…</td><td>40.695398</td><td>-73.949549</td><td>27141.0</td><td>&quot;Subscriber&quot;</td><td>1990.0</td><td>1.0</td></tr><tr><td>330.0</td><td>null</td><td>null</td><td>296.0</td><td>&quot;Division St &amp; …</td><td>40.714131</td><td>-73.997047</td><td>3435.0</td><td>&quot;Grand St &amp; Eli…</td><td>40.718822</td><td>-73.99596</td><td>16556.0</td><td>&quot;Subscriber&quot;</td><td>1995.0</td><td>2.0</td></tr></tbody></table></div>"
      ],
      "text/plain": [
       "shape: (10, 15)\n",
       "┌────────────┬──────────┬────────────┬────────────┬───┬─────────┬────────────┬────────────┬────────┐\n",
       "│ trip_durat ┆ started_ ┆ ended_at   ┆ start_stat ┆ … ┆ bike_id ┆ user_type  ┆ birth_year ┆ gender │\n",
       "│ ion        ┆ at       ┆ ---        ┆ ion_id     ┆   ┆ ---     ┆ ---        ┆ ---        ┆ ---    │\n",
       "│ ---        ┆ ---      ┆ datetime[μ ┆ ---        ┆   ┆ f64     ┆ str        ┆ f64        ┆ f64    │\n",
       "│ f64        ┆ datetime ┆ s]         ┆ f64        ┆   ┆         ┆            ┆            ┆        │\n",
       "│            ┆ [μs]     ┆            ┆            ┆   ┆         ┆            ┆            ┆        │\n",
       "╞════════════╪══════════╪════════════╪════════════╪═══╪═════════╪════════════╪════════════╪════════╡\n",
       "│ 627.0      ┆ null     ┆ null       ┆ 450.0      ┆ … ┆ 41279.0 ┆ Subscriber ┆ 1987.0     ┆ 2.0    │\n",
       "│ 147.0      ┆ null     ┆ null       ┆ 357.0      ┆ … ┆ 20335.0 ┆ Subscriber ┆ 1984.0     ┆ 1.0    │\n",
       "│ 580.0      ┆ 2017-10- ┆ 2017-10-20 ┆ 334.0      ┆ … ┆ 32376.0 ┆ Subscriber ┆ 1971.0     ┆ 1.0    │\n",
       "│            ┆ 20       ┆ 09:32:38   ┆            ┆   ┆         ┆            ┆            ┆        │\n",
       "│            ┆ 09:22:57 ┆            ┆            ┆   ┆         ┆            ┆            ┆        │\n",
       "│ 1620.0     ┆ null     ┆ null       ┆ 281.0      ┆ … ┆ 16111.0 ┆ Customer   ┆ 1969.0     ┆ 0.0    │\n",
       "│ …          ┆ …        ┆ …          ┆ …          ┆ … ┆ …       ┆ …          ┆ …          ┆ …      │\n",
       "│ 1393.0     ┆ 2017-07- ┆ 2017-07-30 ┆ 502.0      ┆ … ┆ 30324.0 ┆ Subscriber ┆ 1943.0     ┆ 1.0    │\n",
       "│            ┆ 30       ┆ 16:00:44   ┆            ┆   ┆         ┆            ┆            ┆        │\n",
       "│            ┆ 15:37:31 ┆            ┆            ┆   ┆         ┆            ┆            ┆        │\n",
       "│ 377.0      ┆ null     ┆ null       ┆ 244.0      ┆ … ┆ 27587.0 ┆ Subscriber ┆ 1980.0     ┆ 1.0    │\n",
       "│ 1201.0     ┆ null     ┆ null       ┆ 3072.0     ┆ … ┆ 27141.0 ┆ Subscriber ┆ 1990.0     ┆ 1.0    │\n",
       "│ 330.0      ┆ null     ┆ null       ┆ 296.0      ┆ … ┆ 16556.0 ┆ Subscriber ┆ 1995.0     ┆ 2.0    │\n",
       "└────────────┴──────────┴────────────┴────────────┴───┴─────────┴────────────┴────────────┴────────┘"
      ]
     },
     "execution_count": 46,
     "metadata": {},
     "output_type": "execute_result"
    }
   ],
   "source": [
    "group2_col_section2.sample(10)"
   ]
  },
  {
   "cell_type": "code",
   "execution_count": 47,
   "id": "4ef6dbbb-cfb7-44de-91e4-6afc60dfd91b",
   "metadata": {},
   "outputs": [
    {
     "data": {
      "text/html": [
       "<div><style>\n",
       ".dataframe > thead > tr > th,\n",
       ".dataframe > tbody > tr > td {\n",
       "  text-align: right;\n",
       "}\n",
       "</style>\n",
       "<small>shape: (10, 15)</small><table border=\"1\" class=\"dataframe\"><thead><tr><th>trip_duration</th><th>started_at</th><th>ended_at</th><th>start_station_id</th><th>start_station_name</th><th>start_lat</th><th>start_lng</th><th>end_station_id</th><th>end_station_name</th><th>end_lat</th><th>end_lng</th><th>bike_id</th><th>user_type</th><th>birth_year</th><th>gender</th></tr><tr><td>f64</td><td>datetime[μs]</td><td>datetime[μs]</td><td>f64</td><td>str</td><td>f64</td><td>f64</td><td>f64</td><td>str</td><td>f64</td><td>f64</td><td>f64</td><td>str</td><td>f64</td><td>f64</td></tr></thead><tbody><tr><td>633.0</td><td>null</td><td>null</td><td>402.0</td><td>&quot;Broadway &amp; E 2…</td><td>40.740343</td><td>-73.989551</td><td>432.0</td><td>&quot;E 7 St &amp; Avenu…</td><td>40.726218</td><td>-73.983799</td><td>19581.0</td><td>&quot;Subscriber&quot;</td><td>1981.0</td><td>1.0</td></tr><tr><td>374.0</td><td>null</td><td>null</td><td>301.0</td><td>&quot;E 2 St &amp; Avenu…</td><td>40.722174</td><td>-73.983688</td><td>229.0</td><td>&quot;Great Jones St…</td><td>40.727434</td><td>-73.99379</td><td>21675.0</td><td>&quot;Subscriber&quot;</td><td>1973.0</td><td>2.0</td></tr><tr><td>5682.0</td><td>null</td><td>null</td><td>3286.0</td><td>&quot;E 89 St &amp; 3 Av…</td><td>40.780628</td><td>-73.952167</td><td>3309.0</td><td>&quot;E 97 St &amp; 3 Av…</td><td>40.78592</td><td>-73.948603</td><td>28692.0</td><td>&quot;Customer&quot;</td><td>1969.0</td><td>0.0</td></tr><tr><td>401.0</td><td>null</td><td>null</td><td>380.0</td><td>&quot;W 4 St &amp; 7 Ave…</td><td>40.734011</td><td>-74.002939</td><td>439.0</td><td>&quot;E 4 St &amp; 2 Ave…</td><td>40.726281</td><td>-73.98978</td><td>21146.0</td><td>&quot;Subscriber&quot;</td><td>2001.0</td><td>1.0</td></tr><tr><td>327.0</td><td>2014-03-21 07:54:20</td><td>2014-03-21 07:59:47</td><td>417.0</td><td>&quot;Barclay St &amp; C…</td><td>40.712912</td><td>-74.010202</td><td>260.0</td><td>&quot;Broad St &amp; Bri…</td><td>40.703652</td><td>-74.011678</td><td>17420.0</td><td>&quot;Subscriber&quot;</td><td>1978.0</td><td>1.0</td></tr><tr><td>407.0</td><td>null</td><td>null</td><td>244.0</td><td>&quot;Willoughby Ave…</td><td>40.69196</td><td>-73.965369</td><td>324.0</td><td>&quot;DeKalb Ave &amp; H…</td><td>40.689888</td><td>-73.981013</td><td>20121.0</td><td>&quot;Subscriber&quot;</td><td>1980.0</td><td>1.0</td></tr><tr><td>964.0</td><td>2017-11-28 12:09:19</td><td>2017-11-28 12:25:23</td><td>403.0</td><td>&quot;E 2 St &amp; 2 Ave…</td><td>40.725029</td><td>-73.990697</td><td>360.0</td><td>&quot;William St &amp; P…</td><td>40.707179</td><td>-74.008873</td><td>28730.0</td><td>&quot;Subscriber&quot;</td><td>1980.0</td><td>2.0</td></tr><tr><td>156.0</td><td>2014-05-29 07:45:07</td><td>2014-05-29 07:47:43</td><td>476.0</td><td>&quot;E 31 St &amp; 3 Av…</td><td>40.743943</td><td>-73.979661</td><td>474.0</td><td>&quot;5 Ave &amp; E 29 S…</td><td>40.745168</td><td>-73.986831</td><td>17997.0</td><td>&quot;Subscriber&quot;</td><td>1983.0</td><td>1.0</td></tr><tr><td>915.0</td><td>2017-11-09 23:31:31</td><td>2017-11-09 23:46:47</td><td>385.0</td><td>&quot;E 55 St &amp; 2 Av…</td><td>40.757973</td><td>-73.966033</td><td>483.0</td><td>&quot;E 12 St &amp; 3 Av…</td><td>40.732233</td><td>-73.9889</td><td>32139.0</td><td>&quot;Subscriber&quot;</td><td>1995.0</td><td>1.0</td></tr><tr><td>527.0</td><td>2013-08-24 17:37:39</td><td>2013-08-24 17:46:26</td><td>337.0</td><td>&quot;Old Slip &amp; Fro…</td><td>40.703799</td><td>-74.008387</td><td>304.0</td><td>&quot;Broadway &amp; Bat…</td><td>40.704633</td><td>-74.013617</td><td>15210.0</td><td>&quot;Subscriber&quot;</td><td>1985.0</td><td>1.0</td></tr></tbody></table></div>"
      ],
      "text/plain": [
       "shape: (10, 15)\n",
       "┌────────────┬──────────┬────────────┬────────────┬───┬─────────┬────────────┬────────────┬────────┐\n",
       "│ trip_durat ┆ started_ ┆ ended_at   ┆ start_stat ┆ … ┆ bike_id ┆ user_type  ┆ birth_year ┆ gender │\n",
       "│ ion        ┆ at       ┆ ---        ┆ ion_id     ┆   ┆ ---     ┆ ---        ┆ ---        ┆ ---    │\n",
       "│ ---        ┆ ---      ┆ datetime[μ ┆ ---        ┆   ┆ f64     ┆ str        ┆ f64        ┆ f64    │\n",
       "│ f64        ┆ datetime ┆ s]         ┆ f64        ┆   ┆         ┆            ┆            ┆        │\n",
       "│            ┆ [μs]     ┆            ┆            ┆   ┆         ┆            ┆            ┆        │\n",
       "╞════════════╪══════════╪════════════╪════════════╪═══╪═════════╪════════════╪════════════╪════════╡\n",
       "│ 633.0      ┆ null     ┆ null       ┆ 402.0      ┆ … ┆ 19581.0 ┆ Subscriber ┆ 1981.0     ┆ 1.0    │\n",
       "│ 374.0      ┆ null     ┆ null       ┆ 301.0      ┆ … ┆ 21675.0 ┆ Subscriber ┆ 1973.0     ┆ 2.0    │\n",
       "│ 5682.0     ┆ null     ┆ null       ┆ 3286.0     ┆ … ┆ 28692.0 ┆ Customer   ┆ 1969.0     ┆ 0.0    │\n",
       "│ 401.0      ┆ null     ┆ null       ┆ 380.0      ┆ … ┆ 21146.0 ┆ Subscriber ┆ 2001.0     ┆ 1.0    │\n",
       "│ …          ┆ …        ┆ …          ┆ …          ┆ … ┆ …       ┆ …          ┆ …          ┆ …      │\n",
       "│ 964.0      ┆ 2017-11- ┆ 2017-11-28 ┆ 403.0      ┆ … ┆ 28730.0 ┆ Subscriber ┆ 1980.0     ┆ 2.0    │\n",
       "│            ┆ 28       ┆ 12:25:23   ┆            ┆   ┆         ┆            ┆            ┆        │\n",
       "│            ┆ 12:09:19 ┆            ┆            ┆   ┆         ┆            ┆            ┆        │\n",
       "│ 156.0      ┆ 2014-05- ┆ 2014-05-29 ┆ 476.0      ┆ … ┆ 17997.0 ┆ Subscriber ┆ 1983.0     ┆ 1.0    │\n",
       "│            ┆ 29       ┆ 07:47:43   ┆            ┆   ┆         ┆            ┆            ┆        │\n",
       "│            ┆ 07:45:07 ┆            ┆            ┆   ┆         ┆            ┆            ┆        │\n",
       "│ 915.0      ┆ 2017-11- ┆ 2017-11-09 ┆ 385.0      ┆ … ┆ 32139.0 ┆ Subscriber ┆ 1995.0     ┆ 1.0    │\n",
       "│            ┆ 09       ┆ 23:46:47   ┆            ┆   ┆         ┆            ┆            ┆        │\n",
       "│            ┆ 23:31:31 ┆            ┆            ┆   ┆         ┆            ┆            ┆        │\n",
       "│ 527.0      ┆ 2013-08- ┆ 2013-08-24 ┆ 337.0      ┆ … ┆ 15210.0 ┆ Subscriber ┆ 1985.0     ┆ 1.0    │\n",
       "│            ┆ 24       ┆ 17:46:26   ┆            ┆   ┆         ┆            ┆            ┆        │\n",
       "│            ┆ 17:37:39 ┆            ┆            ┆   ┆         ┆            ┆            ┆        │\n",
       "└────────────┴──────────┴────────────┴────────────┴───┴─────────┴────────────┴────────────┴────────┘"
      ]
     },
     "execution_count": 47,
     "metadata": {},
     "output_type": "execute_result"
    }
   ],
   "source": [
    "group2_col_section1.sample(10)"
   ]
  },
  {
   "cell_type": "code",
   "execution_count": 42,
   "id": "ed9c073b-6d17-4d71-ad08-8656d11ece51",
   "metadata": {},
   "outputs": [
    {
     "data": {
      "text/html": [
       "<div><style>\n",
       ".dataframe > thead > tr > th,\n",
       ".dataframe > tbody > tr > td {\n",
       "  text-align: right;\n",
       "}\n",
       "</style>\n",
       "<small>shape: (9, 16)</small><table border=\"1\" class=\"dataframe\"><thead><tr><th>describe</th><th>trip_duration</th><th>started_at</th><th>ended_at</th><th>start_station_id</th><th>start_station_name</th><th>start_lat</th><th>start_lng</th><th>end_station_id</th><th>end_station_name</th><th>end_lat</th><th>end_lng</th><th>bike_id</th><th>user_type</th><th>birth_year</th><th>gender</th></tr><tr><td>str</td><td>f64</td><td>str</td><td>str</td><td>f64</td><td>str</td><td>f64</td><td>f64</td><td>f64</td><td>str</td><td>f64</td><td>f64</td><td>f64</td><td>str</td><td>f64</td><td>str</td></tr></thead><tbody><tr><td>&quot;count&quot;</td><td>1.12546532e8</td><td>&quot;112546532&quot;</td><td>&quot;112546532&quot;</td><td>1.12546532e8</td><td>&quot;112546532&quot;</td><td>1.12546532e8</td><td>1.12546532e8</td><td>1.12546532e8</td><td>&quot;112546532&quot;</td><td>1.12546532e8</td><td>1.12546532e8</td><td>1.12546532e8</td><td>&quot;112546532&quot;</td><td>1.12546532e8</td><td>&quot;112546532&quot;</td></tr><tr><td>&quot;null_count&quot;</td><td>1.06717544e8</td><td>&quot;112546532&quot;</td><td>&quot;112546532&quot;</td><td>1.06717544e8</td><td>&quot;106717544&quot;</td><td>1.06717544e8</td><td>1.06717544e8</td><td>1.06717544e8</td><td>&quot;106717544&quot;</td><td>1.06717544e8</td><td>1.06717544e8</td><td>1.06717544e8</td><td>&quot;106769324&quot;</td><td>1.07132307e8</td><td>&quot;106717544&quot;</td></tr><tr><td>&quot;mean&quot;</td><td>844.368774</td><td>null</td><td>null</td><td>1240.957397</td><td>null</td><td>40.737419</td><td>-73.985054</td><td>1222.479248</td><td>null</td><td>40.736691</td><td>-73.984604</td><td>22060.808594</td><td>null</td><td>1977.71228</td><td>null</td></tr><tr><td>&quot;std&quot;</td><td>10147.533203</td><td>null</td><td>null</td><td>1288.446045</td><td>null</td><td>0.046324</td><td>0.07043</td><td>1280.50293</td><td>null</td><td>0.136549</td><td>0.243771</td><td>4029.681641</td><td>null</td><td>11.887452</td><td>null</td></tr><tr><td>&quot;min&quot;</td><td>61.0</td><td>null</td><td>null</td><td>72.0</td><td>&quot;1 Ave &amp; E 16 S…</td><td>0.0</td><td>-74.031372</td><td>72.0</td><td>&quot;1 Ave &amp; E 16 S…</td><td>0.0</td><td>-74.049965</td><td>14529.0</td><td>&quot;Customer&quot;</td><td>1858.0</td><td>&quot;0.0&quot;</td></tr><tr><td>&quot;max&quot;</td><td>8.933552e6</td><td>null</td><td>null</td><td>3456.0</td><td>&quot;York St &amp; Jay …</td><td>40.804214</td><td>0.0</td><td>3456.0</td><td>&quot;York St &amp; Jay …</td><td>40.804214</td><td>0.0</td><td>29196.0</td><td>&quot;Subscriber&quot;</td><td>2001.0</td><td>&quot;2.0&quot;</td></tr><tr><td>&quot;median&quot;</td><td>576.0</td><td>null</td><td>null</td><td>482.0</td><td>null</td><td>40.739124</td><td>-73.987518</td><td>479.0</td><td>null</td><td>40.739017</td><td>-73.987656</td><td>22745.0</td><td>null</td><td>1980.0</td><td>null</td></tr><tr><td>&quot;25%&quot;</td><td>354.0</td><td>null</td><td>null</td><td>357.0</td><td>null</td><td>40.720367</td><td>-73.99601</td><td>355.0</td><td>null</td><td>40.720196</td><td>-73.99662</td><td>18457.0</td><td>null</td><td>1969.0</td><td>null</td></tr><tr><td>&quot;75%&quot;</td><td>966.0</td><td>null</td><td>null</td><td>3102.0</td><td>null</td><td>40.755272</td><td>-73.976486</td><td>3092.0</td><td>null</td><td>40.755104</td><td>-73.976685</td><td>25723.0</td><td>null</td><td>1987.0</td><td>null</td></tr></tbody></table></div>"
      ],
      "text/plain": [
       "shape: (9, 16)\n",
       "┌────────────┬────────────┬──────────┬────────────┬───┬───────────┬─────────┬──────────┬───────────┐\n",
       "│ describe   ┆ trip_durat ┆ started_ ┆ ended_at   ┆ … ┆ bike_id   ┆ user_ty ┆ birth_ye ┆ gender    │\n",
       "│ ---        ┆ ion        ┆ at       ┆ ---        ┆   ┆ ---       ┆ pe      ┆ ar       ┆ ---       │\n",
       "│ str        ┆ ---        ┆ ---      ┆ str        ┆   ┆ f64       ┆ ---     ┆ ---      ┆ str       │\n",
       "│            ┆ f64        ┆ str      ┆            ┆   ┆           ┆ str     ┆ f64      ┆           │\n",
       "╞════════════╪════════════╪══════════╪════════════╪═══╪═══════════╪═════════╪══════════╪═══════════╡\n",
       "│ count      ┆ 1.12546532 ┆ 11254653 ┆ 112546532  ┆ … ┆ 1.1254653 ┆ 1125465 ┆ 1.125465 ┆ 112546532 │\n",
       "│            ┆ e8         ┆ 2        ┆            ┆   ┆ 2e8       ┆ 32      ┆ 32e8     ┆           │\n",
       "│ null_count ┆ 1.06717544 ┆ 11254653 ┆ 112546532  ┆ … ┆ 1.0671754 ┆ 1067693 ┆ 1.071323 ┆ 106717544 │\n",
       "│            ┆ e8         ┆ 2        ┆            ┆   ┆ 4e8       ┆ 24      ┆ 07e8     ┆           │\n",
       "│ mean       ┆ 844.368774 ┆ null     ┆ null       ┆ … ┆ 22060.808 ┆ null    ┆ 1977.712 ┆ null      │\n",
       "│            ┆            ┆          ┆            ┆   ┆ 594       ┆         ┆ 28       ┆           │\n",
       "│ std        ┆ 10147.5332 ┆ null     ┆ null       ┆ … ┆ 4029.6816 ┆ null    ┆ 11.88745 ┆ null      │\n",
       "│            ┆ 03         ┆          ┆            ┆   ┆ 41        ┆         ┆ 2        ┆           │\n",
       "│ min        ┆ 61.0       ┆ null     ┆ null       ┆ … ┆ 14529.0   ┆ Custome ┆ 1858.0   ┆ 0.0       │\n",
       "│            ┆            ┆          ┆            ┆   ┆           ┆ r       ┆          ┆           │\n",
       "│ max        ┆ 8.933552e6 ┆ null     ┆ null       ┆ … ┆ 29196.0   ┆ Subscri ┆ 2001.0   ┆ 2.0       │\n",
       "│            ┆            ┆          ┆            ┆   ┆           ┆ ber     ┆          ┆           │\n",
       "│ median     ┆ 576.0      ┆ null     ┆ null       ┆ … ┆ 22745.0   ┆ null    ┆ 1980.0   ┆ null      │\n",
       "│ 25%        ┆ 354.0      ┆ null     ┆ null       ┆ … ┆ 18457.0   ┆ null    ┆ 1969.0   ┆ null      │\n",
       "│ 75%        ┆ 966.0      ┆ null     ┆ null       ┆ … ┆ 25723.0   ┆ null    ┆ 1987.0   ┆ null      │\n",
       "└────────────┴────────────┴──────────┴────────────┴───┴───────────┴─────────┴──────────┴───────────┘"
      ]
     },
     "execution_count": 42,
     "metadata": {},
     "output_type": "execute_result"
    }
   ],
   "source": [
    "# casting columns appropriately\n",
    "# for col_section1 and col_section2\n",
    "\n",
    "# for col_section2\n",
    "# example: trip_duration should be Float64\n",
    "# example: started_at should be Datetime\n",
    "group2_col_section2=group2_col_section2.select([\n",
    "    pl.col('trip_duration').cast(pl.Float32),\n",
    "    pl.col('started_at').str.strptime(pl.Datetime, \"%Y-%m-%d\",strict=False),\n",
    "    pl.col('ended_at').str.strptime(pl.Datetime, \"%Y-%m-%d\",strict=False),\n",
    "    pl.col('start_station_id').cast(pl.Float32),\n",
    "    pl.col('start_station_name'),\n",
    "    pl.col('start_lat').cast(pl.Float32),\n",
    "    pl.col('start_lng').cast(pl.Float32),\n",
    "    pl.col('end_station_id').cast(pl.Float32),\n",
    "    pl.col('end_station_name'),\n",
    "    pl.col('end_lat').cast(pl.Float32),\n",
    "    pl.col('end_lng').cast(pl.Float32),\n",
    "    pl.col('bike_id').cast(pl.Float32),\n",
    "    pl.col('user_type'),\n",
    "    pl.col('birth_year').cast(pl.Float32),\n",
    "    pl.col('gender')\n",
    "])\n",
    "\n",
    "group2_col_section2.describe()"
   ]
  },
  {
   "cell_type": "code",
   "execution_count": 48,
   "id": "6e8f84ff-96b1-4cbe-b014-0534131b63f9",
   "metadata": {},
   "outputs": [
    {
     "data": {
      "text/html": [
       "<div><style>\n",
       ".dataframe > thead > tr > th,\n",
       ".dataframe > tbody > tr > td {\n",
       "  text-align: right;\n",
       "}\n",
       "</style>\n",
       "<small>shape: (9, 16)</small><table border=\"1\" class=\"dataframe\"><thead><tr><th>describe</th><th>trip_duration</th><th>started_at</th><th>ended_at</th><th>start_station_id</th><th>start_station_name</th><th>start_lat</th><th>start_lng</th><th>end_station_id</th><th>end_station_name</th><th>end_lat</th><th>end_lng</th><th>bike_id</th><th>user_type</th><th>birth_year</th><th>gender</th></tr><tr><td>str</td><td>f64</td><td>str</td><td>str</td><td>f64</td><td>str</td><td>f64</td><td>f64</td><td>f64</td><td>str</td><td>f64</td><td>f64</td><td>f64</td><td>str</td><td>f64</td><td>f64</td></tr></thead><tbody><tr><td>&quot;count&quot;</td><td>2.25093064e8</td><td>&quot;225093064&quot;</td><td>&quot;225093064&quot;</td><td>2.25093064e8</td><td>&quot;225093064&quot;</td><td>2.25093064e8</td><td>2.25093064e8</td><td>2.25093064e8</td><td>&quot;225093064&quot;</td><td>2.25093064e8</td><td>2.25093064e8</td><td>2.25093064e8</td><td>&quot;225093064&quot;</td><td>2.25093064e8</td><td>2.25093064e8</td></tr><tr><td>&quot;null_count&quot;</td><td>1.1657976e7</td><td>&quot;181061992&quot;</td><td>&quot;181760724&quot;</td><td>1.166333e7</td><td>&quot;11663330&quot;</td><td>1.1657976e7</td><td>1.1657976e7</td><td>1.1699448e7</td><td>&quot;11699448&quot;</td><td>1.1694094e7</td><td>1.1694094e7</td><td>1.1657976e7</td><td>&quot;11657976&quot;</td><td>2.3287394e7</td><td>1.1657976e7</td></tr><tr><td>&quot;mean&quot;</td><td>1034.93434</td><td>null</td><td>null</td><td>1366.991202</td><td>null</td><td>40.737373</td><td>-73.983758</td><td>1359.870766</td><td>null</td><td>40.737033</td><td>-73.983899</td><td>26286.055977</td><td>null</td><td>1978.983794</td><td>1.129902</td></tr><tr><td>&quot;std&quot;</td><td>13147.120005</td><td>null</td><td>null</td><td>1392.797369</td><td>null</td><td>0.038633</td><td>0.049637</td><td>1390.97173</td><td>null</td><td>0.048709</td><td>0.073419</td><td>8745.667856</td><td>null</td><td>12.043863</td><td>0.568256</td></tr><tr><td>&quot;min&quot;</td><td>60.0</td><td>&quot;2013-06-01 00:…</td><td>&quot;2013-07-01 00:…</td><td>72.0</td><td>&quot;1 Ave &amp; E 110 …</td><td>0.0</td><td>-74.034234</td><td>72.0</td><td>&quot;1 Ave &amp; E 110 …</td><td>0.0</td><td>-74.085849</td><td>14529.0</td><td>&quot;Customer&quot;</td><td>1857.0</td><td>0.0</td></tr><tr><td>&quot;max&quot;</td><td>1.9510049e7</td><td>&quot;2017-12-31 23:…</td><td>&quot;2018-01-30 08:…</td><td>4387.0</td><td>&quot;old - E 13 St …</td><td>45.506364</td><td>0.0</td><td>4387.0</td><td>&quot;old - E 13 St …</td><td>45.506364</td><td>0.0</td><td>50124.0</td><td>&quot;Subscriber&quot;</td><td>2005.0</td><td>2.0</td></tr><tr><td>&quot;median&quot;</td><td>647.0</td><td>null</td><td>null</td><td>484.0</td><td>null</td><td>40.737815</td><td>-73.98714</td><td>483.0</td><td>null</td><td>40.73705</td><td>-73.987216</td><td>25336.0</td><td>null</td><td>1981.0</td><td>1.0</td></tr><tr><td>&quot;25%&quot;</td><td>382.0</td><td>null</td><td>null</td><td>357.0</td><td>null</td><td>40.718939</td><td>-73.996826</td><td>355.0</td><td>null</td><td>40.718822</td><td>-73.997047</td><td>18621.0</td><td>null</td><td>1969.0</td><td>1.0</td></tr><tr><td>&quot;75%&quot;</td><td>1129.0</td><td>null</td><td>null</td><td>3147.0</td><td>null</td><td>40.755942</td><td>-73.974987</td><td>3144.0</td><td>null</td><td>40.755136</td><td>-73.975361</td><td>32429.0</td><td>null</td><td>1989.0</td><td>1.0</td></tr></tbody></table></div>"
      ],
      "text/plain": [
       "shape: (9, 16)\n",
       "┌────────────┬────────────┬──────────┬────────────┬───┬───────────┬─────────┬──────────┬───────────┐\n",
       "│ describe   ┆ trip_durat ┆ started_ ┆ ended_at   ┆ … ┆ bike_id   ┆ user_ty ┆ birth_ye ┆ gender    │\n",
       "│ ---        ┆ ion        ┆ at       ┆ ---        ┆   ┆ ---       ┆ pe      ┆ ar       ┆ ---       │\n",
       "│ str        ┆ ---        ┆ ---      ┆ str        ┆   ┆ f64       ┆ ---     ┆ ---      ┆ f64       │\n",
       "│            ┆ f64        ┆ str      ┆            ┆   ┆           ┆ str     ┆ f64      ┆           │\n",
       "╞════════════╪════════════╪══════════╪════════════╪═══╪═══════════╪═════════╪══════════╪═══════════╡\n",
       "│ count      ┆ 2.25093064 ┆ 22509306 ┆ 225093064  ┆ … ┆ 2.2509306 ┆ 2250930 ┆ 2.250930 ┆ 2.2509306 │\n",
       "│            ┆ e8         ┆ 4        ┆            ┆   ┆ 4e8       ┆ 64      ┆ 64e8     ┆ 4e8       │\n",
       "│ null_count ┆ 1.1657976e ┆ 18106199 ┆ 181760724  ┆ … ┆ 1.1657976 ┆ 1165797 ┆ 2.328739 ┆ 1.1657976 │\n",
       "│            ┆ 7          ┆ 2        ┆            ┆   ┆ e7        ┆ 6       ┆ 4e7      ┆ e7        │\n",
       "│ mean       ┆ 1034.93434 ┆ null     ┆ null       ┆ … ┆ 26286.055 ┆ null    ┆ 1978.983 ┆ 1.129902  │\n",
       "│            ┆            ┆          ┆            ┆   ┆ 977       ┆         ┆ 794      ┆           │\n",
       "│ std        ┆ 13147.1200 ┆ null     ┆ null       ┆ … ┆ 8745.6678 ┆ null    ┆ 12.04386 ┆ 0.568256  │\n",
       "│            ┆ 05         ┆          ┆            ┆   ┆ 56        ┆         ┆ 3        ┆           │\n",
       "│ min        ┆ 60.0       ┆ 2013-06- ┆ 2013-07-01 ┆ … ┆ 14529.0   ┆ Custome ┆ 1857.0   ┆ 0.0       │\n",
       "│            ┆            ┆ 01       ┆ 00:04:02   ┆   ┆           ┆ r       ┆          ┆           │\n",
       "│            ┆            ┆ 00:00:08 ┆            ┆   ┆           ┆         ┆          ┆           │\n",
       "│ max        ┆ 1.9510049e ┆ 2017-12- ┆ 2018-01-30 ┆ … ┆ 50124.0   ┆ Subscri ┆ 2005.0   ┆ 2.0       │\n",
       "│            ┆ 7          ┆ 31       ┆ 08:33:49   ┆   ┆           ┆ ber     ┆          ┆           │\n",
       "│            ┆            ┆ 23:58:56 ┆            ┆   ┆           ┆         ┆          ┆           │\n",
       "│ median     ┆ 647.0      ┆ null     ┆ null       ┆ … ┆ 25336.0   ┆ null    ┆ 1981.0   ┆ 1.0       │\n",
       "│ 25%        ┆ 382.0      ┆ null     ┆ null       ┆ … ┆ 18621.0   ┆ null    ┆ 1969.0   ┆ 1.0       │\n",
       "│ 75%        ┆ 1129.0     ┆ null     ┆ null       ┆ … ┆ 32429.0   ┆ null    ┆ 1989.0   ┆ 1.0       │\n",
       "└────────────┴────────────┴──────────┴────────────┴───┴───────────┴─────────┴──────────┴───────────┘"
      ]
     },
     "execution_count": 48,
     "metadata": {},
     "output_type": "execute_result"
    }
   ],
   "source": [
    "group2_pl_fix=pl.concat([group2_col_section1,group2_col_section2])\n",
    "group2_pl_fix.describe()"
   ]
  },
  {
   "cell_type": "code",
   "execution_count": 50,
   "id": "cf83ab1c-cb28-4f7e-9fd0-3551d8385531",
   "metadata": {},
   "outputs": [
    {
     "data": {
      "text/html": [
       "<div><style>\n",
       ".dataframe > thead > tr > th,\n",
       ".dataframe > tbody > tr > td {\n",
       "  text-align: right;\n",
       "}\n",
       "</style>\n",
       "<small>shape: (10, 15)</small><table border=\"1\" class=\"dataframe\"><thead><tr><th>trip_duration</th><th>started_at</th><th>ended_at</th><th>start_station_id</th><th>start_station_name</th><th>start_lat</th><th>start_lng</th><th>end_station_id</th><th>end_station_name</th><th>end_lat</th><th>end_lng</th><th>bike_id</th><th>user_type</th><th>birth_year</th><th>gender</th></tr><tr><td>f64</td><td>datetime[μs]</td><td>datetime[μs]</td><td>f64</td><td>str</td><td>f64</td><td>f64</td><td>f64</td><td>str</td><td>f64</td><td>f64</td><td>f64</td><td>str</td><td>f64</td><td>f64</td></tr></thead><tbody><tr><td>633.0</td><td>null</td><td>null</td><td>236.0</td><td>&quot;St Marks Pl &amp; …</td><td>40.728419</td><td>-73.98714</td><td>540.0</td><td>&quot;Lexington Ave …</td><td>40.743116</td><td>-73.982154</td><td>30650.0</td><td>&quot;Subscriber&quot;</td><td>1994.0</td><td>1.0</td></tr><tr><td>585.0</td><td>null</td><td>null</td><td>229.0</td><td>&quot;Great Jones St…</td><td>40.727434</td><td>-73.99379</td><td>341.0</td><td>&quot;Stanton St &amp; M…</td><td>40.717821</td><td>-73.976289</td><td>40581.0</td><td>&quot;Subscriber&quot;</td><td>1973.0</td><td>2.0</td></tr><tr><td>772.0</td><td>null</td><td>null</td><td>426.0</td><td>&quot;West St &amp; Cham…</td><td>40.717548</td><td>-74.013221</td><td>195.0</td><td>&quot;Liberty St &amp; B…</td><td>40.709056</td><td>-74.010434</td><td>23350.0</td><td>&quot;Customer&quot;</td><td>null</td><td>0.0</td></tr><tr><td>215.0</td><td>2017-06-25 10:20:23</td><td>2017-06-25 10:23:59</td><td>442.0</td><td>&quot;W 27 St &amp; 7 Av…</td><td>40.746647</td><td>-73.993915</td><td>490.0</td><td>&quot;8 Ave &amp; W 33 S…</td><td>40.751551</td><td>-73.993934</td><td>28213.0</td><td>&quot;Subscriber&quot;</td><td>1972.0</td><td>1.0</td></tr><tr><td>333.0</td><td>null</td><td>null</td><td>486.0</td><td>&quot;Broadway &amp; W 2…</td><td>40.746201</td><td>-73.988557</td><td>446.0</td><td>&quot;W 24 St &amp; 7 Av…</td><td>40.744876</td><td>-73.995299</td><td>18557.0</td><td>&quot;Subscriber&quot;</td><td>1972.0</td><td>1.0</td></tr><tr><td>197.0</td><td>null</td><td>null</td><td>494.0</td><td>&quot;W 26 St &amp; 8 Av…</td><td>40.747348</td><td>-73.997236</td><td>490.0</td><td>&quot;8 Ave &amp; W 33 S…</td><td>40.751551</td><td>-73.993934</td><td>34978.0</td><td>&quot;Subscriber&quot;</td><td>1986.0</td><td>2.0</td></tr><tr><td>1142.0</td><td>null</td><td>null</td><td>353.0</td><td>&quot;S Portland Ave…</td><td>40.685396</td><td>-73.974315</td><td>395.0</td><td>&quot;Bond St &amp; Sche…</td><td>40.68807</td><td>-73.984106</td><td>15428.0</td><td>&quot;Subscriber&quot;</td><td>1978.0</td><td>2.0</td></tr><tr><td>898.0</td><td>null</td><td>null</td><td>250.0</td><td>&quot;Lafayette St &amp;…</td><td>40.724561</td><td>-73.995653</td><td>433.0</td><td>&quot;E 13 St &amp; Aven…</td><td>40.729554</td><td>-73.980572</td><td>19999.0</td><td>&quot;Customer&quot;</td><td>null</td><td>0.0</td></tr><tr><td>1464.0</td><td>null</td><td>null</td><td>392.0</td><td>&quot;Jay St &amp; Tech …</td><td>40.695065</td><td>-73.987167</td><td>539.0</td><td>&quot;Metropolitan A…</td><td>40.715348</td><td>-73.960241</td><td>30586.0</td><td>&quot;Subscriber&quot;</td><td>1984.0</td><td>1.0</td></tr><tr><td>606.0</td><td>null</td><td>null</td><td>379.0</td><td>&quot;W 31 St &amp; 7 Av…</td><td>40.749156</td><td>-73.9916</td><td>2003.0</td><td>&quot;1 Ave &amp; E 18 S…</td><td>40.733812</td><td>-73.980544</td><td>17542.0</td><td>&quot;Subscriber&quot;</td><td>1979.0</td><td>1.0</td></tr></tbody></table></div>"
      ],
      "text/plain": [
       "shape: (10, 15)\n",
       "┌────────────┬──────────┬────────────┬────────────┬───┬─────────┬────────────┬────────────┬────────┐\n",
       "│ trip_durat ┆ started_ ┆ ended_at   ┆ start_stat ┆ … ┆ bike_id ┆ user_type  ┆ birth_year ┆ gender │\n",
       "│ ion        ┆ at       ┆ ---        ┆ ion_id     ┆   ┆ ---     ┆ ---        ┆ ---        ┆ ---    │\n",
       "│ ---        ┆ ---      ┆ datetime[μ ┆ ---        ┆   ┆ f64     ┆ str        ┆ f64        ┆ f64    │\n",
       "│ f64        ┆ datetime ┆ s]         ┆ f64        ┆   ┆         ┆            ┆            ┆        │\n",
       "│            ┆ [μs]     ┆            ┆            ┆   ┆         ┆            ┆            ┆        │\n",
       "╞════════════╪══════════╪════════════╪════════════╪═══╪═════════╪════════════╪════════════╪════════╡\n",
       "│ 633.0      ┆ null     ┆ null       ┆ 236.0      ┆ … ┆ 30650.0 ┆ Subscriber ┆ 1994.0     ┆ 1.0    │\n",
       "│ 585.0      ┆ null     ┆ null       ┆ 229.0      ┆ … ┆ 40581.0 ┆ Subscriber ┆ 1973.0     ┆ 2.0    │\n",
       "│ 772.0      ┆ null     ┆ null       ┆ 426.0      ┆ … ┆ 23350.0 ┆ Customer   ┆ null       ┆ 0.0    │\n",
       "│ 215.0      ┆ 2017-06- ┆ 2017-06-25 ┆ 442.0      ┆ … ┆ 28213.0 ┆ Subscriber ┆ 1972.0     ┆ 1.0    │\n",
       "│            ┆ 25       ┆ 10:23:59   ┆            ┆   ┆         ┆            ┆            ┆        │\n",
       "│            ┆ 10:20:23 ┆            ┆            ┆   ┆         ┆            ┆            ┆        │\n",
       "│ …          ┆ …        ┆ …          ┆ …          ┆ … ┆ …       ┆ …          ┆ …          ┆ …      │\n",
       "│ 1142.0     ┆ null     ┆ null       ┆ 353.0      ┆ … ┆ 15428.0 ┆ Subscriber ┆ 1978.0     ┆ 2.0    │\n",
       "│ 898.0      ┆ null     ┆ null       ┆ 250.0      ┆ … ┆ 19999.0 ┆ Customer   ┆ null       ┆ 0.0    │\n",
       "│ 1464.0     ┆ null     ┆ null       ┆ 392.0      ┆ … ┆ 30586.0 ┆ Subscriber ┆ 1984.0     ┆ 1.0    │\n",
       "│ 606.0      ┆ null     ┆ null       ┆ 379.0      ┆ … ┆ 17542.0 ┆ Subscriber ┆ 1979.0     ┆ 1.0    │\n",
       "└────────────┴──────────┴────────────┴────────────┴───┴─────────┴────────────┴────────────┴────────┘"
      ]
     },
     "execution_count": 50,
     "metadata": {},
     "output_type": "execute_result"
    }
   ],
   "source": [
    "group2_pl_fix.sample(10)"
   ]
  },
  {
   "cell_type": "code",
   "execution_count": 52,
   "id": "5d622826-1ecf-48b0-92a4-2bbf37d8cadb",
   "metadata": {},
   "outputs": [],
   "source": [
    "# combining the two group2 \n",
    "# dataframes was successful!\n",
    "# \n",
    "# write to parquet to save progress\n",
    "\n",
    "from pathlib import Path\n",
    "\n",
    "data_directory=Path('/Users/sra/files/projects/citibike_project/combined')\n",
    "\n",
    "file_name='group2_pl_full.parquet'\n",
    "\n",
    "file_path=data_directory / file_name\n",
    "\n",
    "Path = data_directory / file_name\n",
    "\n",
    "group2_pl_fix.write_parquet(Path)"
   ]
  },
  {
   "cell_type": "code",
   "execution_count": null,
   "id": "c101e0e1-d749-410f-a339-c0c6acbc6ced",
   "metadata": {},
   "outputs": [],
   "source": []
  }
 ],
 "metadata": {
  "kernelspec": {
   "display_name": "bigdataml",
   "language": "python",
   "name": "bigdataml"
  },
  "language_info": {
   "codemirror_mode": {
    "name": "ipython",
    "version": 3
   },
   "file_extension": ".py",
   "mimetype": "text/x-python",
   "name": "python",
   "nbconvert_exporter": "python",
   "pygments_lexer": "ipython3",
   "version": "3.8.16"
  }
 },
 "nbformat": 4,
 "nbformat_minor": 5
}
