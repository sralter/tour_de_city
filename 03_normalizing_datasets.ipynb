{
 "cells": [
  {
   "cell_type": "markdown",
   "id": "9933d7fd-2f00-46e7-97e4-521f3280ee62",
   "metadata": {},
   "source": [
    "# Citibike Project - Normalizing the Datasets"
   ]
  },
  {
   "cell_type": "markdown",
   "id": "9786d426-8c89-4b51-88e4-a2715742fc6d",
   "metadata": {},
   "source": [
    "Normalizing the bike share datsets from `03_normalizing_datasets.ipynb` to prepare for SQL database creation."
   ]
  },
  {
   "cell_type": "markdown",
   "id": "a3aeb382-a82a-47d1-b98d-44c5d9d0d7e0",
   "metadata": {},
   "source": [
    "## Imports"
   ]
  },
  {
   "cell_type": "code",
   "execution_count": 37,
   "id": "42028afd-5ca5-4fc5-b8a9-ffad33886e2e",
   "metadata": {},
   "outputs": [],
   "source": [
    "import pandas as pd\n",
    "import numpy as np\n",
    "\n",
    "import polars as pl\n",
    "\n",
    "import pyarrow as pa\n",
    "import pyarrow.parquet as pq\n",
    "\n",
    "import feather\n",
    "\n",
    "from matplotlib import pyplot as plt\n",
    "\n",
    "import os"
   ]
  },
  {
   "cell_type": "markdown",
   "id": "0712a62f-644a-472c-9321-6280f5c84c03",
   "metadata": {},
   "source": [
    "## Files that we'll be working on: \n",
    "Two .CSVs, `group1` is ~10Gb and `group2` is ~20Gb"
   ]
  },
  {
   "cell_type": "code",
   "execution_count": 38,
   "id": "91eef3b0-cba0-4f0d-973f-89e9cff3d7b3",
   "metadata": {},
   "outputs": [],
   "source": [
    "group1_location='/Users/sra/files/projects/citibike_project/combined/group1_combined/group1.csv'\n",
    "group2_location='/Users/sra/files/projects/citibike_project/combined/group2_combined/group2.csv'"
   ]
  },
  {
   "cell_type": "markdown",
   "id": "9be5f3c4-2fa9-4d74-b7ac-5bd611b4fb5e",
   "metadata": {},
   "source": [
    "### Let's explore group1 first:"
   ]
  },
  {
   "cell_type": "code",
   "execution_count": 39,
   "id": "c1631a56-2a60-49aa-a1de-589a0ce31d66",
   "metadata": {
    "tags": []
   },
   "outputs": [],
   "source": [
    "q=(\n",
    "    pl.scan_csv(group1_location,ignore_errors=True,try_parse_dates=True)\n",
    ")\n",
    "\n",
    "group1_pl=q.collect()"
   ]
  },
  {
   "cell_type": "code",
   "execution_count": 40,
   "id": "6286754f-1941-4288-8a3f-9f11a6fdcfbf",
   "metadata": {
    "tags": []
   },
   "outputs": [
    {
     "data": {
      "text/html": [
       "<div><style>\n",
       ".dataframe > thead > tr > th,\n",
       ".dataframe > tbody > tr > td {\n",
       "  text-align: right;\n",
       "}\n",
       "</style>\n",
       "<small>shape: (5, 13)</small><table border=\"1\" class=\"dataframe\"><thead><tr><th>ride_id</th><th>rideable_type</th><th>started_at</th><th>ended_at</th><th>start_station_name</th><th>start_station_id</th><th>end_station_name</th><th>end_station_id</th><th>start_lat</th><th>start_lng</th><th>end_lat</th><th>end_lng</th><th>member_casual</th></tr><tr><td>str</td><td>str</td><td>datetime[μs]</td><td>datetime[μs]</td><td>str</td><td>f64</td><td>str</td><td>f64</td><td>f64</td><td>f64</td><td>f64</td><td>f64</td><td>str</td></tr></thead><tbody><tr><td>&quot;26A3DC47FE0EA3…</td><td>&quot;docked_bike&quot;</td><td>2021-05-13 12:48:08</td><td>2021-05-13 13:07:37</td><td>&quot;Broadway &amp; W 2…</td><td>6173.08</td><td>&quot;E 2 St &amp; Avenu…</td><td>5515.02</td><td>40.742868</td><td>-73.989186</td><td>40.722174</td><td>-73.983688</td><td>&quot;member&quot;</td></tr><tr><td>&quot;A99F2E1D627B08…</td><td>&quot;docked_bike&quot;</td><td>2021-05-16 08:30:13</td><td>2021-05-16 08:45:47</td><td>&quot;46 Ave &amp; 5 St&quot;</td><td>6286.02</td><td>&quot;34th Ave &amp; Ver…</td><td>6873.01</td><td>40.74731</td><td>-73.95451</td><td>40.765354</td><td>-73.939863</td><td>&quot;member&quot;</td></tr><tr><td>&quot;43E79A45997B73…</td><td>&quot;docked_bike&quot;</td><td>2021-05-01 08:38:14</td><td>2021-05-01 08:54:27</td><td>&quot;46 Ave &amp; 5 St&quot;</td><td>6286.02</td><td>&quot;34th Ave &amp; Ver…</td><td>6873.01</td><td>40.74731</td><td>-73.95451</td><td>40.765354</td><td>-73.939863</td><td>&quot;member&quot;</td></tr><tr><td>&quot;8B3CC649F4F588…</td><td>&quot;docked_bike&quot;</td><td>2021-05-09 08:12:31</td><td>2021-05-09 08:27:05</td><td>&quot;46 Ave &amp; 5 St&quot;</td><td>6286.02</td><td>&quot;34th Ave &amp; Ver…</td><td>6873.01</td><td>40.74731</td><td>-73.95451</td><td>40.765354</td><td>-73.939863</td><td>&quot;member&quot;</td></tr><tr><td>&quot;7101C98F057486…</td><td>&quot;docked_bike&quot;</td><td>2021-05-27 07:52:27</td><td>2021-05-27 08:09:01</td><td>&quot;E 123 St &amp; Lex…</td><td>7636.05</td><td>&quot;1 Ave &amp; E 78 S…</td><td>7020.09</td><td>40.802926</td><td>-73.9379</td><td>40.771404</td><td>-73.953517</td><td>&quot;member&quot;</td></tr></tbody></table></div>"
      ],
      "text/plain": [
       "shape: (5, 13)\n",
       "┌───────────┬────────────┬──────────┬───────────┬───┬─────────┬───────────┬───────────┬────────────┐\n",
       "│ ride_id   ┆ rideable_t ┆ started_ ┆ ended_at  ┆ … ┆ start_l ┆ end_lat   ┆ end_lng   ┆ member_cas │\n",
       "│ ---       ┆ ype        ┆ at       ┆ ---       ┆   ┆ ng      ┆ ---       ┆ ---       ┆ ual        │\n",
       "│ str       ┆ ---        ┆ ---      ┆ datetime[ ┆   ┆ ---     ┆ f64       ┆ f64       ┆ ---        │\n",
       "│           ┆ str        ┆ datetime ┆ μs]       ┆   ┆ f64     ┆           ┆           ┆ str        │\n",
       "│           ┆            ┆ [μs]     ┆           ┆   ┆         ┆           ┆           ┆            │\n",
       "╞═══════════╪════════════╪══════════╪═══════════╪═══╪═════════╪═══════════╪═══════════╪════════════╡\n",
       "│ 26A3DC47F ┆ docked_bik ┆ 2021-05- ┆ 2021-05-1 ┆ … ┆ -73.989 ┆ 40.722174 ┆ -73.98368 ┆ member     │\n",
       "│ E0EA3A3   ┆ e          ┆ 13       ┆ 3         ┆   ┆ 186     ┆           ┆ 8         ┆            │\n",
       "│           ┆            ┆ 12:48:08 ┆ 13:07:37  ┆   ┆         ┆           ┆           ┆            │\n",
       "│ A99F2E1D6 ┆ docked_bik ┆ 2021-05- ┆ 2021-05-1 ┆ … ┆ -73.954 ┆ 40.765354 ┆ -73.93986 ┆ member     │\n",
       "│ 27B088F   ┆ e          ┆ 16       ┆ 6         ┆   ┆ 51      ┆           ┆ 3         ┆            │\n",
       "│           ┆            ┆ 08:30:13 ┆ 08:45:47  ┆   ┆         ┆           ┆           ┆            │\n",
       "│ 43E79A459 ┆ docked_bik ┆ 2021-05- ┆ 2021-05-0 ┆ … ┆ -73.954 ┆ 40.765354 ┆ -73.93986 ┆ member     │\n",
       "│ 97B7390   ┆ e          ┆ 01       ┆ 1         ┆   ┆ 51      ┆           ┆ 3         ┆            │\n",
       "│           ┆            ┆ 08:38:14 ┆ 08:54:27  ┆   ┆         ┆           ┆           ┆            │\n",
       "│ 8B3CC649F ┆ docked_bik ┆ 2021-05- ┆ 2021-05-0 ┆ … ┆ -73.954 ┆ 40.765354 ┆ -73.93986 ┆ member     │\n",
       "│ 4F58816   ┆ e          ┆ 09       ┆ 9         ┆   ┆ 51      ┆           ┆ 3         ┆            │\n",
       "│           ┆            ┆ 08:12:31 ┆ 08:27:05  ┆   ┆         ┆           ┆           ┆            │\n",
       "│ 7101C98F0 ┆ docked_bik ┆ 2021-05- ┆ 2021-05-2 ┆ … ┆ -73.937 ┆ 40.771404 ┆ -73.95351 ┆ member     │\n",
       "│ 57486F4   ┆ e          ┆ 27       ┆ 7         ┆   ┆ 9       ┆           ┆ 7         ┆            │\n",
       "│           ┆            ┆ 07:52:27 ┆ 08:09:01  ┆   ┆         ┆           ┆           ┆            │\n",
       "└───────────┴────────────┴──────────┴───────────┴───┴─────────┴───────────┴───────────┴────────────┘"
      ]
     },
     "execution_count": 40,
     "metadata": {},
     "output_type": "execute_result"
    }
   ],
   "source": [
    "group1_pl.head()"
   ]
  },
  {
   "cell_type": "code",
   "execution_count": 41,
   "id": "483f96a6-4a3f-4277-b454-e2d06e11380c",
   "metadata": {},
   "outputs": [
    {
     "data": {
      "text/html": [
       "<div><style>\n",
       ".dataframe > thead > tr > th,\n",
       ".dataframe > tbody > tr > td {\n",
       "  text-align: right;\n",
       "}\n",
       "</style>\n",
       "<small>shape: (5, 2)</small><table border=\"1\" class=\"dataframe\"><thead><tr><th>start_station_name</th><th>count</th></tr><tr><td>str</td><td>u32</td></tr></thead><tbody><tr><td>&quot;W 21 St &amp; 6 Av…</td><td>247908</td></tr><tr><td>&quot;West St &amp; Cham…</td><td>219580</td></tr><tr><td>&quot;1 Ave &amp; E 68 S…</td><td>208483</td></tr><tr><td>&quot;6 Ave &amp; W 33 S…</td><td>197135</td></tr><tr><td>&quot;Broadway &amp; W 2…</td><td>194687</td></tr></tbody></table></div>"
      ],
      "text/plain": [
       "shape: (5, 2)\n",
       "┌───────────────────────┬────────┐\n",
       "│ start_station_name    ┆ count  │\n",
       "│ ---                   ┆ ---    │\n",
       "│ str                   ┆ u32    │\n",
       "╞═══════════════════════╪════════╡\n",
       "│ W 21 St & 6 Ave       ┆ 247908 │\n",
       "│ West St & Chambers St ┆ 219580 │\n",
       "│ 1 Ave & E 68 St       ┆ 208483 │\n",
       "│ 6 Ave & W 33 St       ┆ 197135 │\n",
       "│ Broadway & W 25 St    ┆ 194687 │\n",
       "└───────────────────────┴────────┘"
      ]
     },
     "execution_count": 41,
     "metadata": {},
     "output_type": "execute_result"
    }
   ],
   "source": [
    "group1_pl.groupby('start_station_name').count()\\\n",
    ".sort('count',descending=True)\\\n",
    ".head()"
   ]
  },
  {
   "cell_type": "markdown",
   "id": "cc398ce9-89a6-4eea-9503-9f41edd36ef0",
   "metadata": {},
   "source": [
    "There are some junk stations in the dataset:"
   ]
  },
  {
   "cell_type": "code",
   "execution_count": 42,
   "id": "b076e86e-a7d6-4dc3-a12b-37de1f3c1e9f",
   "metadata": {},
   "outputs": [
    {
     "name": "stdout",
     "output_type": "stream",
     "text": [
      "shape: (2_027, 2)\n",
      "┌──────────────────────────┬────────┐\n",
      "│ start_station_name       ┆ count  │\n",
      "│ ---                      ┆ ---    │\n",
      "│ str                      ┆ u32    │\n",
      "╞══════════════════════════╪════════╡\n",
      "│ W 21 St & 6 Ave          ┆ 247908 │\n",
      "│ West St & Chambers St    ┆ 219580 │\n",
      "│ 1 Ave & E 68 St          ┆ 208483 │\n",
      "│ 6 Ave & W 33 St          ┆ 197135 │\n",
      "│ …                        ┆ …      │\n",
      "│ Prototype Lab            ┆ 15     │\n",
      "│ Apache                   ┆ 15     │\n",
      "│ 4455.10                  ┆ 11     │\n",
      "│ Rogers Pl & E 165 St_old ┆ 11     │\n",
      "└──────────────────────────┴────────┘\n"
     ]
    }
   ],
   "source": [
    "q=(\n",
    "    group1_pl.lazy()\n",
    "    .groupby('start_station_name')\n",
    "    .agg(pl.count('start_station_name').alias('count'))\n",
    "    .filter(\n",
    "        (pl.col('count')>=10)\n",
    "    )\n",
    "    .sort('count',descending=True)\n",
    "    # .limit(5)\n",
    ")\n",
    "\n",
    "group1_pl_count=q.collect()\n",
    "print(group1_pl_count)"
   ]
  },
  {
   "cell_type": "markdown",
   "id": "3b34a13a-b4f8-4e92-a7b1-405c2e1522d2",
   "metadata": {},
   "source": [
    "However, these junk stations are such a small part of the dataset that I think it's ok to include.  \n",
    "When it comes time to query the database with `SQL`, we can work to remove these junk stations with more control."
   ]
  },
  {
   "cell_type": "code",
   "execution_count": 43,
   "id": "fb031692-7a8a-490a-aad3-a30955f6593d",
   "metadata": {},
   "outputs": [
    {
     "name": "stdout",
     "output_type": "stream",
     "text": [
      "shape: (1_927, 2)\n",
      "┌──────────────────┬────────┐\n",
      "│ start_station_id ┆ count  │\n",
      "│ ---              ┆ ---    │\n",
      "│ f64              ┆ u32    │\n",
      "╞══════════════════╪════════╡\n",
      "│ 6140.05          ┆ 247908 │\n",
      "│ 5329.03          ┆ 219580 │\n",
      "│ 6822.09          ┆ 208483 │\n",
      "│ 6364.07          ┆ 197135 │\n",
      "│ …                ┆ …      │\n",
      "│ 5548.01          ┆ 44     │\n",
      "│ 3704.01          ┆ 33     │\n",
      "│ 4014.01          ┆ 30     │\n",
      "│ 8419.03          ┆ 2      │\n",
      "└──────────────────┴────────┘\n"
     ]
    }
   ],
   "source": [
    "q=(\n",
    "    group1_pl.lazy()\n",
    "    .groupby('start_station_id')\n",
    "    .agg(pl.count('start_station_id').alias('count'))\n",
    "    # .filter(\n",
    "        # (pl.col('count')>=1)\n",
    "    # )\n",
    "    .sort('count',descending=True)\n",
    "    # .limit(5)\n",
    ")\n",
    "\n",
    "group1_pl_count=q.collect()\n",
    "print(group1_pl_count)"
   ]
  },
  {
   "cell_type": "markdown",
   "id": "27b97560-2660-41da-9ec0-d104c5f9c4ec",
   "metadata": {},
   "source": [
    "Practice making new columns of summary information using other columns:"
   ]
  },
  {
   "cell_type": "code",
   "execution_count": 44,
   "id": "37754896-9765-4fca-8da6-f6a08413f0db",
   "metadata": {},
   "outputs": [
    {
     "name": "stdout",
     "output_type": "stream",
     "text": [
      "shape: (3, 3)\n",
      "┌───────────────┬─────────────────────┬──────────┐\n",
      "│ rideable_type ┆ rideable_type_count ┆ sum      │\n",
      "│ ---           ┆ ---                 ┆ ---      │\n",
      "│ str           ┆ u32                 ┆ u32      │\n",
      "╞═══════════════╪═════════════════════╪══════════╡\n",
      "│ classic_bike  ┆ 34010263            ┆ 55800085 │\n",
      "│ electric_bike ┆ 13092408            ┆ 55800085 │\n",
      "│ docked_bike   ┆ 8697414             ┆ 55800085 │\n",
      "└───────────────┴─────────────────────┴──────────┘\n"
     ]
    }
   ],
   "source": [
    "q=(\n",
    "    group1_pl.lazy()\n",
    "    .groupby('rideable_type')\n",
    "    .agg(pl.count('rideable_type').alias('rideable_type_count'))\n",
    "    .sort('rideable_type_count',descending=True)\n",
    ")\n",
    "\n",
    "group1_pl_rideable_type=q.collect()\n",
    "\n",
    "q=(\n",
    "    group1_pl_rideable_type.lazy()\n",
    "    .with_columns([pl.col(\"rideable_type_count\").sum().alias('sum')])\n",
    ")\n",
    "\n",
    "group1_pl_rideable_type=q.collect()\n",
    "\n",
    "print(group1_pl_rideable_type)"
   ]
  },
  {
   "cell_type": "markdown",
   "id": "6a06e699-37a8-41aa-85ae-baa5744c857c",
   "metadata": {},
   "source": [
    "There are about three times as many classic bike trips used than electric bikes used. The total amount of trips equals the total rows of the dataset."
   ]
  },
  {
   "cell_type": "code",
   "execution_count": 45,
   "id": "765b2c06-7c9f-4dbd-b2bf-6386ca0c907a",
   "metadata": {},
   "outputs": [
    {
     "name": "stdout",
     "output_type": "stream",
     "text": [
      "shape: (2, 2)\n",
      "┌───────────────┬─────────────────────┐\n",
      "│ member_casual ┆ member_casual_count │\n",
      "│ ---           ┆ ---                 │\n",
      "│ str           ┆ u32                 │\n",
      "╞═══════════════╪═════════════════════╡\n",
      "│ member        ┆ 42560681            │\n",
      "│ casual        ┆ 13239404            │\n",
      "└───────────────┴─────────────────────┘\n"
     ]
    }
   ],
   "source": [
    "q=(\n",
    "    group1_pl.lazy()\n",
    "    .groupby('member_casual')\n",
    "    .agg(pl.count('member_casual').alias('member_casual_count'))\n",
    "    .sort('member_casual_count',descending=True)\n",
    ")\n",
    "\n",
    "group1_pl_rider_type=q.collect()\n",
    "\n",
    "print(group1_pl_rider_type)"
   ]
  },
  {
   "cell_type": "code",
   "execution_count": null,
   "id": "d25969ce-463b-4b23-a195-ddaae28b9a96",
   "metadata": {},
   "outputs": [],
   "source": []
  },
  {
   "cell_type": "markdown",
   "id": "29e0e59e-88f4-4265-b844-420f00cd318a",
   "metadata": {
    "tags": []
   },
   "source": [
    "#### Determine the number and contents of secondary tables that are needed."
   ]
  },
  {
   "cell_type": "markdown",
   "id": "54033328-c3cb-4ca4-b18e-f0d095bbb838",
   "metadata": {},
   "source": [
    "A `member_casual` table that has two rows, `member` and `casual`:"
   ]
  },
  {
   "cell_type": "code",
   "execution_count": 46,
   "id": "27101e5b-6015-4636-99aa-adc17e3fd168",
   "metadata": {},
   "outputs": [
    {
     "data": {
      "text/html": [
       "<div><style>\n",
       ".dataframe > thead > tr > th,\n",
       ".dataframe > tbody > tr > td {\n",
       "  text-align: right;\n",
       "}\n",
       "</style>\n",
       "<small>shape: (2, 2)</small><table border=\"1\" class=\"dataframe\"><thead><tr><th>member_casual</th><th>counts</th></tr><tr><td>str</td><td>u32</td></tr></thead><tbody><tr><td>&quot;member&quot;</td><td>42560681</td></tr><tr><td>&quot;casual&quot;</td><td>13239404</td></tr></tbody></table></div>"
      ],
      "text/plain": [
       "shape: (2, 2)\n",
       "┌───────────────┬──────────┐\n",
       "│ member_casual ┆ counts   │\n",
       "│ ---           ┆ ---      │\n",
       "│ str           ┆ u32      │\n",
       "╞═══════════════╪══════════╡\n",
       "│ member        ┆ 42560681 │\n",
       "│ casual        ┆ 13239404 │\n",
       "└───────────────┴──────────┘"
      ]
     },
     "execution_count": 46,
     "metadata": {},
     "output_type": "execute_result"
    }
   ],
   "source": [
    "member_casual=group1_pl['member_casual'].value_counts().sort('counts',descending=True)\n",
    "member_casual"
   ]
  },
  {
   "cell_type": "code",
   "execution_count": 47,
   "id": "c6109082-aa1c-4941-8834-174c1f5789ca",
   "metadata": {},
   "outputs": [
    {
     "data": {
      "text/plain": [
       "55800085"
      ]
     },
     "execution_count": 47,
     "metadata": {},
     "output_type": "execute_result"
    }
   ],
   "source": [
    "sum(member_casual['counts'])"
   ]
  },
  {
   "cell_type": "markdown",
   "id": "dc3d5058-eacc-4fe5-8f59-7c557a49c517",
   "metadata": {},
   "source": [
    "A `rideable_type` table that has three rows, `classic_bike`, `electric_bike`, and `docked_bike`:"
   ]
  },
  {
   "cell_type": "code",
   "execution_count": 48,
   "id": "80d1044a-7226-47f4-8901-3739b9040c9b",
   "metadata": {},
   "outputs": [
    {
     "data": {
      "text/html": [
       "<div><style>\n",
       ".dataframe > thead > tr > th,\n",
       ".dataframe > tbody > tr > td {\n",
       "  text-align: right;\n",
       "}\n",
       "</style>\n",
       "<small>shape: (3, 2)</small><table border=\"1\" class=\"dataframe\"><thead><tr><th>rideable_type</th><th>counts</th></tr><tr><td>str</td><td>u32</td></tr></thead><tbody><tr><td>&quot;classic_bike&quot;</td><td>34010263</td></tr><tr><td>&quot;electric_bike&quot;</td><td>13092408</td></tr><tr><td>&quot;docked_bike&quot;</td><td>8697414</td></tr></tbody></table></div>"
      ],
      "text/plain": [
       "shape: (3, 2)\n",
       "┌───────────────┬──────────┐\n",
       "│ rideable_type ┆ counts   │\n",
       "│ ---           ┆ ---      │\n",
       "│ str           ┆ u32      │\n",
       "╞═══════════════╪══════════╡\n",
       "│ classic_bike  ┆ 34010263 │\n",
       "│ electric_bike ┆ 13092408 │\n",
       "│ docked_bike   ┆ 8697414  │\n",
       "└───────────────┴──────────┘"
      ]
     },
     "execution_count": 48,
     "metadata": {},
     "output_type": "execute_result"
    }
   ],
   "source": [
    "group1_pl['rideable_type'].value_counts().sort('counts',descending=True)"
   ]
  },
  {
   "cell_type": "markdown",
   "id": "6fc6fc7e-4ca0-495d-a4d5-ed8682de89a9",
   "metadata": {},
   "source": [
    "There are 1,926 stations in the database, plus a `null` entry:"
   ]
  },
  {
   "cell_type": "code",
   "execution_count": 49,
   "id": "f6f17a95-973d-46ee-8baf-af413a4efe08",
   "metadata": {},
   "outputs": [
    {
     "data": {
      "text/html": [
       "<div><style>\n",
       ".dataframe > thead > tr > th,\n",
       ".dataframe > tbody > tr > td {\n",
       "  text-align: right;\n",
       "}\n",
       "</style>\n",
       "<small>shape: (1_927, 2)</small><table border=\"1\" class=\"dataframe\"><thead><tr><th>start_station_id</th><th>counts</th></tr><tr><td>f64</td><td>u32</td></tr></thead><tbody><tr><td>8841.03</td><td>4503</td></tr><tr><td>8811.01</td><td>2113</td></tr><tr><td>8799.01</td><td>3221</td></tr><tr><td>8795.03</td><td>2011</td></tr><tr><td>8795.01</td><td>6404</td></tr><tr><td>8782.01</td><td>3084</td></tr><tr><td>8778.01</td><td>2968</td></tr><tr><td>8766.03</td><td>2209</td></tr><tr><td>8752.01</td><td>2996</td></tr><tr><td>8748.02</td><td>1504</td></tr><tr><td>8738.01</td><td>1925</td></tr><tr><td>8734.04</td><td>2161</td></tr><tr><td>&hellip;</td><td>&hellip;</td></tr><tr><td>2932.03</td><td>2716</td></tr><tr><td>2932.01</td><td>4163</td></tr><tr><td>2923.01</td><td>1854</td></tr><tr><td>2912.08</td><td>3282</td></tr><tr><td>2883.03</td><td>3973</td></tr><tr><td>2872.02</td><td>1827</td></tr><tr><td>2861.02</td><td>291</td></tr><tr><td>2832.03</td><td>6107</td></tr><tr><td>2821.05</td><td>913</td></tr><tr><td>2782.02</td><td>5280</td></tr><tr><td>2733.03</td><td>3881</td></tr><tr><td>null</td><td>97418</td></tr></tbody></table></div>"
      ],
      "text/plain": [
       "shape: (1_927, 2)\n",
       "┌──────────────────┬────────┐\n",
       "│ start_station_id ┆ counts │\n",
       "│ ---              ┆ ---    │\n",
       "│ f64              ┆ u32    │\n",
       "╞══════════════════╪════════╡\n",
       "│ 8841.03          ┆ 4503   │\n",
       "│ 8811.01          ┆ 2113   │\n",
       "│ 8799.01          ┆ 3221   │\n",
       "│ 8795.03          ┆ 2011   │\n",
       "│ …                ┆ …      │\n",
       "│ 2821.05          ┆ 913    │\n",
       "│ 2782.02          ┆ 5280   │\n",
       "│ 2733.03          ┆ 3881   │\n",
       "│ null             ┆ 97418  │\n",
       "└──────────────────┴────────┘"
      ]
     },
     "execution_count": 49,
     "metadata": {},
     "output_type": "execute_result"
    }
   ],
   "source": [
    "group1_pl['start_station_id'].value_counts().sort('start_station_id',descending=True)"
   ]
  },
  {
   "cell_type": "markdown",
   "id": "9fc0bb8a-a798-4b0e-9251-2216855710bf",
   "metadata": {},
   "source": [
    "## Normalize `group1`"
   ]
  },
  {
   "cell_type": "markdown",
   "id": "482ab06c-f665-4061-86ff-69917004b3b3",
   "metadata": {},
   "source": [
    "### Ride table:"
   ]
  },
  {
   "cell_type": "markdown",
   "id": "1d0182af-a80e-4fff-a940-c46c79ea84dd",
   "metadata": {},
   "source": [
    "#### Normalize the `rideable_type` and `member_casual` categories:"
   ]
  },
  {
   "cell_type": "code",
   "execution_count": 50,
   "id": "eb277b4b-eeca-49d5-bbe8-bf44a7e8c027",
   "metadata": {},
   "outputs": [
    {
     "data": {
      "text/html": [
       "<div><style>\n",
       ".dataframe > thead > tr > th,\n",
       ".dataframe > tbody > tr > td {\n",
       "  text-align: right;\n",
       "}\n",
       "</style>\n",
       "<small>shape: (5, 14)</small><table border=\"1\" class=\"dataframe\"><thead><tr><th>ride_id</th><th>rideable_type</th><th>started_at</th><th>ended_at</th><th>start_station_name</th><th>start_station_id</th><th>end_station_name</th><th>end_station_id</th><th>start_lat</th><th>start_lng</th><th>end_lat</th><th>end_lng</th><th>member_casual</th><th>ridertype</th></tr><tr><td>str</td><td>str</td><td>datetime[μs]</td><td>datetime[μs]</td><td>str</td><td>f64</td><td>str</td><td>f64</td><td>f64</td><td>f64</td><td>f64</td><td>f64</td><td>str</td><td>i32</td></tr></thead><tbody><tr><td>&quot;26A3DC47FE0EA3…</td><td>&quot;docked_bike&quot;</td><td>2021-05-13 12:48:08</td><td>2021-05-13 13:07:37</td><td>&quot;Broadway &amp; W 2…</td><td>6173.08</td><td>&quot;E 2 St &amp; Avenu…</td><td>5515.02</td><td>40.742868</td><td>-73.989186</td><td>40.722174</td><td>-73.983688</td><td>&quot;member&quot;</td><td>0</td></tr><tr><td>&quot;A99F2E1D627B08…</td><td>&quot;docked_bike&quot;</td><td>2021-05-16 08:30:13</td><td>2021-05-16 08:45:47</td><td>&quot;46 Ave &amp; 5 St&quot;</td><td>6286.02</td><td>&quot;34th Ave &amp; Ver…</td><td>6873.01</td><td>40.74731</td><td>-73.95451</td><td>40.765354</td><td>-73.939863</td><td>&quot;member&quot;</td><td>0</td></tr><tr><td>&quot;43E79A45997B73…</td><td>&quot;docked_bike&quot;</td><td>2021-05-01 08:38:14</td><td>2021-05-01 08:54:27</td><td>&quot;46 Ave &amp; 5 St&quot;</td><td>6286.02</td><td>&quot;34th Ave &amp; Ver…</td><td>6873.01</td><td>40.74731</td><td>-73.95451</td><td>40.765354</td><td>-73.939863</td><td>&quot;member&quot;</td><td>0</td></tr><tr><td>&quot;8B3CC649F4F588…</td><td>&quot;docked_bike&quot;</td><td>2021-05-09 08:12:31</td><td>2021-05-09 08:27:05</td><td>&quot;46 Ave &amp; 5 St&quot;</td><td>6286.02</td><td>&quot;34th Ave &amp; Ver…</td><td>6873.01</td><td>40.74731</td><td>-73.95451</td><td>40.765354</td><td>-73.939863</td><td>&quot;member&quot;</td><td>0</td></tr><tr><td>&quot;7101C98F057486…</td><td>&quot;docked_bike&quot;</td><td>2021-05-27 07:52:27</td><td>2021-05-27 08:09:01</td><td>&quot;E 123 St &amp; Lex…</td><td>7636.05</td><td>&quot;1 Ave &amp; E 78 S…</td><td>7020.09</td><td>40.802926</td><td>-73.9379</td><td>40.771404</td><td>-73.953517</td><td>&quot;member&quot;</td><td>0</td></tr></tbody></table></div>"
      ],
      "text/plain": [
       "shape: (5, 14)\n",
       "┌───────────┬────────────┬──────────┬───────────┬───┬───────────┬───────────┬────────────┬─────────┐\n",
       "│ ride_id   ┆ rideable_t ┆ started_ ┆ ended_at  ┆ … ┆ end_lat   ┆ end_lng   ┆ member_cas ┆ riderty │\n",
       "│ ---       ┆ ype        ┆ at       ┆ ---       ┆   ┆ ---       ┆ ---       ┆ ual        ┆ pe      │\n",
       "│ str       ┆ ---        ┆ ---      ┆ datetime[ ┆   ┆ f64       ┆ f64       ┆ ---        ┆ ---     │\n",
       "│           ┆ str        ┆ datetime ┆ μs]       ┆   ┆           ┆           ┆ str        ┆ i32     │\n",
       "│           ┆            ┆ [μs]     ┆           ┆   ┆           ┆           ┆            ┆         │\n",
       "╞═══════════╪════════════╪══════════╪═══════════╪═══╪═══════════╪═══════════╪════════════╪═════════╡\n",
       "│ 26A3DC47F ┆ docked_bik ┆ 2021-05- ┆ 2021-05-1 ┆ … ┆ 40.722174 ┆ -73.98368 ┆ member     ┆ 0       │\n",
       "│ E0EA3A3   ┆ e          ┆ 13       ┆ 3         ┆   ┆           ┆ 8         ┆            ┆         │\n",
       "│           ┆            ┆ 12:48:08 ┆ 13:07:37  ┆   ┆           ┆           ┆            ┆         │\n",
       "│ A99F2E1D6 ┆ docked_bik ┆ 2021-05- ┆ 2021-05-1 ┆ … ┆ 40.765354 ┆ -73.93986 ┆ member     ┆ 0       │\n",
       "│ 27B088F   ┆ e          ┆ 16       ┆ 6         ┆   ┆           ┆ 3         ┆            ┆         │\n",
       "│           ┆            ┆ 08:30:13 ┆ 08:45:47  ┆   ┆           ┆           ┆            ┆         │\n",
       "│ 43E79A459 ┆ docked_bik ┆ 2021-05- ┆ 2021-05-0 ┆ … ┆ 40.765354 ┆ -73.93986 ┆ member     ┆ 0       │\n",
       "│ 97B7390   ┆ e          ┆ 01       ┆ 1         ┆   ┆           ┆ 3         ┆            ┆         │\n",
       "│           ┆            ┆ 08:38:14 ┆ 08:54:27  ┆   ┆           ┆           ┆            ┆         │\n",
       "│ 8B3CC649F ┆ docked_bik ┆ 2021-05- ┆ 2021-05-0 ┆ … ┆ 40.765354 ┆ -73.93986 ┆ member     ┆ 0       │\n",
       "│ 4F58816   ┆ e          ┆ 09       ┆ 9         ┆   ┆           ┆ 3         ┆            ┆         │\n",
       "│           ┆            ┆ 08:12:31 ┆ 08:27:05  ┆   ┆           ┆           ┆            ┆         │\n",
       "│ 7101C98F0 ┆ docked_bik ┆ 2021-05- ┆ 2021-05-2 ┆ … ┆ 40.771404 ┆ -73.95351 ┆ member     ┆ 0       │\n",
       "│ 57486F4   ┆ e          ┆ 27       ┆ 7         ┆   ┆           ┆ 7         ┆            ┆         │\n",
       "│           ┆            ┆ 07:52:27 ┆ 08:09:01  ┆   ┆           ┆           ┆            ┆         │\n",
       "└───────────┴────────────┴──────────┴───────────┴───┴───────────┴───────────┴────────────┴─────────┘"
      ]
     },
     "execution_count": 50,
     "metadata": {},
     "output_type": "execute_result"
    }
   ],
   "source": [
    "group1_pl_intermediate=\\\n",
    "group1_pl.with_columns(\n",
    "    pl.when(pl.col('member_casual') == 'member')\n",
    "    .then(pl.lit(0))\n",
    "    .otherwise(pl.lit(1))\n",
    "    .alias('ridertype'))\n",
    "\n",
    "group1_pl_intermediate.head()\n",
    "\n",
    "# named intermediate because this is an intermediate step\n",
    "# before finalizing this table of data"
   ]
  },
  {
   "cell_type": "code",
   "execution_count": 51,
   "id": "ad883f65-f9b3-439d-ab9d-997adc807774",
   "metadata": {},
   "outputs": [
    {
     "data": {
      "text/html": [
       "<div><style>\n",
       ".dataframe > thead > tr > th,\n",
       ".dataframe > tbody > tr > td {\n",
       "  text-align: right;\n",
       "}\n",
       "</style>\n",
       "<small>shape: (2, 2)</small><table border=\"1\" class=\"dataframe\"><thead><tr><th>ridertype</th><th>counts</th></tr><tr><td>i32</td><td>u32</td></tr></thead><tbody><tr><td>0</td><td>42560681</td></tr><tr><td>1</td><td>13239404</td></tr></tbody></table></div>"
      ],
      "text/plain": [
       "shape: (2, 2)\n",
       "┌───────────┬──────────┐\n",
       "│ ridertype ┆ counts   │\n",
       "│ ---       ┆ ---      │\n",
       "│ i32       ┆ u32      │\n",
       "╞═══════════╪══════════╡\n",
       "│ 0         ┆ 42560681 │\n",
       "│ 1         ┆ 13239404 │\n",
       "└───────────┴──────────┘"
      ]
     },
     "execution_count": 51,
     "metadata": {},
     "output_type": "execute_result"
    }
   ],
   "source": [
    "# sanity check on the column that was just created\n",
    "group1_pl_intermediate['ridertype'].value_counts().sort('counts',descending=True)"
   ]
  },
  {
   "cell_type": "code",
   "execution_count": 52,
   "id": "4263c70a-56ae-402e-bfd0-e58972adf150",
   "metadata": {},
   "outputs": [
    {
     "data": {
      "text/html": [
       "<div><style>\n",
       ".dataframe > thead > tr > th,\n",
       ".dataframe > tbody > tr > td {\n",
       "  text-align: right;\n",
       "}\n",
       "</style>\n",
       "<small>shape: (5, 15)</small><table border=\"1\" class=\"dataframe\"><thead><tr><th>ride_id</th><th>rideable_type</th><th>started_at</th><th>ended_at</th><th>start_station_name</th><th>start_station_id</th><th>end_station_name</th><th>end_station_id</th><th>start_lat</th><th>start_lng</th><th>end_lat</th><th>end_lng</th><th>member_casual</th><th>ridertype</th><th>biketype</th></tr><tr><td>str</td><td>str</td><td>datetime[μs]</td><td>datetime[μs]</td><td>str</td><td>f64</td><td>str</td><td>f64</td><td>f64</td><td>f64</td><td>f64</td><td>f64</td><td>str</td><td>i32</td><td>i32</td></tr></thead><tbody><tr><td>&quot;26A3DC47FE0EA3…</td><td>&quot;docked_bike&quot;</td><td>2021-05-13 12:48:08</td><td>2021-05-13 13:07:37</td><td>&quot;Broadway &amp; W 2…</td><td>6173.08</td><td>&quot;E 2 St &amp; Avenu…</td><td>5515.02</td><td>40.742868</td><td>-73.989186</td><td>40.722174</td><td>-73.983688</td><td>&quot;member&quot;</td><td>0</td><td>2</td></tr><tr><td>&quot;A99F2E1D627B08…</td><td>&quot;docked_bike&quot;</td><td>2021-05-16 08:30:13</td><td>2021-05-16 08:45:47</td><td>&quot;46 Ave &amp; 5 St&quot;</td><td>6286.02</td><td>&quot;34th Ave &amp; Ver…</td><td>6873.01</td><td>40.74731</td><td>-73.95451</td><td>40.765354</td><td>-73.939863</td><td>&quot;member&quot;</td><td>0</td><td>2</td></tr><tr><td>&quot;43E79A45997B73…</td><td>&quot;docked_bike&quot;</td><td>2021-05-01 08:38:14</td><td>2021-05-01 08:54:27</td><td>&quot;46 Ave &amp; 5 St&quot;</td><td>6286.02</td><td>&quot;34th Ave &amp; Ver…</td><td>6873.01</td><td>40.74731</td><td>-73.95451</td><td>40.765354</td><td>-73.939863</td><td>&quot;member&quot;</td><td>0</td><td>2</td></tr><tr><td>&quot;8B3CC649F4F588…</td><td>&quot;docked_bike&quot;</td><td>2021-05-09 08:12:31</td><td>2021-05-09 08:27:05</td><td>&quot;46 Ave &amp; 5 St&quot;</td><td>6286.02</td><td>&quot;34th Ave &amp; Ver…</td><td>6873.01</td><td>40.74731</td><td>-73.95451</td><td>40.765354</td><td>-73.939863</td><td>&quot;member&quot;</td><td>0</td><td>2</td></tr><tr><td>&quot;7101C98F057486…</td><td>&quot;docked_bike&quot;</td><td>2021-05-27 07:52:27</td><td>2021-05-27 08:09:01</td><td>&quot;E 123 St &amp; Lex…</td><td>7636.05</td><td>&quot;1 Ave &amp; E 78 S…</td><td>7020.09</td><td>40.802926</td><td>-73.9379</td><td>40.771404</td><td>-73.953517</td><td>&quot;member&quot;</td><td>0</td><td>2</td></tr></tbody></table></div>"
      ],
      "text/plain": [
       "shape: (5, 15)\n",
       "┌───────────┬────────────┬──────────┬───────────┬───┬──────────┬────────────┬───────────┬──────────┐\n",
       "│ ride_id   ┆ rideable_t ┆ started_ ┆ ended_at  ┆ … ┆ end_lng  ┆ member_cas ┆ ridertype ┆ biketype │\n",
       "│ ---       ┆ ype        ┆ at       ┆ ---       ┆   ┆ ---      ┆ ual        ┆ ---       ┆ ---      │\n",
       "│ str       ┆ ---        ┆ ---      ┆ datetime[ ┆   ┆ f64      ┆ ---        ┆ i32       ┆ i32      │\n",
       "│           ┆ str        ┆ datetime ┆ μs]       ┆   ┆          ┆ str        ┆           ┆          │\n",
       "│           ┆            ┆ [μs]     ┆           ┆   ┆          ┆            ┆           ┆          │\n",
       "╞═══════════╪════════════╪══════════╪═══════════╪═══╪══════════╪════════════╪═══════════╪══════════╡\n",
       "│ 26A3DC47F ┆ docked_bik ┆ 2021-05- ┆ 2021-05-1 ┆ … ┆ -73.9836 ┆ member     ┆ 0         ┆ 2        │\n",
       "│ E0EA3A3   ┆ e          ┆ 13       ┆ 3         ┆   ┆ 88       ┆            ┆           ┆          │\n",
       "│           ┆            ┆ 12:48:08 ┆ 13:07:37  ┆   ┆          ┆            ┆           ┆          │\n",
       "│ A99F2E1D6 ┆ docked_bik ┆ 2021-05- ┆ 2021-05-1 ┆ … ┆ -73.9398 ┆ member     ┆ 0         ┆ 2        │\n",
       "│ 27B088F   ┆ e          ┆ 16       ┆ 6         ┆   ┆ 63       ┆            ┆           ┆          │\n",
       "│           ┆            ┆ 08:30:13 ┆ 08:45:47  ┆   ┆          ┆            ┆           ┆          │\n",
       "│ 43E79A459 ┆ docked_bik ┆ 2021-05- ┆ 2021-05-0 ┆ … ┆ -73.9398 ┆ member     ┆ 0         ┆ 2        │\n",
       "│ 97B7390   ┆ e          ┆ 01       ┆ 1         ┆   ┆ 63       ┆            ┆           ┆          │\n",
       "│           ┆            ┆ 08:38:14 ┆ 08:54:27  ┆   ┆          ┆            ┆           ┆          │\n",
       "│ 8B3CC649F ┆ docked_bik ┆ 2021-05- ┆ 2021-05-0 ┆ … ┆ -73.9398 ┆ member     ┆ 0         ┆ 2        │\n",
       "│ 4F58816   ┆ e          ┆ 09       ┆ 9         ┆   ┆ 63       ┆            ┆           ┆          │\n",
       "│           ┆            ┆ 08:12:31 ┆ 08:27:05  ┆   ┆          ┆            ┆           ┆          │\n",
       "│ 7101C98F0 ┆ docked_bik ┆ 2021-05- ┆ 2021-05-2 ┆ … ┆ -73.9535 ┆ member     ┆ 0         ┆ 2        │\n",
       "│ 57486F4   ┆ e          ┆ 27       ┆ 7         ┆   ┆ 17       ┆            ┆           ┆          │\n",
       "│           ┆            ┆ 07:52:27 ┆ 08:09:01  ┆   ┆          ┆            ┆           ┆          │\n",
       "└───────────┴────────────┴──────────┴───────────┴───┴──────────┴────────────┴───────────┴──────────┘"
      ]
     },
     "execution_count": 52,
     "metadata": {},
     "output_type": "execute_result"
    }
   ],
   "source": [
    "group1_pl_intermediate=\\\n",
    "group1_pl_intermediate.with_columns(\n",
    "        pl.when(pl.col('rideable_type') == 'classic_bike')\n",
    "        .then(pl.lit(0))\n",
    "        .when(pl.col('rideable_type') == 'electric_bike')\n",
    "        .then(pl.lit(1))\n",
    "        .otherwise(pl.lit(2))\n",
    "        .alias('biketype')\n",
    ")\n",
    "\n",
    "group1_pl_intermediate.head()"
   ]
  },
  {
   "cell_type": "code",
   "execution_count": 53,
   "id": "3fc628ac-236c-4736-9ea9-4f59fba796e5",
   "metadata": {},
   "outputs": [
    {
     "data": {
      "text/html": [
       "<div><style>\n",
       ".dataframe > thead > tr > th,\n",
       ".dataframe > tbody > tr > td {\n",
       "  text-align: right;\n",
       "}\n",
       "</style>\n",
       "<small>shape: (3, 2)</small><table border=\"1\" class=\"dataframe\"><thead><tr><th>biketype</th><th>counts</th></tr><tr><td>i32</td><td>u32</td></tr></thead><tbody><tr><td>0</td><td>34010263</td></tr><tr><td>1</td><td>13092408</td></tr><tr><td>2</td><td>8697414</td></tr></tbody></table></div>"
      ],
      "text/plain": [
       "shape: (3, 2)\n",
       "┌──────────┬──────────┐\n",
       "│ biketype ┆ counts   │\n",
       "│ ---      ┆ ---      │\n",
       "│ i32      ┆ u32      │\n",
       "╞══════════╪══════════╡\n",
       "│ 0        ┆ 34010263 │\n",
       "│ 1        ┆ 13092408 │\n",
       "│ 2        ┆ 8697414  │\n",
       "└──────────┴──────────┘"
      ]
     },
     "execution_count": 53,
     "metadata": {},
     "output_type": "execute_result"
    }
   ],
   "source": [
    "# sanity check on the column that was just created\n",
    "group1_pl_intermediate['biketype'].value_counts().sort('counts',descending=True)"
   ]
  },
  {
   "cell_type": "markdown",
   "id": "d15454ca-988e-46f8-b9b0-6dae9fefe6d2",
   "metadata": {},
   "source": [
    "So far so good. Now to finalize the `ride` table."
   ]
  },
  {
   "cell_type": "code",
   "execution_count": 54,
   "id": "9dd51911-05bf-41cd-9906-2681764c7af1",
   "metadata": {},
   "outputs": [
    {
     "data": {
      "text/html": [
       "<div><style>\n",
       ".dataframe > thead > tr > th,\n",
       ".dataframe > tbody > tr > td {\n",
       "  text-align: right;\n",
       "}\n",
       "</style>\n",
       "<small>shape: (5, 7)</small><table border=\"1\" class=\"dataframe\"><thead><tr><th>ride_id</th><th>started_at</th><th>ended_at</th><th>start_station_id</th><th>end_station_id</th><th>ridertype</th><th>biketype</th></tr><tr><td>str</td><td>datetime[μs]</td><td>datetime[μs]</td><td>f64</td><td>f64</td><td>i32</td><td>i32</td></tr></thead><tbody><tr><td>&quot;26A3DC47FE0EA3…</td><td>2021-05-13 12:48:08</td><td>2021-05-13 13:07:37</td><td>6173.08</td><td>5515.02</td><td>0</td><td>2</td></tr><tr><td>&quot;A99F2E1D627B08…</td><td>2021-05-16 08:30:13</td><td>2021-05-16 08:45:47</td><td>6286.02</td><td>6873.01</td><td>0</td><td>2</td></tr><tr><td>&quot;43E79A45997B73…</td><td>2021-05-01 08:38:14</td><td>2021-05-01 08:54:27</td><td>6286.02</td><td>6873.01</td><td>0</td><td>2</td></tr><tr><td>&quot;8B3CC649F4F588…</td><td>2021-05-09 08:12:31</td><td>2021-05-09 08:27:05</td><td>6286.02</td><td>6873.01</td><td>0</td><td>2</td></tr><tr><td>&quot;7101C98F057486…</td><td>2021-05-27 07:52:27</td><td>2021-05-27 08:09:01</td><td>7636.05</td><td>7020.09</td><td>0</td><td>2</td></tr></tbody></table></div>"
      ],
      "text/plain": [
       "shape: (5, 7)\n",
       "┌───────────────┬──────────────┬──────────────┬──────────────┬──────────────┬───────────┬──────────┐\n",
       "│ ride_id       ┆ started_at   ┆ ended_at     ┆ start_statio ┆ end_station_ ┆ ridertype ┆ biketype │\n",
       "│ ---           ┆ ---          ┆ ---          ┆ n_id         ┆ id           ┆ ---       ┆ ---      │\n",
       "│ str           ┆ datetime[μs] ┆ datetime[μs] ┆ ---          ┆ ---          ┆ i32       ┆ i32      │\n",
       "│               ┆              ┆              ┆ f64          ┆ f64          ┆           ┆          │\n",
       "╞═══════════════╪══════════════╪══════════════╪══════════════╪══════════════╪═══════════╪══════════╡\n",
       "│ 26A3DC47FE0EA ┆ 2021-05-13   ┆ 2021-05-13   ┆ 6173.08      ┆ 5515.02      ┆ 0         ┆ 2        │\n",
       "│ 3A3           ┆ 12:48:08     ┆ 13:07:37     ┆              ┆              ┆           ┆          │\n",
       "│ A99F2E1D627B0 ┆ 2021-05-16   ┆ 2021-05-16   ┆ 6286.02      ┆ 6873.01      ┆ 0         ┆ 2        │\n",
       "│ 88F           ┆ 08:30:13     ┆ 08:45:47     ┆              ┆              ┆           ┆          │\n",
       "│ 43E79A45997B7 ┆ 2021-05-01   ┆ 2021-05-01   ┆ 6286.02      ┆ 6873.01      ┆ 0         ┆ 2        │\n",
       "│ 390           ┆ 08:38:14     ┆ 08:54:27     ┆              ┆              ┆           ┆          │\n",
       "│ 8B3CC649F4F58 ┆ 2021-05-09   ┆ 2021-05-09   ┆ 6286.02      ┆ 6873.01      ┆ 0         ┆ 2        │\n",
       "│ 816           ┆ 08:12:31     ┆ 08:27:05     ┆              ┆              ┆           ┆          │\n",
       "│ 7101C98F05748 ┆ 2021-05-27   ┆ 2021-05-27   ┆ 7636.05      ┆ 7020.09      ┆ 0         ┆ 2        │\n",
       "│ 6F4           ┆ 07:52:27     ┆ 08:09:01     ┆              ┆              ┆           ┆          │\n",
       "└───────────────┴──────────────┴──────────────┴──────────────┴──────────────┴───────────┴──────────┘"
      ]
     },
     "execution_count": 54,
     "metadata": {},
     "output_type": "execute_result"
    }
   ],
   "source": [
    "group1_pl_ridenorm=group1_pl_intermediate.select(pl.col('*').exclude(\\\n",
    "'rideable_type',\n",
    "'member_casual',\n",
    "'start_station_name',\n",
    "'end_station_name',\n",
    "'start_lat',\n",
    "'end_lat',\n",
    "'start_lng',\n",
    "'end_lng'))\n",
    "\n",
    "group1_pl_ridenorm.head()"
   ]
  },
  {
   "cell_type": "code",
   "execution_count": 55,
   "id": "bb4429e5-32f2-45b4-8caa-e116fed9fe9c",
   "metadata": {},
   "outputs": [
    {
     "data": {
      "text/html": [
       "<div><style>\n",
       ".dataframe > thead > tr > th,\n",
       ".dataframe > tbody > tr > td {\n",
       "  text-align: right;\n",
       "}\n",
       "</style>\n",
       "<small>shape: (3, 2)</small><table border=\"1\" class=\"dataframe\"><thead><tr><th>biketype</th><th>counts</th></tr><tr><td>i32</td><td>u32</td></tr></thead><tbody><tr><td>0</td><td>34010263</td></tr><tr><td>1</td><td>13092408</td></tr><tr><td>2</td><td>8697414</td></tr></tbody></table></div>"
      ],
      "text/plain": [
       "shape: (3, 2)\n",
       "┌──────────┬──────────┐\n",
       "│ biketype ┆ counts   │\n",
       "│ ---      ┆ ---      │\n",
       "│ i32      ┆ u32      │\n",
       "╞══════════╪══════════╡\n",
       "│ 0        ┆ 34010263 │\n",
       "│ 1        ┆ 13092408 │\n",
       "│ 2        ┆ 8697414  │\n",
       "└──────────┴──────────┘"
      ]
     },
     "execution_count": 55,
     "metadata": {},
     "output_type": "execute_result"
    }
   ],
   "source": [
    "# sanity check on the table that was just created\n",
    "group1_pl_ridenorm['biketype'].value_counts().sort('counts',descending=True)"
   ]
  },
  {
   "cell_type": "markdown",
   "id": "cd4e06e5-b8c4-4f9d-b628-13758cd07f4a",
   "metadata": {},
   "source": [
    "### Station table:"
   ]
  },
  {
   "cell_type": "code",
   "execution_count": 56,
   "id": "b563a416-ce3b-4e77-9190-82ddc901b396",
   "metadata": {},
   "outputs": [
    {
     "data": {
      "text/html": [
       "<div><style>\n",
       ".dataframe > thead > tr > th,\n",
       ".dataframe > tbody > tr > td {\n",
       "  text-align: right;\n",
       "}\n",
       "</style>\n",
       "<small>shape: (5, 4)</small><table border=\"1\" class=\"dataframe\"><thead><tr><th>start_station_name</th><th>start_station_id</th><th>start_lat</th><th>start_lng</th></tr><tr><td>str</td><td>f64</td><td>f64</td><td>f64</td></tr></thead><tbody><tr><td>&quot;Broadway &amp; W 2…</td><td>6173.08</td><td>40.742868</td><td>-73.989186</td></tr><tr><td>&quot;46 Ave &amp; 5 St&quot;</td><td>6286.02</td><td>40.74731</td><td>-73.95451</td></tr><tr><td>&quot;46 Ave &amp; 5 St&quot;</td><td>6286.02</td><td>40.74731</td><td>-73.95451</td></tr><tr><td>&quot;46 Ave &amp; 5 St&quot;</td><td>6286.02</td><td>40.74731</td><td>-73.95451</td></tr><tr><td>&quot;E 123 St &amp; Lex…</td><td>7636.05</td><td>40.802926</td><td>-73.9379</td></tr></tbody></table></div>"
      ],
      "text/plain": [
       "shape: (5, 4)\n",
       "┌──────────────────────────┬──────────────────┬───────────┬────────────┐\n",
       "│ start_station_name       ┆ start_station_id ┆ start_lat ┆ start_lng  │\n",
       "│ ---                      ┆ ---              ┆ ---       ┆ ---        │\n",
       "│ str                      ┆ f64              ┆ f64       ┆ f64        │\n",
       "╞══════════════════════════╪══════════════════╪═══════════╪════════════╡\n",
       "│ Broadway & W 25 St       ┆ 6173.08          ┆ 40.742868 ┆ -73.989186 │\n",
       "│ 46 Ave & 5 St            ┆ 6286.02          ┆ 40.74731  ┆ -73.95451  │\n",
       "│ 46 Ave & 5 St            ┆ 6286.02          ┆ 40.74731  ┆ -73.95451  │\n",
       "│ 46 Ave & 5 St            ┆ 6286.02          ┆ 40.74731  ┆ -73.95451  │\n",
       "│ E 123 St & Lexington Ave ┆ 7636.05          ┆ 40.802926 ┆ -73.9379   │\n",
       "└──────────────────────────┴──────────────────┴───────────┴────────────┘"
      ]
     },
     "execution_count": 56,
     "metadata": {},
     "output_type": "execute_result"
    }
   ],
   "source": [
    "group1_pl_stationnorm=group1_pl.\\\n",
    "select(pl.col('*')\\\n",
    "       .exclude('ride_id',\n",
    "                'rideable_type',\n",
    "                'started_at',\n",
    "                'ended_at',\n",
    "                'member_casual',\n",
    "                'end_station_name',\n",
    "                'end_station_id',\n",
    "                'end_lat',\n",
    "                'end_lng'\n",
    "               ))\n",
    "\n",
    "group1_pl_stationnorm.head()"
   ]
  },
  {
   "cell_type": "markdown",
   "id": "1b109ac7-db6c-4800-a192-d19dfc25b178",
   "metadata": {},
   "source": [
    "I want to check to make sure that all the `station_id` are accounted for in the `start_station_id` column:"
   ]
  },
  {
   "cell_type": "code",
   "execution_count": 58,
   "id": "03c5c28d-a617-44b2-861d-0541e0141cda",
   "metadata": {},
   "outputs": [
    {
     "name": "stdout",
     "output_type": "stream",
     "text": [
      "True\n"
     ]
    }
   ],
   "source": [
    "# check if all values in column_a are represented in column_b\n",
    "all_values_included = (group1_pl['start_station_id'].is_in(group1_pl['end_station_id'])).all()\n",
    "\n",
    "# print the result\n",
    "print(all_values_included)"
   ]
  },
  {
   "cell_type": "markdown",
   "id": "a5fa29a2-7937-4fee-b9e4-010449c60580",
   "metadata": {},
   "source": [
    "## Convert the `polars` tables into a form that will make it easy to convert to `MySQL`.\n",
    "\n",
    "This is because the size of the tables warrants compression."
   ]
  },
  {
   "cell_type": "markdown",
   "id": "4085609c-3782-4655-91eb-911d9469a207",
   "metadata": {},
   "source": [
    "Save the following tables. \n",
    "* `group1_pl_ridenorm`\n",
    "* `group1_pl_stationnorm`\n",
    "\n",
    "They are currently in a `polars` data type:"
   ]
  },
  {
   "cell_type": "code",
   "execution_count": 14,
   "id": "e43ba987-d835-443e-b090-8d37bfb7e803",
   "metadata": {},
   "outputs": [
    {
     "data": {
      "text/plain": [
       "polars.dataframe.frame.DataFrame"
      ]
     },
     "execution_count": 14,
     "metadata": {},
     "output_type": "execute_result"
    }
   ],
   "source": [
    "type(group1_pl_ridenorm)"
   ]
  },
  {
   "cell_type": "markdown",
   "id": "b92a7f97-c7f5-4cc6-aa35-14cf8e6f91ee",
   "metadata": {},
   "source": [
    "We will convert the `polars` dataframe to a `parquet` dataframe before sending to `MySQL`:"
   ]
  },
  {
   "cell_type": "code",
   "execution_count": 59,
   "id": "4f0b5bc8-f30e-4b96-92cf-d5a7f7e39315",
   "metadata": {},
   "outputs": [],
   "source": [
    "path_to_group1_pl_ridenorm_parquet=\\\n",
    "'/Users/sra/files/projects/citibike_project/combined/group1_combined/group1_pl_ridenorm.parquet'\n",
    "\n",
    "if not os.path.exists(path_to_group1_pl_ridenorm_parquet):\n",
    "    group1_pl_ridenorm.write_parquet(path_to_group1_pl_ridenorm_parquet)"
   ]
  },
  {
   "cell_type": "code",
   "execution_count": 60,
   "id": "c0fa0190-b716-4a63-ba76-065717ffe7b7",
   "metadata": {},
   "outputs": [],
   "source": [
    "path_to_group1_pl_stationnorm_parquet=\\\n",
    "'/Users/sra/files/projects/citibike_project/combined/group1_combined/group1_pl_stationnorm.parquet'\n",
    "\n",
    "if not os.path.exists(path_to_group1_pl_stationnorm_parquet):\n",
    "    group1_pl_stationnorm.write_parquet(path_to_group1_pl_stationnorm_parquet)"
   ]
  },
  {
   "cell_type": "markdown",
   "id": "1a4d7940-3c80-4123-a30c-6d0812e88050",
   "metadata": {},
   "source": [
    "Now we can proceed to create the `SQL` tables!"
   ]
  }
 ],
 "metadata": {
  "kernelspec": {
   "display_name": "bigdataml",
   "language": "python",
   "name": "bigdataml"
  },
  "language_info": {
   "codemirror_mode": {
    "name": "ipython",
    "version": 3
   },
   "file_extension": ".py",
   "mimetype": "text/x-python",
   "name": "python",
   "nbconvert_exporter": "python",
   "pygments_lexer": "ipython3",
   "version": "3.8.16"
  }
 },
 "nbformat": 4,
 "nbformat_minor": 5
}
