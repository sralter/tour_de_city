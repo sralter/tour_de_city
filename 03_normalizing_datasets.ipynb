{
 "cells": [
  {
   "cell_type": "markdown",
   "id": "9933d7fd-2f00-46e7-97e4-521f3280ee62",
   "metadata": {},
   "source": [
    "# Citibike Project - Normalizing the Datasets"
   ]
  },
  {
   "cell_type": "markdown",
   "id": "9786d426-8c89-4b51-88e4-a2715742fc6d",
   "metadata": {},
   "source": [
    "Normalizing the bike share datsets from `03_normalizing_datasets.ipynb` to prepare for SQL database creation."
   ]
  },
  {
   "cell_type": "markdown",
   "id": "a3aeb382-a82a-47d1-b98d-44c5d9d0d7e0",
   "metadata": {},
   "source": [
    "## Imports"
   ]
  },
  {
   "cell_type": "code",
   "execution_count": 77,
   "id": "42028afd-5ca5-4fc5-b8a9-ffad33886e2e",
   "metadata": {},
   "outputs": [],
   "source": [
    "import pandas as pd\n",
    "import numpy as np\n",
    "\n",
    "import polars as pl\n",
    "\n",
    "import pyarrow as pa\n",
    "import pyarrow.parquet as pq\n",
    "\n",
    "import feather\n",
    "\n",
    "from matplotlib import pyplot as plt\n",
    "\n",
    "import os"
   ]
  },
  {
   "cell_type": "markdown",
   "id": "0712a62f-644a-472c-9321-6280f5c84c03",
   "metadata": {},
   "source": [
    "## Files that we'll be working on: \n",
    "Two .CSVs, `group1` is ~10Gb and `group2` is ~20Gb"
   ]
  },
  {
   "cell_type": "code",
   "execution_count": 2,
   "id": "91eef3b0-cba0-4f0d-973f-89e9cff3d7b3",
   "metadata": {},
   "outputs": [],
   "source": [
    "group1_location='/Users/sra/files/projects/citibike_project/combined/group1_combined/group1.csv'\n",
    "group2_location='/Users/sra/files/projects/citibike_project/combined/group2_combined/group2.csv'"
   ]
  },
  {
   "cell_type": "markdown",
   "id": "9be5f3c4-2fa9-4d74-b7ac-5bd611b4fb5e",
   "metadata": {},
   "source": [
    "# Let's explore `group1` first:"
   ]
  },
  {
   "cell_type": "code",
   "execution_count": 39,
   "id": "c1631a56-2a60-49aa-a1de-589a0ce31d66",
   "metadata": {
    "tags": []
   },
   "outputs": [],
   "source": [
    "q=(\n",
    "    pl.scan_csv(group1_location,ignore_errors=True,try_parse_dates=True)\n",
    ")\n",
    "\n",
    "group1_pl=q.collect()"
   ]
  },
  {
   "cell_type": "code",
   "execution_count": 40,
   "id": "6286754f-1941-4288-8a3f-9f11a6fdcfbf",
   "metadata": {
    "tags": []
   },
   "outputs": [
    {
     "data": {
      "text/html": [
       "<div><style>\n",
       ".dataframe > thead > tr > th,\n",
       ".dataframe > tbody > tr > td {\n",
       "  text-align: right;\n",
       "}\n",
       "</style>\n",
       "<small>shape: (5, 13)</small><table border=\"1\" class=\"dataframe\"><thead><tr><th>ride_id</th><th>rideable_type</th><th>started_at</th><th>ended_at</th><th>start_station_name</th><th>start_station_id</th><th>end_station_name</th><th>end_station_id</th><th>start_lat</th><th>start_lng</th><th>end_lat</th><th>end_lng</th><th>member_casual</th></tr><tr><td>str</td><td>str</td><td>datetime[μs]</td><td>datetime[μs]</td><td>str</td><td>f64</td><td>str</td><td>f64</td><td>f64</td><td>f64</td><td>f64</td><td>f64</td><td>str</td></tr></thead><tbody><tr><td>&quot;26A3DC47FE0EA3…</td><td>&quot;docked_bike&quot;</td><td>2021-05-13 12:48:08</td><td>2021-05-13 13:07:37</td><td>&quot;Broadway &amp; W 2…</td><td>6173.08</td><td>&quot;E 2 St &amp; Avenu…</td><td>5515.02</td><td>40.742868</td><td>-73.989186</td><td>40.722174</td><td>-73.983688</td><td>&quot;member&quot;</td></tr><tr><td>&quot;A99F2E1D627B08…</td><td>&quot;docked_bike&quot;</td><td>2021-05-16 08:30:13</td><td>2021-05-16 08:45:47</td><td>&quot;46 Ave &amp; 5 St&quot;</td><td>6286.02</td><td>&quot;34th Ave &amp; Ver…</td><td>6873.01</td><td>40.74731</td><td>-73.95451</td><td>40.765354</td><td>-73.939863</td><td>&quot;member&quot;</td></tr><tr><td>&quot;43E79A45997B73…</td><td>&quot;docked_bike&quot;</td><td>2021-05-01 08:38:14</td><td>2021-05-01 08:54:27</td><td>&quot;46 Ave &amp; 5 St&quot;</td><td>6286.02</td><td>&quot;34th Ave &amp; Ver…</td><td>6873.01</td><td>40.74731</td><td>-73.95451</td><td>40.765354</td><td>-73.939863</td><td>&quot;member&quot;</td></tr><tr><td>&quot;8B3CC649F4F588…</td><td>&quot;docked_bike&quot;</td><td>2021-05-09 08:12:31</td><td>2021-05-09 08:27:05</td><td>&quot;46 Ave &amp; 5 St&quot;</td><td>6286.02</td><td>&quot;34th Ave &amp; Ver…</td><td>6873.01</td><td>40.74731</td><td>-73.95451</td><td>40.765354</td><td>-73.939863</td><td>&quot;member&quot;</td></tr><tr><td>&quot;7101C98F057486…</td><td>&quot;docked_bike&quot;</td><td>2021-05-27 07:52:27</td><td>2021-05-27 08:09:01</td><td>&quot;E 123 St &amp; Lex…</td><td>7636.05</td><td>&quot;1 Ave &amp; E 78 S…</td><td>7020.09</td><td>40.802926</td><td>-73.9379</td><td>40.771404</td><td>-73.953517</td><td>&quot;member&quot;</td></tr></tbody></table></div>"
      ],
      "text/plain": [
       "shape: (5, 13)\n",
       "┌───────────┬────────────┬──────────┬───────────┬───┬─────────┬───────────┬───────────┬────────────┐\n",
       "│ ride_id   ┆ rideable_t ┆ started_ ┆ ended_at  ┆ … ┆ start_l ┆ end_lat   ┆ end_lng   ┆ member_cas │\n",
       "│ ---       ┆ ype        ┆ at       ┆ ---       ┆   ┆ ng      ┆ ---       ┆ ---       ┆ ual        │\n",
       "│ str       ┆ ---        ┆ ---      ┆ datetime[ ┆   ┆ ---     ┆ f64       ┆ f64       ┆ ---        │\n",
       "│           ┆ str        ┆ datetime ┆ μs]       ┆   ┆ f64     ┆           ┆           ┆ str        │\n",
       "│           ┆            ┆ [μs]     ┆           ┆   ┆         ┆           ┆           ┆            │\n",
       "╞═══════════╪════════════╪══════════╪═══════════╪═══╪═════════╪═══════════╪═══════════╪════════════╡\n",
       "│ 26A3DC47F ┆ docked_bik ┆ 2021-05- ┆ 2021-05-1 ┆ … ┆ -73.989 ┆ 40.722174 ┆ -73.98368 ┆ member     │\n",
       "│ E0EA3A3   ┆ e          ┆ 13       ┆ 3         ┆   ┆ 186     ┆           ┆ 8         ┆            │\n",
       "│           ┆            ┆ 12:48:08 ┆ 13:07:37  ┆   ┆         ┆           ┆           ┆            │\n",
       "│ A99F2E1D6 ┆ docked_bik ┆ 2021-05- ┆ 2021-05-1 ┆ … ┆ -73.954 ┆ 40.765354 ┆ -73.93986 ┆ member     │\n",
       "│ 27B088F   ┆ e          ┆ 16       ┆ 6         ┆   ┆ 51      ┆           ┆ 3         ┆            │\n",
       "│           ┆            ┆ 08:30:13 ┆ 08:45:47  ┆   ┆         ┆           ┆           ┆            │\n",
       "│ 43E79A459 ┆ docked_bik ┆ 2021-05- ┆ 2021-05-0 ┆ … ┆ -73.954 ┆ 40.765354 ┆ -73.93986 ┆ member     │\n",
       "│ 97B7390   ┆ e          ┆ 01       ┆ 1         ┆   ┆ 51      ┆           ┆ 3         ┆            │\n",
       "│           ┆            ┆ 08:38:14 ┆ 08:54:27  ┆   ┆         ┆           ┆           ┆            │\n",
       "│ 8B3CC649F ┆ docked_bik ┆ 2021-05- ┆ 2021-05-0 ┆ … ┆ -73.954 ┆ 40.765354 ┆ -73.93986 ┆ member     │\n",
       "│ 4F58816   ┆ e          ┆ 09       ┆ 9         ┆   ┆ 51      ┆           ┆ 3         ┆            │\n",
       "│           ┆            ┆ 08:12:31 ┆ 08:27:05  ┆   ┆         ┆           ┆           ┆            │\n",
       "│ 7101C98F0 ┆ docked_bik ┆ 2021-05- ┆ 2021-05-2 ┆ … ┆ -73.937 ┆ 40.771404 ┆ -73.95351 ┆ member     │\n",
       "│ 57486F4   ┆ e          ┆ 27       ┆ 7         ┆   ┆ 9       ┆           ┆ 7         ┆            │\n",
       "│           ┆            ┆ 07:52:27 ┆ 08:09:01  ┆   ┆         ┆           ┆           ┆            │\n",
       "└───────────┴────────────┴──────────┴───────────┴───┴─────────┴───────────┴───────────┴────────────┘"
      ]
     },
     "execution_count": 40,
     "metadata": {},
     "output_type": "execute_result"
    }
   ],
   "source": [
    "group1_pl.head()"
   ]
  },
  {
   "cell_type": "code",
   "execution_count": 41,
   "id": "483f96a6-4a3f-4277-b454-e2d06e11380c",
   "metadata": {},
   "outputs": [
    {
     "data": {
      "text/html": [
       "<div><style>\n",
       ".dataframe > thead > tr > th,\n",
       ".dataframe > tbody > tr > td {\n",
       "  text-align: right;\n",
       "}\n",
       "</style>\n",
       "<small>shape: (5, 2)</small><table border=\"1\" class=\"dataframe\"><thead><tr><th>start_station_name</th><th>count</th></tr><tr><td>str</td><td>u32</td></tr></thead><tbody><tr><td>&quot;W 21 St &amp; 6 Av…</td><td>247908</td></tr><tr><td>&quot;West St &amp; Cham…</td><td>219580</td></tr><tr><td>&quot;1 Ave &amp; E 68 S…</td><td>208483</td></tr><tr><td>&quot;6 Ave &amp; W 33 S…</td><td>197135</td></tr><tr><td>&quot;Broadway &amp; W 2…</td><td>194687</td></tr></tbody></table></div>"
      ],
      "text/plain": [
       "shape: (5, 2)\n",
       "┌───────────────────────┬────────┐\n",
       "│ start_station_name    ┆ count  │\n",
       "│ ---                   ┆ ---    │\n",
       "│ str                   ┆ u32    │\n",
       "╞═══════════════════════╪════════╡\n",
       "│ W 21 St & 6 Ave       ┆ 247908 │\n",
       "│ West St & Chambers St ┆ 219580 │\n",
       "│ 1 Ave & E 68 St       ┆ 208483 │\n",
       "│ 6 Ave & W 33 St       ┆ 197135 │\n",
       "│ Broadway & W 25 St    ┆ 194687 │\n",
       "└───────────────────────┴────────┘"
      ]
     },
     "execution_count": 41,
     "metadata": {},
     "output_type": "execute_result"
    }
   ],
   "source": [
    "group1_pl.groupby('start_station_name').count()\\\n",
    ".sort('count',descending=True)\\\n",
    ".head()"
   ]
  },
  {
   "cell_type": "markdown",
   "id": "cc398ce9-89a6-4eea-9503-9f41edd36ef0",
   "metadata": {},
   "source": [
    "There are some junk stations in the dataset:"
   ]
  },
  {
   "cell_type": "code",
   "execution_count": 42,
   "id": "b076e86e-a7d6-4dc3-a12b-37de1f3c1e9f",
   "metadata": {},
   "outputs": [
    {
     "name": "stdout",
     "output_type": "stream",
     "text": [
      "shape: (2_027, 2)\n",
      "┌──────────────────────────┬────────┐\n",
      "│ start_station_name       ┆ count  │\n",
      "│ ---                      ┆ ---    │\n",
      "│ str                      ┆ u32    │\n",
      "╞══════════════════════════╪════════╡\n",
      "│ W 21 St & 6 Ave          ┆ 247908 │\n",
      "│ West St & Chambers St    ┆ 219580 │\n",
      "│ 1 Ave & E 68 St          ┆ 208483 │\n",
      "│ 6 Ave & W 33 St          ┆ 197135 │\n",
      "│ …                        ┆ …      │\n",
      "│ Prototype Lab            ┆ 15     │\n",
      "│ Apache                   ┆ 15     │\n",
      "│ 4455.10                  ┆ 11     │\n",
      "│ Rogers Pl & E 165 St_old ┆ 11     │\n",
      "└──────────────────────────┴────────┘\n"
     ]
    }
   ],
   "source": [
    "q=(\n",
    "    group1_pl.lazy()\n",
    "    .groupby('start_station_name')\n",
    "    .agg(pl.count('start_station_name').alias('count'))\n",
    "    .filter(\n",
    "        (pl.col('count')>=10)\n",
    "    )\n",
    "    .sort('count',descending=True)\n",
    "    # .limit(5)\n",
    ")\n",
    "\n",
    "group1_pl_count=q.collect()\n",
    "print(group1_pl_count)"
   ]
  },
  {
   "cell_type": "markdown",
   "id": "3b34a13a-b4f8-4e92-a7b1-405c2e1522d2",
   "metadata": {},
   "source": [
    "However, these junk stations are such a small part of the dataset that I think it's ok to include.  \n",
    "When it comes time to query the database with `SQL`, we can work to remove these junk stations with more control."
   ]
  },
  {
   "cell_type": "code",
   "execution_count": 43,
   "id": "fb031692-7a8a-490a-aad3-a30955f6593d",
   "metadata": {},
   "outputs": [
    {
     "name": "stdout",
     "output_type": "stream",
     "text": [
      "shape: (1_927, 2)\n",
      "┌──────────────────┬────────┐\n",
      "│ start_station_id ┆ count  │\n",
      "│ ---              ┆ ---    │\n",
      "│ f64              ┆ u32    │\n",
      "╞══════════════════╪════════╡\n",
      "│ 6140.05          ┆ 247908 │\n",
      "│ 5329.03          ┆ 219580 │\n",
      "│ 6822.09          ┆ 208483 │\n",
      "│ 6364.07          ┆ 197135 │\n",
      "│ …                ┆ …      │\n",
      "│ 5548.01          ┆ 44     │\n",
      "│ 3704.01          ┆ 33     │\n",
      "│ 4014.01          ┆ 30     │\n",
      "│ 8419.03          ┆ 2      │\n",
      "└──────────────────┴────────┘\n"
     ]
    }
   ],
   "source": [
    "q=(\n",
    "    group1_pl.lazy()\n",
    "    .groupby('start_station_id')\n",
    "    .agg(pl.count('start_station_id').alias('count'))\n",
    "    # .filter(\n",
    "        # (pl.col('count')>=1)\n",
    "    # )\n",
    "    .sort('count',descending=True)\n",
    "    # .limit(5)\n",
    ")\n",
    "\n",
    "group1_pl_count=q.collect()\n",
    "print(group1_pl_count)"
   ]
  },
  {
   "cell_type": "markdown",
   "id": "27b97560-2660-41da-9ec0-d104c5f9c4ec",
   "metadata": {},
   "source": [
    "Practice making new columns of summary information using other columns:"
   ]
  },
  {
   "cell_type": "code",
   "execution_count": 44,
   "id": "37754896-9765-4fca-8da6-f6a08413f0db",
   "metadata": {},
   "outputs": [
    {
     "name": "stdout",
     "output_type": "stream",
     "text": [
      "shape: (3, 3)\n",
      "┌───────────────┬─────────────────────┬──────────┐\n",
      "│ rideable_type ┆ rideable_type_count ┆ sum      │\n",
      "│ ---           ┆ ---                 ┆ ---      │\n",
      "│ str           ┆ u32                 ┆ u32      │\n",
      "╞═══════════════╪═════════════════════╪══════════╡\n",
      "│ classic_bike  ┆ 34010263            ┆ 55800085 │\n",
      "│ electric_bike ┆ 13092408            ┆ 55800085 │\n",
      "│ docked_bike   ┆ 8697414             ┆ 55800085 │\n",
      "└───────────────┴─────────────────────┴──────────┘\n"
     ]
    }
   ],
   "source": [
    "q=(\n",
    "    group1_pl.lazy()\n",
    "    .groupby('rideable_type')\n",
    "    .agg(pl.count('rideable_type').alias('rideable_type_count'))\n",
    "    .sort('rideable_type_count',descending=True)\n",
    ")\n",
    "\n",
    "group1_pl_rideable_type=q.collect()\n",
    "\n",
    "q=(\n",
    "    group1_pl_rideable_type.lazy()\n",
    "    .with_columns([pl.col(\"rideable_type_count\").sum().alias('sum')])\n",
    ")\n",
    "\n",
    "group1_pl_rideable_type=q.collect()\n",
    "\n",
    "print(group1_pl_rideable_type)"
   ]
  },
  {
   "cell_type": "markdown",
   "id": "6a06e699-37a8-41aa-85ae-baa5744c857c",
   "metadata": {},
   "source": [
    "There are about three times as many classic bike trips used than electric bikes used. The total amount of trips equals the total rows of the dataset."
   ]
  },
  {
   "cell_type": "code",
   "execution_count": 45,
   "id": "765b2c06-7c9f-4dbd-b2bf-6386ca0c907a",
   "metadata": {},
   "outputs": [
    {
     "name": "stdout",
     "output_type": "stream",
     "text": [
      "shape: (2, 2)\n",
      "┌───────────────┬─────────────────────┐\n",
      "│ member_casual ┆ member_casual_count │\n",
      "│ ---           ┆ ---                 │\n",
      "│ str           ┆ u32                 │\n",
      "╞═══════════════╪═════════════════════╡\n",
      "│ member        ┆ 42560681            │\n",
      "│ casual        ┆ 13239404            │\n",
      "└───────────────┴─────────────────────┘\n"
     ]
    }
   ],
   "source": [
    "q=(\n",
    "    group1_pl.lazy()\n",
    "    .groupby('member_casual')\n",
    "    .agg(pl.count('member_casual').alias('member_casual_count'))\n",
    "    .sort('member_casual_count',descending=True)\n",
    ")\n",
    "\n",
    "group1_pl_rider_type=q.collect()\n",
    "\n",
    "print(group1_pl_rider_type)"
   ]
  },
  {
   "cell_type": "code",
   "execution_count": null,
   "id": "d25969ce-463b-4b23-a195-ddaae28b9a96",
   "metadata": {},
   "outputs": [],
   "source": []
  },
  {
   "cell_type": "markdown",
   "id": "29e0e59e-88f4-4265-b844-420f00cd318a",
   "metadata": {
    "tags": []
   },
   "source": [
    "#### Determine the number and contents of secondary tables that are needed."
   ]
  },
  {
   "cell_type": "markdown",
   "id": "54033328-c3cb-4ca4-b18e-f0d095bbb838",
   "metadata": {},
   "source": [
    "A `member_casual` table that has two rows, `member` and `casual`:"
   ]
  },
  {
   "cell_type": "code",
   "execution_count": 46,
   "id": "27101e5b-6015-4636-99aa-adc17e3fd168",
   "metadata": {},
   "outputs": [
    {
     "data": {
      "text/html": [
       "<div><style>\n",
       ".dataframe > thead > tr > th,\n",
       ".dataframe > tbody > tr > td {\n",
       "  text-align: right;\n",
       "}\n",
       "</style>\n",
       "<small>shape: (2, 2)</small><table border=\"1\" class=\"dataframe\"><thead><tr><th>member_casual</th><th>counts</th></tr><tr><td>str</td><td>u32</td></tr></thead><tbody><tr><td>&quot;member&quot;</td><td>42560681</td></tr><tr><td>&quot;casual&quot;</td><td>13239404</td></tr></tbody></table></div>"
      ],
      "text/plain": [
       "shape: (2, 2)\n",
       "┌───────────────┬──────────┐\n",
       "│ member_casual ┆ counts   │\n",
       "│ ---           ┆ ---      │\n",
       "│ str           ┆ u32      │\n",
       "╞═══════════════╪══════════╡\n",
       "│ member        ┆ 42560681 │\n",
       "│ casual        ┆ 13239404 │\n",
       "└───────────────┴──────────┘"
      ]
     },
     "execution_count": 46,
     "metadata": {},
     "output_type": "execute_result"
    }
   ],
   "source": [
    "member_casual=group1_pl['member_casual'].value_counts().sort('counts',descending=True)\n",
    "member_casual"
   ]
  },
  {
   "cell_type": "code",
   "execution_count": 47,
   "id": "c6109082-aa1c-4941-8834-174c1f5789ca",
   "metadata": {},
   "outputs": [
    {
     "data": {
      "text/plain": [
       "55800085"
      ]
     },
     "execution_count": 47,
     "metadata": {},
     "output_type": "execute_result"
    }
   ],
   "source": [
    "sum(member_casual['counts'])"
   ]
  },
  {
   "cell_type": "markdown",
   "id": "dc3d5058-eacc-4fe5-8f59-7c557a49c517",
   "metadata": {},
   "source": [
    "A `rideable_type` table that has three rows, `classic_bike`, `electric_bike`, and `docked_bike`:"
   ]
  },
  {
   "cell_type": "code",
   "execution_count": 48,
   "id": "80d1044a-7226-47f4-8901-3739b9040c9b",
   "metadata": {},
   "outputs": [
    {
     "data": {
      "text/html": [
       "<div><style>\n",
       ".dataframe > thead > tr > th,\n",
       ".dataframe > tbody > tr > td {\n",
       "  text-align: right;\n",
       "}\n",
       "</style>\n",
       "<small>shape: (3, 2)</small><table border=\"1\" class=\"dataframe\"><thead><tr><th>rideable_type</th><th>counts</th></tr><tr><td>str</td><td>u32</td></tr></thead><tbody><tr><td>&quot;classic_bike&quot;</td><td>34010263</td></tr><tr><td>&quot;electric_bike&quot;</td><td>13092408</td></tr><tr><td>&quot;docked_bike&quot;</td><td>8697414</td></tr></tbody></table></div>"
      ],
      "text/plain": [
       "shape: (3, 2)\n",
       "┌───────────────┬──────────┐\n",
       "│ rideable_type ┆ counts   │\n",
       "│ ---           ┆ ---      │\n",
       "│ str           ┆ u32      │\n",
       "╞═══════════════╪══════════╡\n",
       "│ classic_bike  ┆ 34010263 │\n",
       "│ electric_bike ┆ 13092408 │\n",
       "│ docked_bike   ┆ 8697414  │\n",
       "└───────────────┴──────────┘"
      ]
     },
     "execution_count": 48,
     "metadata": {},
     "output_type": "execute_result"
    }
   ],
   "source": [
    "group1_pl['rideable_type'].value_counts().sort('counts',descending=True)"
   ]
  },
  {
   "cell_type": "markdown",
   "id": "6fc6fc7e-4ca0-495d-a4d5-ed8682de89a9",
   "metadata": {},
   "source": [
    "There are 1,926 stations in the database, plus a `null` entry:"
   ]
  },
  {
   "cell_type": "code",
   "execution_count": 49,
   "id": "f6f17a95-973d-46ee-8baf-af413a4efe08",
   "metadata": {},
   "outputs": [
    {
     "data": {
      "text/html": [
       "<div><style>\n",
       ".dataframe > thead > tr > th,\n",
       ".dataframe > tbody > tr > td {\n",
       "  text-align: right;\n",
       "}\n",
       "</style>\n",
       "<small>shape: (1_927, 2)</small><table border=\"1\" class=\"dataframe\"><thead><tr><th>start_station_id</th><th>counts</th></tr><tr><td>f64</td><td>u32</td></tr></thead><tbody><tr><td>8841.03</td><td>4503</td></tr><tr><td>8811.01</td><td>2113</td></tr><tr><td>8799.01</td><td>3221</td></tr><tr><td>8795.03</td><td>2011</td></tr><tr><td>8795.01</td><td>6404</td></tr><tr><td>8782.01</td><td>3084</td></tr><tr><td>8778.01</td><td>2968</td></tr><tr><td>8766.03</td><td>2209</td></tr><tr><td>8752.01</td><td>2996</td></tr><tr><td>8748.02</td><td>1504</td></tr><tr><td>8738.01</td><td>1925</td></tr><tr><td>8734.04</td><td>2161</td></tr><tr><td>&hellip;</td><td>&hellip;</td></tr><tr><td>2932.03</td><td>2716</td></tr><tr><td>2932.01</td><td>4163</td></tr><tr><td>2923.01</td><td>1854</td></tr><tr><td>2912.08</td><td>3282</td></tr><tr><td>2883.03</td><td>3973</td></tr><tr><td>2872.02</td><td>1827</td></tr><tr><td>2861.02</td><td>291</td></tr><tr><td>2832.03</td><td>6107</td></tr><tr><td>2821.05</td><td>913</td></tr><tr><td>2782.02</td><td>5280</td></tr><tr><td>2733.03</td><td>3881</td></tr><tr><td>null</td><td>97418</td></tr></tbody></table></div>"
      ],
      "text/plain": [
       "shape: (1_927, 2)\n",
       "┌──────────────────┬────────┐\n",
       "│ start_station_id ┆ counts │\n",
       "│ ---              ┆ ---    │\n",
       "│ f64              ┆ u32    │\n",
       "╞══════════════════╪════════╡\n",
       "│ 8841.03          ┆ 4503   │\n",
       "│ 8811.01          ┆ 2113   │\n",
       "│ 8799.01          ┆ 3221   │\n",
       "│ 8795.03          ┆ 2011   │\n",
       "│ …                ┆ …      │\n",
       "│ 2821.05          ┆ 913    │\n",
       "│ 2782.02          ┆ 5280   │\n",
       "│ 2733.03          ┆ 3881   │\n",
       "│ null             ┆ 97418  │\n",
       "└──────────────────┴────────┘"
      ]
     },
     "execution_count": 49,
     "metadata": {},
     "output_type": "execute_result"
    }
   ],
   "source": [
    "group1_pl['start_station_id'].value_counts().sort('start_station_id',descending=True)"
   ]
  },
  {
   "cell_type": "markdown",
   "id": "9fc0bb8a-a798-4b0e-9251-2216855710bf",
   "metadata": {},
   "source": [
    "## Normalize `group1`"
   ]
  },
  {
   "cell_type": "markdown",
   "id": "482ab06c-f665-4061-86ff-69917004b3b3",
   "metadata": {},
   "source": [
    "### Ride table:"
   ]
  },
  {
   "cell_type": "markdown",
   "id": "1d0182af-a80e-4fff-a940-c46c79ea84dd",
   "metadata": {},
   "source": [
    "#### Normalize the `rideable_type` and `member_casual` categories:"
   ]
  },
  {
   "cell_type": "code",
   "execution_count": 50,
   "id": "eb277b4b-eeca-49d5-bbe8-bf44a7e8c027",
   "metadata": {},
   "outputs": [
    {
     "data": {
      "text/html": [
       "<div><style>\n",
       ".dataframe > thead > tr > th,\n",
       ".dataframe > tbody > tr > td {\n",
       "  text-align: right;\n",
       "}\n",
       "</style>\n",
       "<small>shape: (5, 14)</small><table border=\"1\" class=\"dataframe\"><thead><tr><th>ride_id</th><th>rideable_type</th><th>started_at</th><th>ended_at</th><th>start_station_name</th><th>start_station_id</th><th>end_station_name</th><th>end_station_id</th><th>start_lat</th><th>start_lng</th><th>end_lat</th><th>end_lng</th><th>member_casual</th><th>ridertype</th></tr><tr><td>str</td><td>str</td><td>datetime[μs]</td><td>datetime[μs]</td><td>str</td><td>f64</td><td>str</td><td>f64</td><td>f64</td><td>f64</td><td>f64</td><td>f64</td><td>str</td><td>i32</td></tr></thead><tbody><tr><td>&quot;26A3DC47FE0EA3…</td><td>&quot;docked_bike&quot;</td><td>2021-05-13 12:48:08</td><td>2021-05-13 13:07:37</td><td>&quot;Broadway &amp; W 2…</td><td>6173.08</td><td>&quot;E 2 St &amp; Avenu…</td><td>5515.02</td><td>40.742868</td><td>-73.989186</td><td>40.722174</td><td>-73.983688</td><td>&quot;member&quot;</td><td>0</td></tr><tr><td>&quot;A99F2E1D627B08…</td><td>&quot;docked_bike&quot;</td><td>2021-05-16 08:30:13</td><td>2021-05-16 08:45:47</td><td>&quot;46 Ave &amp; 5 St&quot;</td><td>6286.02</td><td>&quot;34th Ave &amp; Ver…</td><td>6873.01</td><td>40.74731</td><td>-73.95451</td><td>40.765354</td><td>-73.939863</td><td>&quot;member&quot;</td><td>0</td></tr><tr><td>&quot;43E79A45997B73…</td><td>&quot;docked_bike&quot;</td><td>2021-05-01 08:38:14</td><td>2021-05-01 08:54:27</td><td>&quot;46 Ave &amp; 5 St&quot;</td><td>6286.02</td><td>&quot;34th Ave &amp; Ver…</td><td>6873.01</td><td>40.74731</td><td>-73.95451</td><td>40.765354</td><td>-73.939863</td><td>&quot;member&quot;</td><td>0</td></tr><tr><td>&quot;8B3CC649F4F588…</td><td>&quot;docked_bike&quot;</td><td>2021-05-09 08:12:31</td><td>2021-05-09 08:27:05</td><td>&quot;46 Ave &amp; 5 St&quot;</td><td>6286.02</td><td>&quot;34th Ave &amp; Ver…</td><td>6873.01</td><td>40.74731</td><td>-73.95451</td><td>40.765354</td><td>-73.939863</td><td>&quot;member&quot;</td><td>0</td></tr><tr><td>&quot;7101C98F057486…</td><td>&quot;docked_bike&quot;</td><td>2021-05-27 07:52:27</td><td>2021-05-27 08:09:01</td><td>&quot;E 123 St &amp; Lex…</td><td>7636.05</td><td>&quot;1 Ave &amp; E 78 S…</td><td>7020.09</td><td>40.802926</td><td>-73.9379</td><td>40.771404</td><td>-73.953517</td><td>&quot;member&quot;</td><td>0</td></tr></tbody></table></div>"
      ],
      "text/plain": [
       "shape: (5, 14)\n",
       "┌───────────┬────────────┬──────────┬───────────┬───┬───────────┬───────────┬────────────┬─────────┐\n",
       "│ ride_id   ┆ rideable_t ┆ started_ ┆ ended_at  ┆ … ┆ end_lat   ┆ end_lng   ┆ member_cas ┆ riderty │\n",
       "│ ---       ┆ ype        ┆ at       ┆ ---       ┆   ┆ ---       ┆ ---       ┆ ual        ┆ pe      │\n",
       "│ str       ┆ ---        ┆ ---      ┆ datetime[ ┆   ┆ f64       ┆ f64       ┆ ---        ┆ ---     │\n",
       "│           ┆ str        ┆ datetime ┆ μs]       ┆   ┆           ┆           ┆ str        ┆ i32     │\n",
       "│           ┆            ┆ [μs]     ┆           ┆   ┆           ┆           ┆            ┆         │\n",
       "╞═══════════╪════════════╪══════════╪═══════════╪═══╪═══════════╪═══════════╪════════════╪═════════╡\n",
       "│ 26A3DC47F ┆ docked_bik ┆ 2021-05- ┆ 2021-05-1 ┆ … ┆ 40.722174 ┆ -73.98368 ┆ member     ┆ 0       │\n",
       "│ E0EA3A3   ┆ e          ┆ 13       ┆ 3         ┆   ┆           ┆ 8         ┆            ┆         │\n",
       "│           ┆            ┆ 12:48:08 ┆ 13:07:37  ┆   ┆           ┆           ┆            ┆         │\n",
       "│ A99F2E1D6 ┆ docked_bik ┆ 2021-05- ┆ 2021-05-1 ┆ … ┆ 40.765354 ┆ -73.93986 ┆ member     ┆ 0       │\n",
       "│ 27B088F   ┆ e          ┆ 16       ┆ 6         ┆   ┆           ┆ 3         ┆            ┆         │\n",
       "│           ┆            ┆ 08:30:13 ┆ 08:45:47  ┆   ┆           ┆           ┆            ┆         │\n",
       "│ 43E79A459 ┆ docked_bik ┆ 2021-05- ┆ 2021-05-0 ┆ … ┆ 40.765354 ┆ -73.93986 ┆ member     ┆ 0       │\n",
       "│ 97B7390   ┆ e          ┆ 01       ┆ 1         ┆   ┆           ┆ 3         ┆            ┆         │\n",
       "│           ┆            ┆ 08:38:14 ┆ 08:54:27  ┆   ┆           ┆           ┆            ┆         │\n",
       "│ 8B3CC649F ┆ docked_bik ┆ 2021-05- ┆ 2021-05-0 ┆ … ┆ 40.765354 ┆ -73.93986 ┆ member     ┆ 0       │\n",
       "│ 4F58816   ┆ e          ┆ 09       ┆ 9         ┆   ┆           ┆ 3         ┆            ┆         │\n",
       "│           ┆            ┆ 08:12:31 ┆ 08:27:05  ┆   ┆           ┆           ┆            ┆         │\n",
       "│ 7101C98F0 ┆ docked_bik ┆ 2021-05- ┆ 2021-05-2 ┆ … ┆ 40.771404 ┆ -73.95351 ┆ member     ┆ 0       │\n",
       "│ 57486F4   ┆ e          ┆ 27       ┆ 7         ┆   ┆           ┆ 7         ┆            ┆         │\n",
       "│           ┆            ┆ 07:52:27 ┆ 08:09:01  ┆   ┆           ┆           ┆            ┆         │\n",
       "└───────────┴────────────┴──────────┴───────────┴───┴───────────┴───────────┴────────────┴─────────┘"
      ]
     },
     "execution_count": 50,
     "metadata": {},
     "output_type": "execute_result"
    }
   ],
   "source": [
    "group1_pl_intermediate=\\\n",
    "group1_pl.with_columns(\n",
    "    pl.when(pl.col('member_casual') == 'member')\n",
    "    .then(pl.lit(0))\n",
    "    .otherwise(pl.lit(1))\n",
    "    .alias('ridertype'))\n",
    "\n",
    "group1_pl_intermediate.head()\n",
    "\n",
    "# named intermediate because this is an intermediate step\n",
    "# before finalizing this table of data"
   ]
  },
  {
   "cell_type": "code",
   "execution_count": 51,
   "id": "ad883f65-f9b3-439d-ab9d-997adc807774",
   "metadata": {},
   "outputs": [
    {
     "data": {
      "text/html": [
       "<div><style>\n",
       ".dataframe > thead > tr > th,\n",
       ".dataframe > tbody > tr > td {\n",
       "  text-align: right;\n",
       "}\n",
       "</style>\n",
       "<small>shape: (2, 2)</small><table border=\"1\" class=\"dataframe\"><thead><tr><th>ridertype</th><th>counts</th></tr><tr><td>i32</td><td>u32</td></tr></thead><tbody><tr><td>0</td><td>42560681</td></tr><tr><td>1</td><td>13239404</td></tr></tbody></table></div>"
      ],
      "text/plain": [
       "shape: (2, 2)\n",
       "┌───────────┬──────────┐\n",
       "│ ridertype ┆ counts   │\n",
       "│ ---       ┆ ---      │\n",
       "│ i32       ┆ u32      │\n",
       "╞═══════════╪══════════╡\n",
       "│ 0         ┆ 42560681 │\n",
       "│ 1         ┆ 13239404 │\n",
       "└───────────┴──────────┘"
      ]
     },
     "execution_count": 51,
     "metadata": {},
     "output_type": "execute_result"
    }
   ],
   "source": [
    "# sanity check on the column that was just created\n",
    "group1_pl_intermediate['ridertype'].value_counts().sort('counts',descending=True)"
   ]
  },
  {
   "cell_type": "code",
   "execution_count": 52,
   "id": "4263c70a-56ae-402e-bfd0-e58972adf150",
   "metadata": {},
   "outputs": [
    {
     "data": {
      "text/html": [
       "<div><style>\n",
       ".dataframe > thead > tr > th,\n",
       ".dataframe > tbody > tr > td {\n",
       "  text-align: right;\n",
       "}\n",
       "</style>\n",
       "<small>shape: (5, 15)</small><table border=\"1\" class=\"dataframe\"><thead><tr><th>ride_id</th><th>rideable_type</th><th>started_at</th><th>ended_at</th><th>start_station_name</th><th>start_station_id</th><th>end_station_name</th><th>end_station_id</th><th>start_lat</th><th>start_lng</th><th>end_lat</th><th>end_lng</th><th>member_casual</th><th>ridertype</th><th>biketype</th></tr><tr><td>str</td><td>str</td><td>datetime[μs]</td><td>datetime[μs]</td><td>str</td><td>f64</td><td>str</td><td>f64</td><td>f64</td><td>f64</td><td>f64</td><td>f64</td><td>str</td><td>i32</td><td>i32</td></tr></thead><tbody><tr><td>&quot;26A3DC47FE0EA3…</td><td>&quot;docked_bike&quot;</td><td>2021-05-13 12:48:08</td><td>2021-05-13 13:07:37</td><td>&quot;Broadway &amp; W 2…</td><td>6173.08</td><td>&quot;E 2 St &amp; Avenu…</td><td>5515.02</td><td>40.742868</td><td>-73.989186</td><td>40.722174</td><td>-73.983688</td><td>&quot;member&quot;</td><td>0</td><td>2</td></tr><tr><td>&quot;A99F2E1D627B08…</td><td>&quot;docked_bike&quot;</td><td>2021-05-16 08:30:13</td><td>2021-05-16 08:45:47</td><td>&quot;46 Ave &amp; 5 St&quot;</td><td>6286.02</td><td>&quot;34th Ave &amp; Ver…</td><td>6873.01</td><td>40.74731</td><td>-73.95451</td><td>40.765354</td><td>-73.939863</td><td>&quot;member&quot;</td><td>0</td><td>2</td></tr><tr><td>&quot;43E79A45997B73…</td><td>&quot;docked_bike&quot;</td><td>2021-05-01 08:38:14</td><td>2021-05-01 08:54:27</td><td>&quot;46 Ave &amp; 5 St&quot;</td><td>6286.02</td><td>&quot;34th Ave &amp; Ver…</td><td>6873.01</td><td>40.74731</td><td>-73.95451</td><td>40.765354</td><td>-73.939863</td><td>&quot;member&quot;</td><td>0</td><td>2</td></tr><tr><td>&quot;8B3CC649F4F588…</td><td>&quot;docked_bike&quot;</td><td>2021-05-09 08:12:31</td><td>2021-05-09 08:27:05</td><td>&quot;46 Ave &amp; 5 St&quot;</td><td>6286.02</td><td>&quot;34th Ave &amp; Ver…</td><td>6873.01</td><td>40.74731</td><td>-73.95451</td><td>40.765354</td><td>-73.939863</td><td>&quot;member&quot;</td><td>0</td><td>2</td></tr><tr><td>&quot;7101C98F057486…</td><td>&quot;docked_bike&quot;</td><td>2021-05-27 07:52:27</td><td>2021-05-27 08:09:01</td><td>&quot;E 123 St &amp; Lex…</td><td>7636.05</td><td>&quot;1 Ave &amp; E 78 S…</td><td>7020.09</td><td>40.802926</td><td>-73.9379</td><td>40.771404</td><td>-73.953517</td><td>&quot;member&quot;</td><td>0</td><td>2</td></tr></tbody></table></div>"
      ],
      "text/plain": [
       "shape: (5, 15)\n",
       "┌───────────┬────────────┬──────────┬───────────┬───┬──────────┬────────────┬───────────┬──────────┐\n",
       "│ ride_id   ┆ rideable_t ┆ started_ ┆ ended_at  ┆ … ┆ end_lng  ┆ member_cas ┆ ridertype ┆ biketype │\n",
       "│ ---       ┆ ype        ┆ at       ┆ ---       ┆   ┆ ---      ┆ ual        ┆ ---       ┆ ---      │\n",
       "│ str       ┆ ---        ┆ ---      ┆ datetime[ ┆   ┆ f64      ┆ ---        ┆ i32       ┆ i32      │\n",
       "│           ┆ str        ┆ datetime ┆ μs]       ┆   ┆          ┆ str        ┆           ┆          │\n",
       "│           ┆            ┆ [μs]     ┆           ┆   ┆          ┆            ┆           ┆          │\n",
       "╞═══════════╪════════════╪══════════╪═══════════╪═══╪══════════╪════════════╪═══════════╪══════════╡\n",
       "│ 26A3DC47F ┆ docked_bik ┆ 2021-05- ┆ 2021-05-1 ┆ … ┆ -73.9836 ┆ member     ┆ 0         ┆ 2        │\n",
       "│ E0EA3A3   ┆ e          ┆ 13       ┆ 3         ┆   ┆ 88       ┆            ┆           ┆          │\n",
       "│           ┆            ┆ 12:48:08 ┆ 13:07:37  ┆   ┆          ┆            ┆           ┆          │\n",
       "│ A99F2E1D6 ┆ docked_bik ┆ 2021-05- ┆ 2021-05-1 ┆ … ┆ -73.9398 ┆ member     ┆ 0         ┆ 2        │\n",
       "│ 27B088F   ┆ e          ┆ 16       ┆ 6         ┆   ┆ 63       ┆            ┆           ┆          │\n",
       "│           ┆            ┆ 08:30:13 ┆ 08:45:47  ┆   ┆          ┆            ┆           ┆          │\n",
       "│ 43E79A459 ┆ docked_bik ┆ 2021-05- ┆ 2021-05-0 ┆ … ┆ -73.9398 ┆ member     ┆ 0         ┆ 2        │\n",
       "│ 97B7390   ┆ e          ┆ 01       ┆ 1         ┆   ┆ 63       ┆            ┆           ┆          │\n",
       "│           ┆            ┆ 08:38:14 ┆ 08:54:27  ┆   ┆          ┆            ┆           ┆          │\n",
       "│ 8B3CC649F ┆ docked_bik ┆ 2021-05- ┆ 2021-05-0 ┆ … ┆ -73.9398 ┆ member     ┆ 0         ┆ 2        │\n",
       "│ 4F58816   ┆ e          ┆ 09       ┆ 9         ┆   ┆ 63       ┆            ┆           ┆          │\n",
       "│           ┆            ┆ 08:12:31 ┆ 08:27:05  ┆   ┆          ┆            ┆           ┆          │\n",
       "│ 7101C98F0 ┆ docked_bik ┆ 2021-05- ┆ 2021-05-2 ┆ … ┆ -73.9535 ┆ member     ┆ 0         ┆ 2        │\n",
       "│ 57486F4   ┆ e          ┆ 27       ┆ 7         ┆   ┆ 17       ┆            ┆           ┆          │\n",
       "│           ┆            ┆ 07:52:27 ┆ 08:09:01  ┆   ┆          ┆            ┆           ┆          │\n",
       "└───────────┴────────────┴──────────┴───────────┴───┴──────────┴────────────┴───────────┴──────────┘"
      ]
     },
     "execution_count": 52,
     "metadata": {},
     "output_type": "execute_result"
    }
   ],
   "source": [
    "group1_pl_intermediate=\\\n",
    "group1_pl_intermediate.with_columns(\n",
    "        pl.when(pl.col('rideable_type') == 'classic_bike')\n",
    "        .then(pl.lit(0))\n",
    "        .when(pl.col('rideable_type') == 'electric_bike')\n",
    "        .then(pl.lit(1))\n",
    "        .otherwise(pl.lit(2))\n",
    "        .alias('biketype')\n",
    ")\n",
    "\n",
    "group1_pl_intermediate.head()"
   ]
  },
  {
   "cell_type": "code",
   "execution_count": 53,
   "id": "3fc628ac-236c-4736-9ea9-4f59fba796e5",
   "metadata": {},
   "outputs": [
    {
     "data": {
      "text/html": [
       "<div><style>\n",
       ".dataframe > thead > tr > th,\n",
       ".dataframe > tbody > tr > td {\n",
       "  text-align: right;\n",
       "}\n",
       "</style>\n",
       "<small>shape: (3, 2)</small><table border=\"1\" class=\"dataframe\"><thead><tr><th>biketype</th><th>counts</th></tr><tr><td>i32</td><td>u32</td></tr></thead><tbody><tr><td>0</td><td>34010263</td></tr><tr><td>1</td><td>13092408</td></tr><tr><td>2</td><td>8697414</td></tr></tbody></table></div>"
      ],
      "text/plain": [
       "shape: (3, 2)\n",
       "┌──────────┬──────────┐\n",
       "│ biketype ┆ counts   │\n",
       "│ ---      ┆ ---      │\n",
       "│ i32      ┆ u32      │\n",
       "╞══════════╪══════════╡\n",
       "│ 0        ┆ 34010263 │\n",
       "│ 1        ┆ 13092408 │\n",
       "│ 2        ┆ 8697414  │\n",
       "└──────────┴──────────┘"
      ]
     },
     "execution_count": 53,
     "metadata": {},
     "output_type": "execute_result"
    }
   ],
   "source": [
    "# sanity check on the column that was just created\n",
    "group1_pl_intermediate['biketype'].value_counts().sort('counts',descending=True)"
   ]
  },
  {
   "cell_type": "markdown",
   "id": "d15454ca-988e-46f8-b9b0-6dae9fefe6d2",
   "metadata": {},
   "source": [
    "So far so good. Now to finalize the `ride` table."
   ]
  },
  {
   "cell_type": "code",
   "execution_count": 54,
   "id": "9dd51911-05bf-41cd-9906-2681764c7af1",
   "metadata": {},
   "outputs": [
    {
     "data": {
      "text/html": [
       "<div><style>\n",
       ".dataframe > thead > tr > th,\n",
       ".dataframe > tbody > tr > td {\n",
       "  text-align: right;\n",
       "}\n",
       "</style>\n",
       "<small>shape: (5, 7)</small><table border=\"1\" class=\"dataframe\"><thead><tr><th>ride_id</th><th>started_at</th><th>ended_at</th><th>start_station_id</th><th>end_station_id</th><th>ridertype</th><th>biketype</th></tr><tr><td>str</td><td>datetime[μs]</td><td>datetime[μs]</td><td>f64</td><td>f64</td><td>i32</td><td>i32</td></tr></thead><tbody><tr><td>&quot;26A3DC47FE0EA3…</td><td>2021-05-13 12:48:08</td><td>2021-05-13 13:07:37</td><td>6173.08</td><td>5515.02</td><td>0</td><td>2</td></tr><tr><td>&quot;A99F2E1D627B08…</td><td>2021-05-16 08:30:13</td><td>2021-05-16 08:45:47</td><td>6286.02</td><td>6873.01</td><td>0</td><td>2</td></tr><tr><td>&quot;43E79A45997B73…</td><td>2021-05-01 08:38:14</td><td>2021-05-01 08:54:27</td><td>6286.02</td><td>6873.01</td><td>0</td><td>2</td></tr><tr><td>&quot;8B3CC649F4F588…</td><td>2021-05-09 08:12:31</td><td>2021-05-09 08:27:05</td><td>6286.02</td><td>6873.01</td><td>0</td><td>2</td></tr><tr><td>&quot;7101C98F057486…</td><td>2021-05-27 07:52:27</td><td>2021-05-27 08:09:01</td><td>7636.05</td><td>7020.09</td><td>0</td><td>2</td></tr></tbody></table></div>"
      ],
      "text/plain": [
       "shape: (5, 7)\n",
       "┌───────────────┬──────────────┬──────────────┬──────────────┬──────────────┬───────────┬──────────┐\n",
       "│ ride_id       ┆ started_at   ┆ ended_at     ┆ start_statio ┆ end_station_ ┆ ridertype ┆ biketype │\n",
       "│ ---           ┆ ---          ┆ ---          ┆ n_id         ┆ id           ┆ ---       ┆ ---      │\n",
       "│ str           ┆ datetime[μs] ┆ datetime[μs] ┆ ---          ┆ ---          ┆ i32       ┆ i32      │\n",
       "│               ┆              ┆              ┆ f64          ┆ f64          ┆           ┆          │\n",
       "╞═══════════════╪══════════════╪══════════════╪══════════════╪══════════════╪═══════════╪══════════╡\n",
       "│ 26A3DC47FE0EA ┆ 2021-05-13   ┆ 2021-05-13   ┆ 6173.08      ┆ 5515.02      ┆ 0         ┆ 2        │\n",
       "│ 3A3           ┆ 12:48:08     ┆ 13:07:37     ┆              ┆              ┆           ┆          │\n",
       "│ A99F2E1D627B0 ┆ 2021-05-16   ┆ 2021-05-16   ┆ 6286.02      ┆ 6873.01      ┆ 0         ┆ 2        │\n",
       "│ 88F           ┆ 08:30:13     ┆ 08:45:47     ┆              ┆              ┆           ┆          │\n",
       "│ 43E79A45997B7 ┆ 2021-05-01   ┆ 2021-05-01   ┆ 6286.02      ┆ 6873.01      ┆ 0         ┆ 2        │\n",
       "│ 390           ┆ 08:38:14     ┆ 08:54:27     ┆              ┆              ┆           ┆          │\n",
       "│ 8B3CC649F4F58 ┆ 2021-05-09   ┆ 2021-05-09   ┆ 6286.02      ┆ 6873.01      ┆ 0         ┆ 2        │\n",
       "│ 816           ┆ 08:12:31     ┆ 08:27:05     ┆              ┆              ┆           ┆          │\n",
       "│ 7101C98F05748 ┆ 2021-05-27   ┆ 2021-05-27   ┆ 7636.05      ┆ 7020.09      ┆ 0         ┆ 2        │\n",
       "│ 6F4           ┆ 07:52:27     ┆ 08:09:01     ┆              ┆              ┆           ┆          │\n",
       "└───────────────┴──────────────┴──────────────┴──────────────┴──────────────┴───────────┴──────────┘"
      ]
     },
     "execution_count": 54,
     "metadata": {},
     "output_type": "execute_result"
    }
   ],
   "source": [
    "group1_pl_ridenorm=group1_pl_intermediate.select(pl.col('*').exclude(\\\n",
    "'rideable_type',\n",
    "'member_casual',\n",
    "'start_station_name',\n",
    "'end_station_name',\n",
    "'start_lat',\n",
    "'end_lat',\n",
    "'start_lng',\n",
    "'end_lng'))\n",
    "\n",
    "group1_pl_ridenorm.head()"
   ]
  },
  {
   "cell_type": "code",
   "execution_count": 55,
   "id": "bb4429e5-32f2-45b4-8caa-e116fed9fe9c",
   "metadata": {},
   "outputs": [
    {
     "data": {
      "text/html": [
       "<div><style>\n",
       ".dataframe > thead > tr > th,\n",
       ".dataframe > tbody > tr > td {\n",
       "  text-align: right;\n",
       "}\n",
       "</style>\n",
       "<small>shape: (3, 2)</small><table border=\"1\" class=\"dataframe\"><thead><tr><th>biketype</th><th>counts</th></tr><tr><td>i32</td><td>u32</td></tr></thead><tbody><tr><td>0</td><td>34010263</td></tr><tr><td>1</td><td>13092408</td></tr><tr><td>2</td><td>8697414</td></tr></tbody></table></div>"
      ],
      "text/plain": [
       "shape: (3, 2)\n",
       "┌──────────┬──────────┐\n",
       "│ biketype ┆ counts   │\n",
       "│ ---      ┆ ---      │\n",
       "│ i32      ┆ u32      │\n",
       "╞══════════╪══════════╡\n",
       "│ 0        ┆ 34010263 │\n",
       "│ 1        ┆ 13092408 │\n",
       "│ 2        ┆ 8697414  │\n",
       "└──────────┴──────────┘"
      ]
     },
     "execution_count": 55,
     "metadata": {},
     "output_type": "execute_result"
    }
   ],
   "source": [
    "# sanity check on the table that was just created\n",
    "group1_pl_ridenorm['biketype'].value_counts().sort('counts',descending=True)"
   ]
  },
  {
   "cell_type": "markdown",
   "id": "cd4e06e5-b8c4-4f9d-b628-13758cd07f4a",
   "metadata": {},
   "source": [
    "### Station table:"
   ]
  },
  {
   "cell_type": "code",
   "execution_count": 56,
   "id": "b563a416-ce3b-4e77-9190-82ddc901b396",
   "metadata": {},
   "outputs": [
    {
     "data": {
      "text/html": [
       "<div><style>\n",
       ".dataframe > thead > tr > th,\n",
       ".dataframe > tbody > tr > td {\n",
       "  text-align: right;\n",
       "}\n",
       "</style>\n",
       "<small>shape: (5, 4)</small><table border=\"1\" class=\"dataframe\"><thead><tr><th>start_station_name</th><th>start_station_id</th><th>start_lat</th><th>start_lng</th></tr><tr><td>str</td><td>f64</td><td>f64</td><td>f64</td></tr></thead><tbody><tr><td>&quot;Broadway &amp; W 2…</td><td>6173.08</td><td>40.742868</td><td>-73.989186</td></tr><tr><td>&quot;46 Ave &amp; 5 St&quot;</td><td>6286.02</td><td>40.74731</td><td>-73.95451</td></tr><tr><td>&quot;46 Ave &amp; 5 St&quot;</td><td>6286.02</td><td>40.74731</td><td>-73.95451</td></tr><tr><td>&quot;46 Ave &amp; 5 St&quot;</td><td>6286.02</td><td>40.74731</td><td>-73.95451</td></tr><tr><td>&quot;E 123 St &amp; Lex…</td><td>7636.05</td><td>40.802926</td><td>-73.9379</td></tr></tbody></table></div>"
      ],
      "text/plain": [
       "shape: (5, 4)\n",
       "┌──────────────────────────┬──────────────────┬───────────┬────────────┐\n",
       "│ start_station_name       ┆ start_station_id ┆ start_lat ┆ start_lng  │\n",
       "│ ---                      ┆ ---              ┆ ---       ┆ ---        │\n",
       "│ str                      ┆ f64              ┆ f64       ┆ f64        │\n",
       "╞══════════════════════════╪══════════════════╪═══════════╪════════════╡\n",
       "│ Broadway & W 25 St       ┆ 6173.08          ┆ 40.742868 ┆ -73.989186 │\n",
       "│ 46 Ave & 5 St            ┆ 6286.02          ┆ 40.74731  ┆ -73.95451  │\n",
       "│ 46 Ave & 5 St            ┆ 6286.02          ┆ 40.74731  ┆ -73.95451  │\n",
       "│ 46 Ave & 5 St            ┆ 6286.02          ┆ 40.74731  ┆ -73.95451  │\n",
       "│ E 123 St & Lexington Ave ┆ 7636.05          ┆ 40.802926 ┆ -73.9379   │\n",
       "└──────────────────────────┴──────────────────┴───────────┴────────────┘"
      ]
     },
     "execution_count": 56,
     "metadata": {},
     "output_type": "execute_result"
    }
   ],
   "source": [
    "group1_pl_stationnorm=group1_pl.\\\n",
    "select(pl.col('*')\\\n",
    "       .exclude('ride_id',\n",
    "                'rideable_type',\n",
    "                'started_at',\n",
    "                'ended_at',\n",
    "                'member_casual',\n",
    "                'end_station_name',\n",
    "                'end_station_id',\n",
    "                'end_lat',\n",
    "                'end_lng'\n",
    "               ))\n",
    "\n",
    "group1_pl_stationnorm.head()"
   ]
  },
  {
   "cell_type": "markdown",
   "id": "1b109ac7-db6c-4800-a192-d19dfc25b178",
   "metadata": {},
   "source": [
    "I want to check to make sure that all the `station_id` are accounted for in the `start_station_id` column:"
   ]
  },
  {
   "cell_type": "code",
   "execution_count": 58,
   "id": "03c5c28d-a617-44b2-861d-0541e0141cda",
   "metadata": {},
   "outputs": [
    {
     "name": "stdout",
     "output_type": "stream",
     "text": [
      "True\n"
     ]
    }
   ],
   "source": [
    "# check if all values in column_a are represented in column_b\n",
    "all_values_included = (group1_pl['start_station_id'].is_in(group1_pl['end_station_id'])).all()\n",
    "\n",
    "# print the result\n",
    "print(all_values_included)"
   ]
  },
  {
   "cell_type": "markdown",
   "id": "a5fa29a2-7937-4fee-b9e4-010449c60580",
   "metadata": {},
   "source": [
    "## Convert the `polars` tables into a form that will make it easy to convert to `MySQL`.\n",
    "\n",
    "This is because the size of the tables warrants compression."
   ]
  },
  {
   "cell_type": "markdown",
   "id": "4085609c-3782-4655-91eb-911d9469a207",
   "metadata": {},
   "source": [
    "Save the following tables. \n",
    "* `group1_pl_ridenorm`\n",
    "* `group1_pl_stationnorm`\n",
    "\n",
    "They are currently in a `polars` data type:"
   ]
  },
  {
   "cell_type": "code",
   "execution_count": 14,
   "id": "e43ba987-d835-443e-b090-8d37bfb7e803",
   "metadata": {},
   "outputs": [
    {
     "data": {
      "text/plain": [
       "polars.dataframe.frame.DataFrame"
      ]
     },
     "execution_count": 14,
     "metadata": {},
     "output_type": "execute_result"
    }
   ],
   "source": [
    "type(group1_pl_ridenorm)"
   ]
  },
  {
   "cell_type": "markdown",
   "id": "b92a7f97-c7f5-4cc6-aa35-14cf8e6f91ee",
   "metadata": {},
   "source": [
    "We will convert the `polars` dataframe to a `parquet` dataframe before sending to `MySQL`:"
   ]
  },
  {
   "cell_type": "code",
   "execution_count": 59,
   "id": "4f0b5bc8-f30e-4b96-92cf-d5a7f7e39315",
   "metadata": {},
   "outputs": [],
   "source": [
    "path_to_group1_pl_ridenorm_parquet=\\\n",
    "'/Users/sra/files/projects/citibike_project/combined/group1_combined/group1_pl_ridenorm.parquet'\n",
    "\n",
    "if not os.path.exists(path_to_group1_pl_ridenorm_parquet):\n",
    "    group1_pl_ridenorm.write_parquet(path_to_group1_pl_ridenorm_parquet)"
   ]
  },
  {
   "cell_type": "code",
   "execution_count": 60,
   "id": "c0fa0190-b716-4a63-ba76-065717ffe7b7",
   "metadata": {},
   "outputs": [],
   "source": [
    "path_to_group1_pl_stationnorm_parquet=\\\n",
    "'/Users/sra/files/projects/citibike_project/combined/group1_combined/group1_pl_stationnorm.parquet'\n",
    "\n",
    "if not os.path.exists(path_to_group1_pl_stationnorm_parquet):\n",
    "    group1_pl_stationnorm.write_parquet(path_to_group1_pl_stationnorm_parquet)"
   ]
  },
  {
   "cell_type": "markdown",
   "id": "1a4d7940-3c80-4123-a30c-6d0812e88050",
   "metadata": {},
   "source": [
    "Now we can proceed to create the `SQL` tables for **group1**!"
   ]
  },
  {
   "cell_type": "markdown",
   "id": "c0f83e6b-3b1f-474e-a454-9c0d6ba78209",
   "metadata": {},
   "source": [
    "# `group2`"
   ]
  },
  {
   "cell_type": "code",
   "execution_count": 71,
   "id": "c3b79d0c-102f-4ae4-a676-18f8551fb9e2",
   "metadata": {
    "tags": []
   },
   "outputs": [],
   "source": [
    "from pathlib import Path\n",
    "\n",
    "import pandas as pd\n",
    "import numpy as np\n",
    "\n",
    "import polars as pl"
   ]
  },
  {
   "cell_type": "code",
   "execution_count": 3,
   "id": "a6bafd54-129b-48ea-b781-3cab94188caa",
   "metadata": {
    "tags": []
   },
   "outputs": [],
   "source": [
    "group2_full_location=Path('/Users/sra/files/projects/citibike_project/combined/group2_pl_full.parquet')\n",
    "\n",
    "group2=pl.read_parquet(group2_full_location)"
   ]
  },
  {
   "cell_type": "code",
   "execution_count": 14,
   "id": "b81a6286-3efc-41a3-86fb-3c2e08f4c5ba",
   "metadata": {},
   "outputs": [
    {
     "data": {
      "text/plain": [
       "(225093064, 15)"
      ]
     },
     "execution_count": 14,
     "metadata": {},
     "output_type": "execute_result"
    }
   ],
   "source": [
    "group2.shape"
   ]
  },
  {
   "cell_type": "code",
   "execution_count": 4,
   "id": "2f5991ef-aab8-47f2-be80-894846271337",
   "metadata": {
    "tags": []
   },
   "outputs": [
    {
     "data": {
      "text/html": [
       "<div><style>\n",
       ".dataframe > thead > tr > th,\n",
       ".dataframe > tbody > tr > td {\n",
       "  text-align: right;\n",
       "}\n",
       "</style>\n",
       "<small>shape: (10, 15)</small><table border=\"1\" class=\"dataframe\"><thead><tr><th>trip_duration</th><th>started_at</th><th>ended_at</th><th>start_station_id</th><th>start_station_name</th><th>start_lat</th><th>start_lng</th><th>end_station_id</th><th>end_station_name</th><th>end_lat</th><th>end_lng</th><th>bike_id</th><th>user_type</th><th>birth_year</th><th>gender</th></tr><tr><td>f64</td><td>datetime[μs]</td><td>datetime[μs]</td><td>f64</td><td>str</td><td>f64</td><td>f64</td><td>f64</td><td>str</td><td>f64</td><td>f64</td><td>f64</td><td>str</td><td>f64</td><td>f64</td></tr></thead><tbody><tr><td>565.0</td><td>null</td><td>null</td><td>363.0</td><td>&quot;West Thames St…</td><td>40.708347</td><td>-74.017134</td><td>368.0</td><td>&quot;Carmine St &amp; 6…</td><td>40.730386</td><td>-74.00215</td><td>21521.0</td><td>&quot;Subscriber&quot;</td><td>1989.0</td><td>1.0</td></tr><tr><td>375.0</td><td>2017-07-02 01:24:25</td><td>2017-07-02 01:30:41</td><td>369.0</td><td>&quot;Washington Pl …</td><td>40.732241</td><td>-74.000264</td><td>3263.0</td><td>&quot;Cooper Square …</td><td>40.729236</td><td>-73.990868</td><td>28357.0</td><td>&quot;Subscriber&quot;</td><td>1977.0</td><td>1.0</td></tr><tr><td>2199.0</td><td>null</td><td>null</td><td>368.0</td><td>&quot;Carmine St &amp; 6…</td><td>40.730386</td><td>-74.00215</td><td>369.0</td><td>&quot;Washington Pl …</td><td>40.732241</td><td>-74.000264</td><td>43582.0</td><td>&quot;Subscriber&quot;</td><td>1986.0</td><td>1.0</td></tr><tr><td>869.0</td><td>null</td><td>null</td><td>164.0</td><td>&quot;E 47 St &amp; 2 Av…</td><td>40.753231</td><td>-73.970325</td><td>251.0</td><td>&quot;Mott St &amp; Prin…</td><td>40.72318</td><td>-73.9948</td><td>26899.0</td><td>&quot;Subscriber&quot;</td><td>1984.0</td><td>1.0</td></tr><tr><td>2834.0</td><td>null</td><td>null</td><td>281.0</td><td>&quot;Grand Army Pla…</td><td>40.764397</td><td>-73.973715</td><td>2006.0</td><td>&quot;Central Park S…</td><td>40.765909</td><td>-73.976342</td><td>17351.0</td><td>&quot;Customer&quot;</td><td>null</td><td>0.0</td></tr><tr><td>697.0</td><td>null</td><td>null</td><td>357.0</td><td>&quot;E 11 St &amp; Broa…</td><td>40.732618</td><td>-73.99158</td><td>402.0</td><td>&quot;Broadway &amp; E 2…</td><td>40.740343</td><td>-73.989551</td><td>32683.0</td><td>&quot;Subscriber&quot;</td><td>1972.0</td><td>2.0</td></tr><tr><td>319.0</td><td>null</td><td>null</td><td>259.0</td><td>&quot;South St &amp; Whi…</td><td>40.701221</td><td>-74.012342</td><td>279.0</td><td>&quot;Peck Slip &amp; Fr…</td><td>40.707873</td><td>-74.00167</td><td>18590.0</td><td>&quot;Subscriber&quot;</td><td>1977.0</td><td>1.0</td></tr><tr><td>516.0</td><td>null</td><td>null</td><td>195.0</td><td>&quot;Liberty St &amp; B…</td><td>40.709056</td><td>-74.010434</td><td>377.0</td><td>&quot;6 Ave &amp; Canal …</td><td>40.722438</td><td>-74.005664</td><td>31783.0</td><td>&quot;Subscriber&quot;</td><td>1975.0</td><td>1.0</td></tr><tr><td>619.0</td><td>2017-07-06 15:21:52</td><td>2017-07-06 15:32:11</td><td>479.0</td><td>&quot;9 Ave &amp; W 45 S…</td><td>40.760193</td><td>-73.991255</td><td>3255.0</td><td>&quot;8 Ave &amp; W 31 S…</td><td>40.750585</td><td>-73.994685</td><td>14816.0</td><td>&quot;Customer&quot;</td><td>null</td><td>0.0</td></tr><tr><td>649.0</td><td>null</td><td>null</td><td>494.0</td><td>&quot;W 26 St &amp; 8 Av…</td><td>40.747348</td><td>-73.997236</td><td>503.0</td><td>&quot;E 20 St &amp; Park…</td><td>40.738274</td><td>-73.98752</td><td>39822.0</td><td>&quot;Subscriber&quot;</td><td>1964.0</td><td>2.0</td></tr></tbody></table></div>"
      ],
      "text/plain": [
       "shape: (10, 15)\n",
       "┌────────────┬──────────┬────────────┬────────────┬───┬─────────┬────────────┬────────────┬────────┐\n",
       "│ trip_durat ┆ started_ ┆ ended_at   ┆ start_stat ┆ … ┆ bike_id ┆ user_type  ┆ birth_year ┆ gender │\n",
       "│ ion        ┆ at       ┆ ---        ┆ ion_id     ┆   ┆ ---     ┆ ---        ┆ ---        ┆ ---    │\n",
       "│ ---        ┆ ---      ┆ datetime[μ ┆ ---        ┆   ┆ f64     ┆ str        ┆ f64        ┆ f64    │\n",
       "│ f64        ┆ datetime ┆ s]         ┆ f64        ┆   ┆         ┆            ┆            ┆        │\n",
       "│            ┆ [μs]     ┆            ┆            ┆   ┆         ┆            ┆            ┆        │\n",
       "╞════════════╪══════════╪════════════╪════════════╪═══╪═════════╪════════════╪════════════╪════════╡\n",
       "│ 565.0      ┆ null     ┆ null       ┆ 363.0      ┆ … ┆ 21521.0 ┆ Subscriber ┆ 1989.0     ┆ 1.0    │\n",
       "│ 375.0      ┆ 2017-07- ┆ 2017-07-02 ┆ 369.0      ┆ … ┆ 28357.0 ┆ Subscriber ┆ 1977.0     ┆ 1.0    │\n",
       "│            ┆ 02       ┆ 01:30:41   ┆            ┆   ┆         ┆            ┆            ┆        │\n",
       "│            ┆ 01:24:25 ┆            ┆            ┆   ┆         ┆            ┆            ┆        │\n",
       "│ 2199.0     ┆ null     ┆ null       ┆ 368.0      ┆ … ┆ 43582.0 ┆ Subscriber ┆ 1986.0     ┆ 1.0    │\n",
       "│ 869.0      ┆ null     ┆ null       ┆ 164.0      ┆ … ┆ 26899.0 ┆ Subscriber ┆ 1984.0     ┆ 1.0    │\n",
       "│ …          ┆ …        ┆ …          ┆ …          ┆ … ┆ …       ┆ …          ┆ …          ┆ …      │\n",
       "│ 319.0      ┆ null     ┆ null       ┆ 259.0      ┆ … ┆ 18590.0 ┆ Subscriber ┆ 1977.0     ┆ 1.0    │\n",
       "│ 516.0      ┆ null     ┆ null       ┆ 195.0      ┆ … ┆ 31783.0 ┆ Subscriber ┆ 1975.0     ┆ 1.0    │\n",
       "│ 619.0      ┆ 2017-07- ┆ 2017-07-06 ┆ 479.0      ┆ … ┆ 14816.0 ┆ Customer   ┆ null       ┆ 0.0    │\n",
       "│            ┆ 06       ┆ 15:32:11   ┆            ┆   ┆         ┆            ┆            ┆        │\n",
       "│            ┆ 15:21:52 ┆            ┆            ┆   ┆         ┆            ┆            ┆        │\n",
       "│ 649.0      ┆ null     ┆ null       ┆ 494.0      ┆ … ┆ 39822.0 ┆ Subscriber ┆ 1964.0     ┆ 2.0    │\n",
       "└────────────┴──────────┴────────────┴────────────┴───┴─────────┴────────────┴────────────┴────────┘"
      ]
     },
     "execution_count": 4,
     "metadata": {},
     "output_type": "execute_result"
    }
   ],
   "source": [
    "group2.sample(n=10)"
   ]
  },
  {
   "cell_type": "code",
   "execution_count": 5,
   "id": "fd46df81-3066-4329-a7ce-f3d307890811",
   "metadata": {},
   "outputs": [
    {
     "data": {
      "text/html": [
       "<div><style>\n",
       ".dataframe > thead > tr > th,\n",
       ".dataframe > tbody > tr > td {\n",
       "  text-align: right;\n",
       "}\n",
       "</style>\n",
       "<small>shape: (10, 2)</small><table border=\"1\" class=\"dataframe\"><thead><tr><th>start_station_name</th><th>count</th></tr><tr><td>str</td><td>u32</td></tr></thead><tbody><tr><td>null</td><td>11663330</td></tr><tr><td>&quot;Pershing Squar…</td><td>1543232</td></tr><tr><td>&quot;E 17 St &amp; Broa…</td><td>1438584</td></tr><tr><td>&quot;W 21 St &amp; 6 Av…</td><td>1383136</td></tr><tr><td>&quot;West St &amp; Cham…</td><td>1327624</td></tr><tr><td>&quot;8 Ave &amp; W 31 S…</td><td>1274724</td></tr><tr><td>&quot;Broadway &amp; E 2…</td><td>1271352</td></tr><tr><td>&quot;Broadway &amp; E 1…</td><td>1207014</td></tr><tr><td>&quot;Lafayette St &amp;…</td><td>1176504</td></tr><tr><td>&quot;8 Ave &amp; W 33 S…</td><td>1112210</td></tr></tbody></table></div>"
      ],
      "text/plain": [
       "shape: (10, 2)\n",
       "┌───────────────────────┬──────────┐\n",
       "│ start_station_name    ┆ count    │\n",
       "│ ---                   ┆ ---      │\n",
       "│ str                   ┆ u32      │\n",
       "╞═══════════════════════╪══════════╡\n",
       "│ null                  ┆ 11663330 │\n",
       "│ Pershing Square North ┆ 1543232  │\n",
       "│ E 17 St & Broadway    ┆ 1438584  │\n",
       "│ W 21 St & 6 Ave       ┆ 1383136  │\n",
       "│ …                     ┆ …        │\n",
       "│ Broadway & E 22 St    ┆ 1271352  │\n",
       "│ Broadway & E 14 St    ┆ 1207014  │\n",
       "│ Lafayette St & E 8 St ┆ 1176504  │\n",
       "│ 8 Ave & W 33 St       ┆ 1112210  │\n",
       "└───────────────────────┴──────────┘"
      ]
     },
     "execution_count": 5,
     "metadata": {},
     "output_type": "execute_result"
    }
   ],
   "source": [
    "group2.groupby('start_station_name').count()\\\n",
    ".sort('count',descending=True).head(10)"
   ]
  },
  {
   "cell_type": "markdown",
   "id": "630054c3-54fc-486b-b0f0-d2a1a57c6e7d",
   "metadata": {},
   "source": [
    "`filter` to remove any `None` values in the 'started_at' or 'ended_at' columns"
   ]
  },
  {
   "cell_type": "code",
   "execution_count": 6,
   "id": "52e4f70f-9c55-452c-a612-d6e9cd60d4e7",
   "metadata": {
    "tags": []
   },
   "outputs": [
    {
     "data": {
      "text/html": [
       "<div><style>\n",
       ".dataframe > thead > tr > th,\n",
       ".dataframe > tbody > tr > td {\n",
       "  text-align: right;\n",
       "}\n",
       "</style>\n",
       "<small>shape: (10, 15)</small><table border=\"1\" class=\"dataframe\"><thead><tr><th>trip_duration</th><th>started_at</th><th>ended_at</th><th>start_station_id</th><th>start_station_name</th><th>start_lat</th><th>start_lng</th><th>end_station_id</th><th>end_station_name</th><th>end_lat</th><th>end_lng</th><th>bike_id</th><th>user_type</th><th>birth_year</th><th>gender</th></tr><tr><td>f64</td><td>datetime[μs]</td><td>datetime[μs]</td><td>f64</td><td>str</td><td>f64</td><td>f64</td><td>f64</td><td>str</td><td>f64</td><td>f64</td><td>f64</td><td>str</td><td>f64</td><td>f64</td></tr></thead><tbody><tr><td>668.0</td><td>2017-11-17 13:56:40</td><td>2017-11-17 14:07:49</td><td>527.0</td><td>&quot;E 33 St &amp; 2 Av…</td><td>40.744023</td><td>-73.976056</td><td>477.0</td><td>&quot;W 41 St &amp; 8 Av…</td><td>40.756405</td><td>-73.990026</td><td>17858.0</td><td>&quot;Subscriber&quot;</td><td>1989.0</td><td>1.0</td></tr><tr><td>695.0</td><td>2017-09-29 16:16:08</td><td>2017-09-29 16:27:43</td><td>270.0</td><td>&quot;Adelphi St &amp; M…</td><td>40.693083</td><td>-73.971789</td><td>3415.0</td><td>&quot;Prospect Pl &amp; …</td><td>40.679331</td><td>-73.975195</td><td>31468.0</td><td>&quot;Subscriber&quot;</td><td>1987.0</td><td>2.0</td></tr><tr><td>1600.0</td><td>2017-06-13 22:36:22</td><td>2017-06-13 23:03:02</td><td>3142.0</td><td>&quot;1 Ave &amp; E 62 S…</td><td>40.761227</td><td>-73.96094</td><td>446.0</td><td>&quot;W 24 St &amp; 7 Av…</td><td>40.744876</td><td>-73.995299</td><td>28520.0</td><td>&quot;Subscriber&quot;</td><td>1970.0</td><td>2.0</td></tr><tr><td>579.0</td><td>2017-12-07 18:46:29</td><td>2017-12-07 18:56:09</td><td>528.0</td><td>&quot;2 Ave &amp; E 31 S…</td><td>40.742909</td><td>-73.977061</td><td>435.0</td><td>&quot;W 21 St &amp; 6 Av…</td><td>40.74174</td><td>-73.994156</td><td>32026.0</td><td>&quot;Subscriber&quot;</td><td>1991.0</td><td>1.0</td></tr><tr><td>371.0</td><td>2017-09-05 09:08:28</td><td>2017-09-05 09:14:39</td><td>498.0</td><td>&quot;Broadway &amp; W 3…</td><td>40.748549</td><td>-73.988084</td><td>536.0</td><td>&quot;1 Ave &amp; E 30 S…</td><td>40.741444</td><td>-73.975361</td><td>15231.0</td><td>&quot;Subscriber&quot;</td><td>1988.0</td><td>1.0</td></tr><tr><td>265.0</td><td>2017-10-30 09:01:07</td><td>2017-10-30 09:05:32</td><td>3580.0</td><td>&quot;St Johns Pl &amp; …</td><td>40.673724</td><td>-73.963161</td><td>3576.0</td><td>&quot;Park Pl &amp; Vand…</td><td>40.6767</td><td>-73.969024</td><td>21422.0</td><td>&quot;Subscriber&quot;</td><td>1986.0</td><td>2.0</td></tr><tr><td>365.0</td><td>2017-06-12 08:05:13</td><td>2017-06-12 08:11:18</td><td>442.0</td><td>&quot;W 27 St &amp; 7 Av…</td><td>40.746647</td><td>-73.993915</td><td>402.0</td><td>&quot;Broadway &amp; E 2…</td><td>40.740343</td><td>-73.989551</td><td>27758.0</td><td>&quot;Subscriber&quot;</td><td>1961.0</td><td>1.0</td></tr><tr><td>284.0</td><td>2017-06-08 08:45:02</td><td>2017-06-08 08:49:47</td><td>3088.0</td><td>&quot;Union Ave &amp; Ja…</td><td>40.716075</td><td>-73.952029</td><td>3016.0</td><td>&quot;Kent Ave &amp; N 7…</td><td>40.720368</td><td>-73.961651</td><td>28349.0</td><td>&quot;Subscriber&quot;</td><td>1984.0</td><td>1.0</td></tr><tr><td>212.0</td><td>2017-07-15 12:35:25</td><td>2017-07-15 12:38:58</td><td>3159.0</td><td>&quot;W 67 St &amp; Broa…</td><td>40.774925</td><td>-73.982666</td><td>3173.0</td><td>&quot;Riverside Blvd…</td><td>40.777507</td><td>-73.988886</td><td>18722.0</td><td>&quot;Subscriber&quot;</td><td>1987.0</td><td>2.0</td></tr><tr><td>1339.0</td><td>2015-11-07 11:32:38</td><td>2015-11-07 11:54:58</td><td>274.0</td><td>&quot;Lafayette Ave …</td><td>40.686919</td><td>-73.976682</td><td>217.0</td><td>&quot;Old Fulton St&quot;</td><td>40.702772</td><td>-73.993836</td><td>17921.0</td><td>&quot;Customer&quot;</td><td>null</td><td>0.0</td></tr></tbody></table></div>"
      ],
      "text/plain": [
       "shape: (10, 15)\n",
       "┌────────────┬──────────┬────────────┬────────────┬───┬─────────┬────────────┬────────────┬────────┐\n",
       "│ trip_durat ┆ started_ ┆ ended_at   ┆ start_stat ┆ … ┆ bike_id ┆ user_type  ┆ birth_year ┆ gender │\n",
       "│ ion        ┆ at       ┆ ---        ┆ ion_id     ┆   ┆ ---     ┆ ---        ┆ ---        ┆ ---    │\n",
       "│ ---        ┆ ---      ┆ datetime[μ ┆ ---        ┆   ┆ f64     ┆ str        ┆ f64        ┆ f64    │\n",
       "│ f64        ┆ datetime ┆ s]         ┆ f64        ┆   ┆         ┆            ┆            ┆        │\n",
       "│            ┆ [μs]     ┆            ┆            ┆   ┆         ┆            ┆            ┆        │\n",
       "╞════════════╪══════════╪════════════╪════════════╪═══╪═════════╪════════════╪════════════╪════════╡\n",
       "│ 668.0      ┆ 2017-11- ┆ 2017-11-17 ┆ 527.0      ┆ … ┆ 17858.0 ┆ Subscriber ┆ 1989.0     ┆ 1.0    │\n",
       "│            ┆ 17       ┆ 14:07:49   ┆            ┆   ┆         ┆            ┆            ┆        │\n",
       "│            ┆ 13:56:40 ┆            ┆            ┆   ┆         ┆            ┆            ┆        │\n",
       "│ 695.0      ┆ 2017-09- ┆ 2017-09-29 ┆ 270.0      ┆ … ┆ 31468.0 ┆ Subscriber ┆ 1987.0     ┆ 2.0    │\n",
       "│            ┆ 29       ┆ 16:27:43   ┆            ┆   ┆         ┆            ┆            ┆        │\n",
       "│            ┆ 16:16:08 ┆            ┆            ┆   ┆         ┆            ┆            ┆        │\n",
       "│ 1600.0     ┆ 2017-06- ┆ 2017-06-13 ┆ 3142.0     ┆ … ┆ 28520.0 ┆ Subscriber ┆ 1970.0     ┆ 2.0    │\n",
       "│            ┆ 13       ┆ 23:03:02   ┆            ┆   ┆         ┆            ┆            ┆        │\n",
       "│            ┆ 22:36:22 ┆            ┆            ┆   ┆         ┆            ┆            ┆        │\n",
       "│ 579.0      ┆ 2017-12- ┆ 2017-12-07 ┆ 528.0      ┆ … ┆ 32026.0 ┆ Subscriber ┆ 1991.0     ┆ 1.0    │\n",
       "│            ┆ 07       ┆ 18:56:09   ┆            ┆   ┆         ┆            ┆            ┆        │\n",
       "│            ┆ 18:46:29 ┆            ┆            ┆   ┆         ┆            ┆            ┆        │\n",
       "│ …          ┆ …        ┆ …          ┆ …          ┆ … ┆ …       ┆ …          ┆ …          ┆ …      │\n",
       "│ 365.0      ┆ 2017-06- ┆ 2017-06-12 ┆ 442.0      ┆ … ┆ 27758.0 ┆ Subscriber ┆ 1961.0     ┆ 1.0    │\n",
       "│            ┆ 12       ┆ 08:11:18   ┆            ┆   ┆         ┆            ┆            ┆        │\n",
       "│            ┆ 08:05:13 ┆            ┆            ┆   ┆         ┆            ┆            ┆        │\n",
       "│ 284.0      ┆ 2017-06- ┆ 2017-06-08 ┆ 3088.0     ┆ … ┆ 28349.0 ┆ Subscriber ┆ 1984.0     ┆ 1.0    │\n",
       "│            ┆ 08       ┆ 08:49:47   ┆            ┆   ┆         ┆            ┆            ┆        │\n",
       "│            ┆ 08:45:02 ┆            ┆            ┆   ┆         ┆            ┆            ┆        │\n",
       "│ 212.0      ┆ 2017-07- ┆ 2017-07-15 ┆ 3159.0     ┆ … ┆ 18722.0 ┆ Subscriber ┆ 1987.0     ┆ 2.0    │\n",
       "│            ┆ 15       ┆ 12:38:58   ┆            ┆   ┆         ┆            ┆            ┆        │\n",
       "│            ┆ 12:35:25 ┆            ┆            ┆   ┆         ┆            ┆            ┆        │\n",
       "│ 1339.0     ┆ 2015-11- ┆ 2015-11-07 ┆ 274.0      ┆ … ┆ 17921.0 ┆ Customer   ┆ null       ┆ 0.0    │\n",
       "│            ┆ 07       ┆ 11:54:58   ┆            ┆   ┆         ┆            ┆            ┆        │\n",
       "│            ┆ 11:32:38 ┆            ┆            ┆   ┆         ┆            ┆            ┆        │\n",
       "└────────────┴──────────┴────────────┴────────────┴───┴─────────┴────────────┴────────────┴────────┘"
      ]
     },
     "execution_count": 6,
     "metadata": {},
     "output_type": "execute_result"
    }
   ],
   "source": [
    "group2_no_datetime_nulls=group2.filter(pl.col('started_at') != None)\n",
    "group2_no_datetime_nulls=group2_no_datetime_nulls.filter(pl.col('ended_at') != None)\n",
    "group2_no_datetime_nulls.sample(10)"
   ]
  },
  {
   "cell_type": "code",
   "execution_count": 8,
   "id": "55819058-627a-413a-aa2c-95b3029529ad",
   "metadata": {},
   "outputs": [
    {
     "data": {
      "text/plain": [
       "(39306552, 15)"
      ]
     },
     "execution_count": 8,
     "metadata": {},
     "output_type": "execute_result"
    }
   ],
   "source": [
    "group2_no_datetime_nulls.shape"
   ]
  },
  {
   "cell_type": "code",
   "execution_count": 12,
   "id": "9811d0c0-6fb8-463a-a81a-c211ac5a6819",
   "metadata": {},
   "outputs": [
    {
     "data": {
      "text/html": [
       "<div><style>\n",
       ".dataframe > thead > tr > th,\n",
       ".dataframe > tbody > tr > td {\n",
       "  text-align: right;\n",
       "}\n",
       "</style>\n",
       "<small>shape: (1, 15)</small><table border=\"1\" class=\"dataframe\"><thead><tr><th>trip_duration</th><th>started_at</th><th>ended_at</th><th>start_station_id</th><th>start_station_name</th><th>start_lat</th><th>start_lng</th><th>end_station_id</th><th>end_station_name</th><th>end_lat</th><th>end_lng</th><th>bike_id</th><th>user_type</th><th>birth_year</th><th>gender</th></tr><tr><td>u32</td><td>u32</td><td>u32</td><td>u32</td><td>u32</td><td>u32</td><td>u32</td><td>u32</td><td>u32</td><td>u32</td><td>u32</td><td>u32</td><td>u32</td><td>u32</td><td>u32</td></tr></thead><tbody><tr><td>0</td><td>0</td><td>0</td><td>0</td><td>0</td><td>0</td><td>0</td><td>0</td><td>0</td><td>0</td><td>0</td><td>0</td><td>0</td><td>4675892</td><td>0</td></tr></tbody></table></div>"
      ],
      "text/plain": [
       "shape: (1, 15)\n",
       "┌────────────┬────────────┬──────────┬────────────┬───┬─────────┬───────────┬────────────┬────────┐\n",
       "│ trip_durat ┆ started_at ┆ ended_at ┆ start_stat ┆ … ┆ bike_id ┆ user_type ┆ birth_year ┆ gender │\n",
       "│ ion        ┆ ---        ┆ ---      ┆ ion_id     ┆   ┆ ---     ┆ ---       ┆ ---        ┆ ---    │\n",
       "│ ---        ┆ u32        ┆ u32      ┆ ---        ┆   ┆ u32     ┆ u32       ┆ u32        ┆ u32    │\n",
       "│ u32        ┆            ┆          ┆ u32        ┆   ┆         ┆           ┆            ┆        │\n",
       "╞════════════╪════════════╪══════════╪════════════╪═══╪═════════╪═══════════╪════════════╪════════╡\n",
       "│ 0          ┆ 0          ┆ 0        ┆ 0          ┆ … ┆ 0       ┆ 0         ┆ 4675892    ┆ 0      │\n",
       "└────────────┴────────────┴──────────┴────────────┴───┴─────────┴───────────┴────────────┴────────┘"
      ]
     },
     "execution_count": 12,
     "metadata": {},
     "output_type": "execute_result"
    }
   ],
   "source": [
    "group2_no_datetime_nulls.null_count()"
   ]
  },
  {
   "cell_type": "code",
   "execution_count": 48,
   "id": "c4211917-7362-4fec-893d-35723cb4e9a0",
   "metadata": {},
   "outputs": [
    {
     "name": "stdout",
     "output_type": "stream",
     "text": [
      "The percentage of nulls in birth year \n",
      "to total count of rows in the dataset is: 11.9%\n"
     ]
    }
   ],
   "source": [
    "print(f'The percentage of nulls in birth year \\n\\\n",
    "to total count of rows in the dataset is: \\\n",
    "{round((group2_no_datetime_nulls[\"birth_year\"].null_count() / group2_no_datetime_nulls.shape[0])* 100, 2)}%')"
   ]
  },
  {
   "cell_type": "code",
   "execution_count": 30,
   "id": "5a2a52ed-8e51-427d-9e2b-c716d21cd6ef",
   "metadata": {},
   "outputs": [
    {
     "data": {
      "text/html": [
       "<div><style>\n",
       ".dataframe > thead > tr > th,\n",
       ".dataframe > tbody > tr > td {\n",
       "  text-align: right;\n",
       "}\n",
       "</style>\n",
       "<small>shape: (10, 2)</small><table border=\"1\" class=\"dataframe\"><thead><tr><th>birth_year</th><th>count</th></tr><tr><td>f64</td><td>u32</td></tr></thead><tbody><tr><td>2001.0</td><td>10310</td></tr><tr><td>2000.0</td><td>31750</td></tr><tr><td>1999.0</td><td>61742</td></tr><tr><td>1998.0</td><td>107064</td></tr><tr><td>1997.0</td><td>142054</td></tr><tr><td>1996.0</td><td>198332</td></tr><tr><td>1995.0</td><td>274084</td></tr><tr><td>1994.0</td><td>436230</td></tr><tr><td>1993.0</td><td>672594</td></tr><tr><td>1992.0</td><td>841256</td></tr></tbody></table></div>"
      ],
      "text/plain": [
       "shape: (10, 2)\n",
       "┌────────────┬────────┐\n",
       "│ birth_year ┆ count  │\n",
       "│ ---        ┆ ---    │\n",
       "│ f64        ┆ u32    │\n",
       "╞════════════╪════════╡\n",
       "│ 2001.0     ┆ 10310  │\n",
       "│ 2000.0     ┆ 31750  │\n",
       "│ 1999.0     ┆ 61742  │\n",
       "│ 1998.0     ┆ 107064 │\n",
       "│ …          ┆ …      │\n",
       "│ 1995.0     ┆ 274084 │\n",
       "│ 1994.0     ┆ 436230 │\n",
       "│ 1993.0     ┆ 672594 │\n",
       "│ 1992.0     ┆ 841256 │\n",
       "└────────────┴────────┘"
      ]
     },
     "execution_count": 30,
     "metadata": {},
     "output_type": "execute_result"
    }
   ],
   "source": [
    "group2_no_datetime_nulls.groupby('birth_year').count()\\\n",
    ".filter(pl.col('birth_year') >= 1923)\\\n",
    ".sort('birth_year',descending=True).head(10)"
   ]
  },
  {
   "cell_type": "markdown",
   "id": "146ffddb-0ecf-4936-9c32-35da736d51c2",
   "metadata": {},
   "source": [
    "`filter` to remove any `None` values in the 'birth_year' column:"
   ]
  },
  {
   "cell_type": "code",
   "execution_count": 51,
   "id": "b6e2f7a9-ba3e-4de4-a9e5-eb9051743177",
   "metadata": {},
   "outputs": [
    {
     "data": {
      "text/plain": [
       "(34630660, 15)"
      ]
     },
     "execution_count": 51,
     "metadata": {},
     "output_type": "execute_result"
    }
   ],
   "source": [
    "group2_no_nulls=group2_no_datetime_nulls.filter(pl.col('birth_year') != None)\n",
    "group2_no_nulls.shape"
   ]
  },
  {
   "cell_type": "code",
   "execution_count": 70,
   "id": "ae6c5de7-0813-48f6-b6d5-e2848c9b7022",
   "metadata": {},
   "outputs": [
    {
     "name": "stdout",
     "output_type": "stream",
     "text": [
      "The ratio of non-subscribers to subscribers is: \n",
      "1.0%\n"
     ]
    }
   ],
   "source": [
    "print(f\"The ratio of non-subscribers to subscribers is: \\n\\\n",
    "{round(sum(group2_no_nulls['user_type']!='Subscriber') / sum(group2_no_nulls['user_type']=='Subscriber'),2) * 100}%\")"
   ]
  },
  {
   "cell_type": "markdown",
   "id": "af8844e7-5d51-4122-8a1b-c0298060ed45",
   "metadata": {},
   "source": [
    "What I want to know is if there is anything explaining the vast amount of 'nulls' in the 'started_at' and 'ended_at' columns for `group2`"
   ]
  },
  {
   "cell_type": "markdown",
   "id": "adb19df7-5df5-44ff-b9ed-0f564aaf9056",
   "metadata": {},
   "source": [
    "First, save the no_nulls dataframe to parquet as a way to save our progress:"
   ]
  },
  {
   "cell_type": "code",
   "execution_count": 74,
   "id": "16b40083-c827-47e2-bb89-4f5404e25cbf",
   "metadata": {},
   "outputs": [],
   "source": [
    "group2_no_nulls_location=Path('/Users/sra/files/projects/citibike_project/combined/group2_no_nulls.parquet')\n",
    "\n",
    "group2_no_nulls.write_parquet(group2_no_nulls_location)"
   ]
  },
  {
   "cell_type": "code",
   "execution_count": 7,
   "id": "f3c90ae8-1d6b-478a-917b-788808d5c602",
   "metadata": {},
   "outputs": [],
   "source": [
    "import seaborn as sns\n",
    "import pandas as pd\n",
    "import polars as pl\n",
    "import numpy as np\n",
    "\n",
    "group2_no_nulls_location='/Users/sra/files/projects/citibike_project/combined/group2_no_nulls.parquet'"
   ]
  },
  {
   "cell_type": "markdown",
   "id": "0d029e2c-ce39-4cb8-bcd0-076206cd3c80",
   "metadata": {},
   "source": [
    "Open the no_nulls parquet file and save it as a pandas dataframe so that seaborn can manipulate it:"
   ]
  },
  {
   "cell_type": "code",
   "execution_count": 8,
   "id": "f73987a3-7cab-4d2b-b506-3309495450d1",
   "metadata": {},
   "outputs": [],
   "source": [
    "group2_no_nulls_pd = pd.read_parquet(path=group2_no_nulls_location)"
   ]
  },
  {
   "cell_type": "code",
   "execution_count": 81,
   "id": "09d8008f-074e-42e5-8b57-031575cd7b9f",
   "metadata": {},
   "outputs": [
    {
     "data": {
      "text/html": [
       "<div>\n",
       "<style scoped>\n",
       "    .dataframe tbody tr th:only-of-type {\n",
       "        vertical-align: middle;\n",
       "    }\n",
       "\n",
       "    .dataframe tbody tr th {\n",
       "        vertical-align: top;\n",
       "    }\n",
       "\n",
       "    .dataframe thead th {\n",
       "        text-align: right;\n",
       "    }\n",
       "</style>\n",
       "<table border=\"1\" class=\"dataframe\">\n",
       "  <thead>\n",
       "    <tr style=\"text-align: right;\">\n",
       "      <th></th>\n",
       "      <th>trip_duration</th>\n",
       "      <th>started_at</th>\n",
       "      <th>ended_at</th>\n",
       "      <th>start_station_id</th>\n",
       "      <th>start_station_name</th>\n",
       "      <th>start_lat</th>\n",
       "      <th>start_lng</th>\n",
       "      <th>end_station_id</th>\n",
       "      <th>end_station_name</th>\n",
       "      <th>end_lat</th>\n",
       "      <th>end_lng</th>\n",
       "      <th>bike_id</th>\n",
       "      <th>user_type</th>\n",
       "      <th>birth_year</th>\n",
       "      <th>gender</th>\n",
       "    </tr>\n",
       "  </thead>\n",
       "  <tbody>\n",
       "    <tr>\n",
       "      <th>5139712</th>\n",
       "      <td>592.0</td>\n",
       "      <td>2014-08-28 20:51:16</td>\n",
       "      <td>2014-08-28 21:01:08</td>\n",
       "      <td>323.0</td>\n",
       "      <td>Lawrence St &amp; Willoughby St</td>\n",
       "      <td>40.692362</td>\n",
       "      <td>-73.986317</td>\n",
       "      <td>395.0</td>\n",
       "      <td>Bond St &amp; Schermerhorn St</td>\n",
       "      <td>40.688070</td>\n",
       "      <td>-73.984106</td>\n",
       "      <td>21180.0</td>\n",
       "      <td>Subscriber</td>\n",
       "      <td>1964.0</td>\n",
       "      <td>1.0</td>\n",
       "    </tr>\n",
       "    <tr>\n",
       "      <th>4079619</th>\n",
       "      <td>589.0</td>\n",
       "      <td>2015-03-08 18:27:37</td>\n",
       "      <td>2015-03-08 18:37:26</td>\n",
       "      <td>388.0</td>\n",
       "      <td>W 26 St &amp; 10 Ave</td>\n",
       "      <td>40.749718</td>\n",
       "      <td>-74.002950</td>\n",
       "      <td>463.0</td>\n",
       "      <td>9 Ave &amp; W 16 St</td>\n",
       "      <td>40.742065</td>\n",
       "      <td>-74.004432</td>\n",
       "      <td>17181.0</td>\n",
       "      <td>Subscriber</td>\n",
       "      <td>1972.0</td>\n",
       "      <td>2.0</td>\n",
       "    </tr>\n",
       "    <tr>\n",
       "      <th>24482056</th>\n",
       "      <td>340.0</td>\n",
       "      <td>2017-07-17 08:48:39</td>\n",
       "      <td>2017-07-17 08:54:20</td>\n",
       "      <td>3151.0</td>\n",
       "      <td>E 81 St &amp; York Ave</td>\n",
       "      <td>40.772838</td>\n",
       "      <td>-73.949892</td>\n",
       "      <td>3156.0</td>\n",
       "      <td>E 72 St &amp; York Ave</td>\n",
       "      <td>40.766638</td>\n",
       "      <td>-73.953483</td>\n",
       "      <td>19943.0</td>\n",
       "      <td>Subscriber</td>\n",
       "      <td>1981.0</td>\n",
       "      <td>1.0</td>\n",
       "    </tr>\n",
       "    <tr>\n",
       "      <th>11159419</th>\n",
       "      <td>792.0</td>\n",
       "      <td>2017-12-13 07:46:03</td>\n",
       "      <td>2017-12-13 07:59:16</td>\n",
       "      <td>3223.0</td>\n",
       "      <td>E 55 St &amp; 3 Ave</td>\n",
       "      <td>40.758997</td>\n",
       "      <td>-73.968654</td>\n",
       "      <td>477.0</td>\n",
       "      <td>W 41 St &amp; 8 Ave</td>\n",
       "      <td>40.756405</td>\n",
       "      <td>-73.990026</td>\n",
       "      <td>26406.0</td>\n",
       "      <td>Subscriber</td>\n",
       "      <td>1997.0</td>\n",
       "      <td>1.0</td>\n",
       "    </tr>\n",
       "    <tr>\n",
       "      <th>23116374</th>\n",
       "      <td>524.0</td>\n",
       "      <td>2017-11-14 09:21:09</td>\n",
       "      <td>2017-11-14 09:29:53</td>\n",
       "      <td>482.0</td>\n",
       "      <td>W 15 St &amp; 7 Ave</td>\n",
       "      <td>40.739355</td>\n",
       "      <td>-73.999318</td>\n",
       "      <td>472.0</td>\n",
       "      <td>E 32 St &amp; Park Ave</td>\n",
       "      <td>40.745712</td>\n",
       "      <td>-73.981948</td>\n",
       "      <td>25338.0</td>\n",
       "      <td>Subscriber</td>\n",
       "      <td>1983.0</td>\n",
       "      <td>1.0</td>\n",
       "    </tr>\n",
       "  </tbody>\n",
       "</table>\n",
       "</div>"
      ],
      "text/plain": [
       "          trip_duration          started_at            ended_at  \\\n",
       "5139712           592.0 2014-08-28 20:51:16 2014-08-28 21:01:08   \n",
       "4079619           589.0 2015-03-08 18:27:37 2015-03-08 18:37:26   \n",
       "24482056          340.0 2017-07-17 08:48:39 2017-07-17 08:54:20   \n",
       "11159419          792.0 2017-12-13 07:46:03 2017-12-13 07:59:16   \n",
       "23116374          524.0 2017-11-14 09:21:09 2017-11-14 09:29:53   \n",
       "\n",
       "          start_station_id           start_station_name  start_lat  start_lng  \\\n",
       "5139712              323.0  Lawrence St & Willoughby St  40.692362 -73.986317   \n",
       "4079619              388.0             W 26 St & 10 Ave  40.749718 -74.002950   \n",
       "24482056            3151.0           E 81 St & York Ave  40.772838 -73.949892   \n",
       "11159419            3223.0              E 55 St & 3 Ave  40.758997 -73.968654   \n",
       "23116374             482.0              W 15 St & 7 Ave  40.739355 -73.999318   \n",
       "\n",
       "          end_station_id           end_station_name    end_lat    end_lng  \\\n",
       "5139712            395.0  Bond St & Schermerhorn St  40.688070 -73.984106   \n",
       "4079619            463.0            9 Ave & W 16 St  40.742065 -74.004432   \n",
       "24482056          3156.0         E 72 St & York Ave  40.766638 -73.953483   \n",
       "11159419           477.0            W 41 St & 8 Ave  40.756405 -73.990026   \n",
       "23116374           472.0         E 32 St & Park Ave  40.745712 -73.981948   \n",
       "\n",
       "          bike_id   user_type  birth_year  gender  \n",
       "5139712   21180.0  Subscriber      1964.0     1.0  \n",
       "4079619   17181.0  Subscriber      1972.0     2.0  \n",
       "24482056  19943.0  Subscriber      1981.0     1.0  \n",
       "11159419  26406.0  Subscriber      1997.0     1.0  \n",
       "23116374  25338.0  Subscriber      1983.0     1.0  "
      ]
     },
     "execution_count": 81,
     "metadata": {},
     "output_type": "execute_result"
    }
   ],
   "source": [
    "group2_no_nulls_pd.sample(5)"
   ]
  },
  {
   "cell_type": "markdown",
   "id": "f9f1c6d7-9e5b-40b9-9c1a-3615cf6cfd85",
   "metadata": {},
   "source": [
    "Now make a `sns.pairplot` to explore:"
   ]
  },
  {
   "cell_type": "code",
   "execution_count": null,
   "id": "995f9225-fa28-4634-9903-bd37b78608a0",
   "metadata": {},
   "outputs": [],
   "source": [
    "sns.pairplot(group2_no_nulls_pd)"
   ]
  },
  {
   "cell_type": "code",
   "execution_count": null,
   "id": "1ba3d4bf-9bc7-4acf-9bc6-29108fc6f5bd",
   "metadata": {},
   "outputs": [],
   "source": []
  }
 ],
 "metadata": {
  "kernelspec": {
   "display_name": "bigdataml",
   "language": "python",
   "name": "bigdataml"
  },
  "language_info": {
   "codemirror_mode": {
    "name": "ipython",
    "version": 3
   },
   "file_extension": ".py",
   "mimetype": "text/x-python",
   "name": "python",
   "nbconvert_exporter": "python",
   "pygments_lexer": "ipython3",
   "version": "3.8.16"
  }
 },
 "nbformat": 4,
 "nbformat_minor": 5
}
