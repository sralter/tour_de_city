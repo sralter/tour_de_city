{
 "cells": [
  {
   "cell_type": "markdown",
   "id": "363d79c1-2616-4882-b015-74598af220b4",
   "metadata": {},
   "source": [
    "# Citibike Project - Creating the SQL Database"
   ]
  },
  {
   "cell_type": "markdown",
   "id": "183c816b-8e13-4f82-b42c-38161520d9a7",
   "metadata": {},
   "source": [
    "Creating the SQL database from the dataframes in `03_normalizing_datasets.ipynb`.\n",
    "\n",
    "Make sure to activate an environment that has the `mysql` package installed."
   ]
  },
  {
   "cell_type": "code",
   "execution_count": 1,
   "id": "c1dc28b2-c577-4166-b781-34719797fdd6",
   "metadata": {},
   "outputs": [],
   "source": [
    "import mysql.connector\n",
    "import os"
   ]
  },
  {
   "cell_type": "markdown",
   "id": "5fba73d4-3b5f-4a62-a4b2-e594713180f7",
   "metadata": {},
   "source": [
    "`biketype` table has:\n",
    "- classic bike\n",
    "- electric bike\n",
    "- docked bike"
   ]
  },
  {
   "cell_type": "markdown",
   "id": "be9ef2f8-f21c-4c4c-8f08-3e66004caf01",
   "metadata": {},
   "source": [
    "### Biketype Table:"
   ]
  },
  {
   "cell_type": "code",
   "execution_count": 44,
   "id": "f9e515c1-056d-4201-a46b-9a90000e272d",
   "metadata": {},
   "outputs": [],
   "source": [
    "flow_control='/Users/sra/files/projects/citibike_project/combined/group1_combined/flow_control/biketype'\n",
    "flag=False\n",
    "\n",
    "if not os.path.exists(flow_control):\n",
    "    os.mkdir(flow_control)\n",
    "    flag=True\n",
    "\n",
    "if flag:\n",
    "    # Establish a connection to the MySQL database\n",
    "    conn = mysql.connector.connect(\n",
    "        host='localhost',\n",
    "        user='root',\n",
    "        password='rootroot',\n",
    "        database='citibike_project'\n",
    "    )\n",
    "\n",
    "    # Create a cursor object to execute SQL queries\n",
    "    cursor = conn.cursor()\n",
    "\n",
    "    # Create the table in the MySQL database with the desired schema\n",
    "    create_table_query = '''\n",
    "        CREATE TABLE IF NOT EXISTS biketype (\n",
    "            id TINYINT,\n",
    "            type VARCHAR(255)\n",
    "        )\n",
    "    '''\n",
    "    cursor.execute(create_table_query)\n",
    "\n",
    "    # Define the data as a list of tuples or dictionaries\n",
    "    data = [\n",
    "        ('0', 'classic_bike'),\n",
    "        ('1', 'electric_bike'),\n",
    "        ('2', 'docked_bike')\n",
    "    ]\n",
    "\n",
    "    # Insert the data into the table\n",
    "    insert_query = '''\n",
    "        INSERT INTO biketype (id, type)\n",
    "        VALUES (%s, %s)\n",
    "    '''\n",
    "\n",
    "    cursor.executemany(insert_query, data)\n",
    "\n",
    "    # Commit the changes and close the connection\n",
    "    conn.commit()\n",
    "    conn.close()"
   ]
  },
  {
   "cell_type": "markdown",
   "id": "1cde01d9-1087-439c-9090-cdd7d2755654",
   "metadata": {},
   "source": [
    "### Ridertype Table:"
   ]
  },
  {
   "cell_type": "code",
   "execution_count": 43,
   "id": "757e7f6b-07e7-4456-971a-73debbf45fc0",
   "metadata": {},
   "outputs": [],
   "source": [
    "flow_control='/Users/sra/files/projects/citibike_project/combined/group1_combined/flow_control/ridertype'\n",
    "flag=False\n",
    "\n",
    "if not os.path.exists(flow_control):\n",
    "    os.mkdir(flow_control)\n",
    "    flag=True\n",
    "\n",
    "if flag:\n",
    "    # Establish a connection to the MySQL database\n",
    "    conn = mysql.connector.connect(\n",
    "        host='localhost',\n",
    "        user='root',\n",
    "        password='rootroot',\n",
    "        database='citibike_project'\n",
    "    )\n",
    "\n",
    "    # Create a cursor object to execute SQL queries\n",
    "    cursor = conn.cursor()\n",
    "\n",
    "    # Create the table in the MySQL database with the desired schema\n",
    "    create_table_query = '''\n",
    "        CREATE TABLE IF NOT EXISTS ridertype (\n",
    "            id TINYINT,\n",
    "            type VARCHAR(255)\n",
    "        )\n",
    "    '''\n",
    "    cursor.execute(create_table_query)\n",
    "\n",
    "    # Define the data as a list of tuples or dictionaries\n",
    "    data = [\n",
    "        ('0', 'member'),\n",
    "        ('1', 'casual')\n",
    "    ]\n",
    "\n",
    "    # Insert the data into the table\n",
    "    insert_query = '''\n",
    "        INSERT INTO ridertype (id, type)\n",
    "        VALUES (%s, %s)\n",
    "    '''\n",
    "\n",
    "    cursor.executemany(insert_query, data)\n",
    "\n",
    "    # Commit the changes and close the connection\n",
    "    conn.commit()\n",
    "    conn.close()"
   ]
  },
  {
   "cell_type": "code",
   "execution_count": null,
   "id": "b4ea6772-47b3-4329-aac8-f0ff0331b552",
   "metadata": {},
   "outputs": [],
   "source": []
  },
  {
   "cell_type": "code",
   "execution_count": null,
   "id": "f0ab1227-71de-488d-83a0-d4e3fe141030",
   "metadata": {},
   "outputs": [],
   "source": []
  },
  {
   "cell_type": "code",
   "execution_count": null,
   "id": "ba3ebf68-b057-4a08-a8cf-05f62b2a8767",
   "metadata": {},
   "outputs": [],
   "source": []
  },
  {
   "cell_type": "code",
   "execution_count": null,
   "id": "6ed988e1-35a3-4586-9c57-3cd045482f28",
   "metadata": {},
   "outputs": [],
   "source": []
  },
  {
   "cell_type": "code",
   "execution_count": null,
   "id": "63dc870f-b1fe-4e33-b753-ae1c44b55854",
   "metadata": {},
   "outputs": [],
   "source": []
  },
  {
   "cell_type": "code",
   "execution_count": null,
   "id": "a5702f91-dd3f-43e4-a537-61e389865d14",
   "metadata": {},
   "outputs": [],
   "source": []
  },
  {
   "cell_type": "code",
   "execution_count": 14,
   "id": "c1588d63-354f-4439-8451-abc3cf324c27",
   "metadata": {},
   "outputs": [],
   "source": [
    "import pandas as pd\n",
    "\n",
    "import mysql.connector"
   ]
  },
  {
   "cell_type": "code",
   "execution_count": 16,
   "id": "731631e2-bb8e-4ddc-8b90-200888393882",
   "metadata": {},
   "outputs": [],
   "source": [
    "# Load the Parquet file into a Pandas DataFrame\n",
    "path_to_ride_pq='/Users/sra/files/projects/citibike_project/combined/group1_combined/group1_pl_ridenorm.parquet'\n",
    "ride_pd=pd.read_parquet(path_to_ride_pq)"
   ]
  },
  {
   "cell_type": "code",
   "execution_count": 17,
   "id": "78968a5f-b330-46c3-820d-0975e51afa00",
   "metadata": {},
   "outputs": [],
   "source": [
    "# Establish a connection to the MySQL server\n",
    "conn = mysql.connector.connect(\n",
    "    host='localhost',\n",
    "    user='root',\n",
    "    password='rootroot'\n",
    ")\n",
    "\n",
    "# Create a cursor object to execute SQL queries\n",
    "cursor = conn.cursor()\n",
    "\n",
    "# Create a new database, 'citibike_project'\n",
    "create_db_query = 'CREATE DATABASE citibike_project'\n",
    "cursor.execute(create_db_query)\n",
    "\n",
    "# Commit the changes and close the connection\n",
    "conn.commit()\n",
    "conn.close()"
   ]
  },
  {
   "cell_type": "code",
   "execution_count": null,
   "id": "03e5f9b2-8dc9-45e8-b118-2dbfe69d08af",
   "metadata": {},
   "outputs": [],
   "source": [
    "# Establish a connection to the MySQL database\n",
    "conn = mysql.connector.connect(\n",
    "    host='localhost',\n",
    "    user='root',\n",
    "    password='rootroot',\n",
    "    database='citibike_project'\n",
    ")\n",
    "\n",
    "# Create a cursor object to execute SQL queries\n",
    "cursor = conn.cursor()\n",
    "\n",
    "# Create the table in the MySQL database with the desired schema\n",
    "create_table_query = '''\n",
    "    CREATE TABLE IF NOT EXISTS rides (\n",
    "        ride_id VARCHAR,\n",
    "        rideable DATATYPE,\n",
    "        ...\n",
    "    )\n",
    "'''\n",
    "cursor.execute(create_table_query)\n",
    "\n",
    "# Insert the data from the DataFrame into the MySQL table\n",
    "df.to_sql('table_name', conn, if_exists='replace', index=False)\n",
    "\n",
    "# Commit the changes and close the connection\n",
    "conn.commit()\n",
    "conn.close()"
   ]
  },
  {
   "cell_type": "code",
   "execution_count": 13,
   "id": "a23529d7-f7c6-485f-bbcd-cccad7714076",
   "metadata": {},
   "outputs": [
    {
     "ename": "ProgrammingError",
     "evalue": "1049 (42000): Unknown database 'citibike_project'",
     "output_type": "error",
     "traceback": [
      "\u001b[0;31m---------------------------------------------------------------------------\u001b[0m",
      "\u001b[0;31mMySQLInterfaceError\u001b[0m                       Traceback (most recent call last)",
      "File \u001b[0;32m/Applications/Anaconda/anaconda3/envs/mysql/lib/python3.8/site-packages/mysql/connector/connection_cext.py:200\u001b[0m, in \u001b[0;36mCMySQLConnection._open_connection\u001b[0;34m(self)\u001b[0m\n\u001b[1;32m    199\u001b[0m \u001b[38;5;28;01mtry\u001b[39;00m:\n\u001b[0;32m--> 200\u001b[0m     \u001b[38;5;28;43mself\u001b[39;49m\u001b[38;5;241;43m.\u001b[39;49m\u001b[43m_cmysql\u001b[49m\u001b[38;5;241;43m.\u001b[39;49m\u001b[43mconnect\u001b[49m\u001b[43m(\u001b[49m\u001b[38;5;241;43m*\u001b[39;49m\u001b[38;5;241;43m*\u001b[39;49m\u001b[43mcnx_kwargs\u001b[49m\u001b[43m)\u001b[49m\n\u001b[1;32m    201\u001b[0m \u001b[38;5;28;01mexcept\u001b[39;00m MySQLInterfaceError \u001b[38;5;28;01mas\u001b[39;00m exc:\n",
      "\u001b[0;31mMySQLInterfaceError\u001b[0m: Unknown database 'citibike_project'",
      "\nDuring handling of the above exception, another exception occurred:\n",
      "\u001b[0;31mProgrammingError\u001b[0m                          Traceback (most recent call last)",
      "Cell \u001b[0;32mIn[13], line 9\u001b[0m\n\u001b[1;32m      6\u001b[0m table \u001b[38;5;241m=\u001b[39m \u001b[38;5;124m'\u001b[39m\u001b[38;5;124mrides\u001b[39m\u001b[38;5;124m'\u001b[39m\n\u001b[1;32m      8\u001b[0m \u001b[38;5;66;03m# Establish a connection to the MySQL server\u001b[39;00m\n\u001b[0;32m----> 9\u001b[0m cnx \u001b[38;5;241m=\u001b[39m \u001b[43mmysql\u001b[49m\u001b[38;5;241;43m.\u001b[39;49m\u001b[43mconnector\u001b[49m\u001b[38;5;241;43m.\u001b[39;49m\u001b[43mconnect\u001b[49m\u001b[43m(\u001b[49m\u001b[43mhost\u001b[49m\u001b[38;5;241;43m=\u001b[39;49m\u001b[43mhost\u001b[49m\u001b[43m,\u001b[49m\u001b[43m \u001b[49m\u001b[43muser\u001b[49m\u001b[38;5;241;43m=\u001b[39;49m\u001b[43muser\u001b[49m\u001b[43m,\u001b[49m\u001b[43m \u001b[49m\u001b[43mpassword\u001b[49m\u001b[38;5;241;43m=\u001b[39;49m\u001b[43mpassword\u001b[49m\u001b[43m,\u001b[49m\u001b[43m \u001b[49m\u001b[43mdatabase\u001b[49m\u001b[38;5;241;43m=\u001b[39;49m\u001b[43mdatabase\u001b[49m\u001b[43m)\u001b[49m\n",
      "File \u001b[0;32m/Applications/Anaconda/anaconda3/envs/mysql/lib/python3.8/site-packages/mysql/connector/__init__.py:176\u001b[0m, in \u001b[0;36mconnect\u001b[0;34m(*args, **kwargs)\u001b[0m\n\u001b[1;32m    172\u001b[0m         \u001b[38;5;28;01mraise\u001b[39;00m \u001b[38;5;167;01mImportError\u001b[39;00m(\u001b[38;5;124m\"\u001b[39m\u001b[38;5;124mMySQL Connector/Python C Extension not \u001b[39m\u001b[38;5;124m\"\u001b[39m\n\u001b[1;32m    173\u001b[0m                           \u001b[38;5;124m\"\u001b[39m\u001b[38;5;124mavailable\u001b[39m\u001b[38;5;124m\"\u001b[39m)\n\u001b[1;32m    175\u001b[0m \u001b[38;5;28;01mif\u001b[39;00m HAVE_CEXT \u001b[38;5;129;01mand\u001b[39;00m \u001b[38;5;129;01mnot\u001b[39;00m use_pure:\n\u001b[0;32m--> 176\u001b[0m     \u001b[38;5;28;01mreturn\u001b[39;00m \u001b[43mCMySQLConnection\u001b[49m\u001b[43m(\u001b[49m\u001b[38;5;241;43m*\u001b[39;49m\u001b[43margs\u001b[49m\u001b[43m,\u001b[49m\u001b[43m \u001b[49m\u001b[38;5;241;43m*\u001b[39;49m\u001b[38;5;241;43m*\u001b[39;49m\u001b[43mkwargs\u001b[49m\u001b[43m)\u001b[49m\n\u001b[1;32m    177\u001b[0m \u001b[38;5;28;01mreturn\u001b[39;00m MySQLConnection(\u001b[38;5;241m*\u001b[39margs, \u001b[38;5;241m*\u001b[39m\u001b[38;5;241m*\u001b[39mkwargs)\n",
      "File \u001b[0;32m/Applications/Anaconda/anaconda3/envs/mysql/lib/python3.8/site-packages/mysql/connector/connection_cext.py:80\u001b[0m, in \u001b[0;36mCMySQLConnection.__init__\u001b[0;34m(self, **kwargs)\u001b[0m\n\u001b[1;32m     77\u001b[0m \u001b[38;5;28msuper\u001b[39m(CMySQLConnection, \u001b[38;5;28mself\u001b[39m)\u001b[38;5;241m.\u001b[39m\u001b[38;5;21m__init__\u001b[39m(\u001b[38;5;241m*\u001b[39m\u001b[38;5;241m*\u001b[39mkwargs)\n\u001b[1;32m     79\u001b[0m \u001b[38;5;28;01mif\u001b[39;00m kwargs:\n\u001b[0;32m---> 80\u001b[0m     \u001b[38;5;28;43mself\u001b[39;49m\u001b[38;5;241;43m.\u001b[39;49m\u001b[43mconnect\u001b[49m\u001b[43m(\u001b[49m\u001b[38;5;241;43m*\u001b[39;49m\u001b[38;5;241;43m*\u001b[39;49m\u001b[43mkwargs\u001b[49m\u001b[43m)\u001b[49m\n",
      "File \u001b[0;32m/Applications/Anaconda/anaconda3/envs/mysql/lib/python3.8/site-packages/mysql/connector/abstracts.py:781\u001b[0m, in \u001b[0;36mMySQLConnectionAbstract.connect\u001b[0;34m(self, **kwargs)\u001b[0m\n\u001b[1;32m    778\u001b[0m     \u001b[38;5;28mself\u001b[39m\u001b[38;5;241m.\u001b[39mconfig(\u001b[38;5;241m*\u001b[39m\u001b[38;5;241m*\u001b[39mkwargs)\n\u001b[1;32m    780\u001b[0m \u001b[38;5;28mself\u001b[39m\u001b[38;5;241m.\u001b[39mdisconnect()\n\u001b[0;32m--> 781\u001b[0m \u001b[38;5;28;43mself\u001b[39;49m\u001b[38;5;241;43m.\u001b[39;49m\u001b[43m_open_connection\u001b[49m\u001b[43m(\u001b[49m\u001b[43m)\u001b[49m\n\u001b[1;32m    782\u001b[0m \u001b[38;5;66;03m# Server does not allow to run any other statement different from ALTER \u001b[39;00m\n\u001b[1;32m    783\u001b[0m \u001b[38;5;66;03m# when user's password has been expired.\u001b[39;00m\n\u001b[1;32m    784\u001b[0m \u001b[38;5;28;01mif\u001b[39;00m \u001b[38;5;129;01mnot\u001b[39;00m \u001b[38;5;28mself\u001b[39m\u001b[38;5;241m.\u001b[39m_client_flags \u001b[38;5;241m&\u001b[39m ClientFlag\u001b[38;5;241m.\u001b[39mCAN_HANDLE_EXPIRED_PASSWORDS:\n",
      "File \u001b[0;32m/Applications/Anaconda/anaconda3/envs/mysql/lib/python3.8/site-packages/mysql/connector/connection_cext.py:202\u001b[0m, in \u001b[0;36mCMySQLConnection._open_connection\u001b[0;34m(self)\u001b[0m\n\u001b[1;32m    200\u001b[0m     \u001b[38;5;28mself\u001b[39m\u001b[38;5;241m.\u001b[39m_cmysql\u001b[38;5;241m.\u001b[39mconnect(\u001b[38;5;241m*\u001b[39m\u001b[38;5;241m*\u001b[39mcnx_kwargs)\n\u001b[1;32m    201\u001b[0m \u001b[38;5;28;01mexcept\u001b[39;00m MySQLInterfaceError \u001b[38;5;28;01mas\u001b[39;00m exc:\n\u001b[0;32m--> 202\u001b[0m     \u001b[38;5;28;01mraise\u001b[39;00m errors\u001b[38;5;241m.\u001b[39mget_mysql_exception(msg\u001b[38;5;241m=\u001b[39mexc\u001b[38;5;241m.\u001b[39mmsg, errno\u001b[38;5;241m=\u001b[39mexc\u001b[38;5;241m.\u001b[39merrno,\n\u001b[1;32m    203\u001b[0m                                      sqlstate\u001b[38;5;241m=\u001b[39mexc\u001b[38;5;241m.\u001b[39msqlstate)\n\u001b[1;32m    204\u001b[0m \u001b[38;5;28mself\u001b[39m\u001b[38;5;241m.\u001b[39m_do_handshake()\n",
      "\u001b[0;31mProgrammingError\u001b[0m: 1049 (42000): Unknown database 'citibike_project'"
     ]
    }
   ],
   "source": [
    "# MySQL connection details\n",
    "host = 'localhost'\n",
    "user = 'root'\n",
    "password = 'rootroot'\n",
    "database = 'citibike_project'\n",
    "table = 'rides'\n",
    "\n",
    "# Establish a connection to the MySQL server\n",
    "cnx = mysql.connector.connect(host=host, user=user, password=password, database=database)"
   ]
  },
  {
   "cell_type": "code",
   "execution_count": null,
   "id": "4493f11a-2624-4007-9976-18fa45ea9bc2",
   "metadata": {},
   "outputs": [],
   "source": [
    "\n",
    "# Create a cursor object to execute SQL queries\n",
    "cursor = cnx.cursor()\n",
    "\n",
    "# Create table query\n",
    "create_table_query = f\"CREATE TABLE {table} (Name VARCHAR(50), Age INT, City VARCHAR(50))\"\n",
    "cursor.execute(create_table_query)\n",
    "\n",
    "# Insert data into the table\n",
    "for _, row in df.iterrows():\n",
    "    insert_query = f\"INSERT INTO {table} (Name, Age, City) VALUES (%s, %s, %s)\"\n",
    "    values = (row['Name'], row['Age'], row['City'])\n",
    "    cursor.execute(insert_query, values)\n",
    "\n",
    "# Commit the changes and close the connection\n",
    "cnx.commit()\n",
    "cursor.close()\n",
    "cnx.close()\n",
    "\n",
    "print(f\"Data has been inserted into table '{table}' in database '{database}'.\")"
   ]
  }
 ],
 "metadata": {
  "kernelspec": {
   "display_name": "mysql",
   "language": "python",
   "name": "mysql"
  },
  "language_info": {
   "codemirror_mode": {
    "name": "ipython",
    "version": 3
   },
   "file_extension": ".py",
   "mimetype": "text/x-python",
   "name": "python",
   "nbconvert_exporter": "python",
   "pygments_lexer": "ipython3",
   "version": "3.8.17"
  }
 },
 "nbformat": 4,
 "nbformat_minor": 5
}
