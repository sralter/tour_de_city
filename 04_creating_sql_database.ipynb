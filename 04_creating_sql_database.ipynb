{
 "cells": [
  {
   "cell_type": "markdown",
   "id": "363d79c1-2616-4882-b015-74598af220b4",
   "metadata": {},
   "source": [
    "# Citibike Project - Creating the SQL Database"
   ]
  },
  {
   "cell_type": "markdown",
   "id": "183c816b-8e13-4f82-b42c-38161520d9a7",
   "metadata": {},
   "source": [
    "Creating the SQL database from the dataframes in `03_normalizing_datasets.ipynb`.\n",
    "\n",
    "Make sure to activate an environment that has the `mysql` package installed."
   ]
  },
  {
   "cell_type": "code",
   "execution_count": 1,
   "id": "c1dc28b2-c577-4166-b781-34719797fdd6",
   "metadata": {},
   "outputs": [],
   "source": [
    "import mysql.connector\n",
    "import os\n",
    "import pandas as pd\n",
    "import pyarrow.parquet as pq\n",
    "\n",
    "from sqlalchemy import create_engine"
   ]
  },
  {
   "cell_type": "markdown",
   "id": "5fba73d4-3b5f-4a62-a4b2-e594713180f7",
   "metadata": {},
   "source": [
    "`biketype` table has:\n",
    "- classic bike\n",
    "- electric bike\n",
    "- docked bike"
   ]
  },
  {
   "cell_type": "markdown",
   "id": "fb52abba-32b5-45fa-bfb6-2b6af47966d1",
   "metadata": {},
   "source": [
    "First, a handy function to check if a table already exists:"
   ]
  },
  {
   "cell_type": "code",
   "execution_count": 16,
   "id": "965615a4-d908-441b-9a94-355e946890b3",
   "metadata": {},
   "outputs": [],
   "source": [
    "def mysql_table_checker(\\\n",
    "                       your_host:str,\n",
    "                       your_user:str,\n",
    "                       your_password:str,\n",
    "                       your_database:str,\n",
    "                       your_table_name:str,\n",
    "                       verbose=False):\n",
    "\n",
    "    # establish a connection to the MySQL database\n",
    "    conn = mysql.connector.connect(\n",
    "        host=your_host,\n",
    "        user=your_user,\n",
    "        password=your_password,\n",
    "        database=your_database\n",
    "    )\n",
    "\n",
    "    # create a cursor object to execute SQL queries\n",
    "    cursor = conn.cursor()\n",
    "\n",
    "    # table name you want to check\n",
    "    table_name = 'your_table_name'\n",
    "\n",
    "    # SQL query to check if the table exists\n",
    "    check_table_query = f\"SHOW TABLES LIKE '{your_table_name}'\"\n",
    "    cursor.execute(check_table_query)\n",
    "\n",
    "    # fetch the result of the query\n",
    "    result = cursor.fetchone()\n",
    "\n",
    "    flag=0\n",
    "\n",
    "    # check if the result is not None, which means the table exists\n",
    "    if result is not None:\n",
    "        exists=(f\"Table '{your_table_name}' exists in the database {your_database}.\")\n",
    "    else:\n",
    "        notexists=(f\"Table '{your_table_name}' does not exist in the database {your_database}.\")\n",
    "        flag=1\n",
    "        \n",
    "    # close the connection\n",
    "    cursor.close()\n",
    "    conn.close()\n",
    "\n",
    "    if flag == 0:\n",
    "        if verbose == True:\n",
    "            return exists\n",
    "        else:\n",
    "            return True\n",
    "    else:\n",
    "        if verbose == True:\n",
    "            return notexists\n",
    "        else:\n",
    "            return False"
   ]
  },
  {
   "cell_type": "code",
   "execution_count": 17,
   "id": "a2e75fce-8dde-4186-97a3-4feb97175b16",
   "metadata": {},
   "outputs": [
    {
     "data": {
      "text/plain": [
       "True"
      ]
     },
     "execution_count": 17,
     "metadata": {},
     "output_type": "execute_result"
    }
   ],
   "source": [
    "# test the function\n",
    "mysql_table_checker(your_host='localhost',\n",
    "                   your_user='root',\n",
    "                   your_password='rootroot',\n",
    "                   your_database='citibike_project',\n",
    "                   your_table_name='biketype')"
   ]
  },
  {
   "cell_type": "markdown",
   "id": "d9956bc8-e12d-46cc-b648-fa439218e6b9",
   "metadata": {},
   "source": [
    "### Initialize MySQL Database"
   ]
  },
  {
   "cell_type": "markdown",
   "id": "bdc6b6e3-7a24-4cdd-97a0-a9e2ab1a7368",
   "metadata": {},
   "source": [
    "We'll call the database `citibike_project`"
   ]
  },
  {
   "cell_type": "code",
   "execution_count": 18,
   "id": "95fa150b-3e4b-46f7-be82-46ac301e82e3",
   "metadata": {},
   "outputs": [],
   "source": [
    "database_name='citibike_project'"
   ]
  },
  {
   "cell_type": "code",
   "execution_count": 19,
   "id": "d3b9b869-3e19-4ab1-8260-1a31f88c2109",
   "metadata": {},
   "outputs": [
    {
     "name": "stdout",
     "output_type": "stream",
     "text": [
      "Error: Database 'citibike_project' is already created.\n"
     ]
    }
   ],
   "source": [
    "flow_control='/Users/sra/files/projects/citibike_project/combined/group1_combined/flow_control/database_made'\n",
    "flag=False\n",
    "\n",
    "if not os.path.exists(flow_control):\n",
    "    os.mkdir(flow_control)\n",
    "    flag=True\n",
    "\n",
    "if flag:\n",
    "    \n",
    "    # Connect to the MySQL server\n",
    "    conn = mysql.connector.connect(\n",
    "        host='localhost',\n",
    "        user='root',  # Replace with your MySQL username\n",
    "        password='rootroot'  # Replace with your MySQL password\n",
    "    )\n",
    "\n",
    "    # Create a cursor object to execute SQL queries\n",
    "    cursor = conn.cursor()\n",
    "\n",
    "    # Create the \"citibike_project\" database\n",
    "    database_name = 'citibike_project'\n",
    "    create_db_query = f\"CREATE DATABASE IF NOT EXISTS {database_name}\"\n",
    "    cursor.execute(create_db_query)\n",
    "\n",
    "    # Close the cursor and connection\n",
    "    cursor.close()\n",
    "    conn.close()\n",
    "\n",
    "    print(f\"Database '{database_name}' created successfully.\")\n",
    "    \n",
    "else:\n",
    "    \n",
    "    print(f\"Error: Database '{database_name}' is already created.\")"
   ]
  },
  {
   "cell_type": "markdown",
   "id": "be9ef2f8-f21c-4c4c-8f08-3e66004caf01",
   "metadata": {},
   "source": [
    "### Biketype Table:"
   ]
  },
  {
   "cell_type": "code",
   "execution_count": 20,
   "id": "f9e515c1-056d-4201-a46b-9a90000e272d",
   "metadata": {},
   "outputs": [
    {
     "name": "stdout",
     "output_type": "stream",
     "text": [
      "Error: Table 'biketype' is already created.\n"
     ]
    }
   ],
   "source": [
    "flow_control='/Users/sra/files/projects/citibike_project/combined/group1_combined/flow_control'\n",
    "\n",
    "if not os.path.exists(flow_control):\n",
    "    os.mkdir(flow_control)\n",
    "\n",
    "table_name='biketype'\n",
    "    \n",
    "flow_control='/Users/sra/files/projects/citibike_project/combined/group1_combined/flow_control/biketype_made'\n",
    "flag=False\n",
    "\n",
    "if not os.path.exists(flow_control):\n",
    "    os.mkdir(flow_control)\n",
    "    flag=True\n",
    "\n",
    "if flag:\n",
    "    # Establish a connection to the MySQL database\n",
    "    conn = mysql.connector.connect(\n",
    "        host='localhost',\n",
    "        user='root',\n",
    "        password='rootroot',\n",
    "        database='citibike_project'\n",
    "    )\n",
    "\n",
    "    # Create a cursor object to execute SQL queries\n",
    "    cursor = conn.cursor()\n",
    "\n",
    "    # Create the table in the MySQL database with the desired schema\n",
    "    create_table_query = f'''\n",
    "        CREATE TABLE IF NOT EXISTS {table_name} (\n",
    "            id TINYINT,\n",
    "            type VARCHAR(255)\n",
    "        )\n",
    "    '''\n",
    "    cursor.execute(create_table_query)\n",
    "\n",
    "    # Define the data as a list of tuples or dictionaries\n",
    "    data = [\n",
    "        ('0', 'classic_bike'),\n",
    "        ('1', 'electric_bike'),\n",
    "        ('2', 'docked_bike')\n",
    "    ]\n",
    "\n",
    "    # Insert the data into the table\n",
    "    insert_query = f'''\n",
    "        INSERT INTO {table_name} (id, type)\n",
    "        VALUES (%s, %s)\n",
    "    '''\n",
    "\n",
    "    cursor.executemany(insert_query, data)\n",
    "\n",
    "    # Commit the changes and close the connection\n",
    "    conn.commit()\n",
    "    conn.close()\n",
    "    \n",
    "    print(f\"Table '{table_name}' created successfully.\")\n",
    "    \n",
    "else:\n",
    "    \n",
    "    print(f\"Error: Table '{table_name}' is already created.\")"
   ]
  },
  {
   "cell_type": "markdown",
   "id": "1cde01d9-1087-439c-9090-cdd7d2755654",
   "metadata": {},
   "source": [
    "### Ridertype Table:"
   ]
  },
  {
   "cell_type": "code",
   "execution_count": 21,
   "id": "757e7f6b-07e7-4456-971a-73debbf45fc0",
   "metadata": {},
   "outputs": [
    {
     "name": "stdout",
     "output_type": "stream",
     "text": [
      "Error: Table 'ridertype' is already created.\n"
     ]
    }
   ],
   "source": [
    "table_name='ridertype'\n",
    "\n",
    "flow_control='/Users/sra/files/projects/citibike_project/combined/group1_combined/flow_control/ridertype_made'\n",
    "flag=False\n",
    "\n",
    "if not os.path.exists(flow_control):\n",
    "    os.mkdir(flow_control)\n",
    "    flag=True\n",
    "\n",
    "if flag:\n",
    "    # Establish a connection to the MySQL database\n",
    "    conn = mysql.connector.connect(\n",
    "        host='localhost',\n",
    "        user='root',\n",
    "        password='rootroot',\n",
    "        database='citibike_project'\n",
    "    )\n",
    "\n",
    "    # Create a cursor object to execute SQL queries\n",
    "    cursor = conn.cursor()\n",
    "\n",
    "    # Create the table in the MySQL database with the desired schema\n",
    "    create_table_query = f'''\n",
    "        CREATE TABLE IF NOT EXISTS {table_name} (\n",
    "            id TINYINT,\n",
    "            type VARCHAR(255)\n",
    "        )\n",
    "    '''\n",
    "    cursor.execute(create_table_query)\n",
    "\n",
    "    # Define the data as a list of tuples or dictionaries\n",
    "    data = [\n",
    "        ('0', 'member'),\n",
    "        ('1', 'casual')\n",
    "    ]\n",
    "\n",
    "    # Insert the data into the table\n",
    "    insert_query = f'''\n",
    "        INSERT INTO {table_name} (id, type)\n",
    "        VALUES (%s, %s)\n",
    "    '''\n",
    "\n",
    "    cursor.executemany(insert_query, data)\n",
    "\n",
    "    # Commit the changes and close the connection\n",
    "    conn.commit()\n",
    "    conn.close()\n",
    "    \n",
    "    print(f\"Table '{table_name}' created successfully.\")\n",
    "        \n",
    "else:\n",
    "    \n",
    "    print(f\"Error: Table '{table_name}' is already created.\")"
   ]
  },
  {
   "cell_type": "markdown",
   "id": "8381adce-9f6a-4dfa-8375-3083bfaa41b4",
   "metadata": {},
   "source": [
    "### Ride Table:"
   ]
  },
  {
   "cell_type": "markdown",
   "id": "acf96414-275d-4eaa-9db7-2dacc3ba4ddc",
   "metadata": {},
   "source": [
    "The following code will take the data from `group1_ridenorm.parquet` and put it into an SQL table.\n",
    "\n",
    "**Note**: This will take a long time as the code has to convert the `parquet` file to `pandas` before moving it to SQL."
   ]
  },
  {
   "cell_type": "markdown",
   "id": "e9849e8a-b48a-4633-a986-6e229e2702d6",
   "metadata": {},
   "source": [
    "The kernel kept crashing when running the code, getting caught on the step, \"writing the DataFrame to a MySQL table using SQLAlchemy\". Because of this, I will import the data manually and not use the code below."
   ]
  },
  {
   "cell_type": "code",
   "execution_count": 2,
   "id": "aa080eab-ecba-4ead-8ae5-72923c0f7a90",
   "metadata": {},
   "outputs": [
    {
     "name": "stdout",
     "output_type": "stream",
     "text": [
      "start_this_code=False. The code was not run.\n"
     ]
    }
   ],
   "source": [
    "start_this_code=False\n",
    "\n",
    "if start_this_code:\n",
    "\n",
    "    table_name='rides'\n",
    "    your_host='localhost'\n",
    "    your_username='root'\n",
    "    your_password='rootroot'\n",
    "    your_database='citibike_project'\n",
    "\n",
    "    flow_control=f'/Users/sra/files/projects/citibike_project/combined/group1_combined/flow_control/{table_name}_made'\n",
    "    flag=False\n",
    "\n",
    "    if not os.path.exists(flow_control):\n",
    "        os.mkdir(flow_control)\n",
    "        flag=True\n",
    "\n",
    "    if flag:\n",
    "\n",
    "        # load the Parquet data into a pandas DataFrame\n",
    "        parquet_file = '/Users/sra/files/projects/citibike_project/combined/group1_combined/group1_pl_ridenorm.parquet'\n",
    "        parquet_table = pq.read_table(parquet_file)\n",
    "        print('read parquet table')\n",
    "\n",
    "        df = parquet_table.to_pandas()\n",
    "        print('parquet table is now in pandas')\n",
    "\n",
    "        # connect to the MySQL database using SQLAlchemy engine\n",
    "        engine = create_engine(f'mysql+mysqlconnector://{your_username}:{your_password}@{your_host}/{your_database}')\n",
    "        print('engine is created')\n",
    "\n",
    "        # write the DataFrame to a MySQL table using SQLAlchemy\n",
    "        df.to_sql(name=table_name, con=engine, if_exists='replace', index=False)\n",
    "        print('written table to MySQL')\n",
    "\n",
    "        print(\"Created table '{table_name}' successfully.\")\n",
    "        \n",
    "else:\n",
    "    \n",
    "    print(f'start_this_code={start_this_code}. The code was not run.')"
   ]
  },
  {
   "cell_type": "markdown",
   "id": "fcde37bf-a8f9-4d6f-b84b-9371cbff4826",
   "metadata": {},
   "source": [
    "Save the `.parquet` files as `.CSV` to upload them to MySQLWorkbench:"
   ]
  },
  {
   "cell_type": "code",
   "execution_count": 5,
   "id": "ab340ae2-27f8-4e69-97ff-725eba55454c",
   "metadata": {},
   "outputs": [
    {
     "name": "stdout",
     "output_type": "stream",
     "text": [
      "ridenorm: parquet table to pandas done\n",
      "ridenorm: pandas table to csv done\n",
      "stationnorm: parquet table to pandas done\n",
      "stationnorm: pandas table to csv done\n"
     ]
    }
   ],
   "source": [
    "# group1_ridenorm\n",
    "\n",
    "parquet_file = '/Users/sra/files/projects/citibike_project/combined/group1_combined/group1_pl_ridenorm.parquet'\n",
    "parquet_table = pq.read_table(parquet_file)\n",
    "df = parquet_table.to_pandas()\n",
    "print('ridenorm: parquet table to pandas done')\n",
    "\n",
    "csv_file = '/Users/sra/files/projects/citibike_project/combined/group1_combined/group1_pl_ridenorm.csv'\n",
    "df.to_csv(csv_file, index=False)\n",
    "print('ridenorm: pandas table to csv done')\n",
    "\n",
    "# # #\n",
    "\n",
    "# group1_stationnorm\n",
    "\n",
    "parquet_file = '/Users/sra/files/projects/citibike_project/combined/group1_combined/group1_pl_stationnorm.parquet'\n",
    "parquet_table = pq.read_table(parquet_file)\n",
    "df = parquet_table.to_pandas()\n",
    "print('stationnorm: parquet table to pandas done')\n",
    "\n",
    "csv_file = '/Users/sra/files/projects/citibike_project/combined/group1_combined/group1_pl_stationnorm.csv'\n",
    "df.to_csv(csv_file, index=False)\n",
    "print('stationnorm: pandas table to csv done')"
   ]
  },
  {
   "cell_type": "code",
   "execution_count": null,
   "id": "f9ac06bd-b130-40a9-b035-565ec358e884",
   "metadata": {},
   "outputs": [],
   "source": []
  }
 ],
 "metadata": {
  "kernelspec": {
   "display_name": "mysql",
   "language": "python",
   "name": "mysql"
  },
  "language_info": {
   "codemirror_mode": {
    "name": "ipython",
    "version": 3
   },
   "file_extension": ".py",
   "mimetype": "text/x-python",
   "name": "python",
   "nbconvert_exporter": "python",
   "pygments_lexer": "ipython3",
   "version": "3.8.17"
  }
 },
 "nbformat": 4,
 "nbformat_minor": 5
}
